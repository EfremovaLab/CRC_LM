{
 "cells": [
  {
   "cell_type": "code",
   "execution_count": 1,
   "metadata": {},
   "outputs": [],
   "source": [
    "import scanpy as sc\n",
    "import pandas as pd\n",
    "import numpy as np\n",
    "import anndata\n",
    "from pathlib import Path"
   ]
  },
  {
   "cell_type": "code",
   "execution_count": 2,
   "metadata": {},
   "outputs": [],
   "source": [
    "SAMPLE_NAME = \"concat_withWu2022\""
   ]
  },
  {
   "cell_type": "code",
   "execution_count": 3,
   "metadata": {},
   "outputs": [],
   "source": [
    "DIR2SAVE = Path(\n",
    "    f\"/data/BCI-CRC/nasrine/data/CRC/spatial/CRC_LM_VISIUM/CRC_LM_VISIUM_04_08_09_11/nichenet/{SAMPLE_NAME}/prepareInput/\"\n",
    ")\n",
    "DIR2SAVE.mkdir(parents=True, exist_ok=True)\n",
    "\n",
    "SCRNA_FILE2LOAD = Path(f\"/data/BCI-CRC/nasrine/data/CRC/spatial/CRC_LM_VISIUM/CRC_LM_VISIUM_04_08_09_11/cell2location/prepareInputRNA/Multiome_Che_Wu_CRC_LM_annotations_raw_no_cycling_TME.h5ad\")\n",
    "# ideally use new annotations with enivronment used in cellphonedb \n",
    "adata = sc.read_h5ad(SCRNA_FILE2LOAD)"
   ]
  },
  {
   "cell_type": "code",
   "execution_count": 4,
   "metadata": {},
   "outputs": [
    {
     "data": {
      "text/plain": [
       "AnnData object with n_obs × n_vars = 112034 × 39559\n",
       "    obs: 'Patient', 'Sample', 'Tissue', 'Therapy', 'cell_source', 'Annotation_scVI', 'Annotation_scVI_detailed', 'Annotation_source', 'technology'\n",
       "    var: 'n_cells-Nasrine', 'n_cells'"
      ]
     },
     "execution_count": 4,
     "metadata": {},
     "output_type": "execute_result"
    }
   ],
   "source": [
    "adata"
   ]
  },
  {
   "cell_type": "code",
   "execution_count": 5,
   "metadata": {},
   "outputs": [
    {
     "data": {
      "text/plain": [
       "40676.0"
      ]
     },
     "execution_count": 5,
     "metadata": {},
     "output_type": "execute_result"
    }
   ],
   "source": [
    "# check is raw\n",
    "np.max(adata.X)"
   ]
  },
  {
   "cell_type": "code",
   "execution_count": 6,
   "metadata": {},
   "outputs": [],
   "source": [
    "### we want to save all celltypes\n",
    "microenv2pick = \"all_celltypes\""
   ]
  },
  {
   "cell_type": "markdown",
   "metadata": {},
   "source": [
    "### light pre-processing filter to only keep genes that are at least expressed in 5 cells no?"
   ]
  },
  {
   "cell_type": "code",
   "execution_count": 7,
   "metadata": {},
   "outputs": [
    {
     "name": "stdout",
     "output_type": "stream",
     "text": [
      "Before filtering:  (112034, 39559)\n",
      "After gene filtering (112034, 34090)\n",
      "After cell filtering (112034, 34090)\n",
      "Checking raw max value 40676.0\n"
     ]
    }
   ],
   "source": [
    "print(\"Before filtering: \", adata.shape)\n",
    "sc.pp.filter_genes(adata, min_cells=5)\n",
    "print(\"After gene filtering\", adata.shape)\n",
    "sc.pp.filter_cells(adata, min_genes=200)\n",
    "print(\"After cell filtering\", adata.shape)\n",
    "print(\"Checking raw max value\", np.max(adata.X))\n",
    "\n",
    "sc.pp.calculate_qc_metrics(adata, percent_top=None, log1p=False, inplace=True) # calculate metrics to have maybe for seurat"
   ]
  },
  {
   "cell_type": "markdown",
   "metadata": {},
   "source": [
    "### save as a sparse matrix in python:"
   ]
  },
  {
   "cell_type": "code",
   "execution_count": 8,
   "metadata": {},
   "outputs": [
    {
     "data": {
      "text/plain": [
       "PosixPath('/data/BCI-CRC/nasrine/data/CRC/spatial/CRC_LM_VISIUM/CRC_LM_VISIUM_04_08_09_11/nichenet/concat_withWu2022/prepareInput')"
      ]
     },
     "execution_count": 8,
     "metadata": {},
     "output_type": "execute_result"
    }
   ],
   "source": [
    "DIR2SAVE"
   ]
  },
  {
   "cell_type": "code",
   "execution_count": 9,
   "metadata": {},
   "outputs": [],
   "source": [
    "adata.write(DIR2SAVE.joinpath(f\"counts_microenv{microenv2pick}.h5ad\"))\n",
    "\n",
    "from scipy.io import mmread,mmwrite\n",
    "mmwrite(DIR2SAVE.joinpath(f\"counts_microenv{microenv2pick}.mtx\"),adata.X)\n",
    "\n",
    "# rename index of .var and .obs to something more sensible like barrcode and gene_name\n",
    "adata.var.index.set_names(names=\"gene_name\", inplace=True)\n",
    "adata.obs.index.set_names(names=\"barcode\", inplace=True)\n",
    "\n",
    "adata.var.drop(columns=['n_cells-Nasrine', 'n_cells'], inplace=True)\n",
    "\n",
    "# save obs index\n",
    "adata.obs.to_csv(DIR2SAVE.joinpath(f\"obs_microenv{microenv2pick}.csv\"), header=True, index=True)\n",
    "\n",
    "# save var names\n",
    "adata.var.to_csv(DIR2SAVE.joinpath(f\"var_microenv{microenv2pick}.csv\"), header=True, index=True)"
   ]
  },
  {
   "cell_type": "code",
   "execution_count": 10,
   "metadata": {},
   "outputs": [
    {
     "data": {
      "text/plain": [
       "'all_celltypes'"
      ]
     },
     "execution_count": 10,
     "metadata": {},
     "output_type": "execute_result"
    }
   ],
   "source": [
    "microenv2pick"
   ]
  },
  {
   "cell_type": "code",
   "execution_count": null,
   "metadata": {},
   "outputs": [],
   "source": []
  }
 ],
 "metadata": {
  "kernelspec": {
   "display_name": "cell2loc19",
   "language": "python",
   "name": "cell2loc19"
  },
  "language_info": {
   "codemirror_mode": {
    "name": "ipython",
    "version": 3
   },
   "file_extension": ".py",
   "mimetype": "text/x-python",
   "name": "python",
   "nbconvert_exporter": "python",
   "pygments_lexer": "ipython3",
   "version": "3.9.13"
  }
 },
 "nbformat": 4,
 "nbformat_minor": 4
}
