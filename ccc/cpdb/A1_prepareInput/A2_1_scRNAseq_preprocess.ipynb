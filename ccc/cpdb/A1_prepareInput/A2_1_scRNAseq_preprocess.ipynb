{
 "cells": [
  {
   "cell_type": "code",
   "execution_count": 1,
   "metadata": {},
   "outputs": [
    {
     "name": "stderr",
     "output_type": "stream",
     "text": [
      "Global seed set to 0\n"
     ]
    }
   ],
   "source": [
    "import scanpy as sc\n",
    "import pandas as pd\n",
    "import numpy as np\n",
    "import anndata\n",
    "import cell2location\n",
    "import matplotlib.pyplot as plt\n",
    "import matplotlib as mpl\n",
    "from pathlib import Path"
   ]
  },
  {
   "cell_type": "code",
   "execution_count": 2,
   "metadata": {},
   "outputs": [],
   "source": [
    "SAMPLE_NAME = \"concat_withWu2022\""
   ]
  },
  {
   "cell_type": "code",
   "execution_count": 3,
   "metadata": {},
   "outputs": [],
   "source": [
    "DIR2SAVE = Path(\n",
    "    f\"/data/BCI-CRC/nasrine/data/CRC/spatial/CRC_LM_VISIUM/CRC_LM_VISIUM_04_08_09_11/cellphonedb3/{SAMPLE_NAME}/\"\n",
    ")\n",
    "DIR2SAVE.mkdir(parents=True, exist_ok=True)"
   ]
  },
  {
   "cell_type": "code",
   "execution_count": 4,
   "metadata": {},
   "outputs": [],
   "source": [
    "DIR2LOAD = Path(\n",
    "    f\"/data/BCI-CRC/nasrine/data/CRC/spatial/CRC_LM_VISIUM/CRC_LM_VISIUM_04_08_09_11/cell2loc_spatialde2/{SAMPLE_NAME}\"\n",
    ")  # to change\n",
    "DIR2LOAD.mkdir(parents=True, exist_ok=True)"
   ]
  },
  {
   "cell_type": "markdown",
   "metadata": {},
   "source": [
    "### Use no cycling scRNA-seq dataset "
   ]
  },
  {
   "cell_type": "code",
   "execution_count": 5,
   "metadata": {},
   "outputs": [],
   "source": [
    "adata = sc.read_h5ad(\n",
    "    \"/data/BCI-CRC/nasrine/data/CRC/spatial/CRC_LM_VISIUM/CRC_LM_VISIUM_04_08_09_11/cell2location/prepareInputRNA/Multiome_Che_Wu_CRC_LM_annotations_raw_no_cycling_TME.h5ad\"\n",
    ")"
   ]
  },
  {
   "cell_type": "code",
   "execution_count": 6,
   "metadata": {},
   "outputs": [
    {
     "data": {
      "text/plain": [
       "AnnData object with n_obs × n_vars = 112034 × 39559\n",
       "    obs: 'Patient', 'Sample', 'Tissue', 'Therapy', 'cell_source', 'Annotation_scVI', 'Annotation_scVI_detailed', 'Annotation_source', 'technology'\n",
       "    var: 'n_cells-Nasrine', 'n_cells'"
      ]
     },
     "execution_count": 6,
     "metadata": {},
     "output_type": "execute_result"
    }
   ],
   "source": [
    "adata"
   ]
  },
  {
   "cell_type": "code",
   "execution_count": 7,
   "metadata": {},
   "outputs": [
    {
     "data": {
      "text/plain": [
       "matrix([[0., 0., 0., ..., 0., 0., 0.],\n",
       "        [0., 0., 0., ..., 0., 0., 0.],\n",
       "        [0., 0., 0., ..., 0., 0., 0.],\n",
       "        [0., 0., 1., ..., 0., 0., 0.],\n",
       "        [0., 0., 0., ..., 0., 0., 0.]], dtype=float32)"
      ]
     },
     "execution_count": 7,
     "metadata": {},
     "output_type": "execute_result"
    }
   ],
   "source": [
    "# check that the data is raw\n",
    "adata.X[0:5][0:5].todense()"
   ]
  },
  {
   "cell_type": "code",
   "execution_count": 8,
   "metadata": {},
   "outputs": [
    {
     "data": {
      "text/plain": [
       "40676.0"
      ]
     },
     "execution_count": 8,
     "metadata": {},
     "output_type": "execute_result"
    }
   ],
   "source": [
    "np.max(adata.X)"
   ]
  },
  {
   "cell_type": "markdown",
   "metadata": {},
   "source": [
    "### Select only cell types that we are interested in, aka, the ones that are in the environments no?"
   ]
  },
  {
   "cell_type": "code",
   "execution_count": 9,
   "metadata": {},
   "outputs": [],
   "source": [
    "microenvs = pd.read_csv(DIR2SAVE.joinpath(\"microenviroments_cell2loc_spatialde2.tsv\"), sep=\"\\t\", index_col=None)"
   ]
  },
  {
   "cell_type": "code",
   "execution_count": 10,
   "metadata": {},
   "outputs": [
    {
     "data": {
      "text/plain": [
       "{'B',\n",
       " 'C1QC Mac',\n",
       " 'CD4 Tfh',\n",
       " 'CD4 Th',\n",
       " 'CD4 Th HSP',\n",
       " 'CD4 Th17',\n",
       " 'CD4 Tn',\n",
       " 'CD8 Tem',\n",
       " 'CD8 Tem GZMB',\n",
       " 'CD8 Tem HSP',\n",
       " 'CD8 Tex',\n",
       " 'Colonocyte',\n",
       " 'ECM CAF',\n",
       " 'FCN1 Mono',\n",
       " 'Goblet',\n",
       " 'HSP Mono',\n",
       " 'Hypoxia',\n",
       " 'IL1B Mac',\n",
       " 'Intermediate',\n",
       " 'Lymphatic endo',\n",
       " 'MAIT',\n",
       " 'Mast',\n",
       " 'Myofibroblast',\n",
       " 'NK1',\n",
       " 'NK2',\n",
       " 'NKT',\n",
       " 'NLRP3 Mac',\n",
       " 'Neutrophil',\n",
       " 'Pericyte',\n",
       " 'Plasma',\n",
       " 'SPP1 Mac',\n",
       " 'Stem',\n",
       " 'Stem (NOTUM high)',\n",
       " 'TA1',\n",
       " 'TA2',\n",
       " 'Tip-like endo',\n",
       " 'Treg',\n",
       " 'UPR',\n",
       " 'cDC1',\n",
       " 'cDC2',\n",
       " 'gdT',\n",
       " 'ipEMT',\n",
       " 'migDC',\n",
       " 'pDC',\n",
       " 'pEMT'}"
      ]
     },
     "execution_count": 10,
     "metadata": {},
     "output_type": "execute_result"
    }
   ],
   "source": [
    "set(microenvs[\"cell_type\"])"
   ]
  },
  {
   "cell_type": "code",
   "execution_count": 11,
   "metadata": {},
   "outputs": [
    {
     "data": {
      "text/plain": [
       "['B',\n",
       " 'Treg',\n",
       " 'cDC1',\n",
       " 'pEMT',\n",
       " 'Stem (NOTUM high)',\n",
       " 'MAIT',\n",
       " 'FCN1 Mono',\n",
       " 'ECM CAF',\n",
       " 'UPR',\n",
       " 'pDC',\n",
       " 'gdT',\n",
       " 'HSP Mono',\n",
       " 'NLRP3 Mac',\n",
       " 'Lymphatic endo',\n",
       " 'Hypoxia',\n",
       " 'CD8 Tem GZMB',\n",
       " 'Stem',\n",
       " 'CD4 Tn',\n",
       " 'NK1',\n",
       " 'TA1',\n",
       " 'Pericyte',\n",
       " 'ipEMT',\n",
       " 'Colonocyte',\n",
       " 'Myofibroblast',\n",
       " 'NKT',\n",
       " 'Tip-like endo',\n",
       " 'IL1B Mac',\n",
       " 'CD8 Tem',\n",
       " 'CD8 Tem HSP',\n",
       " 'C1QC Mac',\n",
       " 'SPP1 Mac',\n",
       " 'Mast',\n",
       " 'cDC2',\n",
       " 'CD4 Th17',\n",
       " 'CD8 Tex',\n",
       " 'NK2',\n",
       " 'Goblet',\n",
       " 'CD4 Tfh',\n",
       " 'CD4 Th',\n",
       " 'CD4 Th HSP',\n",
       " 'Neutrophil',\n",
       " 'migDC',\n",
       " 'TA2',\n",
       " 'Intermediate',\n",
       " 'Plasma']"
      ]
     },
     "execution_count": 11,
     "metadata": {},
     "output_type": "execute_result"
    }
   ],
   "source": [
    "celltypes2consider = list(set(microenvs[\"cell_type\"]))\n",
    "celltypes2consider"
   ]
  },
  {
   "cell_type": "code",
   "execution_count": 12,
   "metadata": {},
   "outputs": [
    {
     "name": "stdout",
     "output_type": "stream",
     "text": [
      "45 cell types to consider\n"
     ]
    }
   ],
   "source": [
    "print(f\"{len(celltypes2consider)} cell types to consider\")"
   ]
  },
  {
   "cell_type": "code",
   "execution_count": 13,
   "metadata": {},
   "outputs": [
    {
     "data": {
      "text/plain": [
       "(112034, 39559)"
      ]
     },
     "execution_count": 13,
     "metadata": {},
     "output_type": "execute_result"
    }
   ],
   "source": [
    "adata.shape"
   ]
  },
  {
   "cell_type": "code",
   "execution_count": 14,
   "metadata": {},
   "outputs": [],
   "source": [
    "# select from adata only these cell types\n",
    "adata = adata[adata.obs.Annotation_scVI_detailed.isin(celltypes2consider)].copy()"
   ]
  },
  {
   "cell_type": "code",
   "execution_count": 15,
   "metadata": {},
   "outputs": [],
   "source": [
    "assert set(adata.obs.Annotation_scVI_detailed) == set(celltypes2consider)"
   ]
  },
  {
   "cell_type": "code",
   "execution_count": 16,
   "metadata": {},
   "outputs": [
    {
     "data": {
      "text/plain": [
       "(109862, 39559)"
      ]
     },
     "execution_count": 16,
     "metadata": {},
     "output_type": "execute_result"
    }
   ],
   "source": [
    "adata.shape"
   ]
  },
  {
   "cell_type": "markdown",
   "metadata": {},
   "source": [
    "### filter to only keep genes that are at least expressed in 5 cells no? (light pre-processing)"
   ]
  },
  {
   "cell_type": "code",
   "execution_count": 17,
   "metadata": {},
   "outputs": [],
   "source": [
    "sc.pp.filter_genes(adata, min_cells=5)"
   ]
  },
  {
   "cell_type": "code",
   "execution_count": 18,
   "metadata": {},
   "outputs": [
    {
     "data": {
      "text/plain": [
       "(109862, 33787)"
      ]
     },
     "execution_count": 18,
     "metadata": {},
     "output_type": "execute_result"
    }
   ],
   "source": [
    "adata.shape"
   ]
  },
  {
   "cell_type": "code",
   "execution_count": 19,
   "metadata": {},
   "outputs": [],
   "source": [
    "sc.pp.filter_cells(adata, min_genes=200)"
   ]
  },
  {
   "cell_type": "code",
   "execution_count": 20,
   "metadata": {},
   "outputs": [
    {
     "data": {
      "text/plain": [
       "(109862, 33787)"
      ]
     },
     "execution_count": 20,
     "metadata": {},
     "output_type": "execute_result"
    }
   ],
   "source": [
    "adata.shape"
   ]
  },
  {
   "cell_type": "markdown",
   "metadata": {},
   "source": [
    "### Save gene expression data\n",
    "\n",
    "generate counts that are normalised (per cell) but are not log transformed data"
   ]
  },
  {
   "cell_type": "code",
   "execution_count": 21,
   "metadata": {},
   "outputs": [
    {
     "data": {
      "text/plain": [
       "(109862, 33787)"
      ]
     },
     "execution_count": 21,
     "metadata": {},
     "output_type": "execute_result"
    }
   ],
   "source": [
    "adata.X.shape"
   ]
  },
  {
   "cell_type": "code",
   "execution_count": 22,
   "metadata": {},
   "outputs": [
    {
     "name": "stdout",
     "output_type": "stream",
     "text": [
      "(109862, 33787)\n"
     ]
    }
   ],
   "source": [
    "adata_cdb = anndata.AnnData(\n",
    "    X=adata.X,\n",
    "    var=adata.var,\n",
    "    obs=adata.obs[[\"cell_source\", \"Annotation_scVI\", \"Annotation_scVI_detailed\"]],\n",
    "    asview=False,\n",
    ")\n",
    "print(adata_cdb.shape)"
   ]
  },
  {
   "cell_type": "code",
   "execution_count": 23,
   "metadata": {},
   "outputs": [
    {
     "data": {
      "text/plain": [
       "(109862, 33787)"
      ]
     },
     "execution_count": 23,
     "metadata": {},
     "output_type": "execute_result"
    }
   ],
   "source": [
    "sc.pp.normalize_total(adata_cdb, target_sum=1e4, inplace=True)\n",
    "adata_cdb.X.shape"
   ]
  },
  {
   "cell_type": "code",
   "execution_count": 24,
   "metadata": {},
   "outputs": [
    {
     "data": {
      "text/plain": [
       "CD4 Th               10325\n",
       "CD8 Tem               8683\n",
       "Treg                  7655\n",
       "CD8 Tex               7531\n",
       "CD4 Th HSP            7246\n",
       "CD8 Tem HSP           6178\n",
       "CD4 Tn                4778\n",
       "SPP1 Mac              4619\n",
       "MAIT                  4463\n",
       "TA1                   4116\n",
       "CD8 Tem GZMB          3269\n",
       "NK1                   3178\n",
       "CD4 Tfh               3010\n",
       "Neutrophil            2892\n",
       "Hypoxia               2481\n",
       "NK2                   2321\n",
       "B                     2116\n",
       "NLRP3 Mac             2075\n",
       "C1QC Mac              2006\n",
       "CD4 Th17              1937\n",
       "Stem (NOTUM high)     1933\n",
       "Colonocyte            1913\n",
       "gdT                   1761\n",
       "Plasma                1610\n",
       "cDC2                  1543\n",
       "Stem                  1400\n",
       "NKT                   1380\n",
       "Intermediate          1319\n",
       "FCN1 Mono              999\n",
       "pEMT                   998\n",
       "UPR                    759\n",
       "IL1B Mac               550\n",
       "ipEMT                  469\n",
       "ECM CAF                441\n",
       "HSP Mono               387\n",
       "Goblet                 323\n",
       "Tip-like endo          273\n",
       "pDC                    239\n",
       "cDC1                   163\n",
       "TA2                    162\n",
       "Myofibroblast          101\n",
       "Mast                    85\n",
       "Lymphatic endo          73\n",
       "migDC                   72\n",
       "Pericyte                30\n",
       "Name: Annotation_scVI_detailed, dtype: int64"
      ]
     },
     "execution_count": 24,
     "metadata": {},
     "output_type": "execute_result"
    }
   ],
   "source": [
    "adata_cdb.obs[\"Annotation_scVI_detailed\"].value_counts()"
   ]
  },
  {
   "cell_type": "code",
   "execution_count": 25,
   "metadata": {},
   "outputs": [
    {
     "data": {
      "text/plain": [
       "8511.747"
      ]
     },
     "execution_count": 25,
     "metadata": {},
     "output_type": "execute_result"
    }
   ],
   "source": [
    "np.max(adata_cdb.X)"
   ]
  },
  {
   "cell_type": "code",
   "execution_count": 26,
   "metadata": {},
   "outputs": [
    {
     "data": {
      "text/plain": [
       "PosixPath('/data/BCI-CRC/nasrine/data/CRC/spatial/CRC_LM_VISIUM/CRC_LM_VISIUM_04_08_09_11/cellphonedb3/concat_withWu2022')"
      ]
     },
     "execution_count": 26,
     "metadata": {},
     "output_type": "execute_result"
    }
   ],
   "source": [
    "DIR2SAVE"
   ]
  },
  {
   "cell_type": "code",
   "execution_count": 27,
   "metadata": {},
   "outputs": [],
   "source": [
    "adata_cdb.write(DIR2SAVE.joinpath(\"Multiome_Che_Wu_CRC_LM_counts_normalised.h5ad\"))"
   ]
  },
  {
   "cell_type": "code",
   "execution_count": 28,
   "metadata": {},
   "outputs": [
    {
     "data": {
      "text/html": [
       "<div>\n",
       "<style scoped>\n",
       "    .dataframe tbody tr th:only-of-type {\n",
       "        vertical-align: middle;\n",
       "    }\n",
       "\n",
       "    .dataframe tbody tr th {\n",
       "        vertical-align: top;\n",
       "    }\n",
       "\n",
       "    .dataframe thead th {\n",
       "        text-align: right;\n",
       "    }\n",
       "</style>\n",
       "<table border=\"1\" class=\"dataframe\">\n",
       "  <thead>\n",
       "    <tr style=\"text-align: right;\">\n",
       "      <th></th>\n",
       "      <th>n_cells-Nasrine</th>\n",
       "      <th>n_cells</th>\n",
       "    </tr>\n",
       "  </thead>\n",
       "  <tbody>\n",
       "    <tr>\n",
       "      <th>A1BG</th>\n",
       "      <td>15552.0</td>\n",
       "      <td>13294</td>\n",
       "    </tr>\n",
       "    <tr>\n",
       "      <th>A1BG-AS1</th>\n",
       "      <td>1504.0</td>\n",
       "      <td>1315</td>\n",
       "    </tr>\n",
       "    <tr>\n",
       "      <th>A1CF</th>\n",
       "      <td>536.0</td>\n",
       "      <td>5241</td>\n",
       "    </tr>\n",
       "    <tr>\n",
       "      <th>A2M</th>\n",
       "      <td>7274.0</td>\n",
       "      <td>4858</td>\n",
       "    </tr>\n",
       "    <tr>\n",
       "      <th>A2M-AS1</th>\n",
       "      <td>2075.0</td>\n",
       "      <td>1841</td>\n",
       "    </tr>\n",
       "    <tr>\n",
       "      <th>...</th>\n",
       "      <td>...</td>\n",
       "      <td>...</td>\n",
       "    </tr>\n",
       "    <tr>\n",
       "      <th>ZYG11B</th>\n",
       "      <td>3529.0</td>\n",
       "      <td>6974</td>\n",
       "    </tr>\n",
       "    <tr>\n",
       "      <th>ZYX</th>\n",
       "      <td>19380.0</td>\n",
       "      <td>18347</td>\n",
       "    </tr>\n",
       "    <tr>\n",
       "      <th>ZZEF1</th>\n",
       "      <td>6826.0</td>\n",
       "      <td>11567</td>\n",
       "    </tr>\n",
       "    <tr>\n",
       "      <th>ZZZ3</th>\n",
       "      <td>1537.0</td>\n",
       "      <td>1254</td>\n",
       "    </tr>\n",
       "    <tr>\n",
       "      <th>bP-21264C1.2</th>\n",
       "      <td>57.0</td>\n",
       "      <td>43</td>\n",
       "    </tr>\n",
       "  </tbody>\n",
       "</table>\n",
       "<p>33787 rows × 2 columns</p>\n",
       "</div>"
      ],
      "text/plain": [
       "              n_cells-Nasrine  n_cells\n",
       "A1BG                  15552.0    13294\n",
       "A1BG-AS1               1504.0     1315\n",
       "A1CF                    536.0     5241\n",
       "A2M                    7274.0     4858\n",
       "A2M-AS1                2075.0     1841\n",
       "...                       ...      ...\n",
       "ZYG11B                 3529.0     6974\n",
       "ZYX                   19380.0    18347\n",
       "ZZEF1                  6826.0    11567\n",
       "ZZZ3                   1537.0     1254\n",
       "bP-21264C1.2             57.0       43\n",
       "\n",
       "[33787 rows x 2 columns]"
      ]
     },
     "execution_count": 28,
     "metadata": {},
     "output_type": "execute_result"
    }
   ],
   "source": [
    "adata_cdb.var"
   ]
  },
  {
   "cell_type": "code",
   "execution_count": 29,
   "metadata": {},
   "outputs": [
    {
     "data": {
      "text/html": [
       "<div>\n",
       "<style scoped>\n",
       "    .dataframe tbody tr th:only-of-type {\n",
       "        vertical-align: middle;\n",
       "    }\n",
       "\n",
       "    .dataframe tbody tr th {\n",
       "        vertical-align: top;\n",
       "    }\n",
       "\n",
       "    .dataframe thead th {\n",
       "        text-align: right;\n",
       "    }\n",
       "</style>\n",
       "<table border=\"1\" class=\"dataframe\">\n",
       "  <thead>\n",
       "    <tr style=\"text-align: right;\">\n",
       "      <th></th>\n",
       "      <th>cell_source</th>\n",
       "      <th>Annotation_scVI</th>\n",
       "      <th>Annotation_scVI_detailed</th>\n",
       "    </tr>\n",
       "  </thead>\n",
       "  <tbody>\n",
       "    <tr>\n",
       "      <th>CRC01_LM#AAACATGCATCAGCAC-1-BCI-Nuclei</th>\n",
       "      <td>BCI-Nuclei</td>\n",
       "      <td>Myeloid</td>\n",
       "      <td>SPP1 Mac</td>\n",
       "    </tr>\n",
       "    <tr>\n",
       "      <th>CRC01_LM#AACATAGCAGGATAAC-1-BCI-Nuclei</th>\n",
       "      <td>BCI-Nuclei</td>\n",
       "      <td>Myeloid</td>\n",
       "      <td>SPP1 Mac</td>\n",
       "    </tr>\n",
       "    <tr>\n",
       "      <th>CRC01_LM#AGAACAAGTGGTTATG-1-BCI-Nuclei</th>\n",
       "      <td>BCI-Nuclei</td>\n",
       "      <td>Endothelial</td>\n",
       "      <td>Lymphatic endo</td>\n",
       "    </tr>\n",
       "    <tr>\n",
       "      <th>CRC01_LM#AGGTTGCGTGAGCAAG-1-BCI-Nuclei</th>\n",
       "      <td>BCI-Nuclei</td>\n",
       "      <td>Endothelial</td>\n",
       "      <td>Tip-like endo</td>\n",
       "    </tr>\n",
       "    <tr>\n",
       "      <th>CRC01_LM#CACCTCAGTGGTTATG-1-BCI-Nuclei</th>\n",
       "      <td>BCI-Nuclei</td>\n",
       "      <td>Endothelial</td>\n",
       "      <td>Tip-like endo</td>\n",
       "    </tr>\n",
       "    <tr>\n",
       "      <th>...</th>\n",
       "      <td>...</td>\n",
       "      <td>...</td>\n",
       "      <td>...</td>\n",
       "    </tr>\n",
       "    <tr>\n",
       "      <th>CRC15_LM#TTTATGGAGTTTCCGC-1-BCI-Nuclei</th>\n",
       "      <td>BCI-Nuclei</td>\n",
       "      <td>Epithelial</td>\n",
       "      <td>TA1</td>\n",
       "    </tr>\n",
       "    <tr>\n",
       "      <th>CRC15_LM#TTTCCGGGTTCTTTAG-1-BCI-Nuclei</th>\n",
       "      <td>BCI-Nuclei</td>\n",
       "      <td>Epithelial</td>\n",
       "      <td>Hypoxia</td>\n",
       "    </tr>\n",
       "    <tr>\n",
       "      <th>CRC15_LM#TTTGGCTGTTAACGAT-1-BCI-Nuclei</th>\n",
       "      <td>BCI-Nuclei</td>\n",
       "      <td>Epithelial</td>\n",
       "      <td>TA1</td>\n",
       "    </tr>\n",
       "    <tr>\n",
       "      <th>CRC15_LM#TTTGTCCCAGGAATCG-1-BCI-Nuclei</th>\n",
       "      <td>BCI-Nuclei</td>\n",
       "      <td>Epithelial</td>\n",
       "      <td>TA1</td>\n",
       "    </tr>\n",
       "    <tr>\n",
       "      <th>CRC15_LM#TTTGTGAAGGACTTAC-1-BCI-Nuclei</th>\n",
       "      <td>BCI-Nuclei</td>\n",
       "      <td>Epithelial</td>\n",
       "      <td>Intermediate</td>\n",
       "    </tr>\n",
       "  </tbody>\n",
       "</table>\n",
       "<p>109862 rows × 3 columns</p>\n",
       "</div>"
      ],
      "text/plain": [
       "                                       cell_source Annotation_scVI  \\\n",
       "CRC01_LM#AAACATGCATCAGCAC-1-BCI-Nuclei  BCI-Nuclei         Myeloid   \n",
       "CRC01_LM#AACATAGCAGGATAAC-1-BCI-Nuclei  BCI-Nuclei         Myeloid   \n",
       "CRC01_LM#AGAACAAGTGGTTATG-1-BCI-Nuclei  BCI-Nuclei     Endothelial   \n",
       "CRC01_LM#AGGTTGCGTGAGCAAG-1-BCI-Nuclei  BCI-Nuclei     Endothelial   \n",
       "CRC01_LM#CACCTCAGTGGTTATG-1-BCI-Nuclei  BCI-Nuclei     Endothelial   \n",
       "...                                            ...             ...   \n",
       "CRC15_LM#TTTATGGAGTTTCCGC-1-BCI-Nuclei  BCI-Nuclei      Epithelial   \n",
       "CRC15_LM#TTTCCGGGTTCTTTAG-1-BCI-Nuclei  BCI-Nuclei      Epithelial   \n",
       "CRC15_LM#TTTGGCTGTTAACGAT-1-BCI-Nuclei  BCI-Nuclei      Epithelial   \n",
       "CRC15_LM#TTTGTCCCAGGAATCG-1-BCI-Nuclei  BCI-Nuclei      Epithelial   \n",
       "CRC15_LM#TTTGTGAAGGACTTAC-1-BCI-Nuclei  BCI-Nuclei      Epithelial   \n",
       "\n",
       "                                       Annotation_scVI_detailed  \n",
       "CRC01_LM#AAACATGCATCAGCAC-1-BCI-Nuclei                 SPP1 Mac  \n",
       "CRC01_LM#AACATAGCAGGATAAC-1-BCI-Nuclei                 SPP1 Mac  \n",
       "CRC01_LM#AGAACAAGTGGTTATG-1-BCI-Nuclei           Lymphatic endo  \n",
       "CRC01_LM#AGGTTGCGTGAGCAAG-1-BCI-Nuclei            Tip-like endo  \n",
       "CRC01_LM#CACCTCAGTGGTTATG-1-BCI-Nuclei            Tip-like endo  \n",
       "...                                                         ...  \n",
       "CRC15_LM#TTTATGGAGTTTCCGC-1-BCI-Nuclei                      TA1  \n",
       "CRC15_LM#TTTCCGGGTTCTTTAG-1-BCI-Nuclei                  Hypoxia  \n",
       "CRC15_LM#TTTGGCTGTTAACGAT-1-BCI-Nuclei                      TA1  \n",
       "CRC15_LM#TTTGTCCCAGGAATCG-1-BCI-Nuclei                      TA1  \n",
       "CRC15_LM#TTTGTGAAGGACTTAC-1-BCI-Nuclei             Intermediate  \n",
       "\n",
       "[109862 rows x 3 columns]"
      ]
     },
     "execution_count": 29,
     "metadata": {},
     "output_type": "execute_result"
    }
   ],
   "source": [
    "adata_cdb.obs"
   ]
  },
  {
   "cell_type": "code",
   "execution_count": 30,
   "metadata": {},
   "outputs": [],
   "source": [
    "### need to save as sparse matrix because andata version clash for old cellphonedb"
   ]
  },
  {
   "cell_type": "code",
   "execution_count": 31,
   "metadata": {},
   "outputs": [],
   "source": [
    "# save expression matrix normalised\n",
    "import scipy\n",
    "\n",
    "scipy.sparse.save_npz(DIR2SAVE.joinpath(\"counts_normalised.npz\"), adata_cdb.X)\n",
    "\n",
    "# save obs index\n",
    "adata_cdb.obs.to_csv(DIR2SAVE.joinpath(\"obs.csv\"), header=True)\n",
    "\n",
    "# save var names\n",
    "adata_cdb.var.to_csv(DIR2SAVE.joinpath(\"var.csv\"), header=True)"
   ]
  },
  {
   "cell_type": "code",
   "execution_count": 32,
   "metadata": {},
   "outputs": [
    {
     "data": {
      "text/html": [
       "<div>\n",
       "<style scoped>\n",
       "    .dataframe tbody tr th:only-of-type {\n",
       "        vertical-align: middle;\n",
       "    }\n",
       "\n",
       "    .dataframe tbody tr th {\n",
       "        vertical-align: top;\n",
       "    }\n",
       "\n",
       "    .dataframe thead th {\n",
       "        text-align: right;\n",
       "    }\n",
       "</style>\n",
       "<table border=\"1\" class=\"dataframe\">\n",
       "  <thead>\n",
       "    <tr style=\"text-align: right;\">\n",
       "      <th></th>\n",
       "      <th>cell_source</th>\n",
       "      <th>Annotation_scVI</th>\n",
       "      <th>Annotation_scVI_detailed</th>\n",
       "    </tr>\n",
       "  </thead>\n",
       "  <tbody>\n",
       "    <tr>\n",
       "      <th>CRC01_LM#AAACATGCATCAGCAC-1-BCI-Nuclei</th>\n",
       "      <td>BCI-Nuclei</td>\n",
       "      <td>Myeloid</td>\n",
       "      <td>SPP1 Mac</td>\n",
       "    </tr>\n",
       "    <tr>\n",
       "      <th>CRC01_LM#AACATAGCAGGATAAC-1-BCI-Nuclei</th>\n",
       "      <td>BCI-Nuclei</td>\n",
       "      <td>Myeloid</td>\n",
       "      <td>SPP1 Mac</td>\n",
       "    </tr>\n",
       "    <tr>\n",
       "      <th>CRC01_LM#AGAACAAGTGGTTATG-1-BCI-Nuclei</th>\n",
       "      <td>BCI-Nuclei</td>\n",
       "      <td>Endothelial</td>\n",
       "      <td>Lymphatic endo</td>\n",
       "    </tr>\n",
       "    <tr>\n",
       "      <th>CRC01_LM#AGGTTGCGTGAGCAAG-1-BCI-Nuclei</th>\n",
       "      <td>BCI-Nuclei</td>\n",
       "      <td>Endothelial</td>\n",
       "      <td>Tip-like endo</td>\n",
       "    </tr>\n",
       "    <tr>\n",
       "      <th>CRC01_LM#CACCTCAGTGGTTATG-1-BCI-Nuclei</th>\n",
       "      <td>BCI-Nuclei</td>\n",
       "      <td>Endothelial</td>\n",
       "      <td>Tip-like endo</td>\n",
       "    </tr>\n",
       "    <tr>\n",
       "      <th>...</th>\n",
       "      <td>...</td>\n",
       "      <td>...</td>\n",
       "      <td>...</td>\n",
       "    </tr>\n",
       "    <tr>\n",
       "      <th>CRC15_LM#TTTATGGAGTTTCCGC-1-BCI-Nuclei</th>\n",
       "      <td>BCI-Nuclei</td>\n",
       "      <td>Epithelial</td>\n",
       "      <td>TA1</td>\n",
       "    </tr>\n",
       "    <tr>\n",
       "      <th>CRC15_LM#TTTCCGGGTTCTTTAG-1-BCI-Nuclei</th>\n",
       "      <td>BCI-Nuclei</td>\n",
       "      <td>Epithelial</td>\n",
       "      <td>Hypoxia</td>\n",
       "    </tr>\n",
       "    <tr>\n",
       "      <th>CRC15_LM#TTTGGCTGTTAACGAT-1-BCI-Nuclei</th>\n",
       "      <td>BCI-Nuclei</td>\n",
       "      <td>Epithelial</td>\n",
       "      <td>TA1</td>\n",
       "    </tr>\n",
       "    <tr>\n",
       "      <th>CRC15_LM#TTTGTCCCAGGAATCG-1-BCI-Nuclei</th>\n",
       "      <td>BCI-Nuclei</td>\n",
       "      <td>Epithelial</td>\n",
       "      <td>TA1</td>\n",
       "    </tr>\n",
       "    <tr>\n",
       "      <th>CRC15_LM#TTTGTGAAGGACTTAC-1-BCI-Nuclei</th>\n",
       "      <td>BCI-Nuclei</td>\n",
       "      <td>Epithelial</td>\n",
       "      <td>Intermediate</td>\n",
       "    </tr>\n",
       "  </tbody>\n",
       "</table>\n",
       "<p>109862 rows × 3 columns</p>\n",
       "</div>"
      ],
      "text/plain": [
       "                                       cell_source Annotation_scVI  \\\n",
       "CRC01_LM#AAACATGCATCAGCAC-1-BCI-Nuclei  BCI-Nuclei         Myeloid   \n",
       "CRC01_LM#AACATAGCAGGATAAC-1-BCI-Nuclei  BCI-Nuclei         Myeloid   \n",
       "CRC01_LM#AGAACAAGTGGTTATG-1-BCI-Nuclei  BCI-Nuclei     Endothelial   \n",
       "CRC01_LM#AGGTTGCGTGAGCAAG-1-BCI-Nuclei  BCI-Nuclei     Endothelial   \n",
       "CRC01_LM#CACCTCAGTGGTTATG-1-BCI-Nuclei  BCI-Nuclei     Endothelial   \n",
       "...                                            ...             ...   \n",
       "CRC15_LM#TTTATGGAGTTTCCGC-1-BCI-Nuclei  BCI-Nuclei      Epithelial   \n",
       "CRC15_LM#TTTCCGGGTTCTTTAG-1-BCI-Nuclei  BCI-Nuclei      Epithelial   \n",
       "CRC15_LM#TTTGGCTGTTAACGAT-1-BCI-Nuclei  BCI-Nuclei      Epithelial   \n",
       "CRC15_LM#TTTGTCCCAGGAATCG-1-BCI-Nuclei  BCI-Nuclei      Epithelial   \n",
       "CRC15_LM#TTTGTGAAGGACTTAC-1-BCI-Nuclei  BCI-Nuclei      Epithelial   \n",
       "\n",
       "                                       Annotation_scVI_detailed  \n",
       "CRC01_LM#AAACATGCATCAGCAC-1-BCI-Nuclei                 SPP1 Mac  \n",
       "CRC01_LM#AACATAGCAGGATAAC-1-BCI-Nuclei                 SPP1 Mac  \n",
       "CRC01_LM#AGAACAAGTGGTTATG-1-BCI-Nuclei           Lymphatic endo  \n",
       "CRC01_LM#AGGTTGCGTGAGCAAG-1-BCI-Nuclei            Tip-like endo  \n",
       "CRC01_LM#CACCTCAGTGGTTATG-1-BCI-Nuclei            Tip-like endo  \n",
       "...                                                         ...  \n",
       "CRC15_LM#TTTATGGAGTTTCCGC-1-BCI-Nuclei                      TA1  \n",
       "CRC15_LM#TTTCCGGGTTCTTTAG-1-BCI-Nuclei                  Hypoxia  \n",
       "CRC15_LM#TTTGGCTGTTAACGAT-1-BCI-Nuclei                      TA1  \n",
       "CRC15_LM#TTTGTCCCAGGAATCG-1-BCI-Nuclei                      TA1  \n",
       "CRC15_LM#TTTGTGAAGGACTTAC-1-BCI-Nuclei             Intermediate  \n",
       "\n",
       "[109862 rows x 3 columns]"
      ]
     },
     "execution_count": 32,
     "metadata": {},
     "output_type": "execute_result"
    }
   ],
   "source": [
    "adata_cdb.obs"
   ]
  },
  {
   "cell_type": "markdown",
   "metadata": {},
   "source": [
    "### Save metadata\n",
    "metafile `.tsv` file. 2-column file (cell barcode, cell type assigned)"
   ]
  },
  {
   "cell_type": "code",
   "execution_count": 34,
   "metadata": {},
   "outputs": [],
   "source": [
    "df_meta = pd.DataFrame(\n",
    "    {\n",
    "        \"Cell\": list(adata_cdb.obs.index),\n",
    "        \"cell_type\": adata_cdb.obs[\"Annotation_scVI_detailed\"].values.tolist(),\n",
    "    }\n",
    ")"
   ]
  },
  {
   "cell_type": "code",
   "execution_count": 35,
   "metadata": {},
   "outputs": [
    {
     "data": {
      "text/html": [
       "<div>\n",
       "<style scoped>\n",
       "    .dataframe tbody tr th:only-of-type {\n",
       "        vertical-align: middle;\n",
       "    }\n",
       "\n",
       "    .dataframe tbody tr th {\n",
       "        vertical-align: top;\n",
       "    }\n",
       "\n",
       "    .dataframe thead th {\n",
       "        text-align: right;\n",
       "    }\n",
       "</style>\n",
       "<table border=\"1\" class=\"dataframe\">\n",
       "  <thead>\n",
       "    <tr style=\"text-align: right;\">\n",
       "      <th></th>\n",
       "      <th>Cell</th>\n",
       "      <th>cell_type</th>\n",
       "    </tr>\n",
       "  </thead>\n",
       "  <tbody>\n",
       "    <tr>\n",
       "      <th>0</th>\n",
       "      <td>CRC01_LM#AAACATGCATCAGCAC-1-BCI-Nuclei</td>\n",
       "      <td>SPP1 Mac</td>\n",
       "    </tr>\n",
       "    <tr>\n",
       "      <th>1</th>\n",
       "      <td>CRC01_LM#AACATAGCAGGATAAC-1-BCI-Nuclei</td>\n",
       "      <td>SPP1 Mac</td>\n",
       "    </tr>\n",
       "    <tr>\n",
       "      <th>2</th>\n",
       "      <td>CRC01_LM#AGAACAAGTGGTTATG-1-BCI-Nuclei</td>\n",
       "      <td>Lymphatic endo</td>\n",
       "    </tr>\n",
       "    <tr>\n",
       "      <th>3</th>\n",
       "      <td>CRC01_LM#AGGTTGCGTGAGCAAG-1-BCI-Nuclei</td>\n",
       "      <td>Tip-like endo</td>\n",
       "    </tr>\n",
       "    <tr>\n",
       "      <th>4</th>\n",
       "      <td>CRC01_LM#CACCTCAGTGGTTATG-1-BCI-Nuclei</td>\n",
       "      <td>Tip-like endo</td>\n",
       "    </tr>\n",
       "    <tr>\n",
       "      <th>...</th>\n",
       "      <td>...</td>\n",
       "      <td>...</td>\n",
       "    </tr>\n",
       "    <tr>\n",
       "      <th>109857</th>\n",
       "      <td>CRC15_LM#TTTATGGAGTTTCCGC-1-BCI-Nuclei</td>\n",
       "      <td>TA1</td>\n",
       "    </tr>\n",
       "    <tr>\n",
       "      <th>109858</th>\n",
       "      <td>CRC15_LM#TTTCCGGGTTCTTTAG-1-BCI-Nuclei</td>\n",
       "      <td>Hypoxia</td>\n",
       "    </tr>\n",
       "    <tr>\n",
       "      <th>109859</th>\n",
       "      <td>CRC15_LM#TTTGGCTGTTAACGAT-1-BCI-Nuclei</td>\n",
       "      <td>TA1</td>\n",
       "    </tr>\n",
       "    <tr>\n",
       "      <th>109860</th>\n",
       "      <td>CRC15_LM#TTTGTCCCAGGAATCG-1-BCI-Nuclei</td>\n",
       "      <td>TA1</td>\n",
       "    </tr>\n",
       "    <tr>\n",
       "      <th>109861</th>\n",
       "      <td>CRC15_LM#TTTGTGAAGGACTTAC-1-BCI-Nuclei</td>\n",
       "      <td>Intermediate</td>\n",
       "    </tr>\n",
       "  </tbody>\n",
       "</table>\n",
       "<p>109862 rows × 2 columns</p>\n",
       "</div>"
      ],
      "text/plain": [
       "                                          Cell       cell_type\n",
       "0       CRC01_LM#AAACATGCATCAGCAC-1-BCI-Nuclei        SPP1 Mac\n",
       "1       CRC01_LM#AACATAGCAGGATAAC-1-BCI-Nuclei        SPP1 Mac\n",
       "2       CRC01_LM#AGAACAAGTGGTTATG-1-BCI-Nuclei  Lymphatic endo\n",
       "3       CRC01_LM#AGGTTGCGTGAGCAAG-1-BCI-Nuclei   Tip-like endo\n",
       "4       CRC01_LM#CACCTCAGTGGTTATG-1-BCI-Nuclei   Tip-like endo\n",
       "...                                        ...             ...\n",
       "109857  CRC15_LM#TTTATGGAGTTTCCGC-1-BCI-Nuclei             TA1\n",
       "109858  CRC15_LM#TTTCCGGGTTCTTTAG-1-BCI-Nuclei         Hypoxia\n",
       "109859  CRC15_LM#TTTGGCTGTTAACGAT-1-BCI-Nuclei             TA1\n",
       "109860  CRC15_LM#TTTGTCCCAGGAATCG-1-BCI-Nuclei             TA1\n",
       "109861  CRC15_LM#TTTGTGAAGGACTTAC-1-BCI-Nuclei    Intermediate\n",
       "\n",
       "[109862 rows x 2 columns]"
      ]
     },
     "execution_count": 35,
     "metadata": {},
     "output_type": "execute_result"
    }
   ],
   "source": [
    "df_meta"
   ]
  },
  {
   "cell_type": "code",
   "execution_count": 36,
   "metadata": {},
   "outputs": [
    {
     "data": {
      "text/html": [
       "<div>\n",
       "<style scoped>\n",
       "    .dataframe tbody tr th:only-of-type {\n",
       "        vertical-align: middle;\n",
       "    }\n",
       "\n",
       "    .dataframe tbody tr th {\n",
       "        vertical-align: top;\n",
       "    }\n",
       "\n",
       "    .dataframe thead th {\n",
       "        text-align: right;\n",
       "    }\n",
       "</style>\n",
       "<table border=\"1\" class=\"dataframe\">\n",
       "  <thead>\n",
       "    <tr style=\"text-align: right;\">\n",
       "      <th></th>\n",
       "      <th>cell_type</th>\n",
       "    </tr>\n",
       "    <tr>\n",
       "      <th>Cell</th>\n",
       "      <th></th>\n",
       "    </tr>\n",
       "  </thead>\n",
       "  <tbody>\n",
       "    <tr>\n",
       "      <th>CRC01_LM#AAACATGCATCAGCAC-1-BCI-Nuclei</th>\n",
       "      <td>SPP1 Mac</td>\n",
       "    </tr>\n",
       "    <tr>\n",
       "      <th>CRC01_LM#AACATAGCAGGATAAC-1-BCI-Nuclei</th>\n",
       "      <td>SPP1 Mac</td>\n",
       "    </tr>\n",
       "    <tr>\n",
       "      <th>CRC01_LM#AGAACAAGTGGTTATG-1-BCI-Nuclei</th>\n",
       "      <td>Lymphatic endo</td>\n",
       "    </tr>\n",
       "  </tbody>\n",
       "</table>\n",
       "</div>"
      ],
      "text/plain": [
       "                                             cell_type\n",
       "Cell                                                  \n",
       "CRC01_LM#AAACATGCATCAGCAC-1-BCI-Nuclei        SPP1 Mac\n",
       "CRC01_LM#AACATAGCAGGATAAC-1-BCI-Nuclei        SPP1 Mac\n",
       "CRC01_LM#AGAACAAGTGGTTATG-1-BCI-Nuclei  Lymphatic endo"
      ]
     },
     "execution_count": 36,
     "metadata": {},
     "output_type": "execute_result"
    }
   ],
   "source": [
    "df_meta.set_index(\"Cell\", inplace=True)\n",
    "df_meta.head(3)"
   ]
  },
  {
   "cell_type": "code",
   "execution_count": 37,
   "metadata": {},
   "outputs": [
    {
     "data": {
      "text/plain": [
       "45"
      ]
     },
     "execution_count": 37,
     "metadata": {},
     "output_type": "execute_result"
    }
   ],
   "source": [
    "len(df_meta[\"cell_type\"].value_counts())"
   ]
  },
  {
   "cell_type": "code",
   "execution_count": 38,
   "metadata": {},
   "outputs": [],
   "source": [
    "df_meta.to_csv(DIR2SAVE.joinpath(\"meta.tsv\"), sep=\"\\t\")"
   ]
  },
  {
   "cell_type": "code",
   "execution_count": 39,
   "metadata": {},
   "outputs": [
    {
     "data": {
      "text/plain": [
       "matrix([[10000.001],\n",
       "        [10000.001],\n",
       "        [10000.001],\n",
       "        ...,\n",
       "        [10000.001],\n",
       "        [10000.   ],\n",
       "        [10000.001]], dtype=float32)"
      ]
     },
     "execution_count": 39,
     "metadata": {},
     "output_type": "execute_result"
    }
   ],
   "source": [
    "adata_cdb.X.sum(axis=1)"
   ]
  },
  {
   "cell_type": "code",
   "execution_count": null,
   "metadata": {},
   "outputs": [],
   "source": []
  },
  {
   "cell_type": "code",
   "execution_count": null,
   "metadata": {},
   "outputs": [],
   "source": []
  }
 ],
 "metadata": {
  "kernelspec": {
   "display_name": "cell2loc19",
   "language": "python",
   "name": "cell2loc19"
  },
  "language_info": {
   "codemirror_mode": {
    "name": "ipython",
    "version": 3
   },
   "file_extension": ".py",
   "mimetype": "text/x-python",
   "name": "python",
   "nbconvert_exporter": "python",
   "pygments_lexer": "ipython3",
   "version": "3.9.13"
  }
 },
 "nbformat": 4,
 "nbformat_minor": 4
}
