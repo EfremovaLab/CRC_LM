{
 "cells": [
  {
   "cell_type": "code",
   "execution_count": 1,
   "metadata": {},
   "outputs": [],
   "source": [
    "import scanpy as sc\n",
    "import pandas as pd\n",
    "import numpy as np\n",
    "import anndata\n",
    "from pathlib import Path"
   ]
  },
  {
   "cell_type": "code",
   "execution_count": 2,
   "metadata": {},
   "outputs": [],
   "source": [
    "SAMPLE_NAME = \"concat_withWu2022\""
   ]
  },
  {
   "cell_type": "code",
   "execution_count": 3,
   "metadata": {},
   "outputs": [],
   "source": [
    "DIR2SAVE = Path(\n",
    "    f\"/data/BCI-CRC/nasrine/data/CRC/spatial/CRC_LM_VISIUM/CRC_LM_VISIUM_04_08_09_11/cellphonedb3/{SAMPLE_NAME}/\"\n",
    ")\n",
    "DIR2SAVE.mkdir(parents=True, exist_ok=True)"
   ]
  },
  {
   "cell_type": "code",
   "execution_count": 4,
   "metadata": {},
   "outputs": [],
   "source": [
    "# save expression matrix normalised\n",
    "import scipy\n",
    "\n",
    "normalised_X = scipy.sparse.load_npz(DIR2SAVE.joinpath(\"counts_normalised.npz\"))\n",
    "\n",
    "# save obs index\n",
    "my_obs = pd.read_csv(DIR2SAVE.joinpath(\"obs.csv\"), header=0, index_col=0)\n",
    "\n",
    "# save var names\n",
    "my_var = pd.read_csv(DIR2SAVE.joinpath(\"var.csv\"), header=0, index_col=0)"
   ]
  },
  {
   "cell_type": "code",
   "execution_count": 5,
   "metadata": {},
   "outputs": [
    {
     "data": {
      "text/html": [
       "<div>\n",
       "<style scoped>\n",
       "    .dataframe tbody tr th:only-of-type {\n",
       "        vertical-align: middle;\n",
       "    }\n",
       "\n",
       "    .dataframe tbody tr th {\n",
       "        vertical-align: top;\n",
       "    }\n",
       "\n",
       "    .dataframe thead th {\n",
       "        text-align: right;\n",
       "    }\n",
       "</style>\n",
       "<table border=\"1\" class=\"dataframe\">\n",
       "  <thead>\n",
       "    <tr style=\"text-align: right;\">\n",
       "      <th></th>\n",
       "      <th>cell_source</th>\n",
       "      <th>Annotation_scVI</th>\n",
       "      <th>Annotation_scVI_detailed</th>\n",
       "    </tr>\n",
       "  </thead>\n",
       "  <tbody>\n",
       "    <tr>\n",
       "      <th>CRC01_LM#AAACATGCATCAGCAC-1-BCI-Nuclei</th>\n",
       "      <td>BCI-Nuclei</td>\n",
       "      <td>Myeloid</td>\n",
       "      <td>SPP1 Mac</td>\n",
       "    </tr>\n",
       "    <tr>\n",
       "      <th>CRC01_LM#AACATAGCAGGATAAC-1-BCI-Nuclei</th>\n",
       "      <td>BCI-Nuclei</td>\n",
       "      <td>Myeloid</td>\n",
       "      <td>SPP1 Mac</td>\n",
       "    </tr>\n",
       "    <tr>\n",
       "      <th>CRC01_LM#AGAACAAGTGGTTATG-1-BCI-Nuclei</th>\n",
       "      <td>BCI-Nuclei</td>\n",
       "      <td>Endothelial</td>\n",
       "      <td>Lymphatic endo</td>\n",
       "    </tr>\n",
       "    <tr>\n",
       "      <th>CRC01_LM#AGGTTGCGTGAGCAAG-1-BCI-Nuclei</th>\n",
       "      <td>BCI-Nuclei</td>\n",
       "      <td>Endothelial</td>\n",
       "      <td>Tip-like endo</td>\n",
       "    </tr>\n",
       "    <tr>\n",
       "      <th>CRC01_LM#CACCTCAGTGGTTATG-1-BCI-Nuclei</th>\n",
       "      <td>BCI-Nuclei</td>\n",
       "      <td>Endothelial</td>\n",
       "      <td>Tip-like endo</td>\n",
       "    </tr>\n",
       "    <tr>\n",
       "      <th>...</th>\n",
       "      <td>...</td>\n",
       "      <td>...</td>\n",
       "      <td>...</td>\n",
       "    </tr>\n",
       "    <tr>\n",
       "      <th>CRC15_LM#TTTATGGAGTTTCCGC-1-BCI-Nuclei</th>\n",
       "      <td>BCI-Nuclei</td>\n",
       "      <td>Epithelial</td>\n",
       "      <td>TA1</td>\n",
       "    </tr>\n",
       "    <tr>\n",
       "      <th>CRC15_LM#TTTCCGGGTTCTTTAG-1-BCI-Nuclei</th>\n",
       "      <td>BCI-Nuclei</td>\n",
       "      <td>Epithelial</td>\n",
       "      <td>Hypoxia</td>\n",
       "    </tr>\n",
       "    <tr>\n",
       "      <th>CRC15_LM#TTTGGCTGTTAACGAT-1-BCI-Nuclei</th>\n",
       "      <td>BCI-Nuclei</td>\n",
       "      <td>Epithelial</td>\n",
       "      <td>TA1</td>\n",
       "    </tr>\n",
       "    <tr>\n",
       "      <th>CRC15_LM#TTTGTCCCAGGAATCG-1-BCI-Nuclei</th>\n",
       "      <td>BCI-Nuclei</td>\n",
       "      <td>Epithelial</td>\n",
       "      <td>TA1</td>\n",
       "    </tr>\n",
       "    <tr>\n",
       "      <th>CRC15_LM#TTTGTGAAGGACTTAC-1-BCI-Nuclei</th>\n",
       "      <td>BCI-Nuclei</td>\n",
       "      <td>Epithelial</td>\n",
       "      <td>Intermediate</td>\n",
       "    </tr>\n",
       "  </tbody>\n",
       "</table>\n",
       "<p>109862 rows × 3 columns</p>\n",
       "</div>"
      ],
      "text/plain": [
       "                                       cell_source Annotation_scVI  \\\n",
       "CRC01_LM#AAACATGCATCAGCAC-1-BCI-Nuclei  BCI-Nuclei         Myeloid   \n",
       "CRC01_LM#AACATAGCAGGATAAC-1-BCI-Nuclei  BCI-Nuclei         Myeloid   \n",
       "CRC01_LM#AGAACAAGTGGTTATG-1-BCI-Nuclei  BCI-Nuclei     Endothelial   \n",
       "CRC01_LM#AGGTTGCGTGAGCAAG-1-BCI-Nuclei  BCI-Nuclei     Endothelial   \n",
       "CRC01_LM#CACCTCAGTGGTTATG-1-BCI-Nuclei  BCI-Nuclei     Endothelial   \n",
       "...                                            ...             ...   \n",
       "CRC15_LM#TTTATGGAGTTTCCGC-1-BCI-Nuclei  BCI-Nuclei      Epithelial   \n",
       "CRC15_LM#TTTCCGGGTTCTTTAG-1-BCI-Nuclei  BCI-Nuclei      Epithelial   \n",
       "CRC15_LM#TTTGGCTGTTAACGAT-1-BCI-Nuclei  BCI-Nuclei      Epithelial   \n",
       "CRC15_LM#TTTGTCCCAGGAATCG-1-BCI-Nuclei  BCI-Nuclei      Epithelial   \n",
       "CRC15_LM#TTTGTGAAGGACTTAC-1-BCI-Nuclei  BCI-Nuclei      Epithelial   \n",
       "\n",
       "                                       Annotation_scVI_detailed  \n",
       "CRC01_LM#AAACATGCATCAGCAC-1-BCI-Nuclei                 SPP1 Mac  \n",
       "CRC01_LM#AACATAGCAGGATAAC-1-BCI-Nuclei                 SPP1 Mac  \n",
       "CRC01_LM#AGAACAAGTGGTTATG-1-BCI-Nuclei           Lymphatic endo  \n",
       "CRC01_LM#AGGTTGCGTGAGCAAG-1-BCI-Nuclei            Tip-like endo  \n",
       "CRC01_LM#CACCTCAGTGGTTATG-1-BCI-Nuclei            Tip-like endo  \n",
       "...                                                         ...  \n",
       "CRC15_LM#TTTATGGAGTTTCCGC-1-BCI-Nuclei                      TA1  \n",
       "CRC15_LM#TTTCCGGGTTCTTTAG-1-BCI-Nuclei                  Hypoxia  \n",
       "CRC15_LM#TTTGGCTGTTAACGAT-1-BCI-Nuclei                      TA1  \n",
       "CRC15_LM#TTTGTCCCAGGAATCG-1-BCI-Nuclei                      TA1  \n",
       "CRC15_LM#TTTGTGAAGGACTTAC-1-BCI-Nuclei             Intermediate  \n",
       "\n",
       "[109862 rows x 3 columns]"
      ]
     },
     "execution_count": 5,
     "metadata": {},
     "output_type": "execute_result"
    }
   ],
   "source": [
    "my_obs"
   ]
  },
  {
   "cell_type": "code",
   "execution_count": 6,
   "metadata": {},
   "outputs": [
    {
     "data": {
      "text/html": [
       "<div>\n",
       "<style scoped>\n",
       "    .dataframe tbody tr th:only-of-type {\n",
       "        vertical-align: middle;\n",
       "    }\n",
       "\n",
       "    .dataframe tbody tr th {\n",
       "        vertical-align: top;\n",
       "    }\n",
       "\n",
       "    .dataframe thead th {\n",
       "        text-align: right;\n",
       "    }\n",
       "</style>\n",
       "<table border=\"1\" class=\"dataframe\">\n",
       "  <thead>\n",
       "    <tr style=\"text-align: right;\">\n",
       "      <th></th>\n",
       "      <th>n_cells-Nasrine</th>\n",
       "      <th>n_cells</th>\n",
       "    </tr>\n",
       "  </thead>\n",
       "  <tbody>\n",
       "    <tr>\n",
       "      <th>A1BG</th>\n",
       "      <td>15552.0</td>\n",
       "      <td>13294</td>\n",
       "    </tr>\n",
       "    <tr>\n",
       "      <th>A1BG-AS1</th>\n",
       "      <td>1504.0</td>\n",
       "      <td>1315</td>\n",
       "    </tr>\n",
       "    <tr>\n",
       "      <th>A1CF</th>\n",
       "      <td>536.0</td>\n",
       "      <td>5241</td>\n",
       "    </tr>\n",
       "    <tr>\n",
       "      <th>A2M</th>\n",
       "      <td>7274.0</td>\n",
       "      <td>4858</td>\n",
       "    </tr>\n",
       "    <tr>\n",
       "      <th>A2M-AS1</th>\n",
       "      <td>2075.0</td>\n",
       "      <td>1841</td>\n",
       "    </tr>\n",
       "    <tr>\n",
       "      <th>...</th>\n",
       "      <td>...</td>\n",
       "      <td>...</td>\n",
       "    </tr>\n",
       "    <tr>\n",
       "      <th>ZYG11B</th>\n",
       "      <td>3529.0</td>\n",
       "      <td>6974</td>\n",
       "    </tr>\n",
       "    <tr>\n",
       "      <th>ZYX</th>\n",
       "      <td>19380.0</td>\n",
       "      <td>18347</td>\n",
       "    </tr>\n",
       "    <tr>\n",
       "      <th>ZZEF1</th>\n",
       "      <td>6826.0</td>\n",
       "      <td>11567</td>\n",
       "    </tr>\n",
       "    <tr>\n",
       "      <th>ZZZ3</th>\n",
       "      <td>1537.0</td>\n",
       "      <td>1254</td>\n",
       "    </tr>\n",
       "    <tr>\n",
       "      <th>bP-21264C1.2</th>\n",
       "      <td>57.0</td>\n",
       "      <td>43</td>\n",
       "    </tr>\n",
       "  </tbody>\n",
       "</table>\n",
       "<p>33787 rows × 2 columns</p>\n",
       "</div>"
      ],
      "text/plain": [
       "              n_cells-Nasrine  n_cells\n",
       "A1BG                  15552.0    13294\n",
       "A1BG-AS1               1504.0     1315\n",
       "A1CF                    536.0     5241\n",
       "A2M                    7274.0     4858\n",
       "A2M-AS1                2075.0     1841\n",
       "...                       ...      ...\n",
       "ZYG11B                 3529.0     6974\n",
       "ZYX                   19380.0    18347\n",
       "ZZEF1                  6826.0    11567\n",
       "ZZZ3                   1537.0     1254\n",
       "bP-21264C1.2             57.0       43\n",
       "\n",
       "[33787 rows x 2 columns]"
      ]
     },
     "execution_count": 6,
     "metadata": {},
     "output_type": "execute_result"
    }
   ],
   "source": [
    "my_var"
   ]
  },
  {
   "cell_type": "code",
   "execution_count": 7,
   "metadata": {},
   "outputs": [
    {
     "data": {
      "text/plain": [
       "<109862x33787 sparse matrix of type '<class 'numpy.float32'>'\n",
       "\twith 144036558 stored elements in Compressed Sparse Row format>"
      ]
     },
     "execution_count": 7,
     "metadata": {},
     "output_type": "execute_result"
    }
   ],
   "source": [
    "normalised_X"
   ]
  },
  {
   "cell_type": "code",
   "execution_count": 8,
   "metadata": {},
   "outputs": [
    {
     "name": "stdout",
     "output_type": "stream",
     "text": [
      "(109862, 33787)\n"
     ]
    }
   ],
   "source": [
    "adata = anndata.AnnData(X=normalised_X, var=my_var, obs=my_obs, asview=False)\n",
    "print(adata.shape)"
   ]
  },
  {
   "cell_type": "code",
   "execution_count": 9,
   "metadata": {},
   "outputs": [
    {
     "data": {
      "text/plain": [
       "AnnData object with n_obs × n_vars = 109862 × 33787\n",
       "    obs: 'cell_source', 'Annotation_scVI', 'Annotation_scVI_detailed'\n",
       "    var: 'n_cells-Nasrine', 'n_cells'"
      ]
     },
     "execution_count": 9,
     "metadata": {},
     "output_type": "execute_result"
    }
   ],
   "source": [
    "adata"
   ]
  },
  {
   "cell_type": "code",
   "execution_count": 10,
   "metadata": {},
   "outputs": [
    {
     "name": "stderr",
     "output_type": "stream",
     "text": [
      "/data/BCI-CRC/nasrine/anaconda/envs/scanpy/lib/python3.8/site-packages/anndata/_core/anndata.py:1220: FutureWarning: The `inplace` parameter in pandas.Categorical.reorder_categories is deprecated and will be removed in a future version. Removing unused categories will always return a new Categorical object.\n",
      "  c.reorder_categories(natsorted(c.categories), inplace=True)\n",
      "... storing 'cell_source' as categorical\n",
      "/data/BCI-CRC/nasrine/anaconda/envs/scanpy/lib/python3.8/site-packages/anndata/_core/anndata.py:1220: FutureWarning: The `inplace` parameter in pandas.Categorical.reorder_categories is deprecated and will be removed in a future version. Removing unused categories will always return a new Categorical object.\n",
      "  c.reorder_categories(natsorted(c.categories), inplace=True)\n",
      "... storing 'Annotation_scVI' as categorical\n",
      "/data/BCI-CRC/nasrine/anaconda/envs/scanpy/lib/python3.8/site-packages/anndata/_core/anndata.py:1220: FutureWarning: The `inplace` parameter in pandas.Categorical.reorder_categories is deprecated and will be removed in a future version. Removing unused categories will always return a new Categorical object.\n",
      "  c.reorder_categories(natsorted(c.categories), inplace=True)\n",
      "... storing 'Annotation_scVI_detailed' as categorical\n"
     ]
    }
   ],
   "source": [
    "adata.write(\n",
    "    DIR2SAVE.joinpath(\n",
    "        \"Multiome_Che_Wu_CRC_LM_counts_normalised_compatible_anndata.h5ad\"\n",
    "    )\n",
    ")"
   ]
  },
  {
   "cell_type": "code",
   "execution_count": null,
   "metadata": {},
   "outputs": [],
   "source": []
  },
  {
   "cell_type": "code",
   "execution_count": null,
   "metadata": {},
   "outputs": [],
   "source": []
  },
  {
   "cell_type": "code",
   "execution_count": null,
   "metadata": {},
   "outputs": [],
   "source": []
  }
 ],
 "metadata": {
  "kernelspec": {
   "display_name": "scanpy",
   "language": "python",
   "name": "scanpy"
  },
  "language_info": {
   "codemirror_mode": {
    "name": "ipython",
    "version": 3
   },
   "file_extension": ".py",
   "mimetype": "text/x-python",
   "name": "python",
   "nbconvert_exporter": "python",
   "pygments_lexer": "ipython3",
   "version": "3.8.6"
  }
 },
 "nbformat": 4,
 "nbformat_minor": 4
}
