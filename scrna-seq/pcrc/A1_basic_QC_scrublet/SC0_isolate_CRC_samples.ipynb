{
 "cells": [
  {
   "cell_type": "code",
   "execution_count": 1,
   "metadata": {},
   "outputs": [],
   "source": [
    "import pyreadr\n",
    "import scanpy as sc\n",
    "import numpy as np\n",
    "import os\n",
    "import pandas as pd\n",
    "import anndata as ad\n",
    "from pathlib import Path"
   ]
  },
  {
   "cell_type": "markdown",
   "metadata": {},
   "source": [
    "* Load datasets "
   ]
  },
  {
   "cell_type": "code",
   "execution_count": 2,
   "metadata": {},
   "outputs": [],
   "source": [
    "# load datasets\n",
    "adata_smc = sc.read_h5ad(\n",
    "    \"/data/BCI-CRC/SO/data/Lee2020_CRC_scRNAseq/scanpy_all2/SMC.h5ad\"\n",
    ")\n",
    "adata_smc.var_names_make_unique()\n",
    "\n",
    "adata_kul = sc.read_h5ad(\n",
    "    \"/data/BCI-CRC/SO/data/Lee2020_CRC_scRNAseq/scanpy_all2/KUL.h5ad\"\n",
    ")\n",
    "adata_kul.var_names_make_unique()\n",
    "\n",
    "adata_pelka = sc.read_h5ad(\n",
    "    \"/data/BCI-CRC/SO/data/Pelka2021_CRC_scRNAseq/Pelka_counts.h5ad\"\n",
    ")\n",
    "adata_pelka.var_names_make_unique()\n",
    "\n",
    "adata_che2021 = sc.read_10x_mtx(\"/data/BCI-CRC/SO/data/Che2021_CRC-LM_scRNAseq/\")\n",
    "adata_che2021.var_names_make_unique()\n",
    "\n",
    "adata_wu2022 = sc.read_h5ad(\n",
    "    \"/data/BCI-CRC/nasrine/data/CRC/Wu_Yingcheng_2021_cancer_discovery/Wu2021_counts.h5ad\"\n",
    ")\n",
    "adata_wu2022.var_names_make_unique()"
   ]
  },
  {
   "cell_type": "markdown",
   "metadata": {},
   "source": [
    "#### create metadata for che2021 dataset "
   ]
  },
  {
   "cell_type": "code",
   "execution_count": 3,
   "metadata": {},
   "outputs": [],
   "source": [
    "adata_che2021.obs[\"Patient\"] = [\n",
    "    ele[1] for ele in adata_che2021.obs.index.str.split(\"_\")\n",
    "]\n",
    "adata_che2021.obs[\"Tissue\"] = [ele[2] for ele in adata_che2021.obs.index.str.split(\"_\")]\n",
    "adata_che2021.obs[\"Therapy\"] = np.where(\n",
    "    (\n",
    "        (adata_che2021.obs[\"Patient\"] == \"COL15\")\n",
    "        | (adata_che2021.obs[\"Patient\"] == \"COL17\")\n",
    "        | (adata_che2021.obs[\"Patient\"] == \"COL18\")\n",
    "    ),\n",
    "    \"NAC\",  # neoadjuvant chemotherapy, preoperative chemotherapy\n",
    "    \"naive\",\n",
    ")"
   ]
  },
  {
   "cell_type": "code",
   "execution_count": 4,
   "metadata": {},
   "outputs": [],
   "source": [
    "# load annotations from previous analysis\n",
    "# read in annotations\n",
    "gen_annot = pd.read_csv(\n",
    "    \"/data/BCI-CRC/nasrine/data/CRC/Che2021_CRC-LM_scRNAseq/Che2021_CRC_LM_clustering_annotations.txt\",\n",
    "    header=0,\n",
    "    index_col=0,\n",
    "    sep=\"\\t\",\n",
    ")\n",
    "gen_annot.rename(columns={\"Annotation\": \"Cell_type\"}, inplace=True)\n",
    "\n",
    "# merge to add annot to .obs\n",
    "adata_che2021.obs = adata_che2021.obs.merge(\n",
    "    right=gen_annot, how=\"left\", right_index=True, left_index=True\n",
    ")\n",
    "\n",
    "tcell_annot_che2021 = pd.read_csv(\n",
    "    \"/data/BCI-CRC/nasrine/data/CRC/Che2021_CRC-LM_scRNAseq/Che2021_CRC_LM_TNKILC_clustering_annotations.txt\",\n",
    "    header=0,\n",
    "    index_col=0,\n",
    "    sep=\"\\t\",\n",
    ")\n",
    "\n",
    "cDC1_migDC_annot_che2021 = pd.read_csv(\n",
    "    \"/data/BCI-CRC/nasrine/data/CRC/Che2021_CRC-LM_scRNAseq/Che2021_CRC_LM_cDC1_migDC_annotations.txt\",\n",
    "    header=0,\n",
    "    index_col=0,\n",
    "    sep=\"\\t\",\n",
    ")\n",
    "\n",
    "myeloid_annot_che2021 = pd.read_csv(\n",
    "    \"/data/BCI-CRC/nasrine/data/CRC/Che2021_CRC-LM_scRNAseq/Che2021_CRC_LM_myeloid_clustering_annotations.txt\",\n",
    "    header=0,\n",
    "    index_col=0,\n",
    "    sep=\"\\t\",\n",
    ")\n",
    "\n",
    "stromal_annot_che2021 = pd.read_csv(\n",
    "    \"/data/BCI-CRC/nasrine/data/CRC/Che2021_CRC-LM_scRNAseq/Che2021_CRC_LM_stromal_clustering_annotations.txt\",\n",
    "    header=0,\n",
    "    index_col=0,\n",
    "    sep=\"\\t\",\n",
    ")\n",
    "\n",
    "complete_annot_che2021 = pd.concat(\n",
    "    [\n",
    "        tcell_annot_che2021,\n",
    "        cDC1_migDC_annot_che2021,\n",
    "        myeloid_annot_che2021,\n",
    "        stromal_annot_che2021,\n",
    "    ],\n",
    "    axis=0,\n",
    ")\n",
    "complete_annot_che2021.rename(columns={\"Annotation\": \"Cell_subtype\"}, inplace=True)\n",
    "\n",
    "# add annot to .obs\n",
    "adata_che2021.obs = adata_che2021.obs.merge(\n",
    "    right=complete_annot_che2021, how=\"left\", right_index=True, left_index=True\n",
    ")\n",
    "\n",
    "adata_che2021.obs[\"Cell_subtype\"] = np.where(\n",
    "    adata_che2021.obs[\"Cell_subtype\"].isna(),\n",
    "    adata_che2021.obs[\"Cell_type\"],\n",
    "    adata_che2021.obs[\"Cell_subtype\"],\n",
    ")"
   ]
  },
  {
   "cell_type": "markdown",
   "metadata": {},
   "source": [
    "### Isolate primary CRC samples only\n",
    "\n",
    "* SMC"
   ]
  },
  {
   "cell_type": "code",
   "execution_count": 5,
   "metadata": {},
   "outputs": [
    {
     "name": "stdout",
     "output_type": "stream",
     "text": [
      "(47285, 33694)\n",
      "{'Tumor'}\n"
     ]
    }
   ],
   "source": [
    "adata_smc_crc = adata_smc[adata_smc.obs.Class == \"Tumor\"].copy()\n",
    "print(adata_smc_crc.shape)\n",
    "print(set(adata_smc_crc.obs.Class))"
   ]
  },
  {
   "cell_type": "markdown",
   "metadata": {},
   "source": [
    "* KUL"
   ]
  },
  {
   "cell_type": "code",
   "execution_count": 6,
   "metadata": {},
   "outputs": [
    {
     "name": "stdout",
     "output_type": "stream",
     "text": [
      "(8254, 33694)\n",
      "{'Tumor'}\n"
     ]
    }
   ],
   "source": [
    "adata_kul_crc = adata_kul[adata_kul.obs.Class == \"Tumor\"].copy()\n",
    "print(adata_kul_crc.shape)\n",
    "print(set(adata_kul_crc.obs.Class))"
   ]
  },
  {
   "cell_type": "markdown",
   "metadata": {},
   "source": [
    "* Pelka"
   ]
  },
  {
   "cell_type": "code",
   "execution_count": 7,
   "metadata": {},
   "outputs": [
    {
     "name": "stdout",
     "output_type": "stream",
     "text": [
      "(257251, 43113)\n",
      "{'Adenocarcinoma;Mucinous;Neuroendocrine', 'Adenocarcinoma;Medullary (with solid growth pattern)', 'Adenocarcinoma', 'Adenocarcinoma;Mucinous', 'Medullary'}\n"
     ]
    }
   ],
   "source": [
    "set(adata_pelka.obs[\"HistologicTypeSimple\"])\n",
    "adata_pelka_crc = adata_pelka[\n",
    "    adata_pelka.obs[\"HistologicTypeSimple\"] != \"Normal colon\"\n",
    "].copy()\n",
    "print(adata_pelka_crc.shape)\n",
    "print(set(adata_pelka_crc.obs.HistologicTypeSimple))"
   ]
  },
  {
   "cell_type": "markdown",
   "metadata": {},
   "source": [
    "* Che2021"
   ]
  },
  {
   "cell_type": "code",
   "execution_count": 8,
   "metadata": {},
   "outputs": [
    {
     "name": "stdout",
     "output_type": "stream",
     "text": [
      "(55735, 33694)\n",
      "{'CRC'}\n"
     ]
    }
   ],
   "source": [
    "adata_che2021_crc = adata_che2021[adata_che2021.obs.Tissue == \"CRC\"].copy()\n",
    "print(adata_che2021_crc.shape)\n",
    "print(set(adata_che2021_crc.obs.Tissue))"
   ]
  },
  {
   "cell_type": "markdown",
   "metadata": {},
   "source": [
    "* Wu2022"
   ]
  },
  {
   "cell_type": "code",
   "execution_count": 9,
   "metadata": {},
   "outputs": [
    {
     "name": "stdout",
     "output_type": "stream",
     "text": [
      "(29856, 20610)\n",
      "{'CRC'}\n"
     ]
    }
   ],
   "source": [
    "adata_wu2022_crc = adata_wu2022[adata_wu2022.obs.Tissue == \"CRC\"].copy()\n",
    "print(adata_wu2022_crc.shape)\n",
    "print(set(adata_wu2022_crc.obs.Tissue))"
   ]
  },
  {
   "cell_type": "markdown",
   "metadata": {},
   "source": [
    "* check that they are raw "
   ]
  },
  {
   "cell_type": "code",
   "execution_count": 10,
   "metadata": {},
   "outputs": [
    {
     "data": {
      "text/plain": [
       "26489.0"
      ]
     },
     "execution_count": 10,
     "metadata": {},
     "output_type": "execute_result"
    }
   ],
   "source": [
    "np.max(adata_smc_crc.X)"
   ]
  },
  {
   "cell_type": "code",
   "execution_count": 11,
   "metadata": {},
   "outputs": [
    {
     "data": {
      "text/plain": [
       "21283.0"
      ]
     },
     "execution_count": 11,
     "metadata": {},
     "output_type": "execute_result"
    }
   ],
   "source": [
    "np.max(adata_kul_crc.X)"
   ]
  },
  {
   "cell_type": "code",
   "execution_count": 12,
   "metadata": {},
   "outputs": [
    {
     "data": {
      "text/plain": [
       "59020.0"
      ]
     },
     "execution_count": 12,
     "metadata": {},
     "output_type": "execute_result"
    }
   ],
   "source": [
    "# pelka has raw data\n",
    "np.max(adata_pelka_crc.X)"
   ]
  },
  {
   "cell_type": "code",
   "execution_count": 13,
   "metadata": {},
   "outputs": [
    {
     "data": {
      "text/plain": [
       "22428.0"
      ]
     },
     "execution_count": 13,
     "metadata": {},
     "output_type": "execute_result"
    }
   ],
   "source": [
    "np.max(adata_che2021_crc.X)"
   ]
  },
  {
   "cell_type": "code",
   "execution_count": 14,
   "metadata": {},
   "outputs": [
    {
     "data": {
      "text/plain": [
       "43586.0"
      ]
     },
     "execution_count": 14,
     "metadata": {},
     "output_type": "execute_result"
    }
   ],
   "source": [
    "np.max(adata_wu2022_crc.X)"
   ]
  },
  {
   "cell_type": "markdown",
   "metadata": {},
   "source": [
    "### add  columns of interest and rename some so that it is all consistent in the workflow\n",
    "* Sample\n",
    "* Patient\n",
    "* Tissue\n",
    "* Therapy\n",
    "* Cell_type\n",
    "* Cell_subtype"
   ]
  },
  {
   "cell_type": "code",
   "execution_count": 15,
   "metadata": {},
   "outputs": [
    {
     "data": {
      "text/html": [
       "<div>\n",
       "<style scoped>\n",
       "    .dataframe tbody tr th:only-of-type {\n",
       "        vertical-align: middle;\n",
       "    }\n",
       "\n",
       "    .dataframe tbody tr th {\n",
       "        vertical-align: top;\n",
       "    }\n",
       "\n",
       "    .dataframe thead th {\n",
       "        text-align: right;\n",
       "    }\n",
       "</style>\n",
       "<table border=\"1\" class=\"dataframe\">\n",
       "  <thead>\n",
       "    <tr style=\"text-align: right;\">\n",
       "      <th></th>\n",
       "      <th>Patient</th>\n",
       "      <th>Class</th>\n",
       "      <th>Sample</th>\n",
       "      <th>Cell_type</th>\n",
       "      <th>Cell_subtype</th>\n",
       "      <th>Dataset</th>\n",
       "    </tr>\n",
       "    <tr>\n",
       "      <th>Index</th>\n",
       "      <th></th>\n",
       "      <th></th>\n",
       "      <th></th>\n",
       "      <th></th>\n",
       "      <th></th>\n",
       "      <th></th>\n",
       "    </tr>\n",
       "  </thead>\n",
       "  <tbody>\n",
       "    <tr>\n",
       "      <th>SMC01-T_AAACCTGCATACGCCG</th>\n",
       "      <td>SMC01</td>\n",
       "      <td>Tumor</td>\n",
       "      <td>SMC01-T</td>\n",
       "      <td>Epithelial cells</td>\n",
       "      <td>CMS2</td>\n",
       "      <td>SMC</td>\n",
       "    </tr>\n",
       "    <tr>\n",
       "      <th>SMC01-T_AAACCTGGTCGCATAT</th>\n",
       "      <td>SMC01</td>\n",
       "      <td>Tumor</td>\n",
       "      <td>SMC01-T</td>\n",
       "      <td>Epithelial cells</td>\n",
       "      <td>CMS2</td>\n",
       "      <td>SMC</td>\n",
       "    </tr>\n",
       "    <tr>\n",
       "      <th>SMC01-T_AAACCTGTCCCTTGCA</th>\n",
       "      <td>SMC01</td>\n",
       "      <td>Tumor</td>\n",
       "      <td>SMC01-T</td>\n",
       "      <td>Epithelial cells</td>\n",
       "      <td>CMS2</td>\n",
       "      <td>SMC</td>\n",
       "    </tr>\n",
       "    <tr>\n",
       "      <th>SMC01-T_AAACGGGAGGGAAACA</th>\n",
       "      <td>SMC01</td>\n",
       "      <td>Tumor</td>\n",
       "      <td>SMC01-T</td>\n",
       "      <td>Epithelial cells</td>\n",
       "      <td>CMS2</td>\n",
       "      <td>SMC</td>\n",
       "    </tr>\n",
       "    <tr>\n",
       "      <th>SMC01-T_AAACGGGGTATAGGTA</th>\n",
       "      <td>SMC01</td>\n",
       "      <td>Tumor</td>\n",
       "      <td>SMC01-T</td>\n",
       "      <td>Epithelial cells</td>\n",
       "      <td>CMS2</td>\n",
       "      <td>SMC</td>\n",
       "    </tr>\n",
       "    <tr>\n",
       "      <th>...</th>\n",
       "      <td>...</td>\n",
       "      <td>...</td>\n",
       "      <td>...</td>\n",
       "      <td>...</td>\n",
       "      <td>...</td>\n",
       "      <td>...</td>\n",
       "    </tr>\n",
       "    <tr>\n",
       "      <th>SMC25-T_TTTGGTTCAACGCACC</th>\n",
       "      <td>SMC25</td>\n",
       "      <td>Tumor</td>\n",
       "      <td>SMC25-T</td>\n",
       "      <td>B cells</td>\n",
       "      <td>IgG+ Plasma</td>\n",
       "      <td>SMC</td>\n",
       "    </tr>\n",
       "    <tr>\n",
       "      <th>SMC25-T_TTTGTCAAGCGCTCCA</th>\n",
       "      <td>SMC25</td>\n",
       "      <td>Tumor</td>\n",
       "      <td>SMC25-T</td>\n",
       "      <td>B cells</td>\n",
       "      <td>CD19+CD20+ B</td>\n",
       "      <td>SMC</td>\n",
       "    </tr>\n",
       "    <tr>\n",
       "      <th>SMC06-T_TCTTCGGCAAACAACA</th>\n",
       "      <td>SMC06</td>\n",
       "      <td>Tumor</td>\n",
       "      <td>SMC06-T</td>\n",
       "      <td>Mast cells</td>\n",
       "      <td>Mast cells</td>\n",
       "      <td>SMC</td>\n",
       "    </tr>\n",
       "    <tr>\n",
       "      <th>SMC07-T_TGAGAGGGTTTAGGAA</th>\n",
       "      <td>SMC07</td>\n",
       "      <td>Tumor</td>\n",
       "      <td>SMC07-T</td>\n",
       "      <td>Mast cells</td>\n",
       "      <td>Mast cells</td>\n",
       "      <td>SMC</td>\n",
       "    </tr>\n",
       "    <tr>\n",
       "      <th>SMC07-T_TTTATGCCAGGGATTG</th>\n",
       "      <td>SMC07</td>\n",
       "      <td>Tumor</td>\n",
       "      <td>SMC07-T</td>\n",
       "      <td>Mast cells</td>\n",
       "      <td>Mast cells</td>\n",
       "      <td>SMC</td>\n",
       "    </tr>\n",
       "  </tbody>\n",
       "</table>\n",
       "<p>47285 rows × 6 columns</p>\n",
       "</div>"
      ],
      "text/plain": [
       "                         Patient  Class   Sample         Cell_type  \\\n",
       "Index                                                                \n",
       "SMC01-T_AAACCTGCATACGCCG   SMC01  Tumor  SMC01-T  Epithelial cells   \n",
       "SMC01-T_AAACCTGGTCGCATAT   SMC01  Tumor  SMC01-T  Epithelial cells   \n",
       "SMC01-T_AAACCTGTCCCTTGCA   SMC01  Tumor  SMC01-T  Epithelial cells   \n",
       "SMC01-T_AAACGGGAGGGAAACA   SMC01  Tumor  SMC01-T  Epithelial cells   \n",
       "SMC01-T_AAACGGGGTATAGGTA   SMC01  Tumor  SMC01-T  Epithelial cells   \n",
       "...                          ...    ...      ...               ...   \n",
       "SMC25-T_TTTGGTTCAACGCACC   SMC25  Tumor  SMC25-T           B cells   \n",
       "SMC25-T_TTTGTCAAGCGCTCCA   SMC25  Tumor  SMC25-T           B cells   \n",
       "SMC06-T_TCTTCGGCAAACAACA   SMC06  Tumor  SMC06-T        Mast cells   \n",
       "SMC07-T_TGAGAGGGTTTAGGAA   SMC07  Tumor  SMC07-T        Mast cells   \n",
       "SMC07-T_TTTATGCCAGGGATTG   SMC07  Tumor  SMC07-T        Mast cells   \n",
       "\n",
       "                          Cell_subtype Dataset  \n",
       "Index                                           \n",
       "SMC01-T_AAACCTGCATACGCCG          CMS2     SMC  \n",
       "SMC01-T_AAACCTGGTCGCATAT          CMS2     SMC  \n",
       "SMC01-T_AAACCTGTCCCTTGCA          CMS2     SMC  \n",
       "SMC01-T_AAACGGGAGGGAAACA          CMS2     SMC  \n",
       "SMC01-T_AAACGGGGTATAGGTA          CMS2     SMC  \n",
       "...                                ...     ...  \n",
       "SMC25-T_TTTGGTTCAACGCACC   IgG+ Plasma     SMC  \n",
       "SMC25-T_TTTGTCAAGCGCTCCA  CD19+CD20+ B     SMC  \n",
       "SMC06-T_TCTTCGGCAAACAACA    Mast cells     SMC  \n",
       "SMC07-T_TGAGAGGGTTTAGGAA    Mast cells     SMC  \n",
       "SMC07-T_TTTATGCCAGGGATTG    Mast cells     SMC  \n",
       "\n",
       "[47285 rows x 6 columns]"
      ]
     },
     "execution_count": 15,
     "metadata": {},
     "output_type": "execute_result"
    }
   ],
   "source": [
    "adata_smc_crc.obs"
   ]
  },
  {
   "cell_type": "code",
   "execution_count": 16,
   "metadata": {},
   "outputs": [
    {
     "data": {
      "text/html": [
       "<div>\n",
       "<style scoped>\n",
       "    .dataframe tbody tr th:only-of-type {\n",
       "        vertical-align: middle;\n",
       "    }\n",
       "\n",
       "    .dataframe tbody tr th {\n",
       "        vertical-align: top;\n",
       "    }\n",
       "\n",
       "    .dataframe thead th {\n",
       "        text-align: right;\n",
       "    }\n",
       "</style>\n",
       "<table border=\"1\" class=\"dataframe\">\n",
       "  <thead>\n",
       "    <tr style=\"text-align: right;\">\n",
       "      <th></th>\n",
       "      <th>Patient</th>\n",
       "      <th>Class</th>\n",
       "      <th>Sample</th>\n",
       "      <th>Cell_type</th>\n",
       "      <th>Cell_subtype</th>\n",
       "      <th>Dataset</th>\n",
       "    </tr>\n",
       "    <tr>\n",
       "      <th>Index</th>\n",
       "      <th></th>\n",
       "      <th></th>\n",
       "      <th></th>\n",
       "      <th></th>\n",
       "      <th></th>\n",
       "      <th></th>\n",
       "    </tr>\n",
       "  </thead>\n",
       "  <tbody>\n",
       "    <tr>\n",
       "      <th>KUL01-T_AAACCTGGTCTTTCAT</th>\n",
       "      <td>KUL01</td>\n",
       "      <td>Tumor</td>\n",
       "      <td>KUL01-T</td>\n",
       "      <td>Epithelial cells</td>\n",
       "      <td>CMS1</td>\n",
       "      <td>KUL</td>\n",
       "    </tr>\n",
       "    <tr>\n",
       "      <th>KUL01-T_AAACGGGTCGGTTAAC</th>\n",
       "      <td>KUL01</td>\n",
       "      <td>Tumor</td>\n",
       "      <td>KUL01-T</td>\n",
       "      <td>Epithelial cells</td>\n",
       "      <td>CMS3</td>\n",
       "      <td>KUL</td>\n",
       "    </tr>\n",
       "    <tr>\n",
       "      <th>KUL01-T_AAAGATGGTATAGGGC</th>\n",
       "      <td>KUL01</td>\n",
       "      <td>Tumor</td>\n",
       "      <td>KUL01-T</td>\n",
       "      <td>Epithelial cells</td>\n",
       "      <td>CMS3</td>\n",
       "      <td>KUL</td>\n",
       "    </tr>\n",
       "    <tr>\n",
       "      <th>KUL01-T_AAAGATGGTGGCCCTA</th>\n",
       "      <td>KUL01</td>\n",
       "      <td>Tumor</td>\n",
       "      <td>KUL01-T</td>\n",
       "      <td>Epithelial cells</td>\n",
       "      <td>CMS1</td>\n",
       "      <td>KUL</td>\n",
       "    </tr>\n",
       "    <tr>\n",
       "      <th>KUL01-T_AAAGCAAGTAAACACA</th>\n",
       "      <td>KUL01</td>\n",
       "      <td>Tumor</td>\n",
       "      <td>KUL01-T</td>\n",
       "      <td>Epithelial cells</td>\n",
       "      <td>CMS3</td>\n",
       "      <td>KUL</td>\n",
       "    </tr>\n",
       "    <tr>\n",
       "      <th>...</th>\n",
       "      <td>...</td>\n",
       "      <td>...</td>\n",
       "      <td>...</td>\n",
       "      <td>...</td>\n",
       "      <td>...</td>\n",
       "      <td>...</td>\n",
       "    </tr>\n",
       "    <tr>\n",
       "      <th>KUL28-T_GGATTACAGAAACCAT</th>\n",
       "      <td>KUL28</td>\n",
       "      <td>Tumor</td>\n",
       "      <td>KUL28-T</td>\n",
       "      <td>Mast cells</td>\n",
       "      <td>Mast cells</td>\n",
       "      <td>KUL</td>\n",
       "    </tr>\n",
       "    <tr>\n",
       "      <th>KUL28-T_TCATTTGGTTGTCTTT</th>\n",
       "      <td>KUL28</td>\n",
       "      <td>Tumor</td>\n",
       "      <td>KUL28-T</td>\n",
       "      <td>Mast cells</td>\n",
       "      <td>Mast cells</td>\n",
       "      <td>KUL</td>\n",
       "    </tr>\n",
       "    <tr>\n",
       "      <th>KUL28-T_TCCACACAGTCATGCT</th>\n",
       "      <td>KUL28</td>\n",
       "      <td>Tumor</td>\n",
       "      <td>KUL28-T</td>\n",
       "      <td>Mast cells</td>\n",
       "      <td>Mast cells</td>\n",
       "      <td>KUL</td>\n",
       "    </tr>\n",
       "    <tr>\n",
       "      <th>KUL30-T_CATATTCGTCTTCAAG</th>\n",
       "      <td>KUL30</td>\n",
       "      <td>Tumor</td>\n",
       "      <td>KUL30-T</td>\n",
       "      <td>Mast cells</td>\n",
       "      <td>Mast cells</td>\n",
       "      <td>KUL</td>\n",
       "    </tr>\n",
       "    <tr>\n",
       "      <th>KUL31-T_AACCATGGTCCTGCTT</th>\n",
       "      <td>KUL31</td>\n",
       "      <td>Tumor</td>\n",
       "      <td>KUL31-T</td>\n",
       "      <td>Mast cells</td>\n",
       "      <td>Mast cells</td>\n",
       "      <td>KUL</td>\n",
       "    </tr>\n",
       "  </tbody>\n",
       "</table>\n",
       "<p>8254 rows × 6 columns</p>\n",
       "</div>"
      ],
      "text/plain": [
       "                         Patient  Class   Sample         Cell_type  \\\n",
       "Index                                                                \n",
       "KUL01-T_AAACCTGGTCTTTCAT   KUL01  Tumor  KUL01-T  Epithelial cells   \n",
       "KUL01-T_AAACGGGTCGGTTAAC   KUL01  Tumor  KUL01-T  Epithelial cells   \n",
       "KUL01-T_AAAGATGGTATAGGGC   KUL01  Tumor  KUL01-T  Epithelial cells   \n",
       "KUL01-T_AAAGATGGTGGCCCTA   KUL01  Tumor  KUL01-T  Epithelial cells   \n",
       "KUL01-T_AAAGCAAGTAAACACA   KUL01  Tumor  KUL01-T  Epithelial cells   \n",
       "...                          ...    ...      ...               ...   \n",
       "KUL28-T_GGATTACAGAAACCAT   KUL28  Tumor  KUL28-T        Mast cells   \n",
       "KUL28-T_TCATTTGGTTGTCTTT   KUL28  Tumor  KUL28-T        Mast cells   \n",
       "KUL28-T_TCCACACAGTCATGCT   KUL28  Tumor  KUL28-T        Mast cells   \n",
       "KUL30-T_CATATTCGTCTTCAAG   KUL30  Tumor  KUL30-T        Mast cells   \n",
       "KUL31-T_AACCATGGTCCTGCTT   KUL31  Tumor  KUL31-T        Mast cells   \n",
       "\n",
       "                         Cell_subtype Dataset  \n",
       "Index                                          \n",
       "KUL01-T_AAACCTGGTCTTTCAT         CMS1     KUL  \n",
       "KUL01-T_AAACGGGTCGGTTAAC         CMS3     KUL  \n",
       "KUL01-T_AAAGATGGTATAGGGC         CMS3     KUL  \n",
       "KUL01-T_AAAGATGGTGGCCCTA         CMS1     KUL  \n",
       "KUL01-T_AAAGCAAGTAAACACA         CMS3     KUL  \n",
       "...                               ...     ...  \n",
       "KUL28-T_GGATTACAGAAACCAT   Mast cells     KUL  \n",
       "KUL28-T_TCATTTGGTTGTCTTT   Mast cells     KUL  \n",
       "KUL28-T_TCCACACAGTCATGCT   Mast cells     KUL  \n",
       "KUL30-T_CATATTCGTCTTCAAG   Mast cells     KUL  \n",
       "KUL31-T_AACCATGGTCCTGCTT   Mast cells     KUL  \n",
       "\n",
       "[8254 rows x 6 columns]"
      ]
     },
     "execution_count": 16,
     "metadata": {},
     "output_type": "execute_result"
    }
   ],
   "source": [
    "adata_kul_crc.obs"
   ]
  },
  {
   "cell_type": "code",
   "execution_count": 17,
   "metadata": {},
   "outputs": [
    {
     "data": {
      "text/plain": [
       "AnnData object with n_obs × n_vars = 55735 × 33694\n",
       "    obs: 'Patient', 'Tissue', 'Therapy', 'Cell_type', 'Cell_subtype'\n",
       "    var: 'gene_ids', 'feature_types'"
      ]
     },
     "execution_count": 17,
     "metadata": {},
     "output_type": "execute_result"
    }
   ],
   "source": [
    "adata_che2021_crc"
   ]
  },
  {
   "cell_type": "code",
   "execution_count": 18,
   "metadata": {},
   "outputs": [
    {
     "data": {
      "text/plain": [
       "AnnData object with n_obs × n_vars = 29856 × 20610\n",
       "    obs: 'orig.ident', 'nCount_RNA', 'nFeature_RNA', 'patient', 'tissue', 'patient_tissue', 'tissueunique', 'RNA_snn_res.0.5', 'seurat_clusters', 'RNA_snn_res.0.1', 'doublet', 'RNA_snn_res.1', 'main_cell_type', 'sub_cell_type', 'chemo', 'Therapy', 'Patient', 'Tissue'"
      ]
     },
     "execution_count": 18,
     "metadata": {},
     "output_type": "execute_result"
    }
   ],
   "source": [
    "adata_wu2022_crc"
   ]
  },
  {
   "cell_type": "code",
   "execution_count": 19,
   "metadata": {},
   "outputs": [
    {
     "data": {
      "text/plain": [
       "AnnData object with n_obs × n_vars = 257251 × 43113\n",
       "    obs: 'SPECIMEN_TYPE', 'SOURCE_HOSPITAL', 'TISSUE_PROCESSING_TEAM', 'PROCESSING_TYPE', 'SINGLECELL_TYPE', 'PatientTypeID', 'HistologicTypeSimple', 'MMR_IHC', 'MMRStatus', 'MLH1Status', 'MMRMLH1Tumor', 'TissueSite_detailed', 'TissueSiteSimple', 'HistologicGrade_detailed', 'HistologicGradeSimple', 'TumorStage', 'NodeStatus_detailed', 'NodeStatusSimple', 'MetastasisStatus', 'TumorSize', 'SizeQuantile', 'PID', 'Sex', 'Age', 'Ethnicity', 'Race', 'batchID', 'clTopLevel', 'clMidwayPr', 'cl295v11SubShort', 'cl295v11SubFull'\n",
       "    var: 'gene_ids', 'feature_types', 'genome'"
      ]
     },
     "execution_count": 19,
     "metadata": {},
     "output_type": "execute_result"
    }
   ],
   "source": [
    "adata_pelka_crc"
   ]
  },
  {
   "cell_type": "code",
   "execution_count": 20,
   "metadata": {},
   "outputs": [
    {
     "data": {
      "text/plain": [
       "AnnData object with n_obs × n_vars = 257251 × 43113\n",
       "    obs: 'SPECIMEN_TYPE', 'SOURCE_HOSPITAL', 'TISSUE_PROCESSING_TEAM', 'PROCESSING_TYPE', 'SINGLECELL_TYPE', 'PatientTypeID', 'HistologicTypeSimple', 'MMR_IHC', 'MMRStatus', 'MLH1Status', 'MMRMLH1Tumor', 'TissueSite_detailed', 'TissueSiteSimple', 'HistologicGrade_detailed', 'HistologicGradeSimple', 'TumorStage', 'NodeStatus_detailed', 'NodeStatusSimple', 'MetastasisStatus', 'TumorSize', 'SizeQuantile', 'PID', 'Sex', 'Age', 'Ethnicity', 'Race', 'batchID', 'clTopLevel', 'clMidwayPr', 'cl295v11SubShort', 'cl295v11SubFull'\n",
       "    var: 'gene_ids', 'feature_types', 'genome'"
      ]
     },
     "execution_count": 20,
     "metadata": {},
     "output_type": "execute_result"
    }
   ],
   "source": [
    "adata_pelka_crc"
   ]
  },
  {
   "cell_type": "code",
   "execution_count": 21,
   "metadata": {},
   "outputs": [],
   "source": [
    "# add Tissue, Therapy columns for SMC, KUL\n",
    "adata_smc_crc.obs[\"Tissue\"] = \"CRC\"\n",
    "adata_smc_crc.obs[\"Therapy\"] = \"naive\"\n",
    "adata_smc_crc.obs.rename(columns={\"Dataset\": \"cell_source\"}, inplace=True)\n",
    "\n",
    "adata_kul_crc.obs[\"Tissue\"] = \"CRC\"\n",
    "adata_kul_crc.obs[\"Therapy\"] = \"naive\"\n",
    "adata_kul_crc.obs.rename(columns={\"Dataset\": \"cell_source\"}, inplace=True)\n",
    "\n",
    "# change column names for wu2022\n",
    "adata_wu2022_crc.obs.rename(columns={\"main_cell_type\": \"Cell_type\"}, inplace=True)\n",
    "adata_wu2022_crc.obs.rename(columns={\"sub_cell_type\": \"Cell_subtype\"}, inplace=True)\n",
    "# create sample column\n",
    "adata_wu2022_crc.obs.rename(columns={\"orig.ident\": \"Sample\"}, inplace=True)\n",
    "\n",
    "# change column names for pelka and Tissue, Therapy columns\n",
    "adata_pelka_crc.obs.rename(columns={\"clTopLevel\": \"Cell_type\"}, inplace=True)\n",
    "adata_pelka_crc.obs.rename(columns={\"cl295v11SubFull\": \"Cell_subtype\"}, inplace=True)\n",
    "adata_pelka_crc.obs[\"Tissue\"] = \"CRC\"\n",
    "adata_pelka_crc.obs[\"Therapy\"] = \"naive\"\n",
    "# create sample column\n",
    "adata_pelka_crc.obs.rename(columns={\"batchID\": \"Sample\"}, inplace=True)\n",
    "# rename to patient\n",
    "adata_pelka_crc.obs.rename(columns={\"PatientTypeID\": \"Patient\"}, inplace=True)\n",
    "\n",
    "\n",
    "# create sample column for che2021\n",
    "adata_che2021_crc.obs[\"Sample\"] = (\n",
    "    adata_che2021_crc.obs[\"Patient\"].astype(\"str\")\n",
    "    + \"_\"\n",
    "    + adata_che2021_crc.obs[\"Tissue\"].astype(\"str\")\n",
    ")"
   ]
  },
  {
   "cell_type": "code",
   "execution_count": 22,
   "metadata": {},
   "outputs": [
    {
     "data": {
      "text/plain": [
       "AnnData object with n_obs × n_vars = 47285 × 33694\n",
       "    obs: 'Patient', 'Class', 'Sample', 'Cell_type', 'Cell_subtype', 'cell_source', 'Tissue', 'Therapy'"
      ]
     },
     "execution_count": 22,
     "metadata": {},
     "output_type": "execute_result"
    }
   ],
   "source": [
    "adata_smc_crc"
   ]
  },
  {
   "cell_type": "code",
   "execution_count": 23,
   "metadata": {},
   "outputs": [
    {
     "data": {
      "text/plain": [
       "AnnData object with n_obs × n_vars = 8254 × 33694\n",
       "    obs: 'Patient', 'Class', 'Sample', 'Cell_type', 'Cell_subtype', 'cell_source', 'Tissue', 'Therapy'"
      ]
     },
     "execution_count": 23,
     "metadata": {},
     "output_type": "execute_result"
    }
   ],
   "source": [
    "adata_kul_crc"
   ]
  },
  {
   "cell_type": "code",
   "execution_count": 24,
   "metadata": {},
   "outputs": [
    {
     "data": {
      "text/plain": [
       "AnnData object with n_obs × n_vars = 29856 × 20610\n",
       "    obs: 'Sample', 'nCount_RNA', 'nFeature_RNA', 'patient', 'tissue', 'patient_tissue', 'tissueunique', 'RNA_snn_res.0.5', 'seurat_clusters', 'RNA_snn_res.0.1', 'doublet', 'RNA_snn_res.1', 'Cell_type', 'Cell_subtype', 'chemo', 'Therapy', 'Patient', 'Tissue'"
      ]
     },
     "execution_count": 24,
     "metadata": {},
     "output_type": "execute_result"
    }
   ],
   "source": [
    "adata_wu2022_crc"
   ]
  },
  {
   "cell_type": "code",
   "execution_count": 25,
   "metadata": {},
   "outputs": [
    {
     "data": {
      "text/plain": [
       "AnnData object with n_obs × n_vars = 257251 × 43113\n",
       "    obs: 'SPECIMEN_TYPE', 'SOURCE_HOSPITAL', 'TISSUE_PROCESSING_TEAM', 'PROCESSING_TYPE', 'SINGLECELL_TYPE', 'Patient', 'HistologicTypeSimple', 'MMR_IHC', 'MMRStatus', 'MLH1Status', 'MMRMLH1Tumor', 'TissueSite_detailed', 'TissueSiteSimple', 'HistologicGrade_detailed', 'HistologicGradeSimple', 'TumorStage', 'NodeStatus_detailed', 'NodeStatusSimple', 'MetastasisStatus', 'TumorSize', 'SizeQuantile', 'PID', 'Sex', 'Age', 'Ethnicity', 'Race', 'Sample', 'Cell_type', 'clMidwayPr', 'cl295v11SubShort', 'Cell_subtype', 'Tissue', 'Therapy'\n",
       "    var: 'gene_ids', 'feature_types', 'genome'"
      ]
     },
     "execution_count": 25,
     "metadata": {},
     "output_type": "execute_result"
    }
   ],
   "source": [
    "adata_pelka_crc"
   ]
  },
  {
   "cell_type": "code",
   "execution_count": 26,
   "metadata": {},
   "outputs": [
    {
     "data": {
      "text/plain": [
       "AnnData object with n_obs × n_vars = 55735 × 33694\n",
       "    obs: 'Patient', 'Tissue', 'Therapy', 'Cell_type', 'Cell_subtype', 'Sample'\n",
       "    var: 'gene_ids', 'feature_types'"
      ]
     },
     "execution_count": 26,
     "metadata": {},
     "output_type": "execute_result"
    }
   ],
   "source": [
    "adata_che2021_crc"
   ]
  },
  {
   "cell_type": "markdown",
   "metadata": {},
   "source": [
    "### save data to file"
   ]
  },
  {
   "cell_type": "code",
   "execution_count": 27,
   "metadata": {},
   "outputs": [],
   "source": [
    "DIR2SAVE = Path(\"/data/BCI-CRC/nasrine/data/CRC/Primary_CRC_dataset/raw/\")"
   ]
  },
  {
   "cell_type": "code",
   "execution_count": 28,
   "metadata": {},
   "outputs": [],
   "source": [
    "# smc\n",
    "adata_smc_crc.write(DIR2SAVE.joinpath(\"Lee2020_SMC_CRC_raw.h5ad\"))\n",
    "\n",
    "# kul\n",
    "adata_kul_crc.write(DIR2SAVE.joinpath(\"Lee2020_KUL_CRC_raw.h5ad\"))\n",
    "\n",
    "# pelka\n",
    "adata_pelka_crc.write(DIR2SAVE.joinpath(\"Pelka2021_CRC_raw.h5ad\"))\n",
    "\n",
    "# che2021\n",
    "adata_che2021_crc.write(DIR2SAVE.joinpath(\"Che2021_CRC_raw.h5ad\"))\n",
    "\n",
    "# wu2022\n",
    "adata_wu2022_crc.write(DIR2SAVE.joinpath(\"Wu2022_CRC_raw.h5ad\"))"
   ]
  },
  {
   "cell_type": "code",
   "execution_count": null,
   "metadata": {},
   "outputs": [],
   "source": []
  }
 ],
 "metadata": {
  "kernelspec": {
   "display_name": "cell2loc19",
   "language": "python",
   "name": "cell2loc19"
  },
  "language_info": {
   "codemirror_mode": {
    "name": "ipython",
    "version": 3
   },
   "file_extension": ".py",
   "mimetype": "text/x-python",
   "name": "python",
   "nbconvert_exporter": "python",
   "pygments_lexer": "ipython3",
   "version": "3.9.13"
  }
 },
 "nbformat": 4,
 "nbformat_minor": 4
}
