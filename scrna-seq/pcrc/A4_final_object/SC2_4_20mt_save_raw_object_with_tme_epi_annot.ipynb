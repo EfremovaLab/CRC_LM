{
 "cells": [
  {
   "cell_type": "code",
   "execution_count": 1,
   "metadata": {},
   "outputs": [],
   "source": [
    "import scanpy as sc\n",
    "import pandas as pd\n",
    "from pathlib import Path\n",
    "import anndata as ad\n",
    "import numpy as np\n",
    "import os\n",
    "\n",
    "%config InlineBackend.figure_format = 'retina'\n",
    "%matplotlib inline\n",
    "\n",
    "import matplotlib as mpl\n",
    "import matplotlib.pyplot as plt\n",
    "import seaborn as sns\n",
    "\n",
    "DPI = 300\n",
    "FONTSIZE = 20  # 42\n",
    "\n",
    "sc.settings.set_figure_params(\n",
    "    scanpy=True, dpi=100, transparent=True, vector_friendly=True, dpi_save=DPI\n",
    ")\n",
    "from matplotlib import rcParams\n",
    "\n",
    "rcParams[\"pdf.fonttype\"] = 42"
   ]
  },
  {
   "cell_type": "code",
   "execution_count": 2,
   "metadata": {},
   "outputs": [],
   "source": [
    "DIR2SAVE = Path(\"/data/BCI-CRC/nasrine/data/CRC/Primary_CRC_dataset/final_object/20mt/\")\n",
    "DIR2SAVE.mkdir(parents=True, exist_ok=True)\n",
    "\n",
    "FIG2SAVE = DIR2SAVE.joinpath(\"figures/\")\n",
    "FIG2SAVE.mkdir(parents=True, exist_ok=True)\n",
    "# set the global variable: sc.settings.figdir to save all plots\n",
    "sc.settings.figdir = FIG2SAVE"
   ]
  },
  {
   "cell_type": "markdown",
   "metadata": {},
   "source": [
    "### Read in final annotations TME + epi "
   ]
  },
  {
   "cell_type": "code",
   "execution_count": 3,
   "metadata": {},
   "outputs": [
    {
     "data": {
      "text/plain": [
       "(246779, 2000)"
      ]
     },
     "execution_count": 3,
     "metadata": {},
     "output_type": "execute_result"
    }
   ],
   "source": [
    "adata_annot = sc.read_h5ad(DIR2SAVE.joinpath(\"SMC_KUL_Pelka_Che_Wu_pCRC_annotations.h5ad\"))\n",
    "adata_annot.shape"
   ]
  },
  {
   "cell_type": "code",
   "execution_count": 4,
   "metadata": {},
   "outputs": [
    {
     "data": {
      "text/plain": [
       "T-NK-ILC       94119\n",
       "Epithelial     60526\n",
       "Myeloid        36905\n",
       "Plasma         24526\n",
       "B              19701\n",
       "Stromal         5367\n",
       "Endothelial     3047\n",
       "Mast            2588\n",
       "Name: Annotation_scVI, dtype: int64"
      ]
     },
     "execution_count": 4,
     "metadata": {},
     "output_type": "execute_result"
    }
   ],
   "source": [
    "adata_annot.obs.Annotation_scVI.value_counts()"
   ]
  },
  {
   "cell_type": "code",
   "execution_count": 5,
   "metadata": {},
   "outputs": [
    {
     "data": {
      "text/plain": [
       "Index(['Patient', 'Sample', 'Cell_type', 'Cell_subtype', 'Tissue', 'Therapy',\n",
       "       'doublet_score', 'predicted_doublet', 'n_genes_by_counts',\n",
       "       'total_counts', 'total_counts_mt', 'pct_counts_mt', 'total_counts_ribo',\n",
       "       'pct_counts_ribo', 'cell_source', '_scvi_batch', '_scvi_labels',\n",
       "       'S_score', 'G2M_score', 'phase', 'cell_cycle_diff', 'leiden_scVI',\n",
       "       'Annotation_scVI_20mt', 'Annotation_scVI_epi',\n",
       "       'Annotation_scVI_detailed_epi', 'Annotation_scVI_tme',\n",
       "       'Annotation_scVI_detailed_tme', 'Annotation_scVI',\n",
       "       'Annotation_scVI_detailed'],\n",
       "      dtype='object')"
      ]
     },
     "execution_count": 5,
     "metadata": {},
     "output_type": "execute_result"
    }
   ],
   "source": [
    "adata_annot.obs.columns"
   ]
  },
  {
   "cell_type": "markdown",
   "metadata": {},
   "source": [
    "### Read in raw data"
   ]
  },
  {
   "cell_type": "code",
   "execution_count": 6,
   "metadata": {},
   "outputs": [
    {
     "data": {
      "text/plain": [
       "(328063, 39609)"
      ]
     },
     "execution_count": 6,
     "metadata": {},
     "output_type": "execute_result"
    }
   ],
   "source": [
    "adata_raw = sc.read_h5ad(\"/data/BCI-CRC/nasrine/data/CRC/Primary_CRC_dataset/20mt/data_integration/SMC_KUL_Pelka_Che_Wu_CRC_raw.h5ad\")\n",
    "adata_raw.shape"
   ]
  },
  {
   "cell_type": "code",
   "execution_count": 7,
   "metadata": {},
   "outputs": [
    {
     "data": {
      "text/plain": [
       "59020.0"
      ]
     },
     "execution_count": 7,
     "metadata": {},
     "output_type": "execute_result"
    }
   ],
   "source": [
    "np.max(adata_raw.X)  # check data is raw"
   ]
  },
  {
   "cell_type": "code",
   "execution_count": 8,
   "metadata": {},
   "outputs": [
    {
     "data": {
      "text/plain": [
       "matrix([[0., 0., 0., 0., 0.],\n",
       "        [0., 0., 0., 0., 0.],\n",
       "        [0., 0., 0., 0., 0.],\n",
       "        [0., 0., 0., 0., 0.],\n",
       "        [0., 0., 0., 0., 0.]], dtype=float32)"
      ]
     },
     "execution_count": 8,
     "metadata": {},
     "output_type": "execute_result"
    }
   ],
   "source": [
    "adata_raw.X[0:5, 0:5].todense()"
   ]
  },
  {
   "cell_type": "code",
   "execution_count": 9,
   "metadata": {},
   "outputs": [
    {
     "data": {
      "text/html": [
       "<div>\n",
       "<style scoped>\n",
       "    .dataframe tbody tr th:only-of-type {\n",
       "        vertical-align: middle;\n",
       "    }\n",
       "\n",
       "    .dataframe tbody tr th {\n",
       "        vertical-align: top;\n",
       "    }\n",
       "\n",
       "    .dataframe thead th {\n",
       "        text-align: right;\n",
       "    }\n",
       "</style>\n",
       "<table border=\"1\" class=\"dataframe\">\n",
       "  <thead>\n",
       "    <tr style=\"text-align: right;\">\n",
       "      <th></th>\n",
       "      <th>Patient</th>\n",
       "      <th>Sample</th>\n",
       "      <th>Cell_type</th>\n",
       "      <th>Cell_subtype</th>\n",
       "      <th>Tissue</th>\n",
       "      <th>Therapy</th>\n",
       "      <th>doublet_score</th>\n",
       "      <th>predicted_doublet</th>\n",
       "      <th>n_genes_by_counts</th>\n",
       "      <th>total_counts</th>\n",
       "      <th>total_counts_mt</th>\n",
       "      <th>pct_counts_mt</th>\n",
       "      <th>total_counts_ribo</th>\n",
       "      <th>pct_counts_ribo</th>\n",
       "      <th>cell_source</th>\n",
       "    </tr>\n",
       "  </thead>\n",
       "  <tbody>\n",
       "    <tr>\n",
       "      <th>SMC01-T_AAACCTGCATACGCCG-SMC</th>\n",
       "      <td>SMC01</td>\n",
       "      <td>SMC01-T</td>\n",
       "      <td>Epithelial cells</td>\n",
       "      <td>CMS2</td>\n",
       "      <td>CRC</td>\n",
       "      <td>naive</td>\n",
       "      <td>0.089005</td>\n",
       "      <td>False</td>\n",
       "      <td>4866</td>\n",
       "      <td>38052.0</td>\n",
       "      <td>4917.0</td>\n",
       "      <td>12.921791</td>\n",
       "      <td>8800.0</td>\n",
       "      <td>23.126249</td>\n",
       "      <td>SMC</td>\n",
       "    </tr>\n",
       "    <tr>\n",
       "      <th>SMC01-T_AAACCTGGTCGCATAT-SMC</th>\n",
       "      <td>SMC01</td>\n",
       "      <td>SMC01-T</td>\n",
       "      <td>Epithelial cells</td>\n",
       "      <td>CMS2</td>\n",
       "      <td>CRC</td>\n",
       "      <td>naive</td>\n",
       "      <td>0.089005</td>\n",
       "      <td>False</td>\n",
       "      <td>5268</td>\n",
       "      <td>33750.0</td>\n",
       "      <td>2957.0</td>\n",
       "      <td>8.761481</td>\n",
       "      <td>7815.0</td>\n",
       "      <td>23.155556</td>\n",
       "      <td>SMC</td>\n",
       "    </tr>\n",
       "    <tr>\n",
       "      <th>SMC01-T_AAACCTGTCCCTTGCA-SMC</th>\n",
       "      <td>SMC01</td>\n",
       "      <td>SMC01-T</td>\n",
       "      <td>Epithelial cells</td>\n",
       "      <td>CMS2</td>\n",
       "      <td>CRC</td>\n",
       "      <td>naive</td>\n",
       "      <td>0.033954</td>\n",
       "      <td>False</td>\n",
       "      <td>1714</td>\n",
       "      <td>7356.0</td>\n",
       "      <td>1450.0</td>\n",
       "      <td>19.711800</td>\n",
       "      <td>2574.0</td>\n",
       "      <td>34.991844</td>\n",
       "      <td>SMC</td>\n",
       "    </tr>\n",
       "    <tr>\n",
       "      <th>SMC01-T_AAACGGGAGGGAAACA-SMC</th>\n",
       "      <td>SMC01</td>\n",
       "      <td>SMC01-T</td>\n",
       "      <td>Epithelial cells</td>\n",
       "      <td>CMS2</td>\n",
       "      <td>CRC</td>\n",
       "      <td>naive</td>\n",
       "      <td>0.121019</td>\n",
       "      <td>False</td>\n",
       "      <td>1229</td>\n",
       "      <td>3752.0</td>\n",
       "      <td>358.0</td>\n",
       "      <td>9.541578</td>\n",
       "      <td>1143.0</td>\n",
       "      <td>30.463753</td>\n",
       "      <td>SMC</td>\n",
       "    </tr>\n",
       "    <tr>\n",
       "      <th>SMC01-T_AAACGGGGTATAGGTA-SMC</th>\n",
       "      <td>SMC01</td>\n",
       "      <td>SMC01-T</td>\n",
       "      <td>Epithelial cells</td>\n",
       "      <td>CMS2</td>\n",
       "      <td>CRC</td>\n",
       "      <td>naive</td>\n",
       "      <td>0.121019</td>\n",
       "      <td>False</td>\n",
       "      <td>3914</td>\n",
       "      <td>23991.0</td>\n",
       "      <td>4154.0</td>\n",
       "      <td>17.314825</td>\n",
       "      <td>2913.0</td>\n",
       "      <td>12.142054</td>\n",
       "      <td>SMC</td>\n",
       "    </tr>\n",
       "    <tr>\n",
       "      <th>...</th>\n",
       "      <td>...</td>\n",
       "      <td>...</td>\n",
       "      <td>...</td>\n",
       "      <td>...</td>\n",
       "      <td>...</td>\n",
       "      <td>...</td>\n",
       "      <td>...</td>\n",
       "      <td>...</td>\n",
       "      <td>...</td>\n",
       "      <td>...</td>\n",
       "      <td>...</td>\n",
       "      <td>...</td>\n",
       "      <td>...</td>\n",
       "      <td>...</td>\n",
       "      <td>...</td>\n",
       "    </tr>\n",
       "    <tr>\n",
       "      <th>P17_Colon_T_TAAGCCATCTATCGCC-1-Wu</th>\n",
       "      <td>Wu2021_P17</td>\n",
       "      <td>P17_Colon_T</td>\n",
       "      <td>B</td>\n",
       "      <td>TCL1A+ Naive B cells</td>\n",
       "      <td>CRC</td>\n",
       "      <td>naive</td>\n",
       "      <td>0.214545</td>\n",
       "      <td>False</td>\n",
       "      <td>515</td>\n",
       "      <td>880.0</td>\n",
       "      <td>14.0</td>\n",
       "      <td>1.590909</td>\n",
       "      <td>250.0</td>\n",
       "      <td>28.409090</td>\n",
       "      <td>Wu</td>\n",
       "    </tr>\n",
       "    <tr>\n",
       "      <th>P17_Colon_T_TATACCTTCTAGTTCT-1-Wu</th>\n",
       "      <td>Wu2021_P17</td>\n",
       "      <td>P17_Colon_T</td>\n",
       "      <td>B</td>\n",
       "      <td>TCL1A+ Naive B cells</td>\n",
       "      <td>CRC</td>\n",
       "      <td>naive</td>\n",
       "      <td>0.171779</td>\n",
       "      <td>False</td>\n",
       "      <td>532</td>\n",
       "      <td>1056.0</td>\n",
       "      <td>28.0</td>\n",
       "      <td>2.651515</td>\n",
       "      <td>386.0</td>\n",
       "      <td>36.553032</td>\n",
       "      <td>Wu</td>\n",
       "    </tr>\n",
       "    <tr>\n",
       "      <th>P17_Colon_T_TTCTGTAGTGCATTAC-1-Wu</th>\n",
       "      <td>Wu2021_P17</td>\n",
       "      <td>P17_Colon_T</td>\n",
       "      <td>B</td>\n",
       "      <td>AIM2+ Memory B cells</td>\n",
       "      <td>CRC</td>\n",
       "      <td>naive</td>\n",
       "      <td>0.171779</td>\n",
       "      <td>False</td>\n",
       "      <td>757</td>\n",
       "      <td>1686.0</td>\n",
       "      <td>57.0</td>\n",
       "      <td>3.380783</td>\n",
       "      <td>520.0</td>\n",
       "      <td>30.842230</td>\n",
       "      <td>Wu</td>\n",
       "    </tr>\n",
       "    <tr>\n",
       "      <th>P19_Colon_T_TCTAACTGTTGCTGAT-1-Wu</th>\n",
       "      <td>Wu2021_P19</td>\n",
       "      <td>P19_Colon_T</td>\n",
       "      <td>B</td>\n",
       "      <td>AIM2+ Memory B cells</td>\n",
       "      <td>CRC</td>\n",
       "      <td>NAC</td>\n",
       "      <td>0.023923</td>\n",
       "      <td>False</td>\n",
       "      <td>642</td>\n",
       "      <td>1457.0</td>\n",
       "      <td>51.0</td>\n",
       "      <td>3.500343</td>\n",
       "      <td>569.0</td>\n",
       "      <td>39.052849</td>\n",
       "      <td>Wu</td>\n",
       "    </tr>\n",
       "    <tr>\n",
       "      <th>P20_Colon_T_ATCCCTGTCAAAGACA-1-Wu</th>\n",
       "      <td>Wu2021_P20</td>\n",
       "      <td>P20_Colon_T</td>\n",
       "      <td>B</td>\n",
       "      <td>AIM2+ Memory B cells</td>\n",
       "      <td>CRC</td>\n",
       "      <td>NAC</td>\n",
       "      <td>0.152941</td>\n",
       "      <td>False</td>\n",
       "      <td>389</td>\n",
       "      <td>718.0</td>\n",
       "      <td>43.0</td>\n",
       "      <td>5.988858</td>\n",
       "      <td>141.0</td>\n",
       "      <td>19.637882</td>\n",
       "      <td>Wu</td>\n",
       "    </tr>\n",
       "  </tbody>\n",
       "</table>\n",
       "<p>328063 rows × 15 columns</p>\n",
       "</div>"
      ],
      "text/plain": [
       "                                      Patient       Sample         Cell_type  \\\n",
       "SMC01-T_AAACCTGCATACGCCG-SMC            SMC01      SMC01-T  Epithelial cells   \n",
       "SMC01-T_AAACCTGGTCGCATAT-SMC            SMC01      SMC01-T  Epithelial cells   \n",
       "SMC01-T_AAACCTGTCCCTTGCA-SMC            SMC01      SMC01-T  Epithelial cells   \n",
       "SMC01-T_AAACGGGAGGGAAACA-SMC            SMC01      SMC01-T  Epithelial cells   \n",
       "SMC01-T_AAACGGGGTATAGGTA-SMC            SMC01      SMC01-T  Epithelial cells   \n",
       "...                                       ...          ...               ...   \n",
       "P17_Colon_T_TAAGCCATCTATCGCC-1-Wu  Wu2021_P17  P17_Colon_T                 B   \n",
       "P17_Colon_T_TATACCTTCTAGTTCT-1-Wu  Wu2021_P17  P17_Colon_T                 B   \n",
       "P17_Colon_T_TTCTGTAGTGCATTAC-1-Wu  Wu2021_P17  P17_Colon_T                 B   \n",
       "P19_Colon_T_TCTAACTGTTGCTGAT-1-Wu  Wu2021_P19  P19_Colon_T                 B   \n",
       "P20_Colon_T_ATCCCTGTCAAAGACA-1-Wu  Wu2021_P20  P20_Colon_T                 B   \n",
       "\n",
       "                                           Cell_subtype Tissue Therapy  \\\n",
       "SMC01-T_AAACCTGCATACGCCG-SMC                       CMS2    CRC   naive   \n",
       "SMC01-T_AAACCTGGTCGCATAT-SMC                       CMS2    CRC   naive   \n",
       "SMC01-T_AAACCTGTCCCTTGCA-SMC                       CMS2    CRC   naive   \n",
       "SMC01-T_AAACGGGAGGGAAACA-SMC                       CMS2    CRC   naive   \n",
       "SMC01-T_AAACGGGGTATAGGTA-SMC                       CMS2    CRC   naive   \n",
       "...                                                 ...    ...     ...   \n",
       "P17_Colon_T_TAAGCCATCTATCGCC-1-Wu  TCL1A+ Naive B cells    CRC   naive   \n",
       "P17_Colon_T_TATACCTTCTAGTTCT-1-Wu  TCL1A+ Naive B cells    CRC   naive   \n",
       "P17_Colon_T_TTCTGTAGTGCATTAC-1-Wu  AIM2+ Memory B cells    CRC   naive   \n",
       "P19_Colon_T_TCTAACTGTTGCTGAT-1-Wu  AIM2+ Memory B cells    CRC     NAC   \n",
       "P20_Colon_T_ATCCCTGTCAAAGACA-1-Wu  AIM2+ Memory B cells    CRC     NAC   \n",
       "\n",
       "                                   doublet_score  predicted_doublet  \\\n",
       "SMC01-T_AAACCTGCATACGCCG-SMC            0.089005              False   \n",
       "SMC01-T_AAACCTGGTCGCATAT-SMC            0.089005              False   \n",
       "SMC01-T_AAACCTGTCCCTTGCA-SMC            0.033954              False   \n",
       "SMC01-T_AAACGGGAGGGAAACA-SMC            0.121019              False   \n",
       "SMC01-T_AAACGGGGTATAGGTA-SMC            0.121019              False   \n",
       "...                                          ...                ...   \n",
       "P17_Colon_T_TAAGCCATCTATCGCC-1-Wu       0.214545              False   \n",
       "P17_Colon_T_TATACCTTCTAGTTCT-1-Wu       0.171779              False   \n",
       "P17_Colon_T_TTCTGTAGTGCATTAC-1-Wu       0.171779              False   \n",
       "P19_Colon_T_TCTAACTGTTGCTGAT-1-Wu       0.023923              False   \n",
       "P20_Colon_T_ATCCCTGTCAAAGACA-1-Wu       0.152941              False   \n",
       "\n",
       "                                   n_genes_by_counts  total_counts  \\\n",
       "SMC01-T_AAACCTGCATACGCCG-SMC                    4866       38052.0   \n",
       "SMC01-T_AAACCTGGTCGCATAT-SMC                    5268       33750.0   \n",
       "SMC01-T_AAACCTGTCCCTTGCA-SMC                    1714        7356.0   \n",
       "SMC01-T_AAACGGGAGGGAAACA-SMC                    1229        3752.0   \n",
       "SMC01-T_AAACGGGGTATAGGTA-SMC                    3914       23991.0   \n",
       "...                                              ...           ...   \n",
       "P17_Colon_T_TAAGCCATCTATCGCC-1-Wu                515         880.0   \n",
       "P17_Colon_T_TATACCTTCTAGTTCT-1-Wu                532        1056.0   \n",
       "P17_Colon_T_TTCTGTAGTGCATTAC-1-Wu                757        1686.0   \n",
       "P19_Colon_T_TCTAACTGTTGCTGAT-1-Wu                642        1457.0   \n",
       "P20_Colon_T_ATCCCTGTCAAAGACA-1-Wu                389         718.0   \n",
       "\n",
       "                                   total_counts_mt  pct_counts_mt  \\\n",
       "SMC01-T_AAACCTGCATACGCCG-SMC                4917.0      12.921791   \n",
       "SMC01-T_AAACCTGGTCGCATAT-SMC                2957.0       8.761481   \n",
       "SMC01-T_AAACCTGTCCCTTGCA-SMC                1450.0      19.711800   \n",
       "SMC01-T_AAACGGGAGGGAAACA-SMC                 358.0       9.541578   \n",
       "SMC01-T_AAACGGGGTATAGGTA-SMC                4154.0      17.314825   \n",
       "...                                            ...            ...   \n",
       "P17_Colon_T_TAAGCCATCTATCGCC-1-Wu             14.0       1.590909   \n",
       "P17_Colon_T_TATACCTTCTAGTTCT-1-Wu             28.0       2.651515   \n",
       "P17_Colon_T_TTCTGTAGTGCATTAC-1-Wu             57.0       3.380783   \n",
       "P19_Colon_T_TCTAACTGTTGCTGAT-1-Wu             51.0       3.500343   \n",
       "P20_Colon_T_ATCCCTGTCAAAGACA-1-Wu             43.0       5.988858   \n",
       "\n",
       "                                   total_counts_ribo  pct_counts_ribo  \\\n",
       "SMC01-T_AAACCTGCATACGCCG-SMC                  8800.0        23.126249   \n",
       "SMC01-T_AAACCTGGTCGCATAT-SMC                  7815.0        23.155556   \n",
       "SMC01-T_AAACCTGTCCCTTGCA-SMC                  2574.0        34.991844   \n",
       "SMC01-T_AAACGGGAGGGAAACA-SMC                  1143.0        30.463753   \n",
       "SMC01-T_AAACGGGGTATAGGTA-SMC                  2913.0        12.142054   \n",
       "...                                              ...              ...   \n",
       "P17_Colon_T_TAAGCCATCTATCGCC-1-Wu              250.0        28.409090   \n",
       "P17_Colon_T_TATACCTTCTAGTTCT-1-Wu              386.0        36.553032   \n",
       "P17_Colon_T_TTCTGTAGTGCATTAC-1-Wu              520.0        30.842230   \n",
       "P19_Colon_T_TCTAACTGTTGCTGAT-1-Wu              569.0        39.052849   \n",
       "P20_Colon_T_ATCCCTGTCAAAGACA-1-Wu              141.0        19.637882   \n",
       "\n",
       "                                  cell_source  \n",
       "SMC01-T_AAACCTGCATACGCCG-SMC              SMC  \n",
       "SMC01-T_AAACCTGGTCGCATAT-SMC              SMC  \n",
       "SMC01-T_AAACCTGTCCCTTGCA-SMC              SMC  \n",
       "SMC01-T_AAACGGGAGGGAAACA-SMC              SMC  \n",
       "SMC01-T_AAACGGGGTATAGGTA-SMC              SMC  \n",
       "...                                       ...  \n",
       "P17_Colon_T_TAAGCCATCTATCGCC-1-Wu          Wu  \n",
       "P17_Colon_T_TATACCTTCTAGTTCT-1-Wu          Wu  \n",
       "P17_Colon_T_TTCTGTAGTGCATTAC-1-Wu          Wu  \n",
       "P19_Colon_T_TCTAACTGTTGCTGAT-1-Wu          Wu  \n",
       "P20_Colon_T_ATCCCTGTCAAAGACA-1-Wu          Wu  \n",
       "\n",
       "[328063 rows x 15 columns]"
      ]
     },
     "execution_count": 9,
     "metadata": {},
     "output_type": "execute_result"
    }
   ],
   "source": [
    "adata_raw.obs"
   ]
  },
  {
   "cell_type": "markdown",
   "metadata": {},
   "source": [
    "### Select only barcodes that have annotations for raw data "
   ]
  },
  {
   "cell_type": "code",
   "execution_count": 10,
   "metadata": {},
   "outputs": [],
   "source": [
    "adata = adata_raw[adata_raw.obs.index.isin(adata_annot.obs.index)].copy()"
   ]
  },
  {
   "cell_type": "code",
   "execution_count": 11,
   "metadata": {},
   "outputs": [
    {
     "data": {
      "text/plain": [
       "(246779, 39609)"
      ]
     },
     "execution_count": 11,
     "metadata": {},
     "output_type": "execute_result"
    }
   ],
   "source": [
    "adata.shape"
   ]
  },
  {
   "cell_type": "markdown",
   "metadata": {},
   "source": [
    "### Append annotations TME epi general and detailed"
   ]
  },
  {
   "cell_type": "code",
   "execution_count": 12,
   "metadata": {},
   "outputs": [],
   "source": [
    "adata.obs = adata.obs.merge(right=adata_annot.obs[[\"Annotation_scVI\", \"Annotation_scVI_detailed\"]],\n",
    "                            how=\"left\",\n",
    "                            left_index=True,\n",
    "                            right_index=True\n",
    "                           )"
   ]
  },
  {
   "cell_type": "code",
   "execution_count": 13,
   "metadata": {},
   "outputs": [
    {
     "data": {
      "text/plain": [
       "T-NK-ILC       94119\n",
       "Epithelial     60526\n",
       "Myeloid        36905\n",
       "Plasma         24526\n",
       "B              19701\n",
       "Stromal         5367\n",
       "Endothelial     3047\n",
       "Mast            2588\n",
       "Name: Annotation_scVI, dtype: int64"
      ]
     },
     "execution_count": 13,
     "metadata": {},
     "output_type": "execute_result"
    }
   ],
   "source": [
    "adata.obs.Annotation_scVI.value_counts()"
   ]
  },
  {
   "cell_type": "code",
   "execution_count": 14,
   "metadata": {},
   "outputs": [
    {
     "data": {
      "text/plain": [
       "0"
      ]
     },
     "execution_count": 14,
     "metadata": {},
     "output_type": "execute_result"
    }
   ],
   "source": [
    "adata.obs.Annotation_scVI.isna().sum()"
   ]
  },
  {
   "cell_type": "code",
   "execution_count": 15,
   "metadata": {},
   "outputs": [
    {
     "data": {
      "text/plain": [
       "Plasma               24526\n",
       "B                    19701\n",
       "CD8 Tex              13812\n",
       "CD4 Tn               12849\n",
       "CD8 Tem              10032\n",
       "Treg                  9746\n",
       "pEMT                  9603\n",
       "Stem                  9255\n",
       "CD4 Th                8345\n",
       "Treg HSP              7767\n",
       "SPP1 Mac              7017\n",
       "Stem (NOTUM high)     6635\n",
       "C1QC Mac              6449\n",
       "CD4 Th17              6170\n",
       "TA1                   5762\n",
       "Intermediate          5545\n",
       "T cycling             5200\n",
       "gdT                   4972\n",
       "Goblet                4938\n",
       "Hypoxia               4895\n",
       "FCN1 Mono             4685\n",
       "TA2                   4186\n",
       "CD4 Th HSP            3607\n",
       "CD4 Tfh               3469\n",
       "Colonocyte            3069\n",
       "NK2                   2840\n",
       "FCGR3A Mono           2697\n",
       "cDC2                  2664\n",
       "Mast                  2588\n",
       "CD8 Tem HSP           2306\n",
       "Myeloid cycling       2166\n",
       "PLTP LYVE1 Mac        2150\n",
       "HLA high              2026\n",
       "NLRP3 Mac             1887\n",
       "HSP Mono              1755\n",
       "ipEMT                 1689\n",
       "IL1B Mac              1457\n",
       "NKT                   1449\n",
       "pDC                   1423\n",
       "UPR                   1423\n",
       "Stalk-like endo       1382\n",
       "Tip-like endo         1325\n",
       "migDC                 1159\n",
       "NK1                   1087\n",
       "Pericyte              1073\n",
       "Neutrophil            1053\n",
       "Enteroendocrine       1024\n",
       "Myofibroblast          872\n",
       "C3 iCAF                749\n",
       "CXCL14 BMP CAF         737\n",
       "GREM1 HSP CAF          662\n",
       "MMP CAF                632\n",
       "SMC                    496\n",
       "Tuft                   476\n",
       "ILC3                   468\n",
       "cDC1                   343\n",
       "Endo cycling           213\n",
       "Lymphatic endo         127\n",
       "Enteric glial           86\n",
       "Stromal cycling         60\n",
       "Name: Annotation_scVI_detailed, dtype: int64"
      ]
     },
     "execution_count": 15,
     "metadata": {},
     "output_type": "execute_result"
    }
   ],
   "source": [
    "adata.obs.Annotation_scVI_detailed.value_counts()"
   ]
  },
  {
   "cell_type": "code",
   "execution_count": 16,
   "metadata": {},
   "outputs": [
    {
     "data": {
      "text/plain": [
       "0"
      ]
     },
     "execution_count": 16,
     "metadata": {},
     "output_type": "execute_result"
    }
   ],
   "source": [
    "adata.obs.Annotation_scVI_detailed.isna().sum()"
   ]
  },
  {
   "cell_type": "markdown",
   "metadata": {},
   "source": [
    "### Save raw data "
   ]
  },
  {
   "cell_type": "code",
   "execution_count": 17,
   "metadata": {},
   "outputs": [
    {
     "data": {
      "text/plain": [
       "PosixPath('/data/BCI-CRC/nasrine/data/CRC/Primary_CRC_dataset/final_object/20mt')"
      ]
     },
     "execution_count": 17,
     "metadata": {},
     "output_type": "execute_result"
    }
   ],
   "source": [
    "DIR2SAVE"
   ]
  },
  {
   "cell_type": "code",
   "execution_count": 18,
   "metadata": {},
   "outputs": [],
   "source": [
    "adata.write(\n",
    "    DIR2SAVE.joinpath(\"SMC_KUL_Pelka_Che_Wu_pCRC_annotations_raw.h5ad\")\n",
    ")"
   ]
  },
  {
   "cell_type": "code",
   "execution_count": 19,
   "metadata": {},
   "outputs": [
    {
     "data": {
      "text/plain": [
       "(246779, 39609)"
      ]
     },
     "execution_count": 19,
     "metadata": {},
     "output_type": "execute_result"
    }
   ],
   "source": [
    "adata.shape"
   ]
  },
  {
   "cell_type": "code",
   "execution_count": null,
   "metadata": {},
   "outputs": [],
   "source": []
  }
 ],
 "metadata": {
  "kernelspec": {
   "display_name": "cell2loc19",
   "language": "python",
   "name": "cell2loc19"
  },
  "language_info": {
   "codemirror_mode": {
    "name": "ipython",
    "version": 3
   },
   "file_extension": ".py",
   "mimetype": "text/x-python",
   "name": "python",
   "nbconvert_exporter": "python",
   "pygments_lexer": "ipython3",
   "version": "3.9.13"
  }
 },
 "nbformat": 4,
 "nbformat_minor": 4
}
