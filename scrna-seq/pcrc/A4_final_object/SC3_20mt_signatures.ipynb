{
 "cells": [
  {
   "cell_type": "code",
   "execution_count": 1,
   "metadata": {},
   "outputs": [
    {
     "name": "stderr",
     "output_type": "stream",
     "text": [
      "Global seed set to 0\n"
     ]
    }
   ],
   "source": [
    "import scanpy as sc\n",
    "import pandas as pd\n",
    "from pathlib import Path\n",
    "import anndata as ad\n",
    "import numpy as np\n",
    "import os\n",
    "import scvi\n",
    "\n",
    "%config InlineBackend.figure_format = 'retina'\n",
    "%matplotlib inline\n",
    "\n",
    "import matplotlib as mpl\n",
    "import matplotlib.pyplot as plt\n",
    "import seaborn as sns\n",
    "\n",
    "DPI = 300\n",
    "FONTSIZE = 20  # 42\n",
    "\n",
    "sc.settings.set_figure_params(\n",
    "    scanpy=True, dpi=100, transparent=True, vector_friendly=True, dpi_save=DPI\n",
    ")\n",
    "from matplotlib import rcParams\n",
    "\n",
    "rcParams[\"pdf.fonttype\"] = 42"
   ]
  },
  {
   "cell_type": "code",
   "execution_count": 2,
   "metadata": {},
   "outputs": [],
   "source": [
    "CELLTYPE = \"Stromal\""
   ]
  },
  {
   "cell_type": "code",
   "execution_count": 3,
   "metadata": {},
   "outputs": [],
   "source": [
    "DIR2SAVE = Path(f\"/data/BCI-CRC/nasrine/data/CRC/Primary_CRC_dataset/subpopulations/{CELLTYPE}/final/\")\n",
    "DIR2SAVE.mkdir(parents=True, exist_ok=True)\n",
    "\n",
    "FIG2SAVE = DIR2SAVE.joinpath(\"figures/after_20mt_sam_annot_merge/\")\n",
    "FIG2SAVE.mkdir(parents=True, exist_ok=True)\n",
    "# set the global variable: sc.settings.figdir to save all plots\n",
    "sc.settings.figdir = FIG2SAVE"
   ]
  },
  {
   "cell_type": "raw",
   "metadata": {},
   "source": [
    "adata = sc.read_h5ad(\n",
    "    DIR2SAVE.joinpath(\"SMC_KUL_Pelka_Che_Wu_CRC_integrated_scvi_hvg_Myeloid_final.h5ad\")\n",
    ")\n",
    "\n",
    "adata_all = sc.read_h5ad(\"/data/BCI-CRC/nasrine/data/CRC/Primary_CRC_dataset/final_object/20mt/SMC_KUL_Pelka_Che_Wu_pCRC_annotations.h5ad\")\n",
    "\n",
    "barcodes2keep = adata_all[adata_all.obs.Annotation_scVI==\"Myeloid\"].obs.index\n",
    "print(\"Barcodes to keep \", len(barcodes2keep))\n",
    "\n",
    "\n",
    "# select only barcodees that are in final object (20mt sam + my TME)\n",
    "adata = adata[adata.obs.index.isin(barcodes2keep)].copy()\n",
    "adata.shape"
   ]
  },
  {
   "cell_type": "code",
   "execution_count": 4,
   "metadata": {},
   "outputs": [
    {
     "data": {
      "text/plain": [
       "(246779, 39609)"
      ]
     },
     "execution_count": 4,
     "metadata": {},
     "output_type": "execute_result"
    }
   ],
   "source": [
    "adata = sc.read_h5ad(\n",
    "    \"/data/BCI-CRC/nasrine/data/CRC/Primary_CRC_dataset/final_object/20mt/SMC_KUL_Pelka_Che_Wu_pCRC_annotations_raw.h5ad\")\n",
    "adata.shape"
   ]
  },
  {
   "cell_type": "code",
   "execution_count": 5,
   "metadata": {},
   "outputs": [
    {
     "data": {
      "text/plain": [
       "(5367, 39609)"
      ]
     },
     "execution_count": 5,
     "metadata": {},
     "output_type": "execute_result"
    }
   ],
   "source": [
    "if CELLTYPE=='TNKILC':\n",
    "    adata = adata[adata.obs.Annotation_scVI=='T-NK-ILC'].copy()\n",
    "else:\n",
    "    adata = adata[adata.obs.Annotation_scVI==CELLTYPE].copy()\n",
    "adata.shape"
   ]
  },
  {
   "cell_type": "code",
   "execution_count": 6,
   "metadata": {},
   "outputs": [
    {
     "data": {
      "text/plain": [
       "Stromal    5367\n",
       "Name: Annotation_scVI, dtype: int64"
      ]
     },
     "execution_count": 6,
     "metadata": {},
     "output_type": "execute_result"
    }
   ],
   "source": [
    "adata.obs.Annotation_scVI.value_counts()"
   ]
  },
  {
   "cell_type": "markdown",
   "metadata": {},
   "source": [
    "### Normalise and log transform to get gene exression and compute de "
   ]
  },
  {
   "cell_type": "code",
   "execution_count": 7,
   "metadata": {},
   "outputs": [],
   "source": [
    "# keep raw\n",
    "adata.layers[\"raw\"] = adata.X.copy()  # preserve counts\n",
    "\n",
    "# normalize + log1p\n",
    "sc.pp.normalize_total(adata, target_sum=1e4, inplace=True)\n",
    "adata.layers[\"normalised\"] = adata.X.copy()\n",
    "sc.pp.log1p(adata)\n",
    "\n",
    "adata.layers[\"log1p\"] = adata.X.copy()\n",
    "\n",
    "adata.raw = adata  # keep normalised log1p"
   ]
  },
  {
   "cell_type": "code",
   "execution_count": 8,
   "metadata": {},
   "outputs": [],
   "source": [
    "# issue here https://github.com/theislab/single-cell-tutorial/issues/97\n",
    "# This seems to be a scanpy bug as you can see here and here. The latter issue suggests to just add the line:\n",
    "# adata.uns['log1p'][\"base\"] = None after reading again, or downgrading to AnnData<0.8.\n",
    "# Either way, this should be fixed soon by the maintenance team.\n",
    "adata.uns[\"log1p\"][\"base\"] = None"
   ]
  },
  {
   "cell_type": "code",
   "execution_count": 9,
   "metadata": {},
   "outputs": [],
   "source": [
    "sc.tl.rank_genes_groups(\n",
    "    adata,\n",
    "    groupby=\"Annotation_scVI_detailed\",\n",
    "    reference=\"rest\",\n",
    "    method=\"wilcoxon\",\n",
    "    use_raw=True,\n",
    "    layer=None,\n",
    "    pts=True,\n",
    "    corr_method=\"benjamini-hochberg\",\n",
    "    key_added=\"rank_genes_wilcoxon\",\n",
    ")"
   ]
  },
  {
   "cell_type": "code",
   "execution_count": 10,
   "metadata": {},
   "outputs": [],
   "source": [
    "pval_thresh = 0.05\n",
    "log2fc_thresh = 1\n",
    "cluster_de_genes = dict()\n",
    "for cluster in sorted(set(adata.obs[\"Annotation_scVI_detailed\"])):\n",
    "    cluster_de_genes[cluster] = sc.get.rank_genes_groups_df(\n",
    "        adata,\n",
    "        group=cluster,\n",
    "        key=\"rank_genes_wilcoxon\",\n",
    "        pval_cutoff=pval_thresh,\n",
    "        log2fc_min=log2fc_thresh,\n",
    "        log2fc_max=None,\n",
    "    ).sort_values(\"logfoldchanges\", ascending=False)[:100] # taking top 100\n",
    "\n",
    "# write to excel file DE genes per cluster\n",
    "# Create a Pandas Excel writer using XlsxWriter as the engine.\n",
    "path2save = DIR2SAVE.joinpath(\n",
    "    \"{}_signatures_pval{}_log2fc{}.xlsx\".format(CELLTYPE, pval_thresh, log2fc_thresh)\n",
    ")\n",
    "\n",
    "with pd.ExcelWriter(path2save) as writer:\n",
    "    for cluster in list(cluster_de_genes.keys()):\n",
    "\n",
    "        # get celltype of cluster\n",
    "        # celltype = np.unique(adata[adata.obs['leiden']==cluster,:].obs['cell identity'])[0]\n",
    "\n",
    "        cluster_de_genes[cluster].to_excel(\n",
    "            writer, sheet_name=\"cluster{}\".format(cluster)\n",
    "        )"
   ]
  },
  {
   "cell_type": "code",
   "execution_count": 11,
   "metadata": {},
   "outputs": [
    {
     "data": {
      "text/plain": [
       "PosixPath('/data/BCI-CRC/nasrine/data/CRC/Primary_CRC_dataset/subpopulations/Stromal/final')"
      ]
     },
     "execution_count": 11,
     "metadata": {},
     "output_type": "execute_result"
    }
   ],
   "source": [
    "DIR2SAVE"
   ]
  },
  {
   "cell_type": "code",
   "execution_count": 12,
   "metadata": {},
   "outputs": [
    {
     "data": {
      "text/plain": [
       "PosixPath('/data/BCI-CRC/nasrine/data/CRC/Primary_CRC_dataset/subpopulations/Stromal/final/Stromal_signatures_pval0.05_log2fc1.xlsx')"
      ]
     },
     "execution_count": 12,
     "metadata": {},
     "output_type": "execute_result"
    }
   ],
   "source": [
    "path2save"
   ]
  },
  {
   "cell_type": "code",
   "execution_count": null,
   "metadata": {},
   "outputs": [],
   "source": []
  }
 ],
 "metadata": {
  "kernelspec": {
   "display_name": "cell2loc19",
   "language": "python",
   "name": "cell2loc19"
  },
  "language_info": {
   "codemirror_mode": {
    "name": "ipython",
    "version": 3
   },
   "file_extension": ".py",
   "mimetype": "text/x-python",
   "name": "python",
   "nbconvert_exporter": "python",
   "pygments_lexer": "ipython3",
   "version": "3.9.13"
  }
 },
 "nbformat": 4,
 "nbformat_minor": 4
}
