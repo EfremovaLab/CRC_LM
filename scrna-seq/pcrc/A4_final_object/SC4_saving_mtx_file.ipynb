{
 "cells": [
  {
   "cell_type": "code",
   "execution_count": 1,
   "metadata": {},
   "outputs": [],
   "source": [
    "import scanpy as sc\n",
    "import pandas as pd\n",
    "from pathlib import Path\n",
    "import anndata as ad\n",
    "import numpy as np\n",
    "import os\n",
    "\n",
    "%config InlineBackend.figure_format = 'retina'\n",
    "%matplotlib inline\n",
    "\n",
    "import matplotlib as mpl\n",
    "import matplotlib.pyplot as plt\n",
    "import seaborn as sns\n",
    "\n",
    "DPI = 300\n",
    "FONTSIZE = 20  # 42\n",
    "\n",
    "sc.settings.set_figure_params(\n",
    "    scanpy=True, dpi=100, transparent=True, vector_friendly=True, dpi_save=DPI\n",
    ")\n",
    "from matplotlib import rcParams\n",
    "\n",
    "rcParams[\"pdf.fonttype\"] = 42"
   ]
  },
  {
   "cell_type": "code",
   "execution_count": 2,
   "metadata": {},
   "outputs": [],
   "source": [
    "DIR2SAVE = Path(\"/data/BCI-CRC/nasrine/data/CRC/Primary_CRC_dataset/final_object/20mt\")"
   ]
  },
  {
   "cell_type": "code",
   "execution_count": 3,
   "metadata": {},
   "outputs": [
    {
     "data": {
      "text/plain": [
       "(246779, 39609)"
      ]
     },
     "execution_count": 3,
     "metadata": {},
     "output_type": "execute_result"
    }
   ],
   "source": [
    "adata = sc.read_h5ad(DIR2SAVE.joinpath(\"SMC_KUL_Pelka_Che_Wu_pCRC_annotations_raw.h5ad\")\n",
    ")\n",
    "adata.shape"
   ]
  },
  {
   "cell_type": "code",
   "execution_count": 5,
   "metadata": {},
   "outputs": [
    {
     "data": {
      "text/plain": [
       "Index(['Patient', 'Sample', 'Cell_type', 'Cell_subtype', 'Tissue', 'Therapy',\n",
       "       'doublet_score', 'predicted_doublet', 'n_genes_by_counts',\n",
       "       'total_counts', 'total_counts_mt', 'pct_counts_mt', 'total_counts_ribo',\n",
       "       'pct_counts_ribo', 'cell_source', 'Annotation_scVI',\n",
       "       'Annotation_scVI_detailed'],\n",
       "      dtype='object')"
      ]
     },
     "execution_count": 5,
     "metadata": {},
     "output_type": "execute_result"
    }
   ],
   "source": [
    "adata.obs.columns"
   ]
  },
  {
   "cell_type": "code",
   "execution_count": 9,
   "metadata": {},
   "outputs": [],
   "source": [
    "# save metadata\n",
    "adata.obs.loc[:, ['Patient', 'Sample', 'Tissue', 'Therapy', 'doublet_score', 'predicted_doublet', 'n_genes_by_counts',\n",
    "              'total_counts', 'total_counts_mt', 'pct_counts_mt', 'total_counts_ribo', 'pct_counts_ribo',\n",
    "              'cell_source', 'Annotation_scVI',\n",
    "              'Annotation_scVI_detailed']].to_csv(DIR2SAVE.joinpath(\"SMC_KUL_Pelka_Che_Wu_pCRC_metadata.csv\"),\n",
    "                                                     header=True, index=True, sep=',',\n",
    "                                                    )"
   ]
  },
  {
   "cell_type": "code",
   "execution_count": 12,
   "metadata": {},
   "outputs": [
    {
     "data": {
      "text/plain": [
       "Index(['n_cells_by_counts-Che', 'total_counts-Che', 'mean_counts-Che',\n",
       "       'pct_dropout_by_counts-Che', 'n_cells_by_counts-KUL',\n",
       "       'total_counts-KUL', 'mean_counts-KUL', 'pct_dropout_by_counts-KUL',\n",
       "       'n_cells_by_counts-Pelka', 'total_counts-Pelka', 'mean_counts-Pelka',\n",
       "       'pct_dropout_by_counts-Pelka', 'n_cells_by_counts-SMC',\n",
       "       'total_counts-SMC', 'mean_counts-SMC', 'pct_dropout_by_counts-SMC',\n",
       "       'n_cells_by_counts-Wu', 'total_counts-Wu', 'mean_counts-Wu',\n",
       "       'pct_dropout_by_counts-Wu', 'n_cells'],\n",
       "      dtype='object')"
      ]
     },
     "execution_count": 12,
     "metadata": {},
     "output_type": "execute_result"
    }
   ],
   "source": [
    "adata.var.columns"
   ]
  },
  {
   "cell_type": "code",
   "execution_count": 14,
   "metadata": {},
   "outputs": [],
   "source": [
    "from scipy.io import mmread,mmwrite\n",
    "mmwrite(DIR2SAVE.joinpath(f\"SMC_KUL_Pelka_Che_Wu_pCRC_counts.mtx\"),adata.X)\n",
    "\n",
    "# rename index of .var and .obs to something more sensible like barrcode and gene_name\n",
    "adata.var.index.set_names(names=\"gene_name\", inplace=True)\n",
    "adata.obs.index.set_names(names=\"barcode\", inplace=True)\n",
    "\n",
    "adata.var.drop(columns=['n_cells_by_counts-Che', 'total_counts-Che', 'mean_counts-Che',\n",
    "       'pct_dropout_by_counts-Che', 'n_cells_by_counts-KUL',\n",
    "       'total_counts-KUL', 'mean_counts-KUL', 'pct_dropout_by_counts-KUL',\n",
    "       'n_cells_by_counts-Pelka', 'total_counts-Pelka', 'mean_counts-Pelka',\n",
    "       'pct_dropout_by_counts-Pelka', 'n_cells_by_counts-SMC',\n",
    "       'total_counts-SMC', 'mean_counts-SMC', 'pct_dropout_by_counts-SMC',\n",
    "       'n_cells_by_counts-Wu', 'total_counts-Wu', 'mean_counts-Wu',\n",
    "       'pct_dropout_by_counts-Wu', 'n_cells'], inplace=True)\n",
    "\n",
    "# save obs index\n",
    "adata.obs.to_csv(DIR2SAVE.joinpath(f\"SMC_KUL_Pelka_Che_Wu_pCRC_obs.csv\"), header=True, index=True)\n",
    "\n",
    "# save var names\n",
    "adata.var.to_csv(DIR2SAVE.joinpath(f\"SMC_KUL_Pelka_Che_Wu_pCRC_var.csv\"), header=True, index=True)"
   ]
  },
  {
   "cell_type": "code",
   "execution_count": 13,
   "metadata": {},
   "outputs": [
    {
     "data": {
      "text/plain": [
       "PosixPath('/data/BCI-CRC/nasrine/data/CRC/Primary_CRC_dataset/final_object/20mt')"
      ]
     },
     "execution_count": 13,
     "metadata": {},
     "output_type": "execute_result"
    }
   ],
   "source": [
    "DIR2SAVE"
   ]
  },
  {
   "cell_type": "code",
   "execution_count": null,
   "metadata": {},
   "outputs": [],
   "source": []
  }
 ],
 "metadata": {
  "kernelspec": {
   "display_name": "cell2loc19",
   "language": "python",
   "name": "cell2loc19"
  },
  "language_info": {
   "codemirror_mode": {
    "name": "ipython",
    "version": 3
   },
   "file_extension": ".py",
   "mimetype": "text/x-python",
   "name": "python",
   "nbconvert_exporter": "python",
   "pygments_lexer": "ipython3",
   "version": "3.9.13"
  }
 },
 "nbformat": 4,
 "nbformat_minor": 4
}
