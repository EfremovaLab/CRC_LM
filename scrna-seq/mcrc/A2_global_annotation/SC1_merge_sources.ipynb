{
 "cells": [
  {
   "cell_type": "code",
   "execution_count": 1,
   "metadata": {},
   "outputs": [],
   "source": [
    "import scanpy as sc\n",
    "import pandas as pd\n",
    "from pathlib import Path\n",
    "import anndata as ad\n",
    "import numpy as np\n",
    "\n",
    "%config InlineBackend.figure_format = 'retina'\n",
    "%matplotlib inline\n",
    "\n",
    "import matplotlib as mpl\n",
    "import matplotlib.pyplot as plt\n",
    "import seaborn as sns\n",
    "\n",
    "DPI = 300\n",
    "FONTSIZE = 20  # 42\n",
    "\n",
    "sc.settings.set_figure_params(\n",
    "    scanpy=True, dpi=100, transparent=True, vector_friendly=True, dpi_save=DPI\n",
    ")\n",
    "from matplotlib import rcParams\n",
    "\n",
    "rcParams[\"pdf.fonttype\"] = 42"
   ]
  },
  {
   "cell_type": "code",
   "execution_count": 2,
   "metadata": {},
   "outputs": [],
   "source": [
    "DIR2SAVE = Path(\n",
    "    \"/data/BCI-CRC/nasrine/data/CRC/Metastatic_CRC_LM_dataset/data_integration/\"\n",
    ")\n",
    "DIR2SAVE.mkdir(parents=True, exist_ok=True)"
   ]
  },
  {
   "cell_type": "code",
   "execution_count": 3,
   "metadata": {},
   "outputs": [],
   "source": [
    "FIG2SAVE = DIR2SAVE.joinpath(\"figures/\")\n",
    "FIG2SAVE.mkdir(parents=True, exist_ok=True)\n",
    "# set the global variable: sc.settings.figdir to save all plots\n",
    "sc.settings.figdir = FIG2SAVE"
   ]
  },
  {
   "cell_type": "markdown",
   "metadata": {},
   "source": [
    "### Load separate data sources (after scrublet and QC, raw counts, LM only)"
   ]
  },
  {
   "cell_type": "code",
   "execution_count": 4,
   "metadata": {},
   "outputs": [
    {
     "name": "stdout",
     "output_type": "stream",
     "text": [
      "Loading datasets: \n",
      "Multiome:  (5345, 36485)\n",
      "{'LM'}\n",
      "Che2021:  (48954, 33578)\n",
      "{'LM'}\n",
      "Wu2022:  (53129, 20497)\n",
      "{'LM'}\n"
     ]
    }
   ],
   "source": [
    "print(\"Loading datasets: \")\n",
    "# multiome\n",
    "adata_multiome = sc.read_h5ad(\n",
    "    \"/data/BCI-CRC/nasrine/data/CRC/Metastatic_CRC_LM_dataset/scrublet_qc/CRC_LM_decon_raw_scrublet_qc.h5ad\"\n",
    ")\n",
    "print(\"Multiome: \", adata_multiome.shape)\n",
    "print(set(adata_multiome.obs.Tissue))\n",
    "\n",
    "# Che2021\n",
    "adata_che2021 = sc.read_h5ad(\n",
    "    \"/data/BCI-CRC/nasrine/data/CRC/Metastatic_CRC_LM_dataset/scrublet_qc/Che2021_CRC_LM_raw_scrublet_qc.h5ad\"\n",
    ")\n",
    "print(\"Che2021: \", adata_che2021.shape)\n",
    "print(set(adata_che2021.obs.Tissue))\n",
    "\n",
    "# Wu2022\n",
    "adata_wu2022 = sc.read_h5ad(\n",
    "    \"/data/BCI-CRC/nasrine/data/CRC/Metastatic_CRC_LM_dataset/scrublet_qc/Wu2022_CRC_LM_raw_scrublet_qc.h5ad\"\n",
    ")\n",
    "print(\"Wu2022: \", adata_wu2022.shape)\n",
    "print(set(adata_wu2022.obs.Tissue))"
   ]
  },
  {
   "cell_type": "markdown",
   "metadata": {},
   "source": [
    "### Look at what is in .obs to select common columns"
   ]
  },
  {
   "cell_type": "code",
   "execution_count": 5,
   "metadata": {},
   "outputs": [
    {
     "data": {
      "text/plain": [
       "AnnData object with n_obs × n_vars = 5345 × 36485\n",
       "    obs: 'orig.ident', 'total_counts', 'n_genes_by_counts', 'Sample', 'Patient', 'Therapy', 'Tissue', 'TSSEnrichment', 'nFrags', 'pct_counts_mt', 'pct_counts_ribo', 'RNA_snn_res.0.5', 'seurat_clusters', 'integrated_snn_res.0.5', 'Clusters_all_cells_preDecon', 'Cell_type_preDecon', 'ident', 'doublet_score', 'decontX_clusters', 'integratedRNADecon_snn_res.0.5', 'X_scvi_batch', 'X_scvi_labels', 'leiden', 'Cell_type', 'nCount_Peaks', 'nFeature_Peaks', 'nCount_ATAC', 'nFeature_ATAC', 'nCount_integratedRNADecon', 'nFeature_integratedRNADecon', 'RNA.weight', 'ATAC.weight', 'wsnn_res.0.5', 'Cell_subtype'\n",
       "    obsm: 'X_ATAC', 'X_UMAP', 'X_WNN'"
      ]
     },
     "execution_count": 5,
     "metadata": {},
     "output_type": "execute_result"
    }
   ],
   "source": [
    "adata_multiome"
   ]
  },
  {
   "cell_type": "code",
   "execution_count": 6,
   "metadata": {},
   "outputs": [
    {
     "data": {
      "text/plain": [
       "AnnData object with n_obs × n_vars = 48954 × 33578\n",
       "    obs: 'Patient', 'Tissue', 'Therapy', 'Cell_type', 'Cell_subtype', 'Sample', 'doublet_score', 'n_genes_by_counts', 'total_counts', 'total_counts_mt', 'pct_counts_mt', 'total_counts_ribo', 'pct_counts_ribo', 'n_genes'\n",
       "    var: 'gene_ids', 'feature_types', 'mt', 'ribo', 'n_cells_by_counts', 'mean_counts', 'pct_dropout_by_counts', 'total_counts'"
      ]
     },
     "execution_count": 6,
     "metadata": {},
     "output_type": "execute_result"
    }
   ],
   "source": [
    "adata_che2021"
   ]
  },
  {
   "cell_type": "code",
   "execution_count": 7,
   "metadata": {},
   "outputs": [
    {
     "data": {
      "text/plain": [
       "AnnData object with n_obs × n_vars = 53129 × 20497\n",
       "    obs: 'Sample', 'nCount_RNA', 'nFeature_RNA', 'patient', 'tissue', 'patient_tissue', 'tissueunique', 'RNA_snn_res.0.5', 'seurat_clusters', 'RNA_snn_res.0.1', 'doublet', 'RNA_snn_res.1', 'Cell_type', 'Cell_subtype', 'chemo', 'Therapy', 'Patient', 'Tissue', 'doublet_score', 'n_genes_by_counts', 'total_counts', 'total_counts_mt', 'pct_counts_mt', 'total_counts_ribo', 'pct_counts_ribo', 'n_genes'\n",
       "    var: 'mt', 'ribo', 'n_cells_by_counts', 'mean_counts', 'pct_dropout_by_counts', 'total_counts'"
      ]
     },
     "execution_count": 7,
     "metadata": {},
     "output_type": "execute_result"
    }
   ],
   "source": [
    "adata_wu2022"
   ]
  },
  {
   "cell_type": "markdown",
   "metadata": {},
   "source": [
    "### Look at what is in .var to select common columns"
   ]
  },
  {
   "cell_type": "code",
   "execution_count": 8,
   "metadata": {},
   "outputs": [
    {
     "data": {
      "text/html": [
       "<div>\n",
       "<style scoped>\n",
       "    .dataframe tbody tr th:only-of-type {\n",
       "        vertical-align: middle;\n",
       "    }\n",
       "\n",
       "    .dataframe tbody tr th {\n",
       "        vertical-align: top;\n",
       "    }\n",
       "\n",
       "    .dataframe thead th {\n",
       "        text-align: right;\n",
       "    }\n",
       "</style>\n",
       "<table border=\"1\" class=\"dataframe\">\n",
       "  <thead>\n",
       "    <tr style=\"text-align: right;\">\n",
       "      <th></th>\n",
       "    </tr>\n",
       "  </thead>\n",
       "  <tbody>\n",
       "    <tr>\n",
       "      <th>MIR1302-2HG</th>\n",
       "    </tr>\n",
       "    <tr>\n",
       "      <th>FAM138A</th>\n",
       "    </tr>\n",
       "    <tr>\n",
       "      <th>OR4F5</th>\n",
       "    </tr>\n",
       "    <tr>\n",
       "      <th>AL627309.1</th>\n",
       "    </tr>\n",
       "    <tr>\n",
       "      <th>AL627309.3</th>\n",
       "    </tr>\n",
       "    <tr>\n",
       "      <th>...</th>\n",
       "    </tr>\n",
       "    <tr>\n",
       "      <th>AC141272.1</th>\n",
       "    </tr>\n",
       "    <tr>\n",
       "      <th>AC023491.2</th>\n",
       "    </tr>\n",
       "    <tr>\n",
       "      <th>AC007325.1</th>\n",
       "    </tr>\n",
       "    <tr>\n",
       "      <th>AC007325.4</th>\n",
       "    </tr>\n",
       "    <tr>\n",
       "      <th>AC007325.2</th>\n",
       "    </tr>\n",
       "  </tbody>\n",
       "</table>\n",
       "<p>36485 rows × 0 columns</p>\n",
       "</div>"
      ],
      "text/plain": [
       "Empty DataFrame\n",
       "Columns: []\n",
       "Index: [MIR1302-2HG, FAM138A, OR4F5, AL627309.1, AL627309.3, AL627309.2, AL627309.5, AL627309.4, AP006222.2, AL732372.1, OR4F29, AC114498.1, OR4F16, AL669831.2, LINC01409, FAM87B, LINC01128, LINC00115, FAM41C, AL645608.6, AL645608.2, AL645608.4, LINC02593, SAMD11, NOC2L, KLHL17, PLEKHN1, PERM1, AL645608.7, HES4, ISG15, AL645608.1, AGRN, AL645608.5, AL645608.8, RNF223, C1orf159, AL390719.3, LINC01342, AL390719.2, TTLL10-AS1, TTLL10, TNFRSF18, TNFRSF4, SDF4, B3GALT6, C1QTNF12, AL162741.1, UBE2J2, LINC01786, SCNN1D, ACAP3, PUSL1, INTS11, AL139287.1, CPTP, TAS1R3, DVL1, MXRA8, AURKAIP1, CCNL2, MRPL20-AS1, MRPL20, AL391244.2, ANKRD65, AL391244.1, TMEM88B, LINC01770, VWA1, ATAD3C, ATAD3B, ATAD3A, TMEM240, SSU72, AL645728.1, FNDC10, AL691432.4, AL691432.2, MIB2, MMP23B, CDK11B, FO704657.1, SLC35E2B, CDK11A, SLC35E2A, NADK, GNB1, AL109917.1, CALML6, TMEM52, CFAP74, AL391845.2, GABRD, AL391845.1, PRKCZ, AL590822.2, PRKCZ-AS1, FAAP20, AL590822.1, SKI, ...]\n",
       "\n",
       "[36485 rows x 0 columns]"
      ]
     },
     "execution_count": 8,
     "metadata": {},
     "output_type": "execute_result"
    }
   ],
   "source": [
    "adata_multiome.var"
   ]
  },
  {
   "cell_type": "code",
   "execution_count": 9,
   "metadata": {},
   "outputs": [
    {
     "data": {
      "text/html": [
       "<div>\n",
       "<style scoped>\n",
       "    .dataframe tbody tr th:only-of-type {\n",
       "        vertical-align: middle;\n",
       "    }\n",
       "\n",
       "    .dataframe tbody tr th {\n",
       "        vertical-align: top;\n",
       "    }\n",
       "\n",
       "    .dataframe thead th {\n",
       "        text-align: right;\n",
       "    }\n",
       "</style>\n",
       "<table border=\"1\" class=\"dataframe\">\n",
       "  <thead>\n",
       "    <tr style=\"text-align: right;\">\n",
       "      <th></th>\n",
       "      <th>gene_ids</th>\n",
       "      <th>feature_types</th>\n",
       "      <th>mt</th>\n",
       "      <th>ribo</th>\n",
       "      <th>n_cells_by_counts</th>\n",
       "      <th>mean_counts</th>\n",
       "      <th>pct_dropout_by_counts</th>\n",
       "      <th>total_counts</th>\n",
       "    </tr>\n",
       "  </thead>\n",
       "  <tbody>\n",
       "    <tr>\n",
       "      <th>RP11-34P13.3</th>\n",
       "      <td>ENSG00000243485</td>\n",
       "      <td>Gene Expression</td>\n",
       "      <td>False</td>\n",
       "      <td>False</td>\n",
       "      <td>0</td>\n",
       "      <td>0.000000</td>\n",
       "      <td>100.000000</td>\n",
       "      <td>0.0</td>\n",
       "    </tr>\n",
       "    <tr>\n",
       "      <th>FAM138A</th>\n",
       "      <td>ENSG00000237613</td>\n",
       "      <td>Gene Expression</td>\n",
       "      <td>False</td>\n",
       "      <td>False</td>\n",
       "      <td>0</td>\n",
       "      <td>0.000000</td>\n",
       "      <td>100.000000</td>\n",
       "      <td>0.0</td>\n",
       "    </tr>\n",
       "    <tr>\n",
       "      <th>OR4F5</th>\n",
       "      <td>ENSG00000186092</td>\n",
       "      <td>Gene Expression</td>\n",
       "      <td>False</td>\n",
       "      <td>False</td>\n",
       "      <td>0</td>\n",
       "      <td>0.000000</td>\n",
       "      <td>100.000000</td>\n",
       "      <td>0.0</td>\n",
       "    </tr>\n",
       "    <tr>\n",
       "      <th>RP11-34P13.7</th>\n",
       "      <td>ENSG00000238009</td>\n",
       "      <td>Gene Expression</td>\n",
       "      <td>False</td>\n",
       "      <td>False</td>\n",
       "      <td>32</td>\n",
       "      <td>0.000590</td>\n",
       "      <td>99.940980</td>\n",
       "      <td>32.0</td>\n",
       "    </tr>\n",
       "    <tr>\n",
       "      <th>RP11-34P13.8</th>\n",
       "      <td>ENSG00000239945</td>\n",
       "      <td>Gene Expression</td>\n",
       "      <td>False</td>\n",
       "      <td>False</td>\n",
       "      <td>4</td>\n",
       "      <td>0.000074</td>\n",
       "      <td>99.992623</td>\n",
       "      <td>4.0</td>\n",
       "    </tr>\n",
       "    <tr>\n",
       "      <th>...</th>\n",
       "      <td>...</td>\n",
       "      <td>...</td>\n",
       "      <td>...</td>\n",
       "      <td>...</td>\n",
       "      <td>...</td>\n",
       "      <td>...</td>\n",
       "      <td>...</td>\n",
       "      <td>...</td>\n",
       "    </tr>\n",
       "    <tr>\n",
       "      <th>AC233755.2</th>\n",
       "      <td>ENSG00000277856</td>\n",
       "      <td>Gene Expression</td>\n",
       "      <td>False</td>\n",
       "      <td>False</td>\n",
       "      <td>9</td>\n",
       "      <td>0.000387</td>\n",
       "      <td>99.983401</td>\n",
       "      <td>21.0</td>\n",
       "    </tr>\n",
       "    <tr>\n",
       "      <th>AC233755.1</th>\n",
       "      <td>ENSG00000275063</td>\n",
       "      <td>Gene Expression</td>\n",
       "      <td>False</td>\n",
       "      <td>False</td>\n",
       "      <td>6</td>\n",
       "      <td>0.000111</td>\n",
       "      <td>99.988934</td>\n",
       "      <td>6.0</td>\n",
       "    </tr>\n",
       "    <tr>\n",
       "      <th>AC240274.1</th>\n",
       "      <td>ENSG00000271254</td>\n",
       "      <td>Gene Expression</td>\n",
       "      <td>False</td>\n",
       "      <td>False</td>\n",
       "      <td>182</td>\n",
       "      <td>0.003412</td>\n",
       "      <td>99.664324</td>\n",
       "      <td>185.0</td>\n",
       "    </tr>\n",
       "    <tr>\n",
       "      <th>AC213203.1</th>\n",
       "      <td>ENSG00000277475</td>\n",
       "      <td>Gene Expression</td>\n",
       "      <td>False</td>\n",
       "      <td>False</td>\n",
       "      <td>0</td>\n",
       "      <td>0.000000</td>\n",
       "      <td>100.000000</td>\n",
       "      <td>0.0</td>\n",
       "    </tr>\n",
       "    <tr>\n",
       "      <th>FAM231B</th>\n",
       "      <td>ENSG00000268674</td>\n",
       "      <td>Gene Expression</td>\n",
       "      <td>False</td>\n",
       "      <td>False</td>\n",
       "      <td>0</td>\n",
       "      <td>0.000000</td>\n",
       "      <td>100.000000</td>\n",
       "      <td>0.0</td>\n",
       "    </tr>\n",
       "  </tbody>\n",
       "</table>\n",
       "<p>33578 rows × 8 columns</p>\n",
       "</div>"
      ],
      "text/plain": [
       "                     gene_ids    feature_types     mt   ribo  \\\n",
       "RP11-34P13.3  ENSG00000243485  Gene Expression  False  False   \n",
       "FAM138A       ENSG00000237613  Gene Expression  False  False   \n",
       "OR4F5         ENSG00000186092  Gene Expression  False  False   \n",
       "RP11-34P13.7  ENSG00000238009  Gene Expression  False  False   \n",
       "RP11-34P13.8  ENSG00000239945  Gene Expression  False  False   \n",
       "...                       ...              ...    ...    ...   \n",
       "AC233755.2    ENSG00000277856  Gene Expression  False  False   \n",
       "AC233755.1    ENSG00000275063  Gene Expression  False  False   \n",
       "AC240274.1    ENSG00000271254  Gene Expression  False  False   \n",
       "AC213203.1    ENSG00000277475  Gene Expression  False  False   \n",
       "FAM231B       ENSG00000268674  Gene Expression  False  False   \n",
       "\n",
       "              n_cells_by_counts  mean_counts  pct_dropout_by_counts  \\\n",
       "RP11-34P13.3                  0     0.000000             100.000000   \n",
       "FAM138A                       0     0.000000             100.000000   \n",
       "OR4F5                         0     0.000000             100.000000   \n",
       "RP11-34P13.7                 32     0.000590              99.940980   \n",
       "RP11-34P13.8                  4     0.000074              99.992623   \n",
       "...                         ...          ...                    ...   \n",
       "AC233755.2                    9     0.000387              99.983401   \n",
       "AC233755.1                    6     0.000111              99.988934   \n",
       "AC240274.1                  182     0.003412              99.664324   \n",
       "AC213203.1                    0     0.000000             100.000000   \n",
       "FAM231B                       0     0.000000             100.000000   \n",
       "\n",
       "              total_counts  \n",
       "RP11-34P13.3           0.0  \n",
       "FAM138A                0.0  \n",
       "OR4F5                  0.0  \n",
       "RP11-34P13.7          32.0  \n",
       "RP11-34P13.8           4.0  \n",
       "...                    ...  \n",
       "AC233755.2            21.0  \n",
       "AC233755.1             6.0  \n",
       "AC240274.1           185.0  \n",
       "AC213203.1             0.0  \n",
       "FAM231B                0.0  \n",
       "\n",
       "[33578 rows x 8 columns]"
      ]
     },
     "execution_count": 9,
     "metadata": {},
     "output_type": "execute_result"
    }
   ],
   "source": [
    "adata_che2021.var"
   ]
  },
  {
   "cell_type": "code",
   "execution_count": 10,
   "metadata": {
    "scrolled": true
   },
   "outputs": [
    {
     "data": {
      "text/html": [
       "<div>\n",
       "<style scoped>\n",
       "    .dataframe tbody tr th:only-of-type {\n",
       "        vertical-align: middle;\n",
       "    }\n",
       "\n",
       "    .dataframe tbody tr th {\n",
       "        vertical-align: top;\n",
       "    }\n",
       "\n",
       "    .dataframe thead th {\n",
       "        text-align: right;\n",
       "    }\n",
       "</style>\n",
       "<table border=\"1\" class=\"dataframe\">\n",
       "  <thead>\n",
       "    <tr style=\"text-align: right;\">\n",
       "      <th></th>\n",
       "      <th>mt</th>\n",
       "      <th>ribo</th>\n",
       "      <th>n_cells_by_counts</th>\n",
       "      <th>mean_counts</th>\n",
       "      <th>pct_dropout_by_counts</th>\n",
       "      <th>total_counts</th>\n",
       "    </tr>\n",
       "    <tr>\n",
       "      <th>features</th>\n",
       "      <th></th>\n",
       "      <th></th>\n",
       "      <th></th>\n",
       "      <th></th>\n",
       "      <th></th>\n",
       "      <th></th>\n",
       "    </tr>\n",
       "  </thead>\n",
       "  <tbody>\n",
       "    <tr>\n",
       "      <th>AL627309.1</th>\n",
       "      <td>False</td>\n",
       "      <td>False</td>\n",
       "      <td>26</td>\n",
       "      <td>0.000471</td>\n",
       "      <td>99.952937</td>\n",
       "      <td>26.0</td>\n",
       "    </tr>\n",
       "    <tr>\n",
       "      <th>FAM87B</th>\n",
       "      <td>False</td>\n",
       "      <td>False</td>\n",
       "      <td>35</td>\n",
       "      <td>0.000706</td>\n",
       "      <td>99.936646</td>\n",
       "      <td>39.0</td>\n",
       "    </tr>\n",
       "    <tr>\n",
       "      <th>LINC00115</th>\n",
       "      <td>False</td>\n",
       "      <td>False</td>\n",
       "      <td>611</td>\n",
       "      <td>0.011657</td>\n",
       "      <td>98.894018</td>\n",
       "      <td>644.0</td>\n",
       "    </tr>\n",
       "    <tr>\n",
       "      <th>FAM41C</th>\n",
       "      <td>False</td>\n",
       "      <td>False</td>\n",
       "      <td>481</td>\n",
       "      <td>0.008924</td>\n",
       "      <td>99.129333</td>\n",
       "      <td>493.0</td>\n",
       "    </tr>\n",
       "    <tr>\n",
       "      <th>SAMD11</th>\n",
       "      <td>False</td>\n",
       "      <td>False</td>\n",
       "      <td>39</td>\n",
       "      <td>0.000706</td>\n",
       "      <td>99.929405</td>\n",
       "      <td>39.0</td>\n",
       "    </tr>\n",
       "    <tr>\n",
       "      <th>...</th>\n",
       "      <td>...</td>\n",
       "      <td>...</td>\n",
       "      <td>...</td>\n",
       "      <td>...</td>\n",
       "      <td>...</td>\n",
       "      <td>...</td>\n",
       "    </tr>\n",
       "    <tr>\n",
       "      <th>AC007325.4</th>\n",
       "      <td>False</td>\n",
       "      <td>False</td>\n",
       "      <td>487</td>\n",
       "      <td>0.008996</td>\n",
       "      <td>99.118472</td>\n",
       "      <td>497.0</td>\n",
       "    </tr>\n",
       "    <tr>\n",
       "      <th>AL354822.1</th>\n",
       "      <td>False</td>\n",
       "      <td>False</td>\n",
       "      <td>150</td>\n",
       "      <td>0.002769</td>\n",
       "      <td>99.728482</td>\n",
       "      <td>153.0</td>\n",
       "    </tr>\n",
       "    <tr>\n",
       "      <th>AC233755.2</th>\n",
       "      <td>False</td>\n",
       "      <td>False</td>\n",
       "      <td>7</td>\n",
       "      <td>0.000905</td>\n",
       "      <td>99.987329</td>\n",
       "      <td>50.0</td>\n",
       "    </tr>\n",
       "    <tr>\n",
       "      <th>AC233755.1</th>\n",
       "      <td>False</td>\n",
       "      <td>False</td>\n",
       "      <td>14</td>\n",
       "      <td>0.000597</td>\n",
       "      <td>99.974658</td>\n",
       "      <td>33.0</td>\n",
       "    </tr>\n",
       "    <tr>\n",
       "      <th>AC240274.1</th>\n",
       "      <td>False</td>\n",
       "      <td>False</td>\n",
       "      <td>236</td>\n",
       "      <td>0.004471</td>\n",
       "      <td>99.572812</td>\n",
       "      <td>247.0</td>\n",
       "    </tr>\n",
       "  </tbody>\n",
       "</table>\n",
       "<p>20497 rows × 6 columns</p>\n",
       "</div>"
      ],
      "text/plain": [
       "               mt   ribo  n_cells_by_counts  mean_counts  \\\n",
       "features                                                   \n",
       "AL627309.1  False  False                 26     0.000471   \n",
       "FAM87B      False  False                 35     0.000706   \n",
       "LINC00115   False  False                611     0.011657   \n",
       "FAM41C      False  False                481     0.008924   \n",
       "SAMD11      False  False                 39     0.000706   \n",
       "...           ...    ...                ...          ...   \n",
       "AC007325.4  False  False                487     0.008996   \n",
       "AL354822.1  False  False                150     0.002769   \n",
       "AC233755.2  False  False                  7     0.000905   \n",
       "AC233755.1  False  False                 14     0.000597   \n",
       "AC240274.1  False  False                236     0.004471   \n",
       "\n",
       "            pct_dropout_by_counts  total_counts  \n",
       "features                                         \n",
       "AL627309.1              99.952937          26.0  \n",
       "FAM87B                  99.936646          39.0  \n",
       "LINC00115               98.894018         644.0  \n",
       "FAM41C                  99.129333         493.0  \n",
       "SAMD11                  99.929405          39.0  \n",
       "...                           ...           ...  \n",
       "AC007325.4              99.118472         497.0  \n",
       "AL354822.1              99.728482         153.0  \n",
       "AC233755.2              99.987329          50.0  \n",
       "AC233755.1              99.974658          33.0  \n",
       "AC240274.1              99.572812         247.0  \n",
       "\n",
       "[20497 rows x 6 columns]"
      ]
     },
     "execution_count": 10,
     "metadata": {},
     "output_type": "execute_result"
    }
   ],
   "source": [
    "adata_wu2022.var"
   ]
  },
  {
   "cell_type": "markdown",
   "metadata": {},
   "source": [
    "### Since multiome has no columns in `.var`, let's remove the columns in the other two dataframes"
   ]
  },
  {
   "cell_type": "code",
   "execution_count": 11,
   "metadata": {},
   "outputs": [],
   "source": [
    "adata_che2021.var.drop(columns=list(adata_che2021.var.columns), inplace=True)"
   ]
  },
  {
   "cell_type": "code",
   "execution_count": 12,
   "metadata": {},
   "outputs": [],
   "source": [
    "adata_wu2022.var.drop(columns=list(adata_wu2022.var.columns), inplace=True)"
   ]
  },
  {
   "cell_type": "code",
   "execution_count": 13,
   "metadata": {},
   "outputs": [
    {
     "data": {
      "text/html": [
       "<div>\n",
       "<style scoped>\n",
       "    .dataframe tbody tr th:only-of-type {\n",
       "        vertical-align: middle;\n",
       "    }\n",
       "\n",
       "    .dataframe tbody tr th {\n",
       "        vertical-align: top;\n",
       "    }\n",
       "\n",
       "    .dataframe thead th {\n",
       "        text-align: right;\n",
       "    }\n",
       "</style>\n",
       "<table border=\"1\" class=\"dataframe\">\n",
       "  <thead>\n",
       "    <tr style=\"text-align: right;\">\n",
       "      <th></th>\n",
       "    </tr>\n",
       "  </thead>\n",
       "  <tbody>\n",
       "    <tr>\n",
       "      <th>RP11-34P13.3</th>\n",
       "    </tr>\n",
       "    <tr>\n",
       "      <th>FAM138A</th>\n",
       "    </tr>\n",
       "    <tr>\n",
       "      <th>OR4F5</th>\n",
       "    </tr>\n",
       "    <tr>\n",
       "      <th>RP11-34P13.7</th>\n",
       "    </tr>\n",
       "    <tr>\n",
       "      <th>RP11-34P13.8</th>\n",
       "    </tr>\n",
       "    <tr>\n",
       "      <th>...</th>\n",
       "    </tr>\n",
       "    <tr>\n",
       "      <th>AC233755.2</th>\n",
       "    </tr>\n",
       "    <tr>\n",
       "      <th>AC233755.1</th>\n",
       "    </tr>\n",
       "    <tr>\n",
       "      <th>AC240274.1</th>\n",
       "    </tr>\n",
       "    <tr>\n",
       "      <th>AC213203.1</th>\n",
       "    </tr>\n",
       "    <tr>\n",
       "      <th>FAM231B</th>\n",
       "    </tr>\n",
       "  </tbody>\n",
       "</table>\n",
       "<p>33578 rows × 0 columns</p>\n",
       "</div>"
      ],
      "text/plain": [
       "Empty DataFrame\n",
       "Columns: []\n",
       "Index: [RP11-34P13.3, FAM138A, OR4F5, RP11-34P13.7, RP11-34P13.8, RP11-34P13.14, RP11-34P13.9, FO538757.3, FO538757.2, AP006222.2, RP5-857K21.15, RP4-669L17.2, RP4-669L17.10, OR4F29, RP5-857K21.4, RP5-857K21.2, OR4F16, RP11-206L10.4, RP11-206L10.9, FAM87B, LINC00115, FAM41C, RP11-54O7.16, RP11-54O7.1, RP11-54O7.2, RP11-54O7.3, SAMD11, NOC2L, KLHL17, PLEKHN1, PERM1, RP11-54O7.17, HES4, ISG15, RP11-54O7.11, AGRN, RP11-54O7.18, RNF223, C1orf159, LINC01342, RP11-465B22.8, TTLL10-AS1, TTLL10, TNFRSF18, TNFRSF4, SDF4, B3GALT6, FAM132A, RP5-902P8.12, UBE2J2, RP5-902P8.10, SCNN1D, ACAP3, PUSL1, CPSF3L, CPTP, TAS1R3, DVL1, MXRA8, AURKAIP1, CCNL2, MRPL20, RP4-758J18.13, ANKRD65, RP4-758J18.7, TMEM88B, RP4-758J18.10, VWA1, ATAD3C, ATAD3B, ATAD3A, TMEM240, SSU72, RP5-832C2.5, AL645728.1, C1orf233, RP11-345P4.9, MIB2, MMP23B, CDK11B, RP11-345P4.10, SLC35E2B, RP11-345P4.7, CDK11A, SLC35E2, NADK, GNB1, RP1-140A9.1, CALML6, TMEM52, CFAP74, RP11-547D24.1, GABRD, RP11-547D24.3, PRKCZ, RP5-892K4.1, RP11-181G12.2, FAAP20, RP11-181G12.4, SKI, ...]\n",
       "\n",
       "[33578 rows x 0 columns]"
      ]
     },
     "execution_count": 13,
     "metadata": {},
     "output_type": "execute_result"
    }
   ],
   "source": [
    "adata_che2021.var"
   ]
  },
  {
   "cell_type": "code",
   "execution_count": 14,
   "metadata": {},
   "outputs": [
    {
     "data": {
      "text/html": [
       "<div>\n",
       "<style scoped>\n",
       "    .dataframe tbody tr th:only-of-type {\n",
       "        vertical-align: middle;\n",
       "    }\n",
       "\n",
       "    .dataframe tbody tr th {\n",
       "        vertical-align: top;\n",
       "    }\n",
       "\n",
       "    .dataframe thead th {\n",
       "        text-align: right;\n",
       "    }\n",
       "</style>\n",
       "<table border=\"1\" class=\"dataframe\">\n",
       "  <thead>\n",
       "    <tr style=\"text-align: right;\">\n",
       "      <th></th>\n",
       "    </tr>\n",
       "    <tr>\n",
       "      <th>features</th>\n",
       "    </tr>\n",
       "  </thead>\n",
       "  <tbody>\n",
       "    <tr>\n",
       "      <th>AL627309.1</th>\n",
       "    </tr>\n",
       "    <tr>\n",
       "      <th>FAM87B</th>\n",
       "    </tr>\n",
       "    <tr>\n",
       "      <th>LINC00115</th>\n",
       "    </tr>\n",
       "    <tr>\n",
       "      <th>FAM41C</th>\n",
       "    </tr>\n",
       "    <tr>\n",
       "      <th>SAMD11</th>\n",
       "    </tr>\n",
       "    <tr>\n",
       "      <th>...</th>\n",
       "    </tr>\n",
       "    <tr>\n",
       "      <th>AC007325.4</th>\n",
       "    </tr>\n",
       "    <tr>\n",
       "      <th>AL354822.1</th>\n",
       "    </tr>\n",
       "    <tr>\n",
       "      <th>AC233755.2</th>\n",
       "    </tr>\n",
       "    <tr>\n",
       "      <th>AC233755.1</th>\n",
       "    </tr>\n",
       "    <tr>\n",
       "      <th>AC240274.1</th>\n",
       "    </tr>\n",
       "  </tbody>\n",
       "</table>\n",
       "<p>20497 rows × 0 columns</p>\n",
       "</div>"
      ],
      "text/plain": [
       "Empty DataFrame\n",
       "Columns: []\n",
       "Index: [AL627309.1, FAM87B, LINC00115, FAM41C, SAMD11, NOC2L, KLHL17, PLEKHN1, PERM1, AL645608.8, HES4, ISG15, AL645608.2, AGRN, RNF223, C1orf159, LINC01342, AL390719.2, TTLL10-AS1, TTLL10, TNFRSF18, TNFRSF4, SDF4, B3GALT6, C1QTNF12, AL162741.1, UBE2J2, LINC01786, SCNN1D, ACAP3, PUSL1, INTS11, CPTP, TAS1R3, DVL1, MXRA8, AURKAIP1, CCNL2, MRPL20, ANKRD65, VWA1, ATAD3C, ATAD3B, ATAD3A, TMEM240, SSU72, AL645728.1, FNDC10, AL691432.2, MIB2, MMP23B, CDK11B, FO704657.1, SLC35E2B, CDK11A, SLC35E2A, NADK, GNB1, AL109917.1, CALML6, TMEM52, CFAP74, GABRD, PRKCZ, AL590822.2, PRKCZ-AS1, FAAP20, SKI, MORN1, RER1, PEX10, PLCH2, AL139246.1, PANK4, HES5, AL139246.5, TNFRSF14-AS1, TNFRSF14, AL139246.3, MMEL1, TTC34, PRDM16, AL590438.1, ARHGEF16, AL512413.1, MEGF6, AL513320.1, TPRG1L, WRAP73, TP73, SMIM1, LRRC47, AL365330.1, CEP104, DFFB, C1orf174, LINC01134, AJAP1, NPHP4, KCNAB2, ...]\n",
       "\n",
       "[20497 rows x 0 columns]"
      ]
     },
     "execution_count": 14,
     "metadata": {},
     "output_type": "execute_result"
    }
   ],
   "source": [
    "adata_wu2022.var"
   ]
  },
  {
   "cell_type": "markdown",
   "metadata": {},
   "source": [
    "### Select only relevant columns"
   ]
  },
  {
   "cell_type": "code",
   "execution_count": 15,
   "metadata": {},
   "outputs": [],
   "source": [
    "def format_adata(adata):\n",
    "    \"\"\"Select only relevant info for merging datasets, assumes raw is in .X\"\"\"\n",
    "    return ad.AnnData(\n",
    "        X=adata.X.copy(),  # take raw counts\n",
    "        obs=adata.obs[\n",
    "            [\n",
    "                \"Patient\",\n",
    "                \"Sample\",\n",
    "                \"Cell_type\",\n",
    "                \"Cell_subtype\",\n",
    "                \"Tissue\",\n",
    "                \"Therapy\",\n",
    "                \"doublet_score\",\n",
    "                \"n_genes_by_counts\",\n",
    "                \"total_counts\",\n",
    "                \"pct_counts_mt\",\n",
    "                \"pct_counts_ribo\",\n",
    "            ]\n",
    "        ],\n",
    "        var=adata.var  # [\n",
    "        # [\n",
    "        #   \"n_cells_by_counts\",\n",
    "        #  \"total_counts\",\n",
    "        #  \"mean_counts\",\n",
    "        # \"pct_dropout_by_counts\",\n",
    "        # ]\n",
    "        # ],\n",
    "    )"
   ]
  },
  {
   "cell_type": "code",
   "execution_count": 16,
   "metadata": {},
   "outputs": [
    {
     "data": {
      "text/plain": [
       "AnnData object with n_obs × n_vars = 5345 × 36485\n",
       "    obs: 'Patient', 'Sample', 'Cell_type', 'Cell_subtype', 'Tissue', 'Therapy', 'doublet_score', 'n_genes_by_counts', 'total_counts', 'pct_counts_mt', 'pct_counts_ribo'"
      ]
     },
     "execution_count": 16,
     "metadata": {},
     "output_type": "execute_result"
    }
   ],
   "source": [
    "adata_multiome_format = format_adata(adata_multiome)\n",
    "adata_multiome_format"
   ]
  },
  {
   "cell_type": "code",
   "execution_count": 17,
   "metadata": {},
   "outputs": [
    {
     "data": {
      "text/plain": [
       "AnnData object with n_obs × n_vars = 48954 × 33578\n",
       "    obs: 'Patient', 'Sample', 'Cell_type', 'Cell_subtype', 'Tissue', 'Therapy', 'doublet_score', 'n_genes_by_counts', 'total_counts', 'pct_counts_mt', 'pct_counts_ribo'"
      ]
     },
     "execution_count": 17,
     "metadata": {},
     "output_type": "execute_result"
    }
   ],
   "source": [
    "adata_che2021_format = format_adata(adata_che2021)\n",
    "adata_che2021_format"
   ]
  },
  {
   "cell_type": "code",
   "execution_count": 18,
   "metadata": {},
   "outputs": [
    {
     "data": {
      "text/plain": [
       "AnnData object with n_obs × n_vars = 53129 × 20497\n",
       "    obs: 'Patient', 'Sample', 'Cell_type', 'Cell_subtype', 'Tissue', 'Therapy', 'doublet_score', 'n_genes_by_counts', 'total_counts', 'pct_counts_mt', 'pct_counts_ribo'"
      ]
     },
     "execution_count": 18,
     "metadata": {},
     "output_type": "execute_result"
    }
   ],
   "source": [
    "adata_wu2022_format = format_adata(adata_wu2022)\n",
    "adata_wu2022_format"
   ]
  },
  {
   "cell_type": "markdown",
   "metadata": {},
   "source": [
    "### Check that the data is raw "
   ]
  },
  {
   "cell_type": "code",
   "execution_count": 19,
   "metadata": {},
   "outputs": [
    {
     "data": {
      "text/plain": [
       "11459.0"
      ]
     },
     "execution_count": 19,
     "metadata": {},
     "output_type": "execute_result"
    }
   ],
   "source": [
    "np.max(adata_multiome_format.X)"
   ]
  },
  {
   "cell_type": "code",
   "execution_count": 20,
   "metadata": {},
   "outputs": [
    {
     "data": {
      "text/plain": [
       "23832.0"
      ]
     },
     "execution_count": 20,
     "metadata": {},
     "output_type": "execute_result"
    }
   ],
   "source": [
    "np.max(adata_che2021_format.X)"
   ]
  },
  {
   "cell_type": "code",
   "execution_count": 21,
   "metadata": {},
   "outputs": [
    {
     "data": {
      "text/plain": [
       "40676.0"
      ]
     },
     "execution_count": 21,
     "metadata": {},
     "output_type": "execute_result"
    }
   ],
   "source": [
    "np.max(adata_wu2022_format.X)"
   ]
  },
  {
   "cell_type": "code",
   "execution_count": 22,
   "metadata": {},
   "outputs": [
    {
     "data": {
      "text/html": [
       "<div>\n",
       "<style scoped>\n",
       "    .dataframe tbody tr th:only-of-type {\n",
       "        vertical-align: middle;\n",
       "    }\n",
       "\n",
       "    .dataframe tbody tr th {\n",
       "        vertical-align: top;\n",
       "    }\n",
       "\n",
       "    .dataframe thead th {\n",
       "        text-align: right;\n",
       "    }\n",
       "</style>\n",
       "<table border=\"1\" class=\"dataframe\">\n",
       "  <thead>\n",
       "    <tr style=\"text-align: right;\">\n",
       "      <th></th>\n",
       "    </tr>\n",
       "  </thead>\n",
       "  <tbody>\n",
       "    <tr>\n",
       "      <th>MIR1302-2HG</th>\n",
       "    </tr>\n",
       "    <tr>\n",
       "      <th>FAM138A</th>\n",
       "    </tr>\n",
       "    <tr>\n",
       "      <th>OR4F5</th>\n",
       "    </tr>\n",
       "    <tr>\n",
       "      <th>AL627309.1</th>\n",
       "    </tr>\n",
       "    <tr>\n",
       "      <th>AL627309.3</th>\n",
       "    </tr>\n",
       "    <tr>\n",
       "      <th>...</th>\n",
       "    </tr>\n",
       "    <tr>\n",
       "      <th>AC141272.1</th>\n",
       "    </tr>\n",
       "    <tr>\n",
       "      <th>AC023491.2</th>\n",
       "    </tr>\n",
       "    <tr>\n",
       "      <th>AC007325.1</th>\n",
       "    </tr>\n",
       "    <tr>\n",
       "      <th>AC007325.4</th>\n",
       "    </tr>\n",
       "    <tr>\n",
       "      <th>AC007325.2</th>\n",
       "    </tr>\n",
       "  </tbody>\n",
       "</table>\n",
       "<p>36485 rows × 0 columns</p>\n",
       "</div>"
      ],
      "text/plain": [
       "Empty DataFrame\n",
       "Columns: []\n",
       "Index: [MIR1302-2HG, FAM138A, OR4F5, AL627309.1, AL627309.3, AL627309.2, AL627309.5, AL627309.4, AP006222.2, AL732372.1, OR4F29, AC114498.1, OR4F16, AL669831.2, LINC01409, FAM87B, LINC01128, LINC00115, FAM41C, AL645608.6, AL645608.2, AL645608.4, LINC02593, SAMD11, NOC2L, KLHL17, PLEKHN1, PERM1, AL645608.7, HES4, ISG15, AL645608.1, AGRN, AL645608.5, AL645608.8, RNF223, C1orf159, AL390719.3, LINC01342, AL390719.2, TTLL10-AS1, TTLL10, TNFRSF18, TNFRSF4, SDF4, B3GALT6, C1QTNF12, AL162741.1, UBE2J2, LINC01786, SCNN1D, ACAP3, PUSL1, INTS11, AL139287.1, CPTP, TAS1R3, DVL1, MXRA8, AURKAIP1, CCNL2, MRPL20-AS1, MRPL20, AL391244.2, ANKRD65, AL391244.1, TMEM88B, LINC01770, VWA1, ATAD3C, ATAD3B, ATAD3A, TMEM240, SSU72, AL645728.1, FNDC10, AL691432.4, AL691432.2, MIB2, MMP23B, CDK11B, FO704657.1, SLC35E2B, CDK11A, SLC35E2A, NADK, GNB1, AL109917.1, CALML6, TMEM52, CFAP74, AL391845.2, GABRD, AL391845.1, PRKCZ, AL590822.2, PRKCZ-AS1, FAAP20, AL590822.1, SKI, ...]\n",
       "\n",
       "[36485 rows x 0 columns]"
      ]
     },
     "execution_count": 22,
     "metadata": {},
     "output_type": "execute_result"
    }
   ],
   "source": [
    "adata_multiome_format.var"
   ]
  },
  {
   "cell_type": "code",
   "execution_count": 23,
   "metadata": {},
   "outputs": [
    {
     "data": {
      "text/html": [
       "<div>\n",
       "<style scoped>\n",
       "    .dataframe tbody tr th:only-of-type {\n",
       "        vertical-align: middle;\n",
       "    }\n",
       "\n",
       "    .dataframe tbody tr th {\n",
       "        vertical-align: top;\n",
       "    }\n",
       "\n",
       "    .dataframe thead th {\n",
       "        text-align: right;\n",
       "    }\n",
       "</style>\n",
       "<table border=\"1\" class=\"dataframe\">\n",
       "  <thead>\n",
       "    <tr style=\"text-align: right;\">\n",
       "      <th></th>\n",
       "    </tr>\n",
       "  </thead>\n",
       "  <tbody>\n",
       "    <tr>\n",
       "      <th>RP11-34P13.3</th>\n",
       "    </tr>\n",
       "    <tr>\n",
       "      <th>FAM138A</th>\n",
       "    </tr>\n",
       "    <tr>\n",
       "      <th>OR4F5</th>\n",
       "    </tr>\n",
       "    <tr>\n",
       "      <th>RP11-34P13.7</th>\n",
       "    </tr>\n",
       "    <tr>\n",
       "      <th>RP11-34P13.8</th>\n",
       "    </tr>\n",
       "    <tr>\n",
       "      <th>...</th>\n",
       "    </tr>\n",
       "    <tr>\n",
       "      <th>AC233755.2</th>\n",
       "    </tr>\n",
       "    <tr>\n",
       "      <th>AC233755.1</th>\n",
       "    </tr>\n",
       "    <tr>\n",
       "      <th>AC240274.1</th>\n",
       "    </tr>\n",
       "    <tr>\n",
       "      <th>AC213203.1</th>\n",
       "    </tr>\n",
       "    <tr>\n",
       "      <th>FAM231B</th>\n",
       "    </tr>\n",
       "  </tbody>\n",
       "</table>\n",
       "<p>33578 rows × 0 columns</p>\n",
       "</div>"
      ],
      "text/plain": [
       "Empty DataFrame\n",
       "Columns: []\n",
       "Index: [RP11-34P13.3, FAM138A, OR4F5, RP11-34P13.7, RP11-34P13.8, RP11-34P13.14, RP11-34P13.9, FO538757.3, FO538757.2, AP006222.2, RP5-857K21.15, RP4-669L17.2, RP4-669L17.10, OR4F29, RP5-857K21.4, RP5-857K21.2, OR4F16, RP11-206L10.4, RP11-206L10.9, FAM87B, LINC00115, FAM41C, RP11-54O7.16, RP11-54O7.1, RP11-54O7.2, RP11-54O7.3, SAMD11, NOC2L, KLHL17, PLEKHN1, PERM1, RP11-54O7.17, HES4, ISG15, RP11-54O7.11, AGRN, RP11-54O7.18, RNF223, C1orf159, LINC01342, RP11-465B22.8, TTLL10-AS1, TTLL10, TNFRSF18, TNFRSF4, SDF4, B3GALT6, FAM132A, RP5-902P8.12, UBE2J2, RP5-902P8.10, SCNN1D, ACAP3, PUSL1, CPSF3L, CPTP, TAS1R3, DVL1, MXRA8, AURKAIP1, CCNL2, MRPL20, RP4-758J18.13, ANKRD65, RP4-758J18.7, TMEM88B, RP4-758J18.10, VWA1, ATAD3C, ATAD3B, ATAD3A, TMEM240, SSU72, RP5-832C2.5, AL645728.1, C1orf233, RP11-345P4.9, MIB2, MMP23B, CDK11B, RP11-345P4.10, SLC35E2B, RP11-345P4.7, CDK11A, SLC35E2, NADK, GNB1, RP1-140A9.1, CALML6, TMEM52, CFAP74, RP11-547D24.1, GABRD, RP11-547D24.3, PRKCZ, RP5-892K4.1, RP11-181G12.2, FAAP20, RP11-181G12.4, SKI, ...]\n",
       "\n",
       "[33578 rows x 0 columns]"
      ]
     },
     "execution_count": 23,
     "metadata": {},
     "output_type": "execute_result"
    }
   ],
   "source": [
    "adata_che2021_format.var"
   ]
  },
  {
   "cell_type": "code",
   "execution_count": 24,
   "metadata": {},
   "outputs": [
    {
     "data": {
      "text/html": [
       "<div>\n",
       "<style scoped>\n",
       "    .dataframe tbody tr th:only-of-type {\n",
       "        vertical-align: middle;\n",
       "    }\n",
       "\n",
       "    .dataframe tbody tr th {\n",
       "        vertical-align: top;\n",
       "    }\n",
       "\n",
       "    .dataframe thead th {\n",
       "        text-align: right;\n",
       "    }\n",
       "</style>\n",
       "<table border=\"1\" class=\"dataframe\">\n",
       "  <thead>\n",
       "    <tr style=\"text-align: right;\">\n",
       "      <th></th>\n",
       "    </tr>\n",
       "    <tr>\n",
       "      <th>features</th>\n",
       "    </tr>\n",
       "  </thead>\n",
       "  <tbody>\n",
       "    <tr>\n",
       "      <th>AL627309.1</th>\n",
       "    </tr>\n",
       "    <tr>\n",
       "      <th>FAM87B</th>\n",
       "    </tr>\n",
       "    <tr>\n",
       "      <th>LINC00115</th>\n",
       "    </tr>\n",
       "    <tr>\n",
       "      <th>FAM41C</th>\n",
       "    </tr>\n",
       "    <tr>\n",
       "      <th>SAMD11</th>\n",
       "    </tr>\n",
       "    <tr>\n",
       "      <th>...</th>\n",
       "    </tr>\n",
       "    <tr>\n",
       "      <th>AC007325.4</th>\n",
       "    </tr>\n",
       "    <tr>\n",
       "      <th>AL354822.1</th>\n",
       "    </tr>\n",
       "    <tr>\n",
       "      <th>AC233755.2</th>\n",
       "    </tr>\n",
       "    <tr>\n",
       "      <th>AC233755.1</th>\n",
       "    </tr>\n",
       "    <tr>\n",
       "      <th>AC240274.1</th>\n",
       "    </tr>\n",
       "  </tbody>\n",
       "</table>\n",
       "<p>20497 rows × 0 columns</p>\n",
       "</div>"
      ],
      "text/plain": [
       "Empty DataFrame\n",
       "Columns: []\n",
       "Index: [AL627309.1, FAM87B, LINC00115, FAM41C, SAMD11, NOC2L, KLHL17, PLEKHN1, PERM1, AL645608.8, HES4, ISG15, AL645608.2, AGRN, RNF223, C1orf159, LINC01342, AL390719.2, TTLL10-AS1, TTLL10, TNFRSF18, TNFRSF4, SDF4, B3GALT6, C1QTNF12, AL162741.1, UBE2J2, LINC01786, SCNN1D, ACAP3, PUSL1, INTS11, CPTP, TAS1R3, DVL1, MXRA8, AURKAIP1, CCNL2, MRPL20, ANKRD65, VWA1, ATAD3C, ATAD3B, ATAD3A, TMEM240, SSU72, AL645728.1, FNDC10, AL691432.2, MIB2, MMP23B, CDK11B, FO704657.1, SLC35E2B, CDK11A, SLC35E2A, NADK, GNB1, AL109917.1, CALML6, TMEM52, CFAP74, GABRD, PRKCZ, AL590822.2, PRKCZ-AS1, FAAP20, SKI, MORN1, RER1, PEX10, PLCH2, AL139246.1, PANK4, HES5, AL139246.5, TNFRSF14-AS1, TNFRSF14, AL139246.3, MMEL1, TTC34, PRDM16, AL590438.1, ARHGEF16, AL512413.1, MEGF6, AL513320.1, TPRG1L, WRAP73, TP73, SMIM1, LRRC47, AL365330.1, CEP104, DFFB, C1orf174, LINC01134, AJAP1, NPHP4, KCNAB2, ...]\n",
       "\n",
       "[20497 rows x 0 columns]"
      ]
     },
     "execution_count": 24,
     "metadata": {},
     "output_type": "execute_result"
    }
   ],
   "source": [
    "adata_wu2022_format.var"
   ]
  },
  {
   "cell_type": "markdown",
   "metadata": {},
   "source": [
    "### Merge all datasets into single adata "
   ]
  },
  {
   "cell_type": "code",
   "execution_count": 25,
   "metadata": {},
   "outputs": [
    {
     "name": "stderr",
     "output_type": "stream",
     "text": [
      "/data/BCI-CRC/nasrine/anaconda/envs/cell2loc19/lib/python3.9/site-packages/anndata/_core/anndata.py:1785: FutureWarning: X.dtype being converted to np.float32 from float64. In the next version of anndata (0.9) conversion will not be automatic. Pass dtype explicitly to avoid this warning. Pass `AnnData(X, dtype=X.dtype, ...)` to get the future behavour.\n",
      "  [AnnData(sparse.csr_matrix(a.shape), obs=a.obs) for a in all_adatas],\n"
     ]
    }
   ],
   "source": [
    "adata_liver = adata_multiome_format.concatenate(\n",
    "    adata_che2021_format,\n",
    "    adata_wu2022_format,\n",
    "    batch_key=\"cell_source\",\n",
    "    batch_categories=[\"BCI-Nuclei\", \"Che-Cells\", \"Wu-Cells\"],\n",
    "    join=\"outer\",\n",
    ")"
   ]
  },
  {
   "cell_type": "code",
   "execution_count": 26,
   "metadata": {},
   "outputs": [
    {
     "data": {
      "text/plain": [
       "(107428, 48245)"
      ]
     },
     "execution_count": 26,
     "metadata": {},
     "output_type": "execute_result"
    }
   ],
   "source": [
    "adata_liver.shape"
   ]
  },
  {
   "cell_type": "code",
   "execution_count": 27,
   "metadata": {},
   "outputs": [
    {
     "data": {
      "text/plain": [
       "AnnData object with n_obs × n_vars = 107428 × 48245\n",
       "    obs: 'Patient', 'Sample', 'Cell_type', 'Cell_subtype', 'Tissue', 'Therapy', 'doublet_score', 'n_genes_by_counts', 'total_counts', 'pct_counts_mt', 'pct_counts_ribo', 'cell_source'"
      ]
     },
     "execution_count": 27,
     "metadata": {},
     "output_type": "execute_result"
    }
   ],
   "source": [
    "adata_liver"
   ]
  },
  {
   "cell_type": "code",
   "execution_count": 28,
   "metadata": {},
   "outputs": [],
   "source": [
    "# set dtype of .obs variables to category\n",
    "adata_liver.obs[\"Tissue\"] = adata_liver.obs[\"Tissue\"].astype(\"category\")\n",
    "adata_liver.obs[\"Therapy\"] = adata_liver.obs[\"Therapy\"].astype(\"category\")\n",
    "adata_liver.obs[\"cell_source\"] = adata_liver.obs[\"cell_source\"].astype(\"category\")\n",
    "adata_liver.obs[\"Cell_type\"] = adata_liver.obs[\"Cell_type\"].astype(\"category\")\n",
    "adata_liver.obs[\"Cell_subtype\"] = adata_liver.obs[\"Cell_subtype\"].astype(\"category\")\n",
    "adata_liver.obs[\"Patient\"] = adata_liver.obs[\"Patient\"].astype(\"category\")\n",
    "adata_liver.obs[\"Sample\"] = adata_liver.obs[\"Sample\"].astype(\"category\")"
   ]
  },
  {
   "cell_type": "code",
   "execution_count": 29,
   "metadata": {},
   "outputs": [],
   "source": [
    "sc.pp.filter_genes(\n",
    "    adata_liver, min_cells=1\n",
    ")  # just to reduce the size of the data, remove genes that have no cells"
   ]
  },
  {
   "cell_type": "code",
   "execution_count": 30,
   "metadata": {},
   "outputs": [
    {
     "data": {
      "text/plain": [
       "AnnData object with n_obs × n_vars = 107428 × 37102\n",
       "    obs: 'Patient', 'Sample', 'Cell_type', 'Cell_subtype', 'Tissue', 'Therapy', 'doublet_score', 'n_genes_by_counts', 'total_counts', 'pct_counts_mt', 'pct_counts_ribo', 'cell_source'\n",
       "    var: 'n_cells'"
      ]
     },
     "execution_count": 30,
     "metadata": {},
     "output_type": "execute_result"
    }
   ],
   "source": [
    "adata_liver"
   ]
  },
  {
   "cell_type": "code",
   "execution_count": 31,
   "metadata": {},
   "outputs": [
    {
     "data": {
      "text/html": [
       "<div>\n",
       "<style scoped>\n",
       "    .dataframe tbody tr th:only-of-type {\n",
       "        vertical-align: middle;\n",
       "    }\n",
       "\n",
       "    .dataframe tbody tr th {\n",
       "        vertical-align: top;\n",
       "    }\n",
       "\n",
       "    .dataframe thead th {\n",
       "        text-align: right;\n",
       "    }\n",
       "</style>\n",
       "<table border=\"1\" class=\"dataframe\">\n",
       "  <thead>\n",
       "    <tr style=\"text-align: right;\">\n",
       "      <th></th>\n",
       "      <th>Patient</th>\n",
       "      <th>Sample</th>\n",
       "      <th>Cell_type</th>\n",
       "      <th>Cell_subtype</th>\n",
       "      <th>Tissue</th>\n",
       "      <th>Therapy</th>\n",
       "      <th>doublet_score</th>\n",
       "      <th>n_genes_by_counts</th>\n",
       "      <th>total_counts</th>\n",
       "      <th>pct_counts_mt</th>\n",
       "      <th>pct_counts_ribo</th>\n",
       "      <th>cell_source</th>\n",
       "    </tr>\n",
       "  </thead>\n",
       "  <tbody>\n",
       "    <tr>\n",
       "      <th>CRC01_LM#AAACATGCATCAGCAC-1-BCI-Nuclei</th>\n",
       "      <td>CRC01</td>\n",
       "      <td>CRC01_LM</td>\n",
       "      <td>Myeloid</td>\n",
       "      <td>No annotation</td>\n",
       "      <td>LM</td>\n",
       "      <td>NAC</td>\n",
       "      <td>0.001115</td>\n",
       "      <td>727</td>\n",
       "      <td>981.0</td>\n",
       "      <td>3.771662</td>\n",
       "      <td>1.630989</td>\n",
       "      <td>BCI-Nuclei</td>\n",
       "    </tr>\n",
       "    <tr>\n",
       "      <th>CRC01_LM#AACATAGCAGGATAAC-1-BCI-Nuclei</th>\n",
       "      <td>CRC01</td>\n",
       "      <td>CRC01_LM</td>\n",
       "      <td>Myeloid</td>\n",
       "      <td>No annotation</td>\n",
       "      <td>LM</td>\n",
       "      <td>NAC</td>\n",
       "      <td>0.002359</td>\n",
       "      <td>365</td>\n",
       "      <td>461.0</td>\n",
       "      <td>1.301518</td>\n",
       "      <td>4.555315</td>\n",
       "      <td>BCI-Nuclei</td>\n",
       "    </tr>\n",
       "    <tr>\n",
       "      <th>CRC01_LM#AACTCACAGAATGACG-1-BCI-Nuclei</th>\n",
       "      <td>CRC01</td>\n",
       "      <td>CRC01_LM</td>\n",
       "      <td>Myeloid</td>\n",
       "      <td>No annotation</td>\n",
       "      <td>LM</td>\n",
       "      <td>NAC</td>\n",
       "      <td>0.011868</td>\n",
       "      <td>1363</td>\n",
       "      <td>1710.0</td>\n",
       "      <td>2.456140</td>\n",
       "      <td>5.672515</td>\n",
       "      <td>BCI-Nuclei</td>\n",
       "    </tr>\n",
       "    <tr>\n",
       "      <th>CRC01_LM#AGAACAAGTGGTTATG-1-BCI-Nuclei</th>\n",
       "      <td>CRC01</td>\n",
       "      <td>CRC01_LM</td>\n",
       "      <td>Endothelial</td>\n",
       "      <td>No annotation</td>\n",
       "      <td>LM</td>\n",
       "      <td>NAC</td>\n",
       "      <td>0.000901</td>\n",
       "      <td>983</td>\n",
       "      <td>1220.0</td>\n",
       "      <td>2.377049</td>\n",
       "      <td>1.557377</td>\n",
       "      <td>BCI-Nuclei</td>\n",
       "    </tr>\n",
       "    <tr>\n",
       "      <th>CRC01_LM#AGGTTGCGTGAGCAAG-1-BCI-Nuclei</th>\n",
       "      <td>CRC01</td>\n",
       "      <td>CRC01_LM</td>\n",
       "      <td>Endothelial</td>\n",
       "      <td>No annotation</td>\n",
       "      <td>LM</td>\n",
       "      <td>NAC</td>\n",
       "      <td>0.000203</td>\n",
       "      <td>5086</td>\n",
       "      <td>10885.0</td>\n",
       "      <td>2.351860</td>\n",
       "      <td>1.341295</td>\n",
       "      <td>BCI-Nuclei</td>\n",
       "    </tr>\n",
       "    <tr>\n",
       "      <th>...</th>\n",
       "      <td>...</td>\n",
       "      <td>...</td>\n",
       "      <td>...</td>\n",
       "      <td>...</td>\n",
       "      <td>...</td>\n",
       "      <td>...</td>\n",
       "      <td>...</td>\n",
       "      <td>...</td>\n",
       "      <td>...</td>\n",
       "      <td>...</td>\n",
       "      <td>...</td>\n",
       "      <td>...</td>\n",
       "    </tr>\n",
       "    <tr>\n",
       "      <th>P8_Liver_T_GAGAAATAGGCCTGAA-Wu-Cells</th>\n",
       "      <td>Wu2021_P8</td>\n",
       "      <td>P8_Liver_T</td>\n",
       "      <td>Plasma</td>\n",
       "      <td>IGHG+ Plasma B cells</td>\n",
       "      <td>LM</td>\n",
       "      <td>naive</td>\n",
       "      <td>0.133690</td>\n",
       "      <td>2624</td>\n",
       "      <td>17023.0</td>\n",
       "      <td>2.202902</td>\n",
       "      <td>20.178581</td>\n",
       "      <td>Wu-Cells</td>\n",
       "    </tr>\n",
       "    <tr>\n",
       "      <th>P15_Liver_T_TTATTGCTCGCTAATG-1-Wu-Cells</th>\n",
       "      <td>Wu2021_P15</td>\n",
       "      <td>P15_Liver_T</td>\n",
       "      <td>Plasma</td>\n",
       "      <td>IGHA+ Plasma B cells</td>\n",
       "      <td>LM</td>\n",
       "      <td>NAC</td>\n",
       "      <td>0.132075</td>\n",
       "      <td>903</td>\n",
       "      <td>3453.0</td>\n",
       "      <td>2.114104</td>\n",
       "      <td>16.999712</td>\n",
       "      <td>Wu-Cells</td>\n",
       "    </tr>\n",
       "    <tr>\n",
       "      <th>P17_Liver_T_AAATGGACATGGAAGC-1-Wu-Cells</th>\n",
       "      <td>Wu2021_P17</td>\n",
       "      <td>P17_Liver_T</td>\n",
       "      <td>Plasma</td>\n",
       "      <td>IGHG+ Plasma B cells</td>\n",
       "      <td>LM</td>\n",
       "      <td>naive</td>\n",
       "      <td>0.148265</td>\n",
       "      <td>1680</td>\n",
       "      <td>7002.0</td>\n",
       "      <td>3.313339</td>\n",
       "      <td>13.938874</td>\n",
       "      <td>Wu-Cells</td>\n",
       "    </tr>\n",
       "    <tr>\n",
       "      <th>P18_Liver_T_TAACCAGCACTGCGAC-1-Wu-Cells</th>\n",
       "      <td>Wu2021_P18</td>\n",
       "      <td>P18_Liver_T</td>\n",
       "      <td>Plasma</td>\n",
       "      <td>IGHA+ Plasma B cells</td>\n",
       "      <td>LM</td>\n",
       "      <td>NAC</td>\n",
       "      <td>0.203540</td>\n",
       "      <td>776</td>\n",
       "      <td>2594.0</td>\n",
       "      <td>9.483423</td>\n",
       "      <td>3.700848</td>\n",
       "      <td>Wu-Cells</td>\n",
       "    </tr>\n",
       "    <tr>\n",
       "      <th>P19_Liver_T_ATTTACCAGCGACTGA-1-Wu-Cells</th>\n",
       "      <td>Wu2021_P19</td>\n",
       "      <td>P19_Liver_T</td>\n",
       "      <td>Plasma</td>\n",
       "      <td>IGHA+ Plasma B cells</td>\n",
       "      <td>LM</td>\n",
       "      <td>NAC</td>\n",
       "      <td>0.092437</td>\n",
       "      <td>1364</td>\n",
       "      <td>4740.0</td>\n",
       "      <td>3.206751</td>\n",
       "      <td>8.185654</td>\n",
       "      <td>Wu-Cells</td>\n",
       "    </tr>\n",
       "  </tbody>\n",
       "</table>\n",
       "<p>107428 rows × 12 columns</p>\n",
       "</div>"
      ],
      "text/plain": [
       "                                            Patient       Sample    Cell_type  \\\n",
       "CRC01_LM#AAACATGCATCAGCAC-1-BCI-Nuclei        CRC01     CRC01_LM      Myeloid   \n",
       "CRC01_LM#AACATAGCAGGATAAC-1-BCI-Nuclei        CRC01     CRC01_LM      Myeloid   \n",
       "CRC01_LM#AACTCACAGAATGACG-1-BCI-Nuclei        CRC01     CRC01_LM      Myeloid   \n",
       "CRC01_LM#AGAACAAGTGGTTATG-1-BCI-Nuclei        CRC01     CRC01_LM  Endothelial   \n",
       "CRC01_LM#AGGTTGCGTGAGCAAG-1-BCI-Nuclei        CRC01     CRC01_LM  Endothelial   \n",
       "...                                             ...          ...          ...   \n",
       "P8_Liver_T_GAGAAATAGGCCTGAA-Wu-Cells      Wu2021_P8   P8_Liver_T       Plasma   \n",
       "P15_Liver_T_TTATTGCTCGCTAATG-1-Wu-Cells  Wu2021_P15  P15_Liver_T       Plasma   \n",
       "P17_Liver_T_AAATGGACATGGAAGC-1-Wu-Cells  Wu2021_P17  P17_Liver_T       Plasma   \n",
       "P18_Liver_T_TAACCAGCACTGCGAC-1-Wu-Cells  Wu2021_P18  P18_Liver_T       Plasma   \n",
       "P19_Liver_T_ATTTACCAGCGACTGA-1-Wu-Cells  Wu2021_P19  P19_Liver_T       Plasma   \n",
       "\n",
       "                                                 Cell_subtype Tissue Therapy  \\\n",
       "CRC01_LM#AAACATGCATCAGCAC-1-BCI-Nuclei          No annotation     LM     NAC   \n",
       "CRC01_LM#AACATAGCAGGATAAC-1-BCI-Nuclei          No annotation     LM     NAC   \n",
       "CRC01_LM#AACTCACAGAATGACG-1-BCI-Nuclei          No annotation     LM     NAC   \n",
       "CRC01_LM#AGAACAAGTGGTTATG-1-BCI-Nuclei          No annotation     LM     NAC   \n",
       "CRC01_LM#AGGTTGCGTGAGCAAG-1-BCI-Nuclei          No annotation     LM     NAC   \n",
       "...                                                       ...    ...     ...   \n",
       "P8_Liver_T_GAGAAATAGGCCTGAA-Wu-Cells     IGHG+ Plasma B cells     LM   naive   \n",
       "P15_Liver_T_TTATTGCTCGCTAATG-1-Wu-Cells  IGHA+ Plasma B cells     LM     NAC   \n",
       "P17_Liver_T_AAATGGACATGGAAGC-1-Wu-Cells  IGHG+ Plasma B cells     LM   naive   \n",
       "P18_Liver_T_TAACCAGCACTGCGAC-1-Wu-Cells  IGHA+ Plasma B cells     LM     NAC   \n",
       "P19_Liver_T_ATTTACCAGCGACTGA-1-Wu-Cells  IGHA+ Plasma B cells     LM     NAC   \n",
       "\n",
       "                                         doublet_score  n_genes_by_counts  \\\n",
       "CRC01_LM#AAACATGCATCAGCAC-1-BCI-Nuclei        0.001115                727   \n",
       "CRC01_LM#AACATAGCAGGATAAC-1-BCI-Nuclei        0.002359                365   \n",
       "CRC01_LM#AACTCACAGAATGACG-1-BCI-Nuclei        0.011868               1363   \n",
       "CRC01_LM#AGAACAAGTGGTTATG-1-BCI-Nuclei        0.000901                983   \n",
       "CRC01_LM#AGGTTGCGTGAGCAAG-1-BCI-Nuclei        0.000203               5086   \n",
       "...                                                ...                ...   \n",
       "P8_Liver_T_GAGAAATAGGCCTGAA-Wu-Cells          0.133690               2624   \n",
       "P15_Liver_T_TTATTGCTCGCTAATG-1-Wu-Cells       0.132075                903   \n",
       "P17_Liver_T_AAATGGACATGGAAGC-1-Wu-Cells       0.148265               1680   \n",
       "P18_Liver_T_TAACCAGCACTGCGAC-1-Wu-Cells       0.203540                776   \n",
       "P19_Liver_T_ATTTACCAGCGACTGA-1-Wu-Cells       0.092437               1364   \n",
       "\n",
       "                                         total_counts  pct_counts_mt  \\\n",
       "CRC01_LM#AAACATGCATCAGCAC-1-BCI-Nuclei          981.0       3.771662   \n",
       "CRC01_LM#AACATAGCAGGATAAC-1-BCI-Nuclei          461.0       1.301518   \n",
       "CRC01_LM#AACTCACAGAATGACG-1-BCI-Nuclei         1710.0       2.456140   \n",
       "CRC01_LM#AGAACAAGTGGTTATG-1-BCI-Nuclei         1220.0       2.377049   \n",
       "CRC01_LM#AGGTTGCGTGAGCAAG-1-BCI-Nuclei        10885.0       2.351860   \n",
       "...                                               ...            ...   \n",
       "P8_Liver_T_GAGAAATAGGCCTGAA-Wu-Cells          17023.0       2.202902   \n",
       "P15_Liver_T_TTATTGCTCGCTAATG-1-Wu-Cells        3453.0       2.114104   \n",
       "P17_Liver_T_AAATGGACATGGAAGC-1-Wu-Cells        7002.0       3.313339   \n",
       "P18_Liver_T_TAACCAGCACTGCGAC-1-Wu-Cells        2594.0       9.483423   \n",
       "P19_Liver_T_ATTTACCAGCGACTGA-1-Wu-Cells        4740.0       3.206751   \n",
       "\n",
       "                                         pct_counts_ribo cell_source  \n",
       "CRC01_LM#AAACATGCATCAGCAC-1-BCI-Nuclei          1.630989  BCI-Nuclei  \n",
       "CRC01_LM#AACATAGCAGGATAAC-1-BCI-Nuclei          4.555315  BCI-Nuclei  \n",
       "CRC01_LM#AACTCACAGAATGACG-1-BCI-Nuclei          5.672515  BCI-Nuclei  \n",
       "CRC01_LM#AGAACAAGTGGTTATG-1-BCI-Nuclei          1.557377  BCI-Nuclei  \n",
       "CRC01_LM#AGGTTGCGTGAGCAAG-1-BCI-Nuclei          1.341295  BCI-Nuclei  \n",
       "...                                                  ...         ...  \n",
       "P8_Liver_T_GAGAAATAGGCCTGAA-Wu-Cells           20.178581    Wu-Cells  \n",
       "P15_Liver_T_TTATTGCTCGCTAATG-1-Wu-Cells        16.999712    Wu-Cells  \n",
       "P17_Liver_T_AAATGGACATGGAAGC-1-Wu-Cells        13.938874    Wu-Cells  \n",
       "P18_Liver_T_TAACCAGCACTGCGAC-1-Wu-Cells         3.700848    Wu-Cells  \n",
       "P19_Liver_T_ATTTACCAGCGACTGA-1-Wu-Cells         8.185654    Wu-Cells  \n",
       "\n",
       "[107428 rows x 12 columns]"
      ]
     },
     "execution_count": 31,
     "metadata": {},
     "output_type": "execute_result"
    }
   ],
   "source": [
    "adata_liver.obs"
   ]
  },
  {
   "cell_type": "code",
   "execution_count": 32,
   "metadata": {},
   "outputs": [
    {
     "data": {
      "text/html": [
       "<div>\n",
       "<style scoped>\n",
       "    .dataframe tbody tr th:only-of-type {\n",
       "        vertical-align: middle;\n",
       "    }\n",
       "\n",
       "    .dataframe tbody tr th {\n",
       "        vertical-align: top;\n",
       "    }\n",
       "\n",
       "    .dataframe thead th {\n",
       "        text-align: right;\n",
       "    }\n",
       "</style>\n",
       "<table border=\"1\" class=\"dataframe\">\n",
       "  <thead>\n",
       "    <tr style=\"text-align: right;\">\n",
       "      <th></th>\n",
       "      <th>n_cells</th>\n",
       "    </tr>\n",
       "  </thead>\n",
       "  <tbody>\n",
       "    <tr>\n",
       "      <th>A1BG</th>\n",
       "      <td>15552</td>\n",
       "    </tr>\n",
       "    <tr>\n",
       "      <th>A1BG-AS1</th>\n",
       "      <td>1504</td>\n",
       "    </tr>\n",
       "    <tr>\n",
       "      <th>A1CF</th>\n",
       "      <td>536</td>\n",
       "    </tr>\n",
       "    <tr>\n",
       "      <th>A2M</th>\n",
       "      <td>7274</td>\n",
       "    </tr>\n",
       "    <tr>\n",
       "      <th>A2M-AS1</th>\n",
       "      <td>2075</td>\n",
       "    </tr>\n",
       "    <tr>\n",
       "      <th>...</th>\n",
       "      <td>...</td>\n",
       "    </tr>\n",
       "    <tr>\n",
       "      <th>ZYX</th>\n",
       "      <td>19380</td>\n",
       "    </tr>\n",
       "    <tr>\n",
       "      <th>ZZEF1</th>\n",
       "      <td>6826</td>\n",
       "    </tr>\n",
       "    <tr>\n",
       "      <th>ZZZ3</th>\n",
       "      <td>1537</td>\n",
       "    </tr>\n",
       "    <tr>\n",
       "      <th>bP-21264C1.2</th>\n",
       "      <td>57</td>\n",
       "    </tr>\n",
       "    <tr>\n",
       "      <th>bP-2189O9.3</th>\n",
       "      <td>3</td>\n",
       "    </tr>\n",
       "  </tbody>\n",
       "</table>\n",
       "<p>37102 rows × 1 columns</p>\n",
       "</div>"
      ],
      "text/plain": [
       "              n_cells\n",
       "A1BG            15552\n",
       "A1BG-AS1         1504\n",
       "A1CF              536\n",
       "A2M              7274\n",
       "A2M-AS1          2075\n",
       "...               ...\n",
       "ZYX             19380\n",
       "ZZEF1            6826\n",
       "ZZZ3             1537\n",
       "bP-21264C1.2       57\n",
       "bP-2189O9.3         3\n",
       "\n",
       "[37102 rows x 1 columns]"
      ]
     },
     "execution_count": 32,
     "metadata": {},
     "output_type": "execute_result"
    }
   ],
   "source": [
    "adata_liver.var"
   ]
  },
  {
   "cell_type": "code",
   "execution_count": 33,
   "metadata": {},
   "outputs": [
    {
     "data": {
      "text/plain": [
       "False"
      ]
     },
     "execution_count": 33,
     "metadata": {},
     "output_type": "execute_result"
    }
   ],
   "source": [
    "# check if data contains MT genes\n",
    "adata_liver.var_names.str.startswith(\"MT-\").any()"
   ]
  },
  {
   "cell_type": "code",
   "execution_count": 34,
   "metadata": {},
   "outputs": [
    {
     "data": {
      "text/plain": [
       "False"
      ]
     },
     "execution_count": 34,
     "metadata": {},
     "output_type": "execute_result"
    }
   ],
   "source": [
    "# check if data contains ribosomal genes\n",
    "adata_liver.var_names.str.startswith((\"RPS\", \"RPL\")).any()"
   ]
  },
  {
   "cell_type": "markdown",
   "metadata": {},
   "source": [
    "### Set colours for dataset, use file colours excel \n",
    "\n",
    "`Che: #8da0cb\n",
    " Wu:  #fc8d62\n",
    " Multiome: #66c2a5`"
   ]
  },
  {
   "cell_type": "code",
   "execution_count": 35,
   "metadata": {},
   "outputs": [
    {
     "data": {
      "text/plain": [
       "['BCI-Nuclei', 'Che-Cells', 'Wu-Cells']"
      ]
     },
     "execution_count": 35,
     "metadata": {},
     "output_type": "execute_result"
    }
   ],
   "source": [
    "# set colours for dataset, need to know order\n",
    "adata_liver.obs.cell_source.cat.categories.values.tolist()"
   ]
  },
  {
   "cell_type": "code",
   "execution_count": 36,
   "metadata": {},
   "outputs": [],
   "source": [
    "adata_liver.uns[\"cell_source_colors\"] = [\"#66c2a5\", \"#8da0cb\", \"#fc8d62\"]"
   ]
  },
  {
   "cell_type": "code",
   "execution_count": 37,
   "metadata": {},
   "outputs": [
    {
     "data": {
      "text/plain": [
       "Index(['NAC', 'naive'], dtype='object')"
      ]
     },
     "execution_count": 37,
     "metadata": {},
     "output_type": "execute_result"
    }
   ],
   "source": [
    "# set colours for therapy\n",
    "adata_liver.obs.Therapy.cat.categories"
   ]
  },
  {
   "cell_type": "code",
   "execution_count": 38,
   "metadata": {},
   "outputs": [],
   "source": [
    "adata_liver.uns[\"Therapy_colors\"] = [\"#ff7f00\", \"#377eb8\"]"
   ]
  },
  {
   "cell_type": "code",
   "execution_count": 39,
   "metadata": {},
   "outputs": [],
   "source": [
    "# set colour for tissue: here only CRC so\n",
    "adata_liver.uns[\"Tissue_colors\"] = [\"#e31a1c\"]"
   ]
  },
  {
   "cell_type": "code",
   "execution_count": 40,
   "metadata": {
    "scrolled": false
   },
   "outputs": [
    {
     "name": "stdout",
     "output_type": "stream",
     "text": [
      "WARNING: saving figure to file /data/BCI-CRC/nasrine/data/CRC/Metastatic_CRC_LM_dataset/data_integration/figures/violinQC_covariates.pdf\n"
     ]
    },
    {
     "data": {
      "image/png": "[encoded data removed]",
      "text/plain": [
       "<Figure size 1395.9x400 with 3 Axes>"
      ]
     },
     "metadata": {
      "image/png": {
       "height": 400,
       "width": 1128
      },
      "needs_background": "light"
     },
     "output_type": "display_data"
    }
   ],
   "source": [
    "# violin plot of some distributions\n",
    "sc.pl.violin(\n",
    "    adata_liver,\n",
    "    keys=[\"n_genes_by_counts\", \"pct_counts_mt\", \"pct_counts_ribo\"],\n",
    "    groupby=\"cell_source\",\n",
    "    jitter=0.1,\n",
    "    multi_panel=True,\n",
    "    rotation=30,\n",
    "    show=True,\n",
    "    save=\"QC_covariates.pdf\",\n",
    ")"
   ]
  },
  {
   "cell_type": "code",
   "execution_count": 41,
   "metadata": {},
   "outputs": [
    {
     "data": {
      "text/plain": [
       "AnnData object with n_obs × n_vars = 107428 × 37102\n",
       "    obs: 'Patient', 'Sample', 'Cell_type', 'Cell_subtype', 'Tissue', 'Therapy', 'doublet_score', 'n_genes_by_counts', 'total_counts', 'pct_counts_mt', 'pct_counts_ribo', 'cell_source'\n",
       "    var: 'n_cells'\n",
       "    uns: 'cell_source_colors', 'Therapy_colors', 'Tissue_colors'"
      ]
     },
     "execution_count": 41,
     "metadata": {},
     "output_type": "execute_result"
    }
   ],
   "source": [
    "adata_liver"
   ]
  },
  {
   "cell_type": "code",
   "execution_count": 42,
   "metadata": {},
   "outputs": [
    {
     "data": {
      "text/plain": [
       "Index(['n_cells'], dtype='object')"
      ]
     },
     "execution_count": 42,
     "metadata": {},
     "output_type": "execute_result"
    }
   ],
   "source": [
    "adata_liver.var.columns"
   ]
  },
  {
   "cell_type": "code",
   "execution_count": 43,
   "metadata": {},
   "outputs": [
    {
     "data": {
      "text/plain": [
       "40676.0"
      ]
     },
     "execution_count": 43,
     "metadata": {},
     "output_type": "execute_result"
    }
   ],
   "source": [
    "np.max(adata_liver.X)"
   ]
  },
  {
   "cell_type": "code",
   "execution_count": 44,
   "metadata": {},
   "outputs": [
    {
     "data": {
      "text/html": [
       "<div>\n",
       "<style scoped>\n",
       "    .dataframe tbody tr th:only-of-type {\n",
       "        vertical-align: middle;\n",
       "    }\n",
       "\n",
       "    .dataframe tbody tr th {\n",
       "        vertical-align: top;\n",
       "    }\n",
       "\n",
       "    .dataframe thead th {\n",
       "        text-align: right;\n",
       "    }\n",
       "</style>\n",
       "<table border=\"1\" class=\"dataframe\">\n",
       "  <thead>\n",
       "    <tr style=\"text-align: right;\">\n",
       "      <th></th>\n",
       "      <th>doublet_score</th>\n",
       "      <th>n_genes_by_counts</th>\n",
       "      <th>total_counts</th>\n",
       "      <th>pct_counts_mt</th>\n",
       "      <th>pct_counts_ribo</th>\n",
       "    </tr>\n",
       "  </thead>\n",
       "  <tbody>\n",
       "    <tr>\n",
       "      <th>count</th>\n",
       "      <td>107428.000000</td>\n",
       "      <td>107428.000000</td>\n",
       "      <td>107428.000000</td>\n",
       "      <td>107428.000000</td>\n",
       "      <td>107428.000000</td>\n",
       "    </tr>\n",
       "    <tr>\n",
       "      <th>mean</th>\n",
       "      <td>0.131951</td>\n",
       "      <td>1167.935045</td>\n",
       "      <td>3586.978013</td>\n",
       "      <td>3.197704</td>\n",
       "      <td>24.637403</td>\n",
       "    </tr>\n",
       "    <tr>\n",
       "      <th>std</th>\n",
       "      <td>0.094447</td>\n",
       "      <td>636.007131</td>\n",
       "      <td>3721.472597</td>\n",
       "      <td>1.962241</td>\n",
       "      <td>10.052085</td>\n",
       "    </tr>\n",
       "    <tr>\n",
       "      <th>min</th>\n",
       "      <td>0.000011</td>\n",
       "      <td>300.000000</td>\n",
       "      <td>393.000000</td>\n",
       "      <td>0.000000</td>\n",
       "      <td>0.167926</td>\n",
       "    </tr>\n",
       "    <tr>\n",
       "      <th>25%</th>\n",
       "      <td>0.065868</td>\n",
       "      <td>778.000000</td>\n",
       "      <td>1856.000000</td>\n",
       "      <td>1.851313</td>\n",
       "      <td>19.126241</td>\n",
       "    </tr>\n",
       "    <tr>\n",
       "      <th>50%</th>\n",
       "      <td>0.110196</td>\n",
       "      <td>1006.000000</td>\n",
       "      <td>2542.000000</td>\n",
       "      <td>2.715964</td>\n",
       "      <td>25.555557</td>\n",
       "    </tr>\n",
       "    <tr>\n",
       "      <th>75%</th>\n",
       "      <td>0.173469</td>\n",
       "      <td>1321.000000</td>\n",
       "      <td>3734.000000</td>\n",
       "      <td>4.063880</td>\n",
       "      <td>31.217007</td>\n",
       "    </tr>\n",
       "    <tr>\n",
       "      <th>max</th>\n",
       "      <td>0.887500</td>\n",
       "      <td>12886.000000</td>\n",
       "      <td>114650.000000</td>\n",
       "      <td>9.998728</td>\n",
       "      <td>64.279480</td>\n",
       "    </tr>\n",
       "  </tbody>\n",
       "</table>\n",
       "</div>"
      ],
      "text/plain": [
       "       doublet_score  n_genes_by_counts   total_counts  pct_counts_mt  \\\n",
       "count  107428.000000      107428.000000  107428.000000  107428.000000   \n",
       "mean        0.131951        1167.935045    3586.978013       3.197704   \n",
       "std         0.094447         636.007131    3721.472597       1.962241   \n",
       "min         0.000011         300.000000     393.000000       0.000000   \n",
       "25%         0.065868         778.000000    1856.000000       1.851313   \n",
       "50%         0.110196        1006.000000    2542.000000       2.715964   \n",
       "75%         0.173469        1321.000000    3734.000000       4.063880   \n",
       "max         0.887500       12886.000000  114650.000000       9.998728   \n",
       "\n",
       "       pct_counts_ribo  \n",
       "count    107428.000000  \n",
       "mean         24.637403  \n",
       "std          10.052085  \n",
       "min           0.167926  \n",
       "25%          19.126241  \n",
       "50%          25.555557  \n",
       "75%          31.217007  \n",
       "max          64.279480  "
      ]
     },
     "execution_count": 44,
     "metadata": {},
     "output_type": "execute_result"
    }
   ],
   "source": [
    "adata_liver.obs.describe()"
   ]
  },
  {
   "cell_type": "code",
   "execution_count": 45,
   "metadata": {},
   "outputs": [
    {
     "data": {
      "text/html": [
       "<div>\n",
       "<style scoped>\n",
       "    .dataframe tbody tr th:only-of-type {\n",
       "        vertical-align: middle;\n",
       "    }\n",
       "\n",
       "    .dataframe tbody tr th {\n",
       "        vertical-align: top;\n",
       "    }\n",
       "\n",
       "    .dataframe thead th {\n",
       "        text-align: right;\n",
       "    }\n",
       "</style>\n",
       "<table border=\"1\" class=\"dataframe\">\n",
       "  <thead>\n",
       "    <tr style=\"text-align: right;\">\n",
       "      <th></th>\n",
       "      <th>n_cells</th>\n",
       "    </tr>\n",
       "  </thead>\n",
       "  <tbody>\n",
       "    <tr>\n",
       "      <th>count</th>\n",
       "      <td>37102.000000</td>\n",
       "    </tr>\n",
       "    <tr>\n",
       "      <th>mean</th>\n",
       "      <td>3138.863053</td>\n",
       "    </tr>\n",
       "    <tr>\n",
       "      <th>std</th>\n",
       "      <td>8530.433753</td>\n",
       "    </tr>\n",
       "    <tr>\n",
       "      <th>min</th>\n",
       "      <td>1.000000</td>\n",
       "    </tr>\n",
       "    <tr>\n",
       "      <th>25%</th>\n",
       "      <td>9.000000</td>\n",
       "    </tr>\n",
       "    <tr>\n",
       "      <th>50%</th>\n",
       "      <td>95.000000</td>\n",
       "    </tr>\n",
       "    <tr>\n",
       "      <th>75%</th>\n",
       "      <td>2007.750000</td>\n",
       "    </tr>\n",
       "    <tr>\n",
       "      <th>max</th>\n",
       "      <td>107236.000000</td>\n",
       "    </tr>\n",
       "  </tbody>\n",
       "</table>\n",
       "</div>"
      ],
      "text/plain": [
       "             n_cells\n",
       "count   37102.000000\n",
       "mean     3138.863053\n",
       "std      8530.433753\n",
       "min         1.000000\n",
       "25%         9.000000\n",
       "50%        95.000000\n",
       "75%      2007.750000\n",
       "max    107236.000000"
      ]
     },
     "execution_count": 45,
     "metadata": {},
     "output_type": "execute_result"
    }
   ],
   "source": [
    "adata_liver.var.describe()"
   ]
  },
  {
   "cell_type": "code",
   "execution_count": 46,
   "metadata": {},
   "outputs": [],
   "source": [
    "adata_liver.write(DIR2SAVE.joinpath(\"Multiome_Che_Wu_CRC_LM_raw.h5ad\"))"
   ]
  },
  {
   "cell_type": "markdown",
   "metadata": {},
   "source": [
    "### Check that the Patient names are all there "
   ]
  },
  {
   "cell_type": "code",
   "execution_count": 47,
   "metadata": {},
   "outputs": [
    {
     "data": {
      "text/plain": [
       "41"
      ]
     },
     "execution_count": 47,
     "metadata": {},
     "output_type": "execute_result"
    }
   ],
   "source": [
    "len(set(adata_liver.obs.Patient))"
   ]
  },
  {
   "cell_type": "code",
   "execution_count": 48,
   "metadata": {},
   "outputs": [
    {
     "data": {
      "text/plain": [
       "41"
      ]
     },
     "execution_count": 48,
     "metadata": {},
     "output_type": "execute_result"
    }
   ],
   "source": [
    "(\n",
    "    len(set(adata_multiome_format.obs.Patient))\n",
    "    + len(set(adata_che2021_format.obs.Patient))\n",
    "    + len(set(adata_wu2022_format.obs.Patient))\n",
    ")"
   ]
  },
  {
   "cell_type": "code",
   "execution_count": 49,
   "metadata": {},
   "outputs": [
    {
     "data": {
      "text/html": [
       "<div>\n",
       "<style scoped>\n",
       "    .dataframe tbody tr th:only-of-type {\n",
       "        vertical-align: middle;\n",
       "    }\n",
       "\n",
       "    .dataframe tbody tr th {\n",
       "        vertical-align: top;\n",
       "    }\n",
       "\n",
       "    .dataframe thead th {\n",
       "        text-align: right;\n",
       "    }\n",
       "</style>\n",
       "<table border=\"1\" class=\"dataframe\">\n",
       "  <thead>\n",
       "    <tr style=\"text-align: right;\">\n",
       "      <th></th>\n",
       "      <th>doublet_score</th>\n",
       "      <th>n_genes_by_counts</th>\n",
       "      <th>total_counts</th>\n",
       "      <th>pct_counts_mt</th>\n",
       "      <th>pct_counts_ribo</th>\n",
       "    </tr>\n",
       "  </thead>\n",
       "  <tbody>\n",
       "    <tr>\n",
       "      <th>count</th>\n",
       "      <td>5345.000000</td>\n",
       "      <td>5345.000000</td>\n",
       "      <td>5345.000000</td>\n",
       "      <td>5345.000000</td>\n",
       "      <td>5345.000000</td>\n",
       "    </tr>\n",
       "    <tr>\n",
       "      <th>mean</th>\n",
       "      <td>0.051087</td>\n",
       "      <td>1732.350234</td>\n",
       "      <td>3807.768195</td>\n",
       "      <td>4.271053</td>\n",
       "      <td>3.425424</td>\n",
       "    </tr>\n",
       "    <tr>\n",
       "      <th>std</th>\n",
       "      <td>0.090740</td>\n",
       "      <td>1123.329924</td>\n",
       "      <td>5029.480225</td>\n",
       "      <td>2.801661</td>\n",
       "      <td>2.479981</td>\n",
       "    </tr>\n",
       "    <tr>\n",
       "      <th>min</th>\n",
       "      <td>0.000011</td>\n",
       "      <td>328.000000</td>\n",
       "      <td>393.000000</td>\n",
       "      <td>0.063980</td>\n",
       "      <td>0.167926</td>\n",
       "    </tr>\n",
       "    <tr>\n",
       "      <th>25%</th>\n",
       "      <td>0.003176</td>\n",
       "      <td>950.000000</td>\n",
       "      <td>1413.000000</td>\n",
       "      <td>1.802403</td>\n",
       "      <td>1.659514</td>\n",
       "    </tr>\n",
       "    <tr>\n",
       "      <th>50%</th>\n",
       "      <td>0.015547</td>\n",
       "      <td>1421.000000</td>\n",
       "      <td>2394.000000</td>\n",
       "      <td>3.900310</td>\n",
       "      <td>2.879213</td>\n",
       "    </tr>\n",
       "    <tr>\n",
       "      <th>75%</th>\n",
       "      <td>0.050650</td>\n",
       "      <td>2216.000000</td>\n",
       "      <td>4525.000000</td>\n",
       "      <td>6.569759</td>\n",
       "      <td>4.586466</td>\n",
       "    </tr>\n",
       "    <tr>\n",
       "      <th>max</th>\n",
       "      <td>0.499039</td>\n",
       "      <td>12886.000000</td>\n",
       "      <td>114650.000000</td>\n",
       "      <td>9.991236</td>\n",
       "      <td>24.228466</td>\n",
       "    </tr>\n",
       "  </tbody>\n",
       "</table>\n",
       "</div>"
      ],
      "text/plain": [
       "       doublet_score  n_genes_by_counts   total_counts  pct_counts_mt  \\\n",
       "count    5345.000000        5345.000000    5345.000000    5345.000000   \n",
       "mean        0.051087        1732.350234    3807.768195       4.271053   \n",
       "std         0.090740        1123.329924    5029.480225       2.801661   \n",
       "min         0.000011         328.000000     393.000000       0.063980   \n",
       "25%         0.003176         950.000000    1413.000000       1.802403   \n",
       "50%         0.015547        1421.000000    2394.000000       3.900310   \n",
       "75%         0.050650        2216.000000    4525.000000       6.569759   \n",
       "max         0.499039       12886.000000  114650.000000       9.991236   \n",
       "\n",
       "       pct_counts_ribo  \n",
       "count      5345.000000  \n",
       "mean          3.425424  \n",
       "std           2.479981  \n",
       "min           0.167926  \n",
       "25%           1.659514  \n",
       "50%           2.879213  \n",
       "75%           4.586466  \n",
       "max          24.228466  "
      ]
     },
     "execution_count": 49,
     "metadata": {},
     "output_type": "execute_result"
    }
   ],
   "source": [
    "adata_liver.obs[adata_liver.obs.cell_source == \"BCI-Nuclei\"].describe()"
   ]
  },
  {
   "cell_type": "code",
   "execution_count": 50,
   "metadata": {},
   "outputs": [
    {
     "data": {
      "text/html": [
       "<div>\n",
       "<style scoped>\n",
       "    .dataframe tbody tr th:only-of-type {\n",
       "        vertical-align: middle;\n",
       "    }\n",
       "\n",
       "    .dataframe tbody tr th {\n",
       "        vertical-align: top;\n",
       "    }\n",
       "\n",
       "    .dataframe thead th {\n",
       "        text-align: right;\n",
       "    }\n",
       "</style>\n",
       "<table border=\"1\" class=\"dataframe\">\n",
       "  <thead>\n",
       "    <tr style=\"text-align: right;\">\n",
       "      <th></th>\n",
       "      <th>doublet_score</th>\n",
       "      <th>n_genes_by_counts</th>\n",
       "      <th>total_counts</th>\n",
       "      <th>pct_counts_mt</th>\n",
       "      <th>pct_counts_ribo</th>\n",
       "    </tr>\n",
       "  </thead>\n",
       "  <tbody>\n",
       "    <tr>\n",
       "      <th>count</th>\n",
       "      <td>48954.000000</td>\n",
       "      <td>48954.000000</td>\n",
       "      <td>48954.000000</td>\n",
       "      <td>48954.000000</td>\n",
       "      <td>48954.000000</td>\n",
       "    </tr>\n",
       "    <tr>\n",
       "      <th>mean</th>\n",
       "      <td>0.130138</td>\n",
       "      <td>1114.685603</td>\n",
       "      <td>3742.758957</td>\n",
       "      <td>2.734939</td>\n",
       "      <td>27.261827</td>\n",
       "    </tr>\n",
       "    <tr>\n",
       "      <th>std</th>\n",
       "      <td>0.089690</td>\n",
       "      <td>628.722902</td>\n",
       "      <td>4046.672837</td>\n",
       "      <td>1.494021</td>\n",
       "      <td>8.328319</td>\n",
       "    </tr>\n",
       "    <tr>\n",
       "      <th>min</th>\n",
       "      <td>0.003717</td>\n",
       "      <td>302.000000</td>\n",
       "      <td>543.000000</td>\n",
       "      <td>0.000000</td>\n",
       "      <td>0.976928</td>\n",
       "    </tr>\n",
       "    <tr>\n",
       "      <th>25%</th>\n",
       "      <td>0.066362</td>\n",
       "      <td>726.000000</td>\n",
       "      <td>1826.000000</td>\n",
       "      <td>1.772331</td>\n",
       "      <td>21.721081</td>\n",
       "    </tr>\n",
       "    <tr>\n",
       "      <th>50%</th>\n",
       "      <td>0.107287</td>\n",
       "      <td>897.000000</td>\n",
       "      <td>2402.000000</td>\n",
       "      <td>2.452182</td>\n",
       "      <td>27.411117</td>\n",
       "    </tr>\n",
       "    <tr>\n",
       "      <th>75%</th>\n",
       "      <td>0.169231</td>\n",
       "      <td>1277.000000</td>\n",
       "      <td>3800.750000</td>\n",
       "      <td>3.329057</td>\n",
       "      <td>32.773592</td>\n",
       "    </tr>\n",
       "    <tr>\n",
       "      <th>max</th>\n",
       "      <td>0.887500</td>\n",
       "      <td>6770.000000</td>\n",
       "      <td>73441.000000</td>\n",
       "      <td>9.998728</td>\n",
       "      <td>64.279480</td>\n",
       "    </tr>\n",
       "  </tbody>\n",
       "</table>\n",
       "</div>"
      ],
      "text/plain": [
       "       doublet_score  n_genes_by_counts  total_counts  pct_counts_mt  \\\n",
       "count   48954.000000       48954.000000  48954.000000   48954.000000   \n",
       "mean        0.130138        1114.685603   3742.758957       2.734939   \n",
       "std         0.089690         628.722902   4046.672837       1.494021   \n",
       "min         0.003717         302.000000    543.000000       0.000000   \n",
       "25%         0.066362         726.000000   1826.000000       1.772331   \n",
       "50%         0.107287         897.000000   2402.000000       2.452182   \n",
       "75%         0.169231        1277.000000   3800.750000       3.329057   \n",
       "max         0.887500        6770.000000  73441.000000       9.998728   \n",
       "\n",
       "       pct_counts_ribo  \n",
       "count     48954.000000  \n",
       "mean         27.261827  \n",
       "std           8.328319  \n",
       "min           0.976928  \n",
       "25%          21.721081  \n",
       "50%          27.411117  \n",
       "75%          32.773592  \n",
       "max          64.279480  "
      ]
     },
     "execution_count": 50,
     "metadata": {},
     "output_type": "execute_result"
    }
   ],
   "source": [
    "adata_liver.obs[adata_liver.obs.cell_source == \"Che-Cells\"].describe()"
   ]
  },
  {
   "cell_type": "code",
   "execution_count": 51,
   "metadata": {},
   "outputs": [
    {
     "data": {
      "text/html": [
       "<div>\n",
       "<style scoped>\n",
       "    .dataframe tbody tr th:only-of-type {\n",
       "        vertical-align: middle;\n",
       "    }\n",
       "\n",
       "    .dataframe tbody tr th {\n",
       "        vertical-align: top;\n",
       "    }\n",
       "\n",
       "    .dataframe thead th {\n",
       "        text-align: right;\n",
       "    }\n",
       "</style>\n",
       "<table border=\"1\" class=\"dataframe\">\n",
       "  <thead>\n",
       "    <tr style=\"text-align: right;\">\n",
       "      <th></th>\n",
       "      <th>doublet_score</th>\n",
       "      <th>n_genes_by_counts</th>\n",
       "      <th>total_counts</th>\n",
       "      <th>pct_counts_mt</th>\n",
       "      <th>pct_counts_ribo</th>\n",
       "    </tr>\n",
       "  </thead>\n",
       "  <tbody>\n",
       "    <tr>\n",
       "      <th>count</th>\n",
       "      <td>53129.000000</td>\n",
       "      <td>53129.000000</td>\n",
       "      <td>53129.000000</td>\n",
       "      <td>53129.000000</td>\n",
       "      <td>53129.000000</td>\n",
       "    </tr>\n",
       "    <tr>\n",
       "      <th>mean</th>\n",
       "      <td>0.141756</td>\n",
       "      <td>1160.217490</td>\n",
       "      <td>3421.226279</td>\n",
       "      <td>3.516120</td>\n",
       "      <td>24.353226</td>\n",
       "    </tr>\n",
       "    <tr>\n",
       "      <th>std</th>\n",
       "      <td>0.095077</td>\n",
       "      <td>540.413822</td>\n",
       "      <td>3211.869015</td>\n",
       "      <td>2.127156</td>\n",
       "      <td>9.385751</td>\n",
       "    </tr>\n",
       "    <tr>\n",
       "      <th>min</th>\n",
       "      <td>0.006440</td>\n",
       "      <td>300.000000</td>\n",
       "      <td>482.000000</td>\n",
       "      <td>0.000000</td>\n",
       "      <td>0.251256</td>\n",
       "    </tr>\n",
       "    <tr>\n",
       "      <th>25%</th>\n",
       "      <td>0.074597</td>\n",
       "      <td>849.000000</td>\n",
       "      <td>1941.000000</td>\n",
       "      <td>1.965409</td>\n",
       "      <td>18.923077</td>\n",
       "    </tr>\n",
       "    <tr>\n",
       "      <th>50%</th>\n",
       "      <td>0.120690</td>\n",
       "      <td>1066.000000</td>\n",
       "      <td>2679.000000</td>\n",
       "      <td>3.049302</td>\n",
       "      <td>24.947590</td>\n",
       "    </tr>\n",
       "    <tr>\n",
       "      <th>75%</th>\n",
       "      <td>0.181818</td>\n",
       "      <td>1301.000000</td>\n",
       "      <td>3662.000000</td>\n",
       "      <td>4.734369</td>\n",
       "      <td>30.244940</td>\n",
       "    </tr>\n",
       "    <tr>\n",
       "      <th>max</th>\n",
       "      <td>0.880795</td>\n",
       "      <td>6135.000000</td>\n",
       "      <td>64861.000000</td>\n",
       "      <td>9.997656</td>\n",
       "      <td>62.064404</td>\n",
       "    </tr>\n",
       "  </tbody>\n",
       "</table>\n",
       "</div>"
      ],
      "text/plain": [
       "       doublet_score  n_genes_by_counts  total_counts  pct_counts_mt  \\\n",
       "count   53129.000000       53129.000000  53129.000000   53129.000000   \n",
       "mean        0.141756        1160.217490   3421.226279       3.516120   \n",
       "std         0.095077         540.413822   3211.869015       2.127156   \n",
       "min         0.006440         300.000000    482.000000       0.000000   \n",
       "25%         0.074597         849.000000   1941.000000       1.965409   \n",
       "50%         0.120690        1066.000000   2679.000000       3.049302   \n",
       "75%         0.181818        1301.000000   3662.000000       4.734369   \n",
       "max         0.880795        6135.000000  64861.000000       9.997656   \n",
       "\n",
       "       pct_counts_ribo  \n",
       "count     53129.000000  \n",
       "mean         24.353226  \n",
       "std           9.385751  \n",
       "min           0.251256  \n",
       "25%          18.923077  \n",
       "50%          24.947590  \n",
       "75%          30.244940  \n",
       "max          62.064404  "
      ]
     },
     "execution_count": 51,
     "metadata": {},
     "output_type": "execute_result"
    }
   ],
   "source": [
    "adata_liver.obs[adata_liver.obs.cell_source == \"Wu-Cells\"].describe()"
   ]
  },
  {
   "cell_type": "code",
   "execution_count": null,
   "metadata": {},
   "outputs": [],
   "source": []
  }
 ],
 "metadata": {
  "kernelspec": {
   "display_name": "cell2loc19",
   "language": "python",
   "name": "cell2loc19"
  },
  "language_info": {
   "codemirror_mode": {
    "name": "ipython",
    "version": 3
   },
   "file_extension": ".py",
   "mimetype": "text/x-python",
   "name": "python",
   "nbconvert_exporter": "python",
   "pygments_lexer": "ipython3",
   "version": "3.9.13"
  }
 },
 "nbformat": 4,
 "nbformat_minor": 4
}
