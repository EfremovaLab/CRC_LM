{
 "cells": [
  {
   "cell_type": "code",
   "execution_count": null,
   "metadata": {},
   "outputs": [],
   "source": [
    "import scanpy as sc\n",
    "import pandas as pd\n",
    "from pathlib import Path\n",
    "import anndata as ad\n",
    "import numpy as np\n",
    "import os\n",
    "import scvi\n",
    "\n",
    "%config InlineBackend.figure_format = 'retina'\n",
    "%matplotlib inline\n",
    "\n",
    "import matplotlib as mpl\n",
    "import matplotlib.pyplot as plt\n",
    "import seaborn as sns\n",
    "\n",
    "DPI = 300\n",
    "FONTSIZE = 20  # 42\n",
    "\n",
    "sc.settings.set_figure_params(\n",
    "    scanpy=True, dpi=100, transparent=True, vector_friendly=True, dpi_save=DPI\n",
    ")\n",
    "from matplotlib import rcParams\n",
    "\n",
    "rcParams[\"pdf.fonttype\"] = 42"
   ]
  },
  {
   "cell_type": "code",
   "execution_count": null,
   "metadata": {},
   "outputs": [],
   "source": [
    "DIR2SAVE = Path(\n",
    "    \"/data/BCI-CRC/nasrine/data/CRC/Metastatic_CRC_LM_dataset/subpopulations/TNKILC/NK\"\n",
    ")\n",
    "DIR2SAVE.mkdir(parents=True, exist_ok=True)"
   ]
  },
  {
   "cell_type": "code",
   "execution_count": null,
   "metadata": {},
   "outputs": [],
   "source": [
    "FIG2SAVE = DIR2SAVE.joinpath(\"figures/\")\n",
    "FIG2SAVE.mkdir(parents=True, exist_ok=True)\n",
    "# set the global variable: sc.settings.figdir to save all plots\n",
    "sc.settings.figdir = FIG2SAVE"
   ]
  },
  {
   "cell_type": "code",
   "execution_count": null,
   "metadata": {},
   "outputs": [],
   "source": [
    "adata = sc.read_h5ad(\n",
    "    DIR2SAVE.joinpath(\"Multiome_Che_Wu_CRC_LM_integrated_scvi_hvg_NK.h5ad\")\n",
    ")"
   ]
  },
  {
   "cell_type": "code",
   "execution_count": null,
   "metadata": {},
   "outputs": [],
   "source": [
    "adata.shape"
   ]
  },
  {
   "cell_type": "code",
   "execution_count": null,
   "metadata": {},
   "outputs": [],
   "source": [
    "adata.obs.cell_source.value_counts()"
   ]
  },
  {
   "cell_type": "code",
   "execution_count": null,
   "metadata": {},
   "outputs": [],
   "source": [
    "adata.obs.Cell_subtype.value_counts()"
   ]
  },
  {
   "cell_type": "code",
   "execution_count": null,
   "metadata": {},
   "outputs": [],
   "source": [
    "sc.pl.umap(\n",
    "    adata,\n",
    "    color=[\n",
    "        \"NCAM1\",\n",
    "        \"FCER1G\",\n",
    "        \"NCR1\",  # NK\n",
    "        \"LILRB1\",\n",
    "        \"KLRC1\",\n",
    "        \"KLRC2\",\n",
    "        \"CSF1\",\n",
    "        \"ENTPD1\",\n",
    "        \"GZMA\",\n",
    "        \"GZMB\",\n",
    "        \"HAVCR2\",\n",
    "        \"IL2RB\",\n",
    "        \"GNLY\",  # our NK2, dNK1\n",
    "        \"CD160\",\n",
    "        \"RGS2\",\n",
    "        \"CXCR4\",\n",
    "        \"CCL5\",\n",
    "        \"TIGIT\",  # dNK3\n",
    "        \"CD2\",\n",
    "        \"ITGB2\",\n",
    "        \"CD27\",\n",
    "        \"GZMH\",\n",
    "        \"ANXA1\",  # Our NK1 which is dNK2\n",
    "    ],\n",
    "    color_map=\"plasma_r\",\n",
    "    use_raw=True,\n",
    ")  # paper dNK1, our NK2"
   ]
  },
  {
   "cell_type": "code",
   "execution_count": null,
   "metadata": {},
   "outputs": [],
   "source": [
    "sc.pl.umap(\n",
    "    adata,\n",
    "    color=[\n",
    "        \"AREG\",\n",
    "        \"TLE1\",\n",
    "        \"IL4I1\",  # ILC\n",
    "        \"CCR6\",\n",
    "        \"AHR\",\n",
    "        \"IL3RA\",\n",
    "        \"PTGDR2\",\n",
    "        \"KIT\",\n",
    "        \"RORC\",\n",
    "        \"IL7R\",\n",
    "        \"GATA3\",\n",
    "        \"TNFRSF25\",\n",
    "        \"IL4I1\",  # ILC3\n",
    "        \"TBX21\",\n",
    "        \"CD3D\",\n",
    "        \"CXCR3\",  # ILC2\n",
    "        \"KRT1\",\n",
    "        \"HPGDS\",\n",
    "        \"SLAMF1\",  # ILC1\n",
    "    ],\n",
    "    color_map=\"plasma_r\",\n",
    "    use_raw=True,\n",
    ")"
   ]
  },
  {
   "cell_type": "code",
   "execution_count": null,
   "metadata": {},
   "outputs": [],
   "source": [
    "sc.pl.umap(\n",
    "    adata,\n",
    "    color=[\"KLRB1\", \"CD3G\", \"FGFBP2\"],\n",
    "    color_map=\"plasma_r\",\n",
    "    use_raw=True,\n",
    ")"
   ]
  },
  {
   "cell_type": "markdown",
   "metadata": {},
   "source": [
    "### Leiden clustering"
   ]
  },
  {
   "cell_type": "code",
   "execution_count": null,
   "metadata": {},
   "outputs": [],
   "source": [
    "adata.uns[\"neighbors\"]"
   ]
  },
  {
   "cell_type": "code",
   "execution_count": null,
   "metadata": {},
   "outputs": [],
   "source": [
    "from collections import Counter\n",
    "\n",
    "\n",
    "def clustering_leiden_resolution(adata2test, res_range):\n",
    "    \"\"\"\n",
    "    Performs hyperparameter search for resolution in leiden clustering\n",
    "    :param adata2test: AnnData frame\n",
    "    :param res_range: range of values to evaluate: i.e. np.arange(0.1, 1.5, 0.05)\n",
    "    \"\"\"\n",
    "    resolution_dict = {r: None for r in res_range}\n",
    "    # vary resolution parameter and see which nb of clusters occurs more frequently\n",
    "    for r in res_range:\n",
    "        # load adata\n",
    "        adata = adata2test.copy()\n",
    "        sc.tl.leiden(adata, resolution=r, random_state=7)\n",
    "        # store nb of clusters for that resolution\n",
    "        resolution_dict[r] = len(set(adata.obs[\"leiden\"]))\n",
    "\n",
    "    # plot figure: nb clusters in fct of resolution param\n",
    "    fig, ax = plt.subplots(\n",
    "        nrows=1, ncols=1, sharey=False, sharex=False, dpi=DPI, figsize=(5, 4.5)\n",
    "    )\n",
    "    plt.scatter(resolution_dict.keys(), resolution_dict.values())\n",
    "    ax.set_xlabel(\"Resolution\")\n",
    "    ax.set_ylabel(\"Number of clusters\")\n",
    "    ax.tick_params(axis=\"both\", which=\"major\", labelsize=FONTSIZE - 10)\n",
    "    plt.show()\n",
    "\n",
    "    # display nb of times each number of clusters occurs\n",
    "    print(\"Frequency of NB clusters\")\n",
    "    print(Counter(list(resolution_dict.values())))"
   ]
  },
  {
   "cell_type": "code",
   "execution_count": null,
   "metadata": {},
   "outputs": [],
   "source": [
    "clustering_leiden_resolution(adata, res_range=np.arange(0.1, 2, 0.1))"
   ]
  },
  {
   "cell_type": "code",
   "execution_count": null,
   "metadata": {},
   "outputs": [],
   "source": [
    "# neighbors were already computed using Harmony corrected PCs, so we perform clustering on that graph\n",
    "sc.tl.leiden(adata, key_added=\"leiden_scVI_NK\", resolution=0.5, random_state=7)"
   ]
  },
  {
   "cell_type": "code",
   "execution_count": null,
   "metadata": {},
   "outputs": [],
   "source": [
    "sc.pl.umap(\n",
    "    adata,\n",
    "    color=\"leiden_scVI_NK\",\n",
    "    legend_loc=\"on data\",\n",
    "    save=\"NK_general_clustering.pdf\",\n",
    "    show=True,\n",
    ")"
   ]
  },
  {
   "cell_type": "code",
   "execution_count": null,
   "metadata": {},
   "outputs": [],
   "source": [
    "# neighbors were already computed using Harmony corrected PCs, so we perform clustering on that graph\n",
    "sc.tl.leiden(adata, key_added=\"leiden_scVI_NK_r0.7\", resolution=0.7, random_state=7)"
   ]
  },
  {
   "cell_type": "code",
   "execution_count": null,
   "metadata": {},
   "outputs": [],
   "source": [
    "sc.pl.umap(\n",
    "    adata,\n",
    "    color=\"leiden_scVI_NK_r0.7\",\n",
    "    legend_loc=\"on data\",\n",
    "    save=\"NK_general_clustering_r0.7.pdf\",\n",
    "    show=True,\n",
    ")"
   ]
  },
  {
   "cell_type": "markdown",
   "metadata": {},
   "source": [
    "### Plot some markers "
   ]
  },
  {
   "cell_type": "code",
   "execution_count": null,
   "metadata": {},
   "outputs": [],
   "source": [
    "sc.pl.umap(\n",
    "    adata,\n",
    "    color=[\"NCAM1\", \"FCER1G\", \"KLRC1\"],\n",
    "    color_map=\"plasma_r\",\n",
    "    use_raw=True,\n",
    "    show=True,\n",
    "    save=\"NKmarkers.pdf\",\n",
    ")  # NK markers"
   ]
  },
  {
   "cell_type": "code",
   "execution_count": null,
   "metadata": {},
   "outputs": [],
   "source": [
    "sc.pl.umap(\n",
    "    adata,\n",
    "    color=[\"NCAM1\", \"FCER1G\", \"CD8A\", \"CD3G\", \"FGFBP2\"],\n",
    "    color_map=\"plasma_r\",\n",
    "    use_raw=True,\n",
    "    show=True,\n",
    ")"
   ]
  },
  {
   "cell_type": "code",
   "execution_count": null,
   "metadata": {},
   "outputs": [],
   "source": [
    "# ILC markers\n",
    "markers_ILC = {\n",
    "    \"ILC\": [\n",
    "        \"AREG\",\n",
    "        \"TLE1\",\n",
    "        \"IL4I1\",\n",
    "    ],  # ['NCR2', 'ITGAE', 'KIT', 'IL7R', 'KLRB1', 'AHR'],\n",
    "    \"ILC1\": [\"TBX21\", \"CD3D\", \"CXCR3\", \"PLCD4\"],\n",
    "    \"ILC2\": [\"KRT1\", \"HPGDS\", \"SLAMF1\"],  # ['HPGDS', 'GATA3', 'PTGDR2', 'IL1RL1'],\n",
    "    \"ILC3\": [\"IL4I1\", \"RORC\", \"TNFRSF25\", \"SPINK2\", \"KLRB1\", \"IL7R\"],\n",
    "}\n",
    "\n",
    "import itertools\n",
    "\n",
    "# use log1p data stored in .raw\n",
    "markers2plot = list(\n",
    "    itertools.chain(*list(markers_ILC.values()))\n",
    ")  # get all markers in a single list\n",
    "sc.pl.umap(\n",
    "    adata,\n",
    "    color=markers2plot,\n",
    "    use_raw=True,\n",
    "    vmin=0.0,\n",
    "    vmax=\"p99\",\n",
    "    color_map=\"plasma_r\",  #'RdPu',\n",
    "    save=\"markers_ILC.pdf\",\n",
    "    show=True,\n",
    ")"
   ]
  },
  {
   "cell_type": "code",
   "execution_count": null,
   "metadata": {},
   "outputs": [],
   "source": [
    "sc.pl.umap(\n",
    "    adata,\n",
    "    color=[\n",
    "        \"ENTPD1\",\n",
    "        \"CSF1\",\n",
    "        \"KLRC1\",\n",
    "        \"KLRC2\",\n",
    "        \"TIGIT\",\n",
    "        \"CYP26A1\",\n",
    "        \"B4GALNT1\",\n",
    "        \"CD9\",\n",
    "        \"KIR2DL1\",\n",
    "        \"KIR2DL3\",\n",
    "        \"LILRB1\",\n",
    "        \"KLRC3\",\n",
    "    ],\n",
    "    color_map=\"plasma_r\",\n",
    "    use_raw=True,\n",
    ")  # paper dNK1, our NK2"
   ]
  },
  {
   "cell_type": "code",
   "execution_count": null,
   "metadata": {},
   "outputs": [],
   "source": [
    "# our NK1, dNK2 in paper\n",
    "sc.pl.umap(adata, color=[\"ANXA1\", \"ITGB2\"], color_map=\"plasma_r\", use_raw=True)"
   ]
  },
  {
   "cell_type": "code",
   "execution_count": null,
   "metadata": {},
   "outputs": [],
   "source": [
    "# dNK3 in paper\n",
    "# CD160, KLRB1 and CD103 (also known as ITGAE), but not the innate lymphocyte cell marker CD127 (also known as IL7R)\n",
    "sc.pl.umap(\n",
    "    adata, color=[\"CD160\", \"KLRB1\", \"ITGAE\", \"IL7R\"], color_map=\"plasma_r\", use_raw=True\n",
    ")"
   ]
  },
  {
   "cell_type": "code",
   "execution_count": null,
   "metadata": {},
   "outputs": [],
   "source": [
    "sc.pl.umap(\n",
    "    adata,\n",
    "    color=[\"KLRB1\", \"CD3G\", \"FGFBP2\", \"GZMA\", \"CCL5\", \"NKG7\"],\n",
    "    color_map=\"plasma_r\",\n",
    "    use_raw=True,\n",
    "    show=True,\n",
    "    save=\"NK_NKT_markers.pdf\",\n",
    ")  # NKT markers"
   ]
  },
  {
   "cell_type": "code",
   "execution_count": null,
   "metadata": {},
   "outputs": [],
   "source": [
    "sc.pl.umap(adata, color=[\"GNLY\", \"NKG7\", \"CD3D\"], color_map=\"plasma_r\", use_raw=True)\n",
    "# immature NK, immature natural killer cells which originate from natural killer cell precursors and are committed to mature natural killer cells"
   ]
  },
  {
   "cell_type": "code",
   "execution_count": null,
   "metadata": {},
   "outputs": [],
   "source": [
    "### markers for stress\n",
    "# HSP\n",
    "dissocation_markers_dict = {\n",
    "    \"shock protein\": [\n",
    "        \"HSPE1\",\n",
    "        \"HSPA1A\",\n",
    "        \"HSPA1B\",\n",
    "        \"HSP90AA1\",\n",
    "        \"HSP90AB1\",\n",
    "        \"HSPA8\",\n",
    "        \"HSPB1\",\n",
    "    ],\n",
    "    \"immediate early genes\": [\"FOS\", \"JUN\"],\n",
    "}\n",
    "\n",
    "sc.pl.umap(\n",
    "    adata,\n",
    "    color=dissocation_markers_dict[\"shock protein\"],\n",
    "    vmax=\"p99\",\n",
    "    use_raw=True,\n",
    "    vmin=0,\n",
    "    color_map=\"plasma_r\",\n",
    "    save=\"NK_HSPmarkers.pdf\",\n",
    "    show=True,\n",
    ")"
   ]
  },
  {
   "cell_type": "code",
   "execution_count": null,
   "metadata": {},
   "outputs": [],
   "source": [
    "markers = {\n",
    "    \"NK\": [\"NCAM1\", \"FCER1G\", \"KLRC1\"],\n",
    "    #'immature NK': ['GNLY', 'NKG7', 'CD3D'],\n",
    "    \"NK2\": [\n",
    "        \"ENTPD1\",\n",
    "        \"CSF1\",\n",
    "        \"KLRC1\",\n",
    "        \"KLRC2\",\n",
    "        \"CD9\",\n",
    "        \"KIR2DL1\",\n",
    "        \"KIR2DL3\",\n",
    "        \"LILRB1\",\n",
    "        \"KLRC3\",\n",
    "        \"GZMA\",\n",
    "        \"GZMB\",\n",
    "        \"GNLY\",\n",
    "        \"PRF1\",\n",
    "        \"HAVCR2\",\n",
    "        \"EOMES\",\n",
    "        \"IL2RB\",\n",
    "        \"ID3\",\n",
    "    ],  # dNK1\n",
    "    \"NK1\": [\"ANXA1\", \"ITGB2\", \"CD9\", \"CD7\", \"EOMES\", \"XCL1\", \"SELL\", \"IFITM3\"],  # dNK2\n",
    "    \"NK3\": [\n",
    "        \"CCL5\",\n",
    "        \"CD160\",\n",
    "        \"KLRB1\",\n",
    "        \"ITGAE\",\n",
    "        \"AREG\",\n",
    "        \"XCL1\",\n",
    "        \"TIGIT\",\n",
    "        \"FCGR3A\",\n",
    "        \"KLRF1\",\n",
    "        \"ITGB2\",\n",
    "        \"KLRD1\",\n",
    "    ],  # dNK3\n",
    "    \"NKT\": [\"KLRB1\", \"CD3G\", \"FGFBP2\"],\n",
    "    \"HSP\": [\"HSPE1\", \"HSPA1A\", \"HSPA1B\", \"HSP90AA1\", \"HSP90AB1\", \"HSPA8\", \"HSPB1\"],\n",
    "}"
   ]
  },
  {
   "cell_type": "code",
   "execution_count": null,
   "metadata": {},
   "outputs": [],
   "source": [
    "sc.pl.umap(\n",
    "    adata,\n",
    "    color=markers[\"NK1\"],\n",
    "    color_map=\"plasma_r\",\n",
    "    use_raw=True,\n",
    "    show=True,\n",
    "    save=\"NK1_markers.pdf\",\n",
    ")  # NK all markers"
   ]
  },
  {
   "cell_type": "code",
   "execution_count": null,
   "metadata": {},
   "outputs": [],
   "source": [
    "sc.pl.umap(\n",
    "    adata,\n",
    "    color=markers[\"NK2\"],\n",
    "    color_map=\"plasma_r\",\n",
    "    use_raw=True,\n",
    "    show=True,\n",
    "    save=\"NK2_markers.pdf\",\n",
    ")  # NK all markers"
   ]
  },
  {
   "cell_type": "code",
   "execution_count": null,
   "metadata": {},
   "outputs": [],
   "source": [
    "sc.pl.umap(\n",
    "    adata,\n",
    "    color=markers[\"NK3\"],\n",
    "    color_map=\"plasma_r\",\n",
    "    use_raw=True,\n",
    "    show=True,\n",
    "    save=\"NK3_markers.pdf\",\n",
    ")  # NK all markers"
   ]
  },
  {
   "cell_type": "code",
   "execution_count": null,
   "metadata": {},
   "outputs": [],
   "source": [
    "sc.pl.umap(\n",
    "    adata,\n",
    "    color=[\"CD247\", \"IL2RB\", \"KLRF1\", \"NCR1\", \"TRDC\", \"TXK\", \"CLIC3\", \"SH2D1B\"],\n",
    "    color_map=\"plasma_r\",\n",
    "    use_raw=True,\n",
    "    show=True,\n",
    "    save=\"protein_atlas_markers.pdf\",\n",
    ")  # NK all markers"
   ]
  },
  {
   "cell_type": "markdown",
   "metadata": {},
   "source": [
    "### Differential expression to get DE genes upregulated per cluster "
   ]
  },
  {
   "cell_type": "code",
   "execution_count": null,
   "metadata": {},
   "outputs": [],
   "source": [
    "# issue here https://github.com/theislab/single-cell-tutorial/issues/97\n",
    "# This seems to be a scanpy bug as you can see here and here. The latter issue suggests to just add the line:\n",
    "# adata.uns['log1p'][\"base\"] = None after reading again, or downgrading to AnnData<0.8.\n",
    "# Either way, this should be fixed soon by the maintenance team.\n",
    "adata.uns[\"log1p\"][\"base\"] = None"
   ]
  },
  {
   "cell_type": "code",
   "execution_count": null,
   "metadata": {},
   "outputs": [],
   "source": [
    "sc.tl.rank_genes_groups(\n",
    "    adata,\n",
    "    groupby=\"leiden_scVI_NK\",\n",
    "    reference=\"rest\",\n",
    "    method=\"wilcoxon\",\n",
    "    use_raw=True,\n",
    "    layer=None,\n",
    "    pts=True,\n",
    "    corr_method=\"benjamini-hochberg\",\n",
    "    key_added=\"rank_genes_wilcoxon\",\n",
    ")"
   ]
  },
  {
   "cell_type": "code",
   "execution_count": null,
   "metadata": {},
   "outputs": [],
   "source": [
    "sc.pl.rank_genes_groups_dotplot(\n",
    "    adata,\n",
    "    groupby=\"leiden_scVI_NK\",\n",
    "    key=\"rank_genes_wilcoxon\",\n",
    "    var_names=markers,\n",
    "    values_to_plot=\"logfoldchanges\",\n",
    "    cmap=\"bwr\",\n",
    "    vmin=-4,\n",
    "    vmax=4,\n",
    "    min_logfoldchange=1,\n",
    "    colorbar_title=\"log fold change\",\n",
    "    save=\"NKgeneral_dotplot.pdf\",\n",
    "    show=True,\n",
    ")"
   ]
  },
  {
   "cell_type": "code",
   "execution_count": null,
   "metadata": {},
   "outputs": [],
   "source": [
    "sc.pl.rank_genes_groups_dotplot(\n",
    "    adata,\n",
    "    groupby=\"leiden_scVI_NK\",\n",
    "    key=\"rank_genes_wilcoxon\",\n",
    "    var_names=markers_ILC,\n",
    "    values_to_plot=\"logfoldchanges\",\n",
    "    cmap=\"bwr\",\n",
    "    vmin=-4,\n",
    "    vmax=4,\n",
    "    min_logfoldchange=1,\n",
    "    colorbar_title=\"log fold change\",\n",
    "    save=\"NK_ILCmarkers_dotplot.pdf\",\n",
    "    show=True,\n",
    ")"
   ]
  },
  {
   "cell_type": "code",
   "execution_count": null,
   "metadata": {},
   "outputs": [],
   "source": [
    "sc.pl.dotplot(\n",
    "    adata,\n",
    "    groupby=\"leiden_scVI_NK\",\n",
    "    use_raw=True,\n",
    "    var_names=markers,\n",
    "    cmap=\"plasma_r\",\n",
    "    standard_scale=\"var\",\n",
    "    vmin=0,\n",
    "    vmax=1,\n",
    "    colorbar_title=\"Mean expression\",\n",
    "    dendrogram=False,\n",
    "    save=\"NK_dotplot_mean_general.pdf\",\n",
    "    show=True,\n",
    ")"
   ]
  },
  {
   "cell_type": "code",
   "execution_count": null,
   "metadata": {},
   "outputs": [],
   "source": [
    "pval_thresh = 0.05\n",
    "log2fc_thresh = 1\n",
    "cluster_de_genes = dict()\n",
    "for cluster in sorted(set(adata.obs[\"leiden_scVI_NK\"])):\n",
    "    cluster_de_genes[cluster] = sc.get.rank_genes_groups_df(\n",
    "        adata,\n",
    "        group=cluster,\n",
    "        key=\"rank_genes_wilcoxon\",\n",
    "        pval_cutoff=pval_thresh,\n",
    "        log2fc_min=log2fc_thresh,\n",
    "        log2fc_max=None,\n",
    "    ).sort_values(\"logfoldchanges\", ascending=False)\n",
    "\n",
    "# write to excel file DE genes per cluster\n",
    "# Create a Pandas Excel writer using XlsxWriter as the engine.\n",
    "path2save = DIR2SAVE.joinpath(\n",
    "    \"NK_pval{}_log2fc{}.xlsx\".format(pval_thresh, log2fc_thresh)\n",
    ")\n",
    "\n",
    "with pd.ExcelWriter(path2save) as writer:\n",
    "    for cluster in list(cluster_de_genes.keys()):\n",
    "\n",
    "        # get celltype of cluster\n",
    "        # celltype = np.unique(adata[adata.obs['leiden']==cluster,:].obs['cell identity'])[0]\n",
    "\n",
    "        cluster_de_genes[cluster].to_excel(\n",
    "            writer, sheet_name=\"cluster{}\".format(cluster)\n",
    "        )"
   ]
  },
  {
   "cell_type": "markdown",
   "metadata": {},
   "source": [
    "### Annotations"
   ]
  },
  {
   "cell_type": "markdown",
   "metadata": {},
   "source": [
    "**With r=0.7**\n",
    "* Cluster 0: NK2 with GNLY, GZMB, GZMH, KI2DL1, PRF1, KIR3DL2, KLRC2, HAVCR2, LAG3\n",
    "* Cluster 1: NK1 but could be ILC with AREG, KLRC1, KLRB1, but has also KRT81, KRT86, IL2RB, CD7, XCL1\n",
    "* Cluster 2: NK1 with FCER1G, XCL1, CD160, XCL2, CD7, KLRC1\n",
    "* Cluster 3: NKT with CD3G and FGFBP2\n",
    "\n",
    "**but with r=0.5**\n",
    "* Cluster 0: NK1,\n",
    "* Cluster 1: NK2,\n",
    "* Cluster 2: NKT"
   ]
  },
  {
   "cell_type": "markdown",
   "metadata": {},
   "source": [
    "We find that dNK1 cells express higher levels of KIRs that can bind to HLA-C molecules: inhibitory KIR2DL1, KIR2DL2 and KIR2DL3 and activating KIR2DS1 and KIR2DS4 (NK1 contains more cytoplasmic granules than dNK2 and dNK3, which is consistent with our scRNA-seq data that show higher levels of expression of PRF1, GNLY, GZMA and GZMB RNA in this subset\n"
   ]
  },
  {
   "cell_type": "code",
   "execution_count": null,
   "metadata": {},
   "outputs": [],
   "source": [
    "old_to_new = {\n",
    "    \"0\": \"NK1\",  # CD7, KRT81, KRT86, XCL1, XCL2, GZMK, CD160, KLRB1, CD27,\n",
    "    \"1\": \"NK2\",  # GNLY, GZMB, GZMH, KIR2DL1, PRF1, KIR3DL2, HAVCR2;s\n",
    "    \"2\": \"NKT\",\n",
    "}"
   ]
  },
  {
   "cell_type": "code",
   "execution_count": null,
   "metadata": {},
   "outputs": [],
   "source": [
    "adata.obs[\"Annotation_scVI_detailed_NK\"] = (\n",
    "    adata.obs[\"leiden_scVI_NK\"].map(old_to_new).astype(\"category\")\n",
    ")"
   ]
  },
  {
   "cell_type": "code",
   "execution_count": null,
   "metadata": {},
   "outputs": [],
   "source": [
    "adata.obs[\"Annotation_scVI_detailed_NK\"].cat.categories"
   ]
  },
  {
   "cell_type": "markdown",
   "metadata": {},
   "source": [
    "### Colours"
   ]
  },
  {
   "cell_type": "code",
   "execution_count": null,
   "metadata": {},
   "outputs": [],
   "source": [
    "adata.uns[\"Annotation_scVI_detailed_NK_colors\"] = [\"#1d91c0\", \"#dd3497\", \"#a6cee3\"]"
   ]
  },
  {
   "cell_type": "code",
   "execution_count": null,
   "metadata": {},
   "outputs": [],
   "source": [
    "sc.pl.umap(\n",
    "    adata,\n",
    "    color=\"Annotation_scVI_detailed_NK\",\n",
    "    show=True,\n",
    "    legend_loc=\"right margin\",\n",
    "    save=\"NKannotations.pdf\",\n",
    "    title=\"\",\n",
    ")"
   ]
  },
  {
   "cell_type": "code",
   "execution_count": null,
   "metadata": {},
   "outputs": [],
   "source": [
    "# write to file\n",
    "adata.write(\n",
    "    DIR2SAVE.joinpath(\"Multiome_Che_Wu_CRC_LM_integrated_scvi_hvg_NK_clustering.h5ad\")\n",
    ")"
   ]
  },
  {
   "cell_type": "code",
   "execution_count": null,
   "metadata": {},
   "outputs": [],
   "source": [
    "# plot marrkers polished\n",
    "sc.pl.dotplot(\n",
    "    adata,\n",
    "    groupby=\"Annotation_scVI_detailed_NK\",\n",
    "    use_raw=True,\n",
    "    var_names=markers,\n",
    "    cmap=\"plasma_r\",\n",
    "    standard_scale=\"var\",\n",
    "    vmin=0,\n",
    "    vmax=1,\n",
    "    colorbar_title=\"Mean expression\",\n",
    "    dendrogram=False,\n",
    "    save=\"NK_annot_dotplot_mean_general.pdf\",\n",
    "    show=True,\n",
    ")"
   ]
  },
  {
   "cell_type": "code",
   "execution_count": null,
   "metadata": {},
   "outputs": [],
   "source": []
  }
 ],
 "metadata": {
  "kernelspec": {
   "display_name": "cell2loc19",
   "language": "python",
   "name": "cell2loc19"
  },
  "language_info": {
   "codemirror_mode": {
    "name": "ipython",
    "version": 3
   },
   "file_extension": ".py",
   "mimetype": "text/x-python",
   "name": "python",
   "nbconvert_exporter": "python",
   "pygments_lexer": "ipython3",
   "version": "3.9.13"
  }
 },
 "nbformat": 4,
 "nbformat_minor": 4
}
