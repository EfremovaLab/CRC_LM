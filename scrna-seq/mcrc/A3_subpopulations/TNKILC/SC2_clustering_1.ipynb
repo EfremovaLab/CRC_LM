{
 "cells": [
  {
   "cell_type": "code",
   "execution_count": 1,
   "metadata": {},
   "outputs": [
    {
     "name": "stderr",
     "output_type": "stream",
     "text": [
      "Global seed set to 0\n"
     ]
    }
   ],
   "source": [
    "import scanpy as sc\n",
    "import pandas as pd\n",
    "from pathlib import Path\n",
    "import anndata as ad\n",
    "import numpy as np\n",
    "import os\n",
    "import scvi\n",
    "\n",
    "%config InlineBackend.figure_format = 'retina'\n",
    "%matplotlib inline\n",
    "\n",
    "import matplotlib as mpl\n",
    "import matplotlib.pyplot as plt\n",
    "import seaborn as sns\n",
    "\n",
    "DPI = 300\n",
    "FONTSIZE = 20  # 42\n",
    "\n",
    "sc.settings.set_figure_params(\n",
    "    scanpy=True, dpi=100, transparent=True, vector_friendly=True, dpi_save=DPI\n",
    ")\n",
    "from matplotlib import rcParams\n",
    "\n",
    "rcParams[\"pdf.fonttype\"] = 42"
   ]
  },
  {
   "cell_type": "code",
   "execution_count": 2,
   "metadata": {},
   "outputs": [],
   "source": [
    "DIR2SAVE = Path(\n",
    "    \"/data/BCI-CRC/nasrine/data/CRC/Metastatic_CRC_LM_dataset/subpopulations/TNKILC/latent20\"\n",
    ")\n",
    "DIR2SAVE.mkdir(parents=True, exist_ok=True)"
   ]
  },
  {
   "cell_type": "code",
   "execution_count": 3,
   "metadata": {},
   "outputs": [],
   "source": [
    "FIG2SAVE = DIR2SAVE.joinpath(\"figures/\")\n",
    "FIG2SAVE.mkdir(parents=True, exist_ok=True)\n",
    "# set the global variable: sc.settings.figdir to save all plots\n",
    "sc.settings.figdir = FIG2SAVE"
   ]
  },
  {
   "cell_type": "code",
   "execution_count": 4,
   "metadata": {},
   "outputs": [],
   "source": [
    "adata = sc.read_h5ad(\n",
    "    DIR2SAVE.joinpath(\"Multiome_Che_Wu_CRC_LM_integrated_scvi_hvg_TNKILC.h5ad\")\n",
    ")"
   ]
  },
  {
   "cell_type": "code",
   "execution_count": 5,
   "metadata": {},
   "outputs": [
    {
     "data": {
      "text/plain": [
       "AnnData object with n_obs × n_vars = 82184 × 2000\n",
       "    obs: 'Patient', 'Sample', 'Cell_type', 'Cell_subtype', 'Tissue', 'Therapy', 'doublet_score', 'n_genes_by_counts', 'total_counts', 'pct_counts_mt', 'pct_counts_ribo', 'cell_source', 'Annotation_scVI', 'S_score', 'G2M_score', 'phase', 'cell_cycle_diff', '_scvi_batch', '_scvi_labels'\n",
       "    var: 'n_cells', 'highly_variable', 'highly_variable_rank', 'means', 'variances', 'variances_norm', 'highly_variable_nbatches'\n",
       "    uns: 'Annotation_scVI_colors', 'Patient_colors', 'Therapy_colors', 'Tissue_colors', '_scvi_manager_uuid', '_scvi_uuid', 'cell_source_colors', 'hvg', 'log1p', 'neighbors', 'pca', 'phase_colors', 'umap'\n",
       "    obsm: 'X_pca', 'X_scVI', 'X_umap', '_scvi_extra_categorical_covs', '_scvi_extra_continuous_covs'\n",
       "    varm: 'PCs'\n",
       "    layers: 'log1p', 'normalised', 'raw', 'scvi_normalized'\n",
       "    obsp: 'connectivities', 'distances'"
      ]
     },
     "execution_count": 5,
     "metadata": {},
     "output_type": "execute_result"
    }
   ],
   "source": [
    "adata"
   ]
  },
  {
   "cell_type": "code",
   "execution_count": 6,
   "metadata": {},
   "outputs": [
    {
     "data": {
      "text/plain": [
       "Wu-Cells      41894\n",
       "Che-Cells     38645\n",
       "BCI-Nuclei     1645\n",
       "Name: cell_source, dtype: int64"
      ]
     },
     "execution_count": 6,
     "metadata": {},
     "output_type": "execute_result"
    }
   ],
   "source": [
    "adata.obs.cell_source.value_counts()"
   ]
  },
  {
   "cell_type": "markdown",
   "metadata": {},
   "source": [
    "### Leiden clustering"
   ]
  },
  {
   "cell_type": "code",
   "execution_count": null,
   "metadata": {},
   "outputs": [],
   "source": [
    "adata.uns[\"neighbors\"]"
   ]
  },
  {
   "cell_type": "code",
   "execution_count": null,
   "metadata": {},
   "outputs": [],
   "source": [
    "from collections import Counter\n",
    "\n",
    "\n",
    "def clustering_leiden_resolution(adata2test, res_range):\n",
    "    \"\"\"\n",
    "    Performs hyperparameter search for resolution in leiden clustering\n",
    "    :param adata2test: AnnData frame\n",
    "    :param res_range: range of values to evaluate: i.e. np.arange(0.1, 1.5, 0.05)\n",
    "    \"\"\"\n",
    "    resolution_dict = {r: None for r in res_range}\n",
    "    # vary resolution parameter and see which nb of clusters occurs more frequently\n",
    "    for r in res_range:\n",
    "        # load adata\n",
    "        adata = adata2test.copy()\n",
    "        sc.tl.leiden(adata, resolution=r, random_state=7)\n",
    "        # store nb of clusters for that resolution\n",
    "        resolution_dict[r] = len(set(adata.obs[\"leiden\"]))\n",
    "\n",
    "    # plot figure: nb clusters in fct of resolution param\n",
    "    fig, ax = plt.subplots(\n",
    "        nrows=1, ncols=1, sharey=False, sharex=False, dpi=DPI, figsize=(5, 4.5)\n",
    "    )\n",
    "    plt.scatter(resolution_dict.keys(), resolution_dict.values())\n",
    "    ax.set_xlabel(\"Resolution\")\n",
    "    ax.set_ylabel(\"Number of clusters\")\n",
    "    ax.tick_params(axis=\"both\", which=\"major\", labelsize=FONTSIZE - 10)\n",
    "    plt.show()\n",
    "\n",
    "    # display nb of times each number of clusters occurs\n",
    "    print(\"Frequency of NB clusters\")\n",
    "    print(Counter(list(resolution_dict.values())))"
   ]
  },
  {
   "cell_type": "code",
   "execution_count": null,
   "metadata": {},
   "outputs": [],
   "source": [
    "clustering_leiden_resolution(adata, res_range=np.arange(0.1, 1.5, 0.1))"
   ]
  },
  {
   "cell_type": "code",
   "execution_count": null,
   "metadata": {},
   "outputs": [],
   "source": [
    "adata.obs.cell_source.value_counts()"
   ]
  },
  {
   "cell_type": "code",
   "execution_count": null,
   "metadata": {},
   "outputs": [],
   "source": [
    "# neighbors were already computed using Harmony corrected PCs, so we perform clustering on that graph\n",
    "sc.tl.leiden(adata, key_added=\"leiden_scVI\", resolution=1.3, random_state=7)"
   ]
  },
  {
   "cell_type": "code",
   "execution_count": null,
   "metadata": {},
   "outputs": [],
   "source": [
    "sc.pl.umap(\n",
    "    adata,\n",
    "    color=\"leiden_scVI\",\n",
    "    legend_loc=\"on data\",\n",
    "    save=\"general_clustering.pdf\",\n",
    "    show=True,\n",
    ")"
   ]
  },
  {
   "cell_type": "code",
   "execution_count": null,
   "metadata": {},
   "outputs": [],
   "source": [
    "sc.tl.leiden(adata, key_added=\"leiden_scVI_r1\", resolution=1, random_state=7)\n",
    "sc.pl.umap(\n",
    "    adata,\n",
    "    color=\"leiden_scVI_r1\",\n",
    "    legend_loc=\"on data\",\n",
    "    save=\"general_clustering_r1.pdf\",\n",
    "    show=True,\n",
    ")"
   ]
  },
  {
   "cell_type": "code",
   "execution_count": null,
   "metadata": {},
   "outputs": [],
   "source": [
    "sc.tl.leiden(adata, key_added=\"leiden_scVI_r0.4\", resolution=0.4, random_state=7)\n",
    "sc.pl.umap(\n",
    "    adata,\n",
    "    color=\"leiden_scVI_r0.4\",\n",
    "    legend_loc=\"on data\",\n",
    "    save=\"general_clustering_r0.4.pdf\",\n",
    "    show=True,\n",
    ")"
   ]
  },
  {
   "cell_type": "code",
   "execution_count": null,
   "metadata": {},
   "outputs": [],
   "source": [
    "sc.pl.umap(\n",
    "    adata,\n",
    "    color=[\"GZMB\", \"GZMK\", \"CD8A\", \"CD8B\"],\n",
    "    show=True,\n",
    ")"
   ]
  },
  {
   "cell_type": "code",
   "execution_count": null,
   "metadata": {},
   "outputs": [],
   "source": [
    "adata.obs[\"leiden_scVI\"].value_counts()"
   ]
  },
  {
   "cell_type": "code",
   "execution_count": null,
   "metadata": {},
   "outputs": [],
   "source": [
    "adata.obs.Patient.value_counts()"
   ]
  },
  {
   "cell_type": "code",
   "execution_count": null,
   "metadata": {},
   "outputs": [],
   "source": [
    "sc.pl.umap(\n",
    "    adata,\n",
    "    color=[\"S_score\", \"G2M_score\", \"phase\", \"cell_cycle_diff\"],\n",
    "    color_map=\"viridis\",\n",
    "    save=\"cell_cycle.pdf\",\n",
    ")"
   ]
  },
  {
   "cell_type": "code",
   "execution_count": null,
   "metadata": {},
   "outputs": [],
   "source": [
    "sc.pl.umap(\n",
    "    adata,\n",
    "    color=[\n",
    "        \"doublet_score\",\n",
    "        \"n_genes_by_counts\",\n",
    "        \"pct_counts_mt\",\n",
    "        \"pct_counts_ribo\",\n",
    "    ],\n",
    "    color_map=\"viridis\",\n",
    "    save=\"QC_covariates.pdf\",\n",
    ")"
   ]
  },
  {
   "cell_type": "markdown",
   "metadata": {},
   "source": [
    "### Look at distribution of cell source across clusters "
   ]
  },
  {
   "cell_type": "code",
   "execution_count": null,
   "metadata": {},
   "outputs": [],
   "source": [
    "from matplotlib.patches import Rectangle\n",
    "\n",
    "\n",
    "def proportion_cells_patient(\n",
    "    adata, groupby_labels, xlabel: str, ylabel: str, colors: dict, figname: str\n",
    "):  # colors\n",
    "    # compute proportion of cells within each group\n",
    "    table2plot = (\n",
    "        adata.reset_index()\n",
    "        .groupby(groupby_labels)\n",
    "        .size()\n",
    "        .groupby(level=0)\n",
    "        .apply(lambda x: x * 100 / x.sum())\n",
    "        .unstack()\n",
    "    )\n",
    "\n",
    "    fig, ax = plt.subplots(\n",
    "        nrows=1,\n",
    "        ncols=1,\n",
    "        sharey=False,\n",
    "        sharex=False,\n",
    "        dpi=DPI,\n",
    "    )  # figsize=(4, 4))\n",
    "\n",
    "    print(table2plot)\n",
    "    table2plot.plot.bar(stacked=True, ax=ax, color=colors.values())  # , color=colors\n",
    "    ax.set_ylabel(ylabel)\n",
    "    ax.set_xlabel(xlabel)\n",
    "    ax.grid(False, which=\"major\", axis=\"both\")  # removes major horizontal gridlinesd\n",
    "\n",
    "    labels = list(colors.keys())\n",
    "    l = [Rectangle((0, 0), 0, 0, color=color) for color in list(colors.values())]\n",
    "    ax.legend(\n",
    "        l,\n",
    "        labels,\n",
    "        loc=\"upper left\",\n",
    "        bbox_to_anchor=(1, 0.8),\n",
    "        facecolor=\"white\",\n",
    "        edgecolor=\"white\",\n",
    "        ncol=1,\n",
    "        borderaxespad=0.0,\n",
    "        framealpha=0,\n",
    "        frameon=False,\n",
    "    )\n",
    "\n",
    "    plt.savefig(FIG2SAVE.joinpath(figname), dpi=DPI, format=\"pdf\", bbox_inches=\"tight\")\n",
    "    plt.show()"
   ]
  },
  {
   "cell_type": "code",
   "execution_count": null,
   "metadata": {},
   "outputs": [],
   "source": [
    "from collections import OrderedDict\n",
    "\n",
    "color_dict = OrderedDict(\n",
    "    zip(\n",
    "        adata.obs[\"cell_source\"].cat.categories.values.tolist(),\n",
    "        adata.uns[\"cell_source_colors\"],\n",
    "    )\n",
    ")\n",
    "\n",
    "proportion_cells_patient(\n",
    "    adata.obs,\n",
    "    groupby_labels=[\"leiden_scVI\", \"cell_source\"],\n",
    "    xlabel=\"leiden_scVI\",\n",
    "    ylabel=\"Percent Cell source\",\n",
    "    colors=color_dict,\n",
    "    figname=\"leiden_cell_source.pdf\",\n",
    ")"
   ]
  },
  {
   "cell_type": "markdown",
   "metadata": {},
   "source": [
    "### Plot some markers "
   ]
  },
  {
   "cell_type": "code",
   "execution_count": null,
   "metadata": {},
   "outputs": [],
   "source": [
    "markers_T_general = {\n",
    "    \"T\": [\"TRAC\"],\n",
    "    \"CD4\": [\"CD4\"],\n",
    "    \"CD8\": [\"CD8A\", \"CD8B\"],\n",
    "    \"Cycling\": [\"MKI67\"],\n",
    "    \"Treg\": [\"FOXP3\", \"CTLA4\", \"CCR4\", \"IL2RA\"],  # Treg are CD127 (IL7R) low.\n",
    "    \"Exhausted T\": [\n",
    "        \"PDCD1\",\n",
    "        \"LAG3\",\n",
    "        \"HAVCR2\",\n",
    "        \"CTLA4\",\n",
    "        \"TIGIT\",\n",
    "        \"ENTPD1\",\n",
    "    ],  # PD1: PCDC1, TIM3: HAVCR2,  CD39:ENTPD1 https://www.nature.com/articles/s41467-021-23324-4\n",
    "    \"NK\": [\n",
    "        \"EOMES\",\n",
    "        \"CMC1\",\n",
    "        \"GZMK\",\n",
    "        \"XCL1\",\n",
    "        \"NKG7\",\n",
    "        \"PRF1\",\n",
    "        \"NCR1\",\n",
    "        \"KLRC1\",\n",
    "        \"NCAM1\",\n",
    "        \"FCER1G\",\n",
    "        \"ITGA1\",\n",
    "        \"GZMB\",\n",
    "        \"FCGR3A\",\n",
    "    ],\n",
    "    \"ILC\": [\"AREG\", \"TLE1\", \"IL4I1\"],\n",
    "}\n",
    "\n",
    "markers_T_cd4 = {\n",
    "    \"Th\": [\"CD4\", \"IL7R\", \"CD40LG\", \"ANXA1\"],\n",
    "    \"Tfh\": [\"ITM2A\", \"LPAR6\", \"PDCD1\"],\n",
    "    \"Naïve CD4 T\": [\n",
    "        \"CCR7\",\n",
    "        \"SELL\",\n",
    "        \"TCF7\",\n",
    "        \"LEF1\",\n",
    "    ],  # https://www.nature.com/articles/s41467-019-12464-3\n",
    "    \"Th1/Th17/Th2\": [\n",
    "        \"CXCR3\",\n",
    "        \"TBX21\",\n",
    "        \"CCL5\",\n",
    "        \"CCR6\",\n",
    "        \"IL22\",\n",
    "        \"RORA\",\n",
    "        \"IL7R\",\n",
    "        \"IL4\",\n",
    "        \"IL13\",\n",
    "        \"GATA3\",\n",
    "        \"CCR4\",\n",
    "    ],\n",
    "    \"Th17\": [\n",
    "        \"IL17A\",\n",
    "        \"ODF2L\",\n",
    "        \"IL7R\",\n",
    "        \"PDE4D\",\n",
    "    ],  #'CCR4', 'CCR6', 'IL1R1', 'IL6R', 'IL21R', 'IL23R'],# 'TGFBR1', 'RORA', 'RORC', 'BATF', 'IRF4'], # IL17 not in data\n",
    "    \"Th1\": [\"CCL5\", \"PHLDA1\", \"LYAR\"],\n",
    "}\n",
    "\n",
    "markers_T_cd8 = {\n",
    "    \"Effector CD8\": [\n",
    "        \"CCL4\",\n",
    "        \"CCL5\",\n",
    "        \"GZMK\",\n",
    "        \"GZMB\",\n",
    "        \"PFN1\",\n",
    "        \"GZMA\",\n",
    "        \"GZMH\",\n",
    "        \"NKG7\",\n",
    "    ],  # Cytotoxic is same as effector for the effector, if it’s only one cluster, and doesn’t have TCF7/CCR7, I would annotate them just as effector\n",
    "    \"Tmem\": [\n",
    "        \"CCR7\",\n",
    "        \"PTPRC\",\n",
    "        \"ENPP1\",\n",
    "    ],  # https://panglaodb.se/markers.html?cell_type=%27T%20memory%20cells%27\n",
    "    \"Naive cytotoxic\": [\"CD8A\", \"CCR7\", \"SELL\"],\n",
    "}\n",
    "\n",
    "markers_T_other = {\n",
    "    \"gdT\": [\"KLRC2\", \"TRGC1\", \"TRGC2\", \"TRDC\"],  # not in data: 'TCRD','TCRG'\n",
    "    \"NKT\": [\"GZMA\", \"CCL5\", \"NKG7\", \"KLRB1\", \"CD3G\", \"FGFBP2\"],\n",
    "    \"MAIT\": [\"SLC4A10\", \"NCR3\", \"KLRB1\"],\n",
    "}\n",
    "\n",
    "markers_ILC = {\n",
    "    \"ILC\": [\n",
    "        \"AREG\",\n",
    "        \"TLE1\",\n",
    "        \"IL4I1\",\n",
    "    ],  # ['NCR2', 'ITGAE', 'KIT', 'IL7R', 'KLRB1', 'AHR'],\n",
    "    \"ILC1\": [\"TBX21\", \"CD3D\", \"CXCR3\", \"PLCD4\"],\n",
    "    \"ILC2\": [\"KRT1\", \"HPGDS\", \"SLAMF1\"],  # ['HPGDS', 'GATA3', 'PTGDR2', 'IL1RL1'],\n",
    "    \"ILC3\": [\"IL4I1\", \"RORC\", \"TNFRSF25\", \"SPINK2\", \"KLRB1\", \"IL7R\"],\n",
    "}"
   ]
  },
  {
   "cell_type": "code",
   "execution_count": null,
   "metadata": {},
   "outputs": [],
   "source": [
    "import itertools\n",
    "\n",
    "# use log1p data stored in .raw\n",
    "markers2plot = list(\n",
    "    itertools.chain(*list(markers_T_general.values()))\n",
    ")  # get all markers in a single list\n",
    "sc.pl.umap(\n",
    "    adata,\n",
    "    color=markers2plot,\n",
    "    use_raw=True,\n",
    "    vmin=0.0,\n",
    "    vmax=\"p99\",\n",
    "    color_map=\"plasma_r\",  #'RdPu',\n",
    "    save=\"general_markers.pdf\",\n",
    "    show=True,\n",
    ")"
   ]
  },
  {
   "cell_type": "code",
   "execution_count": null,
   "metadata": {},
   "outputs": [],
   "source": [
    "import itertools\n",
    "\n",
    "# use log1p data stored in .raw\n",
    "markers2plot = list(\n",
    "    itertools.chain(*list(markers_T_cd4.values()))\n",
    ")  # get all markers in a single list\n",
    "sc.pl.umap(\n",
    "    adata,\n",
    "    color=markers2plot,\n",
    "    use_raw=True,\n",
    "    vmin=0.0,\n",
    "    vmax=\"p99\",\n",
    "    color_map=\"plasma_r\",  #'RdPu',\n",
    "    save=\"markers_cd4.pdf\",\n",
    "    show=True,\n",
    ")"
   ]
  },
  {
   "cell_type": "code",
   "execution_count": null,
   "metadata": {
    "scrolled": false
   },
   "outputs": [],
   "source": [
    "import itertools\n",
    "\n",
    "# use log1p data stored in .raw\n",
    "markers2plot = list(\n",
    "    itertools.chain(*list(markers_T_cd8.values()))\n",
    ")  # get all markers in a single list\n",
    "sc.pl.umap(\n",
    "    adata,\n",
    "    color=markers2plot,\n",
    "    use_raw=True,\n",
    "    vmin=0.0,\n",
    "    vmax=\"p99\",\n",
    "    color_map=\"plasma_r\",  #'RdPu',\n",
    "    save=\"markers_cd8.pdf\",\n",
    "    show=True,\n",
    ")"
   ]
  },
  {
   "cell_type": "code",
   "execution_count": null,
   "metadata": {},
   "outputs": [],
   "source": [
    "import itertools\n",
    "\n",
    "# use log1p data stored in .raw\n",
    "markers2plot = list(\n",
    "    itertools.chain(*list(markers_T_other.values()))\n",
    ")  # get all markers in a single list\n",
    "sc.pl.umap(\n",
    "    adata,\n",
    "    color=markers2plot,\n",
    "    use_raw=True,\n",
    "    vmin=0.0,\n",
    "    vmax=\"p99\",\n",
    "    color_map=\"plasma_r\",  #'RdPu',\n",
    "    save=\"markers_other.pdf\",\n",
    "    show=True,\n",
    ")"
   ]
  },
  {
   "cell_type": "code",
   "execution_count": null,
   "metadata": {},
   "outputs": [],
   "source": [
    "import itertools\n",
    "\n",
    "# use log1p data stored in .raw\n",
    "markers2plot = list(\n",
    "    itertools.chain(*list(markers_ILC.values()))\n",
    ")  # get all markers in a single list\n",
    "sc.pl.umap(\n",
    "    adata,\n",
    "    color=markers2plot,\n",
    "    use_raw=True,\n",
    "    vmin=0.0,\n",
    "    vmax=\"p99\",\n",
    "    color_map=\"plasma_r\",  #'RdPu',\n",
    "    save=\"markers_ILC.pdf\",\n",
    "    show=True,\n",
    ")"
   ]
  },
  {
   "cell_type": "code",
   "execution_count": null,
   "metadata": {
    "scrolled": true
   },
   "outputs": [],
   "source": [
    "### markers for stress\n",
    "# HSP\n",
    "dissocation_markers_dict = {\n",
    "    \"shock protein\": [\n",
    "        \"HSPE1\",\n",
    "        \"HSPA1A\",\n",
    "        \"HSPA1B\",\n",
    "        \"HSP90AA1\",\n",
    "        \"HSP90AB1\",\n",
    "        \"HSPA8\",\n",
    "        \"HSPB1\",\n",
    "    ],\n",
    "    \"immediate early genes\": [\"FOS\", \"JUN\"],\n",
    "}\n",
    "\n",
    "sc.pl.umap(\n",
    "    adata,\n",
    "    color=dissocation_markers_dict[\"shock protein\"],\n",
    "    vmax=\"p99\",\n",
    "    use_raw=True,\n",
    "    vmin=0,\n",
    "    color_map=\"plasma_r\",\n",
    "    save=\"general_HSPmarkers.pdf\",\n",
    "    show=True,\n",
    ")"
   ]
  },
  {
   "cell_type": "code",
   "execution_count": null,
   "metadata": {},
   "outputs": [],
   "source": [
    "sc.pl.umap(adata, color=\"Cell_subtype\")"
   ]
  },
  {
   "cell_type": "code",
   "execution_count": null,
   "metadata": {},
   "outputs": [],
   "source": [
    "ax = sc.pl.umap(adata, size=10, show=False)\n",
    "sc.pl.umap(\n",
    "    adata[adata.obs[\"Cell_subtype\"] == \"Treg\"], size=10, color=\"Cell_subtype\", ax=ax\n",
    ")"
   ]
  },
  {
   "cell_type": "code",
   "execution_count": null,
   "metadata": {},
   "outputs": [],
   "source": [
    "ax = sc.pl.umap(adata, size=10, show=False)\n",
    "sc.pl.umap(\n",
    "    adata[adata.obs[\"cell_source\"] == \"Wu-Cells\"], size=10, color=\"Cell_subtype\", ax=ax\n",
    ")"
   ]
  },
  {
   "cell_type": "code",
   "execution_count": null,
   "metadata": {},
   "outputs": [],
   "source": [
    "adata.obs[[\"leiden_scVI\", \"cell_source\"]].groupby([\"leiden_scVI\", \"cell_source\"]).size()"
   ]
  },
  {
   "cell_type": "markdown",
   "metadata": {},
   "source": [
    "### Differential expression to get DE genes upregulated per cluster "
   ]
  },
  {
   "cell_type": "code",
   "execution_count": null,
   "metadata": {},
   "outputs": [],
   "source": [
    "# issue here https://github.com/theislab/single-cell-tutorial/issues/97\n",
    "# This seems to be a scanpy bug as you can see here and here. The latter issue suggests to just add the line:\n",
    "# adata.uns['log1p'][\"base\"] = None after reading again, or downgrading to AnnData<0.8.\n",
    "# Either way, this should be fixed soon by the maintenance team.\n",
    "adata.uns[\"log1p\"][\"base\"] = None"
   ]
  },
  {
   "cell_type": "code",
   "execution_count": null,
   "metadata": {},
   "outputs": [],
   "source": [
    "sc.tl.rank_genes_groups(\n",
    "    adata,\n",
    "    groupby=\"leiden_scVI\",\n",
    "    reference=\"rest\",\n",
    "    method=\"wilcoxon\",\n",
    "    use_raw=True,\n",
    "    layer=None,\n",
    "    pts=True,\n",
    "    corr_method=\"benjamini-hochberg\",\n",
    "    key_added=\"rank_genes_wilcoxon\",\n",
    ")"
   ]
  },
  {
   "cell_type": "code",
   "execution_count": null,
   "metadata": {},
   "outputs": [],
   "source": [
    "sc.pl.rank_genes_groups_dotplot(\n",
    "    adata,\n",
    "    groupby=\"leiden_scVI\",\n",
    "    key=\"rank_genes_wilcoxon\",\n",
    "    var_names=markers_T_general,\n",
    "    values_to_plot=\"logfoldchanges\",\n",
    "    cmap=\"bwr\",\n",
    "    vmin=-4,\n",
    "    vmax=4,\n",
    "    min_logfoldchange=1,\n",
    "    colorbar_title=\"log fold change\",\n",
    "    save=\"general_dotplot.pdf\",\n",
    "    show=True,\n",
    ")"
   ]
  },
  {
   "cell_type": "code",
   "execution_count": null,
   "metadata": {},
   "outputs": [],
   "source": [
    "sc.pl.rank_genes_groups_dotplot(\n",
    "    adata,\n",
    "    groupby=\"leiden_scVI\",\n",
    "    key=\"rank_genes_wilcoxon\",\n",
    "    var_names=markers_T_cd4,\n",
    "    values_to_plot=\"logfoldchanges\",\n",
    "    cmap=\"bwr\",\n",
    "    vmin=-4,\n",
    "    vmax=4,\n",
    "    min_logfoldchange=1,\n",
    "    colorbar_title=\"log fold change\",\n",
    "    save=\"general_dotplot_cd4.pdf\",\n",
    "    show=True,\n",
    ")"
   ]
  },
  {
   "cell_type": "code",
   "execution_count": null,
   "metadata": {},
   "outputs": [],
   "source": [
    "sc.pl.rank_genes_groups_dotplot(\n",
    "    adata,\n",
    "    groupby=\"leiden_scVI\",\n",
    "    key=\"rank_genes_wilcoxon\",\n",
    "    var_names=markers_T_cd8,\n",
    "    values_to_plot=\"logfoldchanges\",\n",
    "    cmap=\"bwr\",\n",
    "    vmin=-4,\n",
    "    vmax=4,\n",
    "    min_logfoldchange=1,\n",
    "    colorbar_title=\"log fold change\",\n",
    "    save=\"general_dotplot_cd8.pdf\",\n",
    "    show=True,\n",
    ")"
   ]
  },
  {
   "cell_type": "code",
   "execution_count": null,
   "metadata": {},
   "outputs": [],
   "source": [
    "sc.pl.rank_genes_groups_dotplot(\n",
    "    adata,\n",
    "    groupby=\"leiden_scVI\",\n",
    "    key=\"rank_genes_wilcoxon\",\n",
    "    var_names=markers_T_other,\n",
    "    values_to_plot=\"logfoldchanges\",\n",
    "    cmap=\"bwr\",\n",
    "    vmin=-4,\n",
    "    vmax=4,\n",
    "    min_logfoldchange=1,\n",
    "    colorbar_title=\"log fold change\",\n",
    "    save=\"general_dotplot_other.pdf\",\n",
    "    show=True,\n",
    ")"
   ]
  },
  {
   "cell_type": "code",
   "execution_count": null,
   "metadata": {},
   "outputs": [],
   "source": [
    "sc.pl.rank_genes_groups_dotplot(\n",
    "    adata,\n",
    "    groupby=\"leiden_scVI\",\n",
    "    key=\"rank_genes_wilcoxon\",\n",
    "    var_names=markers_ILC,\n",
    "    values_to_plot=\"logfoldchanges\",\n",
    "    cmap=\"bwr\",\n",
    "    vmin=-4,\n",
    "    vmax=4,\n",
    "    min_logfoldchange=1,\n",
    "    colorbar_title=\"log fold change\",\n",
    "    save=\"general_dotplot_ILC.pdf\",\n",
    "    show=True,\n",
    ")"
   ]
  },
  {
   "cell_type": "code",
   "execution_count": null,
   "metadata": {},
   "outputs": [],
   "source": [
    "sc.pl.dotplot(\n",
    "    adata,\n",
    "    groupby=\"leiden_scVI\",\n",
    "    use_raw=True,\n",
    "    var_names=markers_T_general,\n",
    "    cmap=\"plasma_r\",\n",
    "    standard_scale=\"var\",\n",
    "    vmin=0,\n",
    "    vmax=1,\n",
    "    colorbar_title=\"Mean expression\",\n",
    "    dendrogram=False,\n",
    "    save=\"TNKILC_dotplot_mean_general.pdf\",\n",
    "    show=True,\n",
    ")"
   ]
  },
  {
   "cell_type": "code",
   "execution_count": null,
   "metadata": {},
   "outputs": [],
   "source": [
    "sc.pl.dotplot(\n",
    "    adata,\n",
    "    groupby=\"leiden_scVI\",\n",
    "    use_raw=True,\n",
    "    var_names=markers_T_cd4,\n",
    "    cmap=\"plasma_r\",\n",
    "    standard_scale=\"var\",\n",
    "    vmin=0,\n",
    "    vmax=1,\n",
    "    colorbar_title=\"Mean expression\",\n",
    "    dendrogram=False,\n",
    "    save=\"TNKILC_dotplot_mean_cd4.pdf\",\n",
    "    show=True,\n",
    ")"
   ]
  },
  {
   "cell_type": "code",
   "execution_count": null,
   "metadata": {},
   "outputs": [],
   "source": [
    "sc.pl.dotplot(\n",
    "    adata,\n",
    "    groupby=\"leiden_scVI\",\n",
    "    use_raw=True,\n",
    "    var_names=markers_T_cd8,\n",
    "    cmap=\"plasma_r\",\n",
    "    standard_scale=\"var\",\n",
    "    vmin=0,\n",
    "    vmax=1,\n",
    "    colorbar_title=\"Mean expression\",\n",
    "    dendrogram=False,\n",
    "    save=\"TNKILC_dotplot_mean_cd8.pdf\",\n",
    "    show=True,\n",
    ")"
   ]
  },
  {
   "cell_type": "code",
   "execution_count": null,
   "metadata": {},
   "outputs": [],
   "source": [
    "sc.pl.rank_genes_groups_dotplot(\n",
    "    adata,\n",
    "    groupby=\"leiden_scVI\",\n",
    "    key=\"rank_genes_wilcoxon\",\n",
    "    var_names=dissocation_markers_dict,\n",
    "    values_to_plot=\"logfoldchanges\",\n",
    "    cmap=\"bwr\",\n",
    "    vmin=-4,\n",
    "    vmax=4,\n",
    "    min_logfoldchange=1,\n",
    "    colorbar_title=\"log fold change\",\n",
    "    save=\"HSP_dotplot.pdf\",\n",
    "    show=True,\n",
    ")"
   ]
  },
  {
   "cell_type": "code",
   "execution_count": null,
   "metadata": {},
   "outputs": [],
   "source": [
    "pval_thresh = 0.05\n",
    "log2fc_thresh = 1\n",
    "cluster_de_genes = dict()\n",
    "for cluster in sorted(set(adata.obs[\"leiden_scVI\"])):\n",
    "    cluster_de_genes[cluster] = sc.get.rank_genes_groups_df(\n",
    "        adata,\n",
    "        group=cluster,\n",
    "        key=\"rank_genes_wilcoxon\",\n",
    "        pval_cutoff=pval_thresh,\n",
    "        log2fc_min=log2fc_thresh,\n",
    "        log2fc_max=None,\n",
    "    ).sort_values(\"logfoldchanges\", ascending=False)\n",
    "\n",
    "# write to excel file DE genes per cluster\n",
    "# Create a Pandas Excel writer using XlsxWriter as the engine.\n",
    "path2save = DIR2SAVE.joinpath(\n",
    "    \"TNKILC_pval{}_log2fc{}.xlsx\".format(pval_thresh, log2fc_thresh)\n",
    ")\n",
    "\n",
    "with pd.ExcelWriter(path2save) as writer:\n",
    "    for cluster in list(cluster_de_genes.keys()):\n",
    "\n",
    "        # get celltype of cluster\n",
    "        # celltype = np.unique(adata[adata.obs['leiden']==cluster,:].obs['cell identity'])[0]\n",
    "\n",
    "        cluster_de_genes[cluster].to_excel(\n",
    "            writer, sheet_name=\"cluster{}\".format(cluster)\n",
    "        )"
   ]
  },
  {
   "cell_type": "code",
   "execution_count": null,
   "metadata": {},
   "outputs": [],
   "source": [
    "sc.pl.umap(adata, color=\"Therapy\")"
   ]
  },
  {
   "cell_type": "code",
   "execution_count": null,
   "metadata": {},
   "outputs": [],
   "source": [
    "# write to file\n",
    "adata.write(\n",
    "    DIR2SAVE.joinpath(\n",
    "        \"Multiome_Che_Wu_CRC_LM_integrated_scvi_hvg_TNKILC_clustering.h5ad\"\n",
    "    )\n",
    ")"
   ]
  },
  {
   "cell_type": "code",
   "execution_count": null,
   "metadata": {},
   "outputs": [],
   "source": [
    "DIR2SAVE"
   ]
  },
  {
   "cell_type": "code",
   "execution_count": null,
   "metadata": {},
   "outputs": [],
   "source": [
    "ax = sc.pl.umap(adata, size=10, show=False)\n",
    "sc.pl.umap(\n",
    "    adata[(adata.obs[\"cell_source\"] == \"Wu-Cells\") & (adata.obs[\"leiden_scVI\"] == \"0\")],\n",
    "    size=10,\n",
    "    color=\"Cell_subtype\",\n",
    "    ax=ax,\n",
    ")"
   ]
  },
  {
   "cell_type": "code",
   "execution_count": null,
   "metadata": {},
   "outputs": [],
   "source": [
    "adata[adata.obs[\"leiden_scVI\"] == \"2\"].obs.Cell_subtype.value_counts()"
   ]
  },
  {
   "cell_type": "code",
   "execution_count": null,
   "metadata": {},
   "outputs": [],
   "source": []
  },
  {
   "cell_type": "code",
   "execution_count": null,
   "metadata": {},
   "outputs": [],
   "source": []
  },
  {
   "cell_type": "code",
   "execution_count": 7,
   "metadata": {},
   "outputs": [],
   "source": [
    "adata = sc.read_h5ad(\n",
    "    DIR2SAVE.joinpath(\n",
    "        \"Multiome_Che_Wu_CRC_LM_integrated_scvi_hvg_TNKILC_clustering.h5ad\"\n",
    "    )\n",
    ")"
   ]
  },
  {
   "cell_type": "code",
   "execution_count": null,
   "metadata": {},
   "outputs": [],
   "source": [
    "markers2plot = [\n",
    "    \"IL17A\",\n",
    "    \"CCR4\",\n",
    "    \"CCR6\",\n",
    "    \"IL1R1\",\n",
    "    \"IL6R\",\n",
    "    \"IL21R\",\n",
    "    \"IL23R\",\n",
    "    \"TGFBR1\",\n",
    "    \"RORA\",\n",
    "    \"RORC\",\n",
    "    \"BATF\",\n",
    "    \"IRF4\",\n",
    "]\n",
    "\n",
    "sc.pl.umap(\n",
    "    adata,\n",
    "    color=markers2plot,\n",
    "    use_raw=True,\n",
    "    vmin=0.0,\n",
    "    vmax=\"p99\",\n",
    "    color_map=\"plasma_r\",  #'RdPu',\n",
    "    save=\"markers_th17.pdf\",\n",
    "    show=True,\n",
    ")"
   ]
  },
  {
   "cell_type": "code",
   "execution_count": null,
   "metadata": {},
   "outputs": [],
   "source": []
  }
 ],
 "metadata": {
  "kernelspec": {
   "display_name": "cell2loc19",
   "language": "python",
   "name": "cell2loc19"
  },
  "language_info": {
   "codemirror_mode": {
    "name": "ipython",
    "version": 3
   },
   "file_extension": ".py",
   "mimetype": "text/x-python",
   "name": "python",
   "nbconvert_exporter": "python",
   "pygments_lexer": "ipython3",
   "version": "3.9.13"
  }
 },
 "nbformat": 4,
 "nbformat_minor": 4
}
