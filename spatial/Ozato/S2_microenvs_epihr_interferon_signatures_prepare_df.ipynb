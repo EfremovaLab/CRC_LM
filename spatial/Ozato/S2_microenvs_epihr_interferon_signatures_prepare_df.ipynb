{
 "cells": [
  {
   "cell_type": "code",
   "execution_count": null,
   "metadata": {},
   "outputs": [],
   "source": [
    "from pathlib import Path\n",
    "import scanpy as sc\n",
    "import cell2location\n",
    "import matplotlib.pyplot as plt\n",
    "\n",
    "DPI = 300\n",
    "FONTSIZE = 20  # 42\n",
    "sc.settings.set_figure_params(\n",
    "    scanpy=True, dpi=100, transparent=True, vector_friendly=True, dpi_save=DPI\n",
    ")\n",
    "from matplotlib import rcParams\n",
    "\n",
    "rcParams[\"pdf.fonttype\"] = 42\n",
    "\n",
    "import pandas as pd\n",
    "\n",
    "from vistools import utils\n",
    "\n",
    "import seaborn as sns\n",
    "custom_params = {\"font.size\": FONTSIZE, \"figure.dpi\": 100, \"savefig.dpi\": DPI}\n",
    "sns.set_theme(style=\"ticks\", rc=custom_params)\n"
   ]
  },
  {
   "cell_type": "code",
   "execution_count": null,
   "metadata": {},
   "outputs": [],
   "source": [
    "SAMPLE_NAME = \"concat-no_normal\"\n",
    "optimal_s = 0.1  # 1 1.2 1.5 2"
   ]
  },
  {
   "cell_type": "code",
   "execution_count": null,
   "metadata": {},
   "outputs": [],
   "source": [
    "if \"concat\" in SAMPLE_NAME:\n",
    "    # load gene expression\n",
    "    DIR2GENEXP = Path(f\"/data/BCI-CRC/nasrine/data/CRC/spatial/public/Visium_Ozato_2023/cell2location/{SAMPLE_NAME}/cell2location_map-no_cycling_TME/sp.h5ad\")\n",
    "    adata_genexp = sc.read_h5ad(DIR2GENEXP)\n",
    "    \n",
    "# load joint analysis of microenvrionmentts\n",
    "MICROENV_DIR = Path(\n",
    "    f\"/data/BCI-CRC/nasrine/data/CRC/spatial/public/Visium_Ozato_2023/cell2loc_spatialde2/{SAMPLE_NAME}\"\n",
    ") \n",
    "adata_microenv = sc.read_h5ad(MICROENV_DIR.joinpath(\"sp_segmentation_smoothness0.1.h5ad\"))"
   ]
  },
  {
   "cell_type": "code",
   "execution_count": null,
   "metadata": {},
   "outputs": [],
   "source": [
    "DIR2SAVE = Path(f\"/data/BCI-CRC/nasrine/data/CRC/spatial/public/Visium_Ozato_2023/cell2loc_spatialde2/{SAMPLE_NAME}/microenvs_geneexp/gene_signatures/\")\n",
    "# figures\n",
    "FIG2SAVE = DIR2SAVE.joinpath(\"figures/\")\n",
    "FIG2SAVE.mkdir(parents=True, exist_ok=True)\n",
    "sc.settings.figdir = FIG2SAVE"
   ]
  },
  {
   "cell_type": "code",
   "execution_count": null,
   "metadata": {},
   "outputs": [],
   "source": [
    "# only select spots that are in adata_genexp\n",
    "adata_microenv = adata_microenv[adata_microenv.obs.index.isin(adata_genexp.obs.index)].copy()"
   ]
  },
  {
   "cell_type": "code",
   "execution_count": null,
   "metadata": {},
   "outputs": [],
   "source": [
    "# create adata gene exp with microenv assignment\n",
    "adata_genexp.obs = adata_genexp.obs.merge(adata_microenv.obs[[\"segmentation_labels\"]],\n",
    "                       how=\"left\",\n",
    "                       left_index=True,\n",
    "                       right_index=True\n",
    "                      )"
   ]
  },
  {
   "cell_type": "code",
   "execution_count": null,
   "metadata": {},
   "outputs": [],
   "source": [
    "adata_genexp.write(DIR2SAVE.joinpath(\"sp_segmentation_smoothness0.1_raw_gene_counts.h5ad\"))"
   ]
  },
  {
   "cell_type": "code",
   "execution_count": null,
   "metadata": {},
   "outputs": [],
   "source": [
    "### log normalise \n",
    "# keep raw\n",
    "adata_genexp.layers[\"raw\"] = adata_genexp.X.copy()  # preserve counts\n",
    "\n",
    "# normalize + log1p\n",
    "sc.pp.normalize_total(adata_genexp, target_sum=1e4, inplace=True)\n",
    "adata_genexp.layers[\"normalised\"] = adata_genexp.X.copy()\n",
    "sc.pp.log1p(adata_genexp)\n",
    "\n",
    "adata_genexp.layers[\"log1p\"] = adata_genexp.X.copy()\n",
    "\n",
    "adata_genexp.raw = adata_genexp  # keep normalised log1p"
   ]
  },
  {
   "cell_type": "code",
   "execution_count": null,
   "metadata": {},
   "outputs": [],
   "source": [
    "gavish_sign = pd.read_excel(\"/data/BCI-CRC/nasrine/data/gene_sets/gavishHallmarksTranscriptio2023_41586_2023_6130_MOESM6_ESM.xlsx\",\n",
    "                            sheet_name=\"Cancer MPs\",\n",
    "                           )\n",
    "gavish_sign.head(5)"
   ]
  },
  {
   "cell_type": "code",
   "execution_count": null,
   "metadata": {},
   "outputs": [],
   "source": [
    "for i in ['MP6 Hypoxia', 'MP12 EMT-I', 'MP13 EMT-II', 'MP14 EMT-III ', 'MP15 EMT IV',\n",
    "          'MP17 Interferon/MHC-II (I)', 'MP18 Interferon/MHC-II (II)',]:\n",
    "    \n",
    "    my_title = i.split(\"/\")[0]\n",
    "    \n",
    "    sc.tl.score_genes(adata_genexp, gene_list=gavish_sign[i], score_name=i,\n",
    "                      use_raw=True)"
   ]
  },
  {
   "cell_type": "code",
   "execution_count": null,
   "metadata": {},
   "outputs": [],
   "source": [
    "geneset_dict_sam = dict()\n",
    "\n",
    "### EpiHR\n",
    "geneSet = pd.read_csv('/data/BCI-CRC/Elise/genesets/Canellas_2022_gene_sig.csv')\n",
    "geneSet['EpiHR'].dropna()\n",
    "geneset_dict_sam['EpiHR'] = list(geneSet['EpiHR'].dropna())\n",
    "geneSet['TME_HR'].dropna()\n",
    "geneset_dict_sam['TME_HR'] = list(geneSet['TME_HR'].dropna())\n",
    "\n",
    "\n",
    "### CRIS scores from Isella 2017\n",
    "CRIS = pd.read_csv('/data/BCI-CRC/SO/genesets/Isella2017_CRIS_genes.csv')\n",
    "#geneset_dict_sam['CRISA'] = [i for i in list(CRIS.iloc[:,0]) if str(i) != 'nan']\n",
    "geneset_dict_sam['CRISB'] = [i for i in list(CRIS.iloc[:,1]) if str(i) != 'nan']"
   ]
  },
  {
   "cell_type": "code",
   "execution_count": null,
   "metadata": {},
   "outputs": [],
   "source": [
    "for i in geneset_dict_sam:\n",
    "    \n",
    "    my_title = i.split(\"/\")[0]\n",
    "    \n",
    "    sc.tl.score_genes(adata_genexp, gene_list=geneset_dict_sam[i], score_name=i,\n",
    "                      use_raw=True)"
   ]
  },
  {
   "cell_type": "code",
   "execution_count": null,
   "metadata": {},
   "outputs": [],
   "source": [
    "adata_genexp"
   ]
  },
  {
   "cell_type": "code",
   "execution_count": null,
   "metadata": {},
   "outputs": [],
   "source": [
    "columns2keep = ['MP6 Hypoxia', 'MP12 EMT-I', 'MP13 EMT-II', 'MP14 EMT-III ', 'MP15 EMT IV', 'MP17 Interferon/MHC-II (I)', 'MP18 Interferon/MHC-II (II)', 'EpiHR', 'TME_HR', 'CRISB']\n",
    "df = pd.DataFrame(data=adata_genexp.obs.loc[:,columns2keep].to_numpy(),\n",
    "                  index=adata_genexp.obs.index, columns=columns2keep,\n",
    "                 )\n",
    "df"
   ]
  },
  {
   "cell_type": "code",
   "execution_count": null,
   "metadata": {},
   "outputs": [],
   "source": [
    "df = df.merge(adata_genexp.obs[['segmentation_labels']], how='left', left_index=True, right_index=True)"
   ]
  },
  {
   "cell_type": "code",
   "execution_count": null,
   "metadata": {},
   "outputs": [],
   "source": [
    "df['Sample'] = df.index.to_series().str.split(\"_\", expand=True)[0]"
   ]
  },
  {
   "cell_type": "code",
   "execution_count": null,
   "metadata": {},
   "outputs": [],
   "source": [
    "df.rename(columns={'MP17 Interferon/MHC-II (I)':'MP17 Interferon',\n",
    "                   'MP18 Interferon/MHC-II (II)': 'MP18 Interferon',\n",
    "                  }, inplace=True)"
   ]
  },
  {
   "cell_type": "code",
   "execution_count": null,
   "metadata": {},
   "outputs": [],
   "source": [
    "df.to_csv(DIR2SAVE.joinpath('cell2loc_gene_signature_scores_microenvs.csv'),\n",
    "          sep='\\t',\n",
    "          header=True,\n",
    "          index=True\n",
    "         )"
   ]
  },
  {
   "cell_type": "code",
   "execution_count": null,
   "metadata": {},
   "outputs": [],
   "source": [
    "DIR2SAVE"
   ]
  },
  {
   "cell_type": "code",
   "execution_count": null,
   "metadata": {},
   "outputs": [],
   "source": []
  }
 ],
 "metadata": {
  "kernelspec": {
   "display_name": "cell2loc19",
   "language": "python",
   "name": "cell2loc19"
  },
  "language_info": {
   "codemirror_mode": {
    "name": "ipython",
    "version": 3
   },
   "file_extension": ".py",
   "mimetype": "text/x-python",
   "name": "python",
   "nbconvert_exporter": "python",
   "pygments_lexer": "ipython3",
   "version": "3.9.13"
  }
 },
 "nbformat": 4,
 "nbformat_minor": 4
}
