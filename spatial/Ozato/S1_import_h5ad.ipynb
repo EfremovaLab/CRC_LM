{
 "cells": [
  {
   "cell_type": "code",
   "execution_count": 1,
   "metadata": {},
   "outputs": [],
   "source": [
    "import anndata\n",
    "import scanpy as sc\n",
    "import squidpy as sq\n",
    "import pandas as pd\n",
    "from pathlib import Path\n",
    "import scipy\n",
    "\n",
    "# QC utils functions - a package\n",
    "from vistools import utils"
   ]
  },
  {
   "cell_type": "markdown",
   "metadata": {},
   "source": [
    "## Read in Ozato's data which is formated in csv as well as the tissue positions, images etc... and save in correct format we need to analyse \n",
    "\n",
    "**Workflow**\n",
    "\n",
    "1. Create `anndata` from `.csv` file\n",
    "    1. Transpose matrix\n",
    "    2. Isolate barcodes, gene ids\n",
    "    3. Get gene names for gene ids\n",
    "    4. Get sparse matrix of counts\n",
    "5. Format into spatial"
   ]
  },
  {
   "cell_type": "code",
   "execution_count": 2,
   "metadata": {},
   "outputs": [],
   "source": [
    "DIR2LOAD = Path(\"/data/BCI-CRC/nasrine/data/CRC/spatial/public/Visium_Ozato_2023/\")"
   ]
  },
  {
   "cell_type": "code",
   "execution_count": 3,
   "metadata": {},
   "outputs": [],
   "source": [
    "SAMPLE = \"A1_colorectal_cancer_1\" # to change depending on which sample we want to format"
   ]
  },
  {
   "cell_type": "code",
   "execution_count": 4,
   "metadata": {},
   "outputs": [
    {
     "data": {
      "text/plain": [
       "PosixPath('/data/BCI-CRC/nasrine/data/CRC/spatial/public/Visium_Ozato_2023/A1_colorectal_cancer_1/matrix_A1_colorectal_cancer_1.csv')"
      ]
     },
     "execution_count": 4,
     "metadata": {},
     "output_type": "execute_result"
    }
   ],
   "source": [
    "DIR2LOAD.joinpath(SAMPLE,f\"matrix_{SAMPLE}.csv\")"
   ]
  },
  {
   "cell_type": "code",
   "execution_count": 5,
   "metadata": {},
   "outputs": [],
   "source": [
    "DIR2SAVE = DIR2LOAD.joinpath(\"raw\", SAMPLE)\n",
    "DIR2SAVE.mkdir(parents=True, exist_ok=True)"
   ]
  },
  {
   "cell_type": "markdown",
   "metadata": {},
   "source": [
    "### Let's load some data!"
   ]
  },
  {
   "cell_type": "code",
   "execution_count": 6,
   "metadata": {},
   "outputs": [
    {
     "data": {
      "text/html": [
       "<div>\n",
       "<style scoped>\n",
       "    .dataframe tbody tr th:only-of-type {\n",
       "        vertical-align: middle;\n",
       "    }\n",
       "\n",
       "    .dataframe tbody tr th {\n",
       "        vertical-align: top;\n",
       "    }\n",
       "\n",
       "    .dataframe thead th {\n",
       "        text-align: right;\n",
       "    }\n",
       "</style>\n",
       "<table border=\"1\" class=\"dataframe\">\n",
       "  <thead>\n",
       "    <tr style=\"text-align: right;\">\n",
       "      <th></th>\n",
       "      <th>AAACACCAATAACTGC-1</th>\n",
       "      <th>AAACAGGGTCTATATT-1</th>\n",
       "      <th>AAACATTTCCCGGATT-1</th>\n",
       "      <th>AAACCCGAACGAAATC-1</th>\n",
       "      <th>AAACCGGAAATGTTAA-1</th>\n",
       "      <th>AAACCGGGTAGGTACC-1</th>\n",
       "      <th>AAACCTAAGCAGCCGG-1</th>\n",
       "      <th>AAACCTCATGAAGTTG-1</th>\n",
       "      <th>AAACGAAGATGGAGTA-1</th>\n",
       "      <th>AAACGCTGGGCACGAC-1</th>\n",
       "      <th>...</th>\n",
       "      <th>TTGTACACCTCGAACA-1</th>\n",
       "      <th>TTGTCACCGCGGTATC-1</th>\n",
       "      <th>TTGTGAACCTAATCCG-1</th>\n",
       "      <th>TTGTGATCTGTTCAGT-1</th>\n",
       "      <th>TTGTGCAGCCACGTCA-1</th>\n",
       "      <th>TTGTGCGGAAGCGGAT-1</th>\n",
       "      <th>TTGTGGTGGTACTAAG-1</th>\n",
       "      <th>TTGTGTATGCCACCAA-1</th>\n",
       "      <th>TTGTGTTTCCCGAAAG-1</th>\n",
       "      <th>TTGTTTCACATCCAGG-1</th>\n",
       "    </tr>\n",
       "  </thead>\n",
       "  <tbody>\n",
       "    <tr>\n",
       "      <th>ENSG00000243485</th>\n",
       "      <td>0</td>\n",
       "      <td>0</td>\n",
       "      <td>0</td>\n",
       "      <td>0</td>\n",
       "      <td>0</td>\n",
       "      <td>0</td>\n",
       "      <td>0</td>\n",
       "      <td>0</td>\n",
       "      <td>0</td>\n",
       "      <td>0</td>\n",
       "      <td>...</td>\n",
       "      <td>0</td>\n",
       "      <td>0</td>\n",
       "      <td>0</td>\n",
       "      <td>0</td>\n",
       "      <td>0</td>\n",
       "      <td>0</td>\n",
       "      <td>0</td>\n",
       "      <td>0</td>\n",
       "      <td>0</td>\n",
       "      <td>0</td>\n",
       "    </tr>\n",
       "    <tr>\n",
       "      <th>ENSG00000237613</th>\n",
       "      <td>0</td>\n",
       "      <td>0</td>\n",
       "      <td>0</td>\n",
       "      <td>0</td>\n",
       "      <td>0</td>\n",
       "      <td>0</td>\n",
       "      <td>0</td>\n",
       "      <td>0</td>\n",
       "      <td>0</td>\n",
       "      <td>0</td>\n",
       "      <td>...</td>\n",
       "      <td>0</td>\n",
       "      <td>0</td>\n",
       "      <td>0</td>\n",
       "      <td>0</td>\n",
       "      <td>0</td>\n",
       "      <td>0</td>\n",
       "      <td>0</td>\n",
       "      <td>0</td>\n",
       "      <td>0</td>\n",
       "      <td>0</td>\n",
       "    </tr>\n",
       "    <tr>\n",
       "      <th>ENSG00000186092</th>\n",
       "      <td>0</td>\n",
       "      <td>0</td>\n",
       "      <td>0</td>\n",
       "      <td>0</td>\n",
       "      <td>0</td>\n",
       "      <td>0</td>\n",
       "      <td>0</td>\n",
       "      <td>0</td>\n",
       "      <td>0</td>\n",
       "      <td>0</td>\n",
       "      <td>...</td>\n",
       "      <td>0</td>\n",
       "      <td>0</td>\n",
       "      <td>0</td>\n",
       "      <td>0</td>\n",
       "      <td>0</td>\n",
       "      <td>0</td>\n",
       "      <td>0</td>\n",
       "      <td>0</td>\n",
       "      <td>0</td>\n",
       "      <td>0</td>\n",
       "    </tr>\n",
       "    <tr>\n",
       "      <th>ENSG00000238009</th>\n",
       "      <td>0</td>\n",
       "      <td>0</td>\n",
       "      <td>0</td>\n",
       "      <td>0</td>\n",
       "      <td>0</td>\n",
       "      <td>0</td>\n",
       "      <td>0</td>\n",
       "      <td>0</td>\n",
       "      <td>0</td>\n",
       "      <td>0</td>\n",
       "      <td>...</td>\n",
       "      <td>0</td>\n",
       "      <td>0</td>\n",
       "      <td>0</td>\n",
       "      <td>0</td>\n",
       "      <td>0</td>\n",
       "      <td>0</td>\n",
       "      <td>0</td>\n",
       "      <td>0</td>\n",
       "      <td>0</td>\n",
       "      <td>0</td>\n",
       "    </tr>\n",
       "    <tr>\n",
       "      <th>ENSG00000239945</th>\n",
       "      <td>0</td>\n",
       "      <td>0</td>\n",
       "      <td>0</td>\n",
       "      <td>0</td>\n",
       "      <td>0</td>\n",
       "      <td>0</td>\n",
       "      <td>0</td>\n",
       "      <td>0</td>\n",
       "      <td>0</td>\n",
       "      <td>0</td>\n",
       "      <td>...</td>\n",
       "      <td>0</td>\n",
       "      <td>0</td>\n",
       "      <td>0</td>\n",
       "      <td>0</td>\n",
       "      <td>0</td>\n",
       "      <td>0</td>\n",
       "      <td>0</td>\n",
       "      <td>0</td>\n",
       "      <td>0</td>\n",
       "      <td>0</td>\n",
       "    </tr>\n",
       "  </tbody>\n",
       "</table>\n",
       "<p>5 rows × 2272 columns</p>\n",
       "</div>"
      ],
      "text/plain": [
       "                 AAACACCAATAACTGC-1  AAACAGGGTCTATATT-1  AAACATTTCCCGGATT-1  \\\n",
       "ENSG00000243485                   0                   0                   0   \n",
       "ENSG00000237613                   0                   0                   0   \n",
       "ENSG00000186092                   0                   0                   0   \n",
       "ENSG00000238009                   0                   0                   0   \n",
       "ENSG00000239945                   0                   0                   0   \n",
       "\n",
       "                 AAACCCGAACGAAATC-1  AAACCGGAAATGTTAA-1  AAACCGGGTAGGTACC-1  \\\n",
       "ENSG00000243485                   0                   0                   0   \n",
       "ENSG00000237613                   0                   0                   0   \n",
       "ENSG00000186092                   0                   0                   0   \n",
       "ENSG00000238009                   0                   0                   0   \n",
       "ENSG00000239945                   0                   0                   0   \n",
       "\n",
       "                 AAACCTAAGCAGCCGG-1  AAACCTCATGAAGTTG-1  AAACGAAGATGGAGTA-1  \\\n",
       "ENSG00000243485                   0                   0                   0   \n",
       "ENSG00000237613                   0                   0                   0   \n",
       "ENSG00000186092                   0                   0                   0   \n",
       "ENSG00000238009                   0                   0                   0   \n",
       "ENSG00000239945                   0                   0                   0   \n",
       "\n",
       "                 AAACGCTGGGCACGAC-1  ...  TTGTACACCTCGAACA-1  \\\n",
       "ENSG00000243485                   0  ...                   0   \n",
       "ENSG00000237613                   0  ...                   0   \n",
       "ENSG00000186092                   0  ...                   0   \n",
       "ENSG00000238009                   0  ...                   0   \n",
       "ENSG00000239945                   0  ...                   0   \n",
       "\n",
       "                 TTGTCACCGCGGTATC-1  TTGTGAACCTAATCCG-1  TTGTGATCTGTTCAGT-1  \\\n",
       "ENSG00000243485                   0                   0                   0   \n",
       "ENSG00000237613                   0                   0                   0   \n",
       "ENSG00000186092                   0                   0                   0   \n",
       "ENSG00000238009                   0                   0                   0   \n",
       "ENSG00000239945                   0                   0                   0   \n",
       "\n",
       "                 TTGTGCAGCCACGTCA-1  TTGTGCGGAAGCGGAT-1  TTGTGGTGGTACTAAG-1  \\\n",
       "ENSG00000243485                   0                   0                   0   \n",
       "ENSG00000237613                   0                   0                   0   \n",
       "ENSG00000186092                   0                   0                   0   \n",
       "ENSG00000238009                   0                   0                   0   \n",
       "ENSG00000239945                   0                   0                   0   \n",
       "\n",
       "                 TTGTGTATGCCACCAA-1  TTGTGTTTCCCGAAAG-1  TTGTTTCACATCCAGG-1  \n",
       "ENSG00000243485                   0                   0                   0  \n",
       "ENSG00000237613                   0                   0                   0  \n",
       "ENSG00000186092                   0                   0                   0  \n",
       "ENSG00000238009                   0                   0                   0  \n",
       "ENSG00000239945                   0                   0                   0  \n",
       "\n",
       "[5 rows x 2272 columns]"
      ]
     },
     "execution_count": 6,
     "metadata": {},
     "output_type": "execute_result"
    }
   ],
   "source": [
    "matrix_df = pd.read_csv(DIR2LOAD.joinpath(SAMPLE,f\"matrix_{SAMPLE}.csv\"), index_col=0)\n",
    "matrix_df.head(5)"
   ]
  },
  {
   "cell_type": "markdown",
   "metadata": {},
   "source": [
    "# 1. Create `anndata` from `.csv` file \n",
    "---"
   ]
  },
  {
   "cell_type": "markdown",
   "metadata": {},
   "source": [
    "### A. Here the rows are the genes and the columns are the spots. For our analysis we will need to transpose this! "
   ]
  },
  {
   "cell_type": "code",
   "execution_count": 7,
   "metadata": {
    "scrolled": true
   },
   "outputs": [
    {
     "data": {
      "text/html": [
       "<div>\n",
       "<style scoped>\n",
       "    .dataframe tbody tr th:only-of-type {\n",
       "        vertical-align: middle;\n",
       "    }\n",
       "\n",
       "    .dataframe tbody tr th {\n",
       "        vertical-align: top;\n",
       "    }\n",
       "\n",
       "    .dataframe thead th {\n",
       "        text-align: right;\n",
       "    }\n",
       "</style>\n",
       "<table border=\"1\" class=\"dataframe\">\n",
       "  <thead>\n",
       "    <tr style=\"text-align: right;\">\n",
       "      <th></th>\n",
       "      <th>ENSG00000243485</th>\n",
       "      <th>ENSG00000237613</th>\n",
       "      <th>ENSG00000186092</th>\n",
       "      <th>ENSG00000238009</th>\n",
       "      <th>ENSG00000239945</th>\n",
       "      <th>ENSG00000239906</th>\n",
       "      <th>ENSG00000241860</th>\n",
       "      <th>ENSG00000241599</th>\n",
       "      <th>ENSG00000286448</th>\n",
       "      <th>ENSG00000236601</th>\n",
       "      <th>...</th>\n",
       "      <th>ENSG00000274175</th>\n",
       "      <th>ENSG00000275869</th>\n",
       "      <th>ENSG00000273554</th>\n",
       "      <th>ENSG00000278782</th>\n",
       "      <th>ENSG00000277761</th>\n",
       "      <th>ENSG00000277836</th>\n",
       "      <th>ENSG00000278633</th>\n",
       "      <th>ENSG00000276017</th>\n",
       "      <th>ENSG00000278817</th>\n",
       "      <th>ENSG00000277196</th>\n",
       "    </tr>\n",
       "  </thead>\n",
       "  <tbody>\n",
       "    <tr>\n",
       "      <th>AAACACCAATAACTGC-1</th>\n",
       "      <td>0</td>\n",
       "      <td>0</td>\n",
       "      <td>0</td>\n",
       "      <td>0</td>\n",
       "      <td>0</td>\n",
       "      <td>0</td>\n",
       "      <td>0</td>\n",
       "      <td>0</td>\n",
       "      <td>0</td>\n",
       "      <td>0</td>\n",
       "      <td>...</td>\n",
       "      <td>0</td>\n",
       "      <td>0</td>\n",
       "      <td>0</td>\n",
       "      <td>0</td>\n",
       "      <td>0</td>\n",
       "      <td>0</td>\n",
       "      <td>0</td>\n",
       "      <td>0</td>\n",
       "      <td>0</td>\n",
       "      <td>0</td>\n",
       "    </tr>\n",
       "    <tr>\n",
       "      <th>AAACAGGGTCTATATT-1</th>\n",
       "      <td>0</td>\n",
       "      <td>0</td>\n",
       "      <td>0</td>\n",
       "      <td>0</td>\n",
       "      <td>0</td>\n",
       "      <td>0</td>\n",
       "      <td>0</td>\n",
       "      <td>0</td>\n",
       "      <td>0</td>\n",
       "      <td>0</td>\n",
       "      <td>...</td>\n",
       "      <td>0</td>\n",
       "      <td>0</td>\n",
       "      <td>0</td>\n",
       "      <td>0</td>\n",
       "      <td>0</td>\n",
       "      <td>0</td>\n",
       "      <td>0</td>\n",
       "      <td>0</td>\n",
       "      <td>0</td>\n",
       "      <td>0</td>\n",
       "    </tr>\n",
       "    <tr>\n",
       "      <th>AAACATTTCCCGGATT-1</th>\n",
       "      <td>0</td>\n",
       "      <td>0</td>\n",
       "      <td>0</td>\n",
       "      <td>0</td>\n",
       "      <td>0</td>\n",
       "      <td>0</td>\n",
       "      <td>0</td>\n",
       "      <td>0</td>\n",
       "      <td>0</td>\n",
       "      <td>0</td>\n",
       "      <td>...</td>\n",
       "      <td>0</td>\n",
       "      <td>0</td>\n",
       "      <td>0</td>\n",
       "      <td>0</td>\n",
       "      <td>0</td>\n",
       "      <td>0</td>\n",
       "      <td>0</td>\n",
       "      <td>0</td>\n",
       "      <td>0</td>\n",
       "      <td>0</td>\n",
       "    </tr>\n",
       "    <tr>\n",
       "      <th>AAACCCGAACGAAATC-1</th>\n",
       "      <td>0</td>\n",
       "      <td>0</td>\n",
       "      <td>0</td>\n",
       "      <td>0</td>\n",
       "      <td>0</td>\n",
       "      <td>0</td>\n",
       "      <td>0</td>\n",
       "      <td>0</td>\n",
       "      <td>0</td>\n",
       "      <td>0</td>\n",
       "      <td>...</td>\n",
       "      <td>0</td>\n",
       "      <td>0</td>\n",
       "      <td>0</td>\n",
       "      <td>0</td>\n",
       "      <td>0</td>\n",
       "      <td>0</td>\n",
       "      <td>0</td>\n",
       "      <td>0</td>\n",
       "      <td>0</td>\n",
       "      <td>0</td>\n",
       "    </tr>\n",
       "    <tr>\n",
       "      <th>AAACCGGAAATGTTAA-1</th>\n",
       "      <td>0</td>\n",
       "      <td>0</td>\n",
       "      <td>0</td>\n",
       "      <td>0</td>\n",
       "      <td>0</td>\n",
       "      <td>0</td>\n",
       "      <td>0</td>\n",
       "      <td>0</td>\n",
       "      <td>0</td>\n",
       "      <td>0</td>\n",
       "      <td>...</td>\n",
       "      <td>0</td>\n",
       "      <td>0</td>\n",
       "      <td>0</td>\n",
       "      <td>0</td>\n",
       "      <td>0</td>\n",
       "      <td>0</td>\n",
       "      <td>0</td>\n",
       "      <td>0</td>\n",
       "      <td>0</td>\n",
       "      <td>0</td>\n",
       "    </tr>\n",
       "  </tbody>\n",
       "</table>\n",
       "<p>5 rows × 36601 columns</p>\n",
       "</div>"
      ],
      "text/plain": [
       "                    ENSG00000243485  ENSG00000237613  ENSG00000186092  \\\n",
       "AAACACCAATAACTGC-1                0                0                0   \n",
       "AAACAGGGTCTATATT-1                0                0                0   \n",
       "AAACATTTCCCGGATT-1                0                0                0   \n",
       "AAACCCGAACGAAATC-1                0                0                0   \n",
       "AAACCGGAAATGTTAA-1                0                0                0   \n",
       "\n",
       "                    ENSG00000238009  ENSG00000239945  ENSG00000239906  \\\n",
       "AAACACCAATAACTGC-1                0                0                0   \n",
       "AAACAGGGTCTATATT-1                0                0                0   \n",
       "AAACATTTCCCGGATT-1                0                0                0   \n",
       "AAACCCGAACGAAATC-1                0                0                0   \n",
       "AAACCGGAAATGTTAA-1                0                0                0   \n",
       "\n",
       "                    ENSG00000241860  ENSG00000241599  ENSG00000286448  \\\n",
       "AAACACCAATAACTGC-1                0                0                0   \n",
       "AAACAGGGTCTATATT-1                0                0                0   \n",
       "AAACATTTCCCGGATT-1                0                0                0   \n",
       "AAACCCGAACGAAATC-1                0                0                0   \n",
       "AAACCGGAAATGTTAA-1                0                0                0   \n",
       "\n",
       "                    ENSG00000236601  ...  ENSG00000274175  ENSG00000275869  \\\n",
       "AAACACCAATAACTGC-1                0  ...                0                0   \n",
       "AAACAGGGTCTATATT-1                0  ...                0                0   \n",
       "AAACATTTCCCGGATT-1                0  ...                0                0   \n",
       "AAACCCGAACGAAATC-1                0  ...                0                0   \n",
       "AAACCGGAAATGTTAA-1                0  ...                0                0   \n",
       "\n",
       "                    ENSG00000273554  ENSG00000278782  ENSG00000277761  \\\n",
       "AAACACCAATAACTGC-1                0                0                0   \n",
       "AAACAGGGTCTATATT-1                0                0                0   \n",
       "AAACATTTCCCGGATT-1                0                0                0   \n",
       "AAACCCGAACGAAATC-1                0                0                0   \n",
       "AAACCGGAAATGTTAA-1                0                0                0   \n",
       "\n",
       "                    ENSG00000277836  ENSG00000278633  ENSG00000276017  \\\n",
       "AAACACCAATAACTGC-1                0                0                0   \n",
       "AAACAGGGTCTATATT-1                0                0                0   \n",
       "AAACATTTCCCGGATT-1                0                0                0   \n",
       "AAACCCGAACGAAATC-1                0                0                0   \n",
       "AAACCGGAAATGTTAA-1                0                0                0   \n",
       "\n",
       "                    ENSG00000278817  ENSG00000277196  \n",
       "AAACACCAATAACTGC-1                0                0  \n",
       "AAACAGGGTCTATATT-1                0                0  \n",
       "AAACATTTCCCGGATT-1                0                0  \n",
       "AAACCCGAACGAAATC-1                0                0  \n",
       "AAACCGGAAATGTTAA-1                0                0  \n",
       "\n",
       "[5 rows x 36601 columns]"
      ]
     },
     "execution_count": 7,
     "metadata": {},
     "output_type": "execute_result"
    }
   ],
   "source": [
    "matrix_df_t = matrix_df.transpose()\n",
    "matrix_df_t.head(5)"
   ]
  },
  {
   "cell_type": "markdown",
   "metadata": {},
   "source": [
    "### B. Need to isolate genes and spot ids separately "
   ]
  },
  {
   "cell_type": "markdown",
   "metadata": {},
   "source": [
    "#### genes"
   ]
  },
  {
   "cell_type": "code",
   "execution_count": 8,
   "metadata": {
    "scrolled": false
   },
   "outputs": [
    {
     "data": {
      "text/html": [
       "<div>\n",
       "<style scoped>\n",
       "    .dataframe tbody tr th:only-of-type {\n",
       "        vertical-align: middle;\n",
       "    }\n",
       "\n",
       "    .dataframe tbody tr th {\n",
       "        vertical-align: top;\n",
       "    }\n",
       "\n",
       "    .dataframe thead th {\n",
       "        text-align: right;\n",
       "    }\n",
       "</style>\n",
       "<table border=\"1\" class=\"dataframe\">\n",
       "  <thead>\n",
       "    <tr style=\"text-align: right;\">\n",
       "      <th></th>\n",
       "      <th>ensembl_gene_id</th>\n",
       "    </tr>\n",
       "  </thead>\n",
       "  <tbody>\n",
       "    <tr>\n",
       "      <th>0</th>\n",
       "      <td>ENSG00000243485</td>\n",
       "    </tr>\n",
       "    <tr>\n",
       "      <th>1</th>\n",
       "      <td>ENSG00000237613</td>\n",
       "    </tr>\n",
       "    <tr>\n",
       "      <th>2</th>\n",
       "      <td>ENSG00000186092</td>\n",
       "    </tr>\n",
       "    <tr>\n",
       "      <th>3</th>\n",
       "      <td>ENSG00000238009</td>\n",
       "    </tr>\n",
       "    <tr>\n",
       "      <th>4</th>\n",
       "      <td>ENSG00000239945</td>\n",
       "    </tr>\n",
       "    <tr>\n",
       "      <th>...</th>\n",
       "      <td>...</td>\n",
       "    </tr>\n",
       "    <tr>\n",
       "      <th>36596</th>\n",
       "      <td>ENSG00000277836</td>\n",
       "    </tr>\n",
       "    <tr>\n",
       "      <th>36597</th>\n",
       "      <td>ENSG00000278633</td>\n",
       "    </tr>\n",
       "    <tr>\n",
       "      <th>36598</th>\n",
       "      <td>ENSG00000276017</td>\n",
       "    </tr>\n",
       "    <tr>\n",
       "      <th>36599</th>\n",
       "      <td>ENSG00000278817</td>\n",
       "    </tr>\n",
       "    <tr>\n",
       "      <th>36600</th>\n",
       "      <td>ENSG00000277196</td>\n",
       "    </tr>\n",
       "  </tbody>\n",
       "</table>\n",
       "<p>36601 rows × 1 columns</p>\n",
       "</div>"
      ],
      "text/plain": [
       "       ensembl_gene_id\n",
       "0      ENSG00000243485\n",
       "1      ENSG00000237613\n",
       "2      ENSG00000186092\n",
       "3      ENSG00000238009\n",
       "4      ENSG00000239945\n",
       "...                ...\n",
       "36596  ENSG00000277836\n",
       "36597  ENSG00000278633\n",
       "36598  ENSG00000276017\n",
       "36599  ENSG00000278817\n",
       "36600  ENSG00000277196\n",
       "\n",
       "[36601 rows x 1 columns]"
      ]
     },
     "execution_count": 8,
     "metadata": {},
     "output_type": "execute_result"
    }
   ],
   "source": [
    "# get genes\n",
    "myvar = matrix_df_t.columns\n",
    "myvar_df = pd.DataFrame(myvar, columns=[\"ensembl_gene_id\"])\n",
    "myvar_df"
   ]
  },
  {
   "cell_type": "code",
   "execution_count": 9,
   "metadata": {},
   "outputs": [
    {
     "data": {
      "text/html": [
       "<div>\n",
       "<style scoped>\n",
       "    .dataframe tbody tr th:only-of-type {\n",
       "        vertical-align: middle;\n",
       "    }\n",
       "\n",
       "    .dataframe tbody tr th {\n",
       "        vertical-align: top;\n",
       "    }\n",
       "\n",
       "    .dataframe thead th {\n",
       "        text-align: right;\n",
       "    }\n",
       "</style>\n",
       "<table border=\"1\" class=\"dataframe\">\n",
       "  <thead>\n",
       "    <tr style=\"text-align: right;\">\n",
       "      <th></th>\n",
       "      <th>ensembl_gene_id</th>\n",
       "    </tr>\n",
       "  </thead>\n",
       "  <tbody>\n",
       "    <tr>\n",
       "      <th>22122</th>\n",
       "      <td>ENSG00000139292</td>\n",
       "    </tr>\n",
       "  </tbody>\n",
       "</table>\n",
       "</div>"
      ],
      "text/plain": [
       "       ensembl_gene_id\n",
       "22122  ENSG00000139292"
      ]
     },
     "execution_count": 9,
     "metadata": {},
     "output_type": "execute_result"
    }
   ],
   "source": [
    "# check if LGR5 is in the data\n",
    "myvar_df[myvar_df[\"ensembl_gene_id\"]=='ENSG00000139292'] # LGR5 name"
   ]
  },
  {
   "cell_type": "code",
   "execution_count": 10,
   "metadata": {},
   "outputs": [
    {
     "data": {
      "text/plain": [
       "True"
      ]
     },
     "execution_count": 10,
     "metadata": {},
     "output_type": "execute_result"
    }
   ],
   "source": [
    "\"ENSG00000139292\" in list(myvar_df[\"ensembl_gene_id\"])"
   ]
  },
  {
   "cell_type": "markdown",
   "metadata": {},
   "source": [
    "#### barcodes "
   ]
  },
  {
   "cell_type": "code",
   "execution_count": 11,
   "metadata": {},
   "outputs": [
    {
     "data": {
      "text/html": [
       "<div>\n",
       "<style scoped>\n",
       "    .dataframe tbody tr th:only-of-type {\n",
       "        vertical-align: middle;\n",
       "    }\n",
       "\n",
       "    .dataframe tbody tr th {\n",
       "        vertical-align: top;\n",
       "    }\n",
       "\n",
       "    .dataframe thead th {\n",
       "        text-align: right;\n",
       "    }\n",
       "</style>\n",
       "<table border=\"1\" class=\"dataframe\">\n",
       "  <thead>\n",
       "    <tr style=\"text-align: right;\">\n",
       "      <th></th>\n",
       "      <th>barcode</th>\n",
       "      <th>Sample</th>\n",
       "    </tr>\n",
       "  </thead>\n",
       "  <tbody>\n",
       "    <tr>\n",
       "      <th>0</th>\n",
       "      <td>AAACACCAATAACTGC-1</td>\n",
       "      <td>A1_colorectal_cancer_1</td>\n",
       "    </tr>\n",
       "    <tr>\n",
       "      <th>1</th>\n",
       "      <td>AAACAGGGTCTATATT-1</td>\n",
       "      <td>A1_colorectal_cancer_1</td>\n",
       "    </tr>\n",
       "    <tr>\n",
       "      <th>2</th>\n",
       "      <td>AAACATTTCCCGGATT-1</td>\n",
       "      <td>A1_colorectal_cancer_1</td>\n",
       "    </tr>\n",
       "    <tr>\n",
       "      <th>3</th>\n",
       "      <td>AAACCCGAACGAAATC-1</td>\n",
       "      <td>A1_colorectal_cancer_1</td>\n",
       "    </tr>\n",
       "    <tr>\n",
       "      <th>4</th>\n",
       "      <td>AAACCGGAAATGTTAA-1</td>\n",
       "      <td>A1_colorectal_cancer_1</td>\n",
       "    </tr>\n",
       "    <tr>\n",
       "      <th>...</th>\n",
       "      <td>...</td>\n",
       "      <td>...</td>\n",
       "    </tr>\n",
       "    <tr>\n",
       "      <th>2267</th>\n",
       "      <td>TTGTGCGGAAGCGGAT-1</td>\n",
       "      <td>A1_colorectal_cancer_1</td>\n",
       "    </tr>\n",
       "    <tr>\n",
       "      <th>2268</th>\n",
       "      <td>TTGTGGTGGTACTAAG-1</td>\n",
       "      <td>A1_colorectal_cancer_1</td>\n",
       "    </tr>\n",
       "    <tr>\n",
       "      <th>2269</th>\n",
       "      <td>TTGTGTATGCCACCAA-1</td>\n",
       "      <td>A1_colorectal_cancer_1</td>\n",
       "    </tr>\n",
       "    <tr>\n",
       "      <th>2270</th>\n",
       "      <td>TTGTGTTTCCCGAAAG-1</td>\n",
       "      <td>A1_colorectal_cancer_1</td>\n",
       "    </tr>\n",
       "    <tr>\n",
       "      <th>2271</th>\n",
       "      <td>TTGTTTCACATCCAGG-1</td>\n",
       "      <td>A1_colorectal_cancer_1</td>\n",
       "    </tr>\n",
       "  </tbody>\n",
       "</table>\n",
       "<p>2272 rows × 2 columns</p>\n",
       "</div>"
      ],
      "text/plain": [
       "                 barcode                  Sample\n",
       "0     AAACACCAATAACTGC-1  A1_colorectal_cancer_1\n",
       "1     AAACAGGGTCTATATT-1  A1_colorectal_cancer_1\n",
       "2     AAACATTTCCCGGATT-1  A1_colorectal_cancer_1\n",
       "3     AAACCCGAACGAAATC-1  A1_colorectal_cancer_1\n",
       "4     AAACCGGAAATGTTAA-1  A1_colorectal_cancer_1\n",
       "...                  ...                     ...\n",
       "2267  TTGTGCGGAAGCGGAT-1  A1_colorectal_cancer_1\n",
       "2268  TTGTGGTGGTACTAAG-1  A1_colorectal_cancer_1\n",
       "2269  TTGTGTATGCCACCAA-1  A1_colorectal_cancer_1\n",
       "2270  TTGTGTTTCCCGAAAG-1  A1_colorectal_cancer_1\n",
       "2271  TTGTTTCACATCCAGG-1  A1_colorectal_cancer_1\n",
       "\n",
       "[2272 rows x 2 columns]"
      ]
     },
     "execution_count": 11,
     "metadata": {},
     "output_type": "execute_result"
    }
   ],
   "source": [
    "# get spot barcodes\n",
    "mybarcodes = matrix_df_t.index\n",
    "# create dataframe \n",
    "mybarcodes_df = pd.DataFrame(mybarcodes, columns=[\"barcode\"]) #.set_index(\"barcode\")\n",
    "mybarcodes_df[\"Sample\"] = [str(SAMPLE) for ele in mybarcodes_df.barcode]\n",
    "mybarcodes_df"
   ]
  },
  {
   "cell_type": "code",
   "execution_count": 12,
   "metadata": {},
   "outputs": [],
   "source": [
    "mybarcodes_df.set_index(\"barcode\", drop=True, inplace=True)"
   ]
  },
  {
   "cell_type": "markdown",
   "metadata": {},
   "source": [
    "### C. Get gene names using biomart from ensembl_gene_id attribute"
   ]
  },
  {
   "cell_type": "code",
   "execution_count": 15,
   "metadata": {
    "scrolled": true
   },
   "outputs": [
    {
     "data": {
      "text/html": [
       "<div>\n",
       "<style scoped>\n",
       "    .dataframe tbody tr th:only-of-type {\n",
       "        vertical-align: middle;\n",
       "    }\n",
       "\n",
       "    .dataframe tbody tr th {\n",
       "        vertical-align: top;\n",
       "    }\n",
       "\n",
       "    .dataframe thead th {\n",
       "        text-align: right;\n",
       "    }\n",
       "</style>\n",
       "<table border=\"1\" class=\"dataframe\">\n",
       "  <thead>\n",
       "    <tr style=\"text-align: right;\">\n",
       "      <th></th>\n",
       "      <th>ensembl_gene_id</th>\n",
       "      <th>external_gene_name</th>\n",
       "    </tr>\n",
       "  </thead>\n",
       "  <tbody>\n",
       "    <tr>\n",
       "      <th>0</th>\n",
       "      <td>ENSG00000261657</td>\n",
       "      <td>SLC25A26</td>\n",
       "    </tr>\n",
       "    <tr>\n",
       "      <th>1</th>\n",
       "      <td>ENSG00000223116</td>\n",
       "      <td>AL157931.1</td>\n",
       "    </tr>\n",
       "    <tr>\n",
       "      <th>2</th>\n",
       "      <td>ENSG00000233440</td>\n",
       "      <td>HMGA1P6</td>\n",
       "    </tr>\n",
       "    <tr>\n",
       "      <th>3</th>\n",
       "      <td>ENSG00000207157</td>\n",
       "      <td>RNY3P4</td>\n",
       "    </tr>\n",
       "    <tr>\n",
       "      <th>4</th>\n",
       "      <td>ENSG00000229483</td>\n",
       "      <td>LINC00362</td>\n",
       "    </tr>\n",
       "  </tbody>\n",
       "</table>\n",
       "</div>"
      ],
      "text/plain": [
       "   ensembl_gene_id external_gene_name\n",
       "0  ENSG00000261657           SLC25A26\n",
       "1  ENSG00000223116         AL157931.1\n",
       "2  ENSG00000233440            HMGA1P6\n",
       "3  ENSG00000207157             RNY3P4\n",
       "4  ENSG00000229483          LINC00362"
      ]
     },
     "execution_count": 15,
     "metadata": {},
     "output_type": "execute_result"
    }
   ],
   "source": [
    "import pybiomart\n",
    "genes_df = sc.queries.biomart_annotations(org=\"hsapiens\", attrs= [\"ensembl_gene_id\", \"external_gene_name\", \n",
    "                                                                  ], #\"hgnc_symbol\"\n",
    "                                         host=\"grch37.ensembl.org\") #www.ensembl.org\n",
    "genes_df.head(5)"
   ]
  },
  {
   "cell_type": "code",
   "execution_count": 16,
   "metadata": {},
   "outputs": [],
   "source": [
    "# drop rows with NaN in external_gene_name\n",
    "genes_df.dropna(axis=0, subset=\"external_gene_name\", inplace=True)"
   ]
  },
  {
   "cell_type": "code",
   "execution_count": 17,
   "metadata": {},
   "outputs": [
    {
     "data": {
      "text/html": [
       "<div>\n",
       "<style scoped>\n",
       "    .dataframe tbody tr th:only-of-type {\n",
       "        vertical-align: middle;\n",
       "    }\n",
       "\n",
       "    .dataframe tbody tr th {\n",
       "        vertical-align: top;\n",
       "    }\n",
       "\n",
       "    .dataframe thead th {\n",
       "        text-align: right;\n",
       "    }\n",
       "</style>\n",
       "<table border=\"1\" class=\"dataframe\">\n",
       "  <thead>\n",
       "    <tr style=\"text-align: right;\">\n",
       "      <th></th>\n",
       "      <th>ensembl_gene_id</th>\n",
       "      <th>external_gene_name</th>\n",
       "    </tr>\n",
       "  </thead>\n",
       "  <tbody>\n",
       "    <tr>\n",
       "      <th>0</th>\n",
       "      <td>ENSG00000261657</td>\n",
       "      <td>SLC25A26</td>\n",
       "    </tr>\n",
       "    <tr>\n",
       "      <th>1</th>\n",
       "      <td>ENSG00000223116</td>\n",
       "      <td>AL157931.1</td>\n",
       "    </tr>\n",
       "    <tr>\n",
       "      <th>2</th>\n",
       "      <td>ENSG00000233440</td>\n",
       "      <td>HMGA1P6</td>\n",
       "    </tr>\n",
       "    <tr>\n",
       "      <th>3</th>\n",
       "      <td>ENSG00000207157</td>\n",
       "      <td>RNY3P4</td>\n",
       "    </tr>\n",
       "    <tr>\n",
       "      <th>4</th>\n",
       "      <td>ENSG00000229483</td>\n",
       "      <td>LINC00362</td>\n",
       "    </tr>\n",
       "  </tbody>\n",
       "</table>\n",
       "</div>"
      ],
      "text/plain": [
       "   ensembl_gene_id external_gene_name\n",
       "0  ENSG00000261657           SLC25A26\n",
       "1  ENSG00000223116         AL157931.1\n",
       "2  ENSG00000233440            HMGA1P6\n",
       "3  ENSG00000207157             RNY3P4\n",
       "4  ENSG00000229483          LINC00362"
      ]
     },
     "execution_count": 17,
     "metadata": {},
     "output_type": "execute_result"
    }
   ],
   "source": [
    "genes_df.head(5)"
   ]
  },
  {
   "cell_type": "markdown",
   "metadata": {},
   "source": [
    "#### need to merge `myvar_df` with `genes_df` to get gene names for the genes that are in this visium slide"
   ]
  },
  {
   "cell_type": "code",
   "execution_count": 18,
   "metadata": {},
   "outputs": [
    {
     "data": {
      "text/html": [
       "<div>\n",
       "<style scoped>\n",
       "    .dataframe tbody tr th:only-of-type {\n",
       "        vertical-align: middle;\n",
       "    }\n",
       "\n",
       "    .dataframe tbody tr th {\n",
       "        vertical-align: top;\n",
       "    }\n",
       "\n",
       "    .dataframe thead th {\n",
       "        text-align: right;\n",
       "    }\n",
       "</style>\n",
       "<table border=\"1\" class=\"dataframe\">\n",
       "  <thead>\n",
       "    <tr style=\"text-align: right;\">\n",
       "      <th></th>\n",
       "      <th>ensembl_gene_id</th>\n",
       "      <th>external_gene_name</th>\n",
       "    </tr>\n",
       "  </thead>\n",
       "  <tbody>\n",
       "    <tr>\n",
       "      <th>0</th>\n",
       "      <td>ENSG00000243485</td>\n",
       "      <td>MIR1302-10</td>\n",
       "    </tr>\n",
       "    <tr>\n",
       "      <th>1</th>\n",
       "      <td>ENSG00000237613</td>\n",
       "      <td>FAM138A</td>\n",
       "    </tr>\n",
       "    <tr>\n",
       "      <th>2</th>\n",
       "      <td>ENSG00000186092</td>\n",
       "      <td>OR4F5</td>\n",
       "    </tr>\n",
       "    <tr>\n",
       "      <th>3</th>\n",
       "      <td>ENSG00000238009</td>\n",
       "      <td>RP11-34P13.7</td>\n",
       "    </tr>\n",
       "    <tr>\n",
       "      <th>4</th>\n",
       "      <td>ENSG00000239945</td>\n",
       "      <td>RP11-34P13.8</td>\n",
       "    </tr>\n",
       "    <tr>\n",
       "      <th>...</th>\n",
       "      <td>...</td>\n",
       "      <td>...</td>\n",
       "    </tr>\n",
       "    <tr>\n",
       "      <th>36596</th>\n",
       "      <td>ENSG00000277836</td>\n",
       "      <td>NaN</td>\n",
       "    </tr>\n",
       "    <tr>\n",
       "      <th>36597</th>\n",
       "      <td>ENSG00000278633</td>\n",
       "      <td>NaN</td>\n",
       "    </tr>\n",
       "    <tr>\n",
       "      <th>36598</th>\n",
       "      <td>ENSG00000276017</td>\n",
       "      <td>NaN</td>\n",
       "    </tr>\n",
       "    <tr>\n",
       "      <th>36599</th>\n",
       "      <td>ENSG00000278817</td>\n",
       "      <td>NaN</td>\n",
       "    </tr>\n",
       "    <tr>\n",
       "      <th>36600</th>\n",
       "      <td>ENSG00000277196</td>\n",
       "      <td>NaN</td>\n",
       "    </tr>\n",
       "  </tbody>\n",
       "</table>\n",
       "<p>36601 rows × 2 columns</p>\n",
       "</div>"
      ],
      "text/plain": [
       "       ensembl_gene_id external_gene_name\n",
       "0      ENSG00000243485         MIR1302-10\n",
       "1      ENSG00000237613            FAM138A\n",
       "2      ENSG00000186092              OR4F5\n",
       "3      ENSG00000238009       RP11-34P13.7\n",
       "4      ENSG00000239945       RP11-34P13.8\n",
       "...                ...                ...\n",
       "36596  ENSG00000277836                NaN\n",
       "36597  ENSG00000278633                NaN\n",
       "36598  ENSG00000276017                NaN\n",
       "36599  ENSG00000278817                NaN\n",
       "36600  ENSG00000277196                NaN\n",
       "\n",
       "[36601 rows x 2 columns]"
      ]
     },
     "execution_count": 18,
     "metadata": {},
     "output_type": "execute_result"
    }
   ],
   "source": [
    "var_adata = myvar_df.merge(right=genes_df, how=\"left\", left_on=\"ensembl_gene_id\", right_on=\"ensembl_gene_id\")\n",
    "var_adata"
   ]
  },
  {
   "cell_type": "markdown",
   "metadata": {},
   "source": [
    "#### problem: when we do merge some of our gene ids do not have a name, should we just remove the ones with no name?? yes, but we should remove them later not now because we wont know which counts to remove "
   ]
  },
  {
   "cell_type": "markdown",
   "metadata": {},
   "source": [
    "#### check that we retain marker genes no?"
   ]
  },
  {
   "cell_type": "code",
   "execution_count": 19,
   "metadata": {},
   "outputs": [
    {
     "data": {
      "text/html": [
       "<div>\n",
       "<style scoped>\n",
       "    .dataframe tbody tr th:only-of-type {\n",
       "        vertical-align: middle;\n",
       "    }\n",
       "\n",
       "    .dataframe tbody tr th {\n",
       "        vertical-align: top;\n",
       "    }\n",
       "\n",
       "    .dataframe thead th {\n",
       "        text-align: right;\n",
       "    }\n",
       "</style>\n",
       "<table border=\"1\" class=\"dataframe\">\n",
       "  <thead>\n",
       "    <tr style=\"text-align: right;\">\n",
       "      <th></th>\n",
       "      <th>ensembl_gene_id</th>\n",
       "      <th>external_gene_name</th>\n",
       "    </tr>\n",
       "  </thead>\n",
       "  <tbody>\n",
       "    <tr>\n",
       "      <th>631</th>\n",
       "      <td>ENSG00000126709</td>\n",
       "      <td>IFI6</td>\n",
       "    </tr>\n",
       "    <tr>\n",
       "      <th>1354</th>\n",
       "      <td>ENSG00000137965</td>\n",
       "      <td>IFI44</td>\n",
       "    </tr>\n",
       "    <tr>\n",
       "      <th>2599</th>\n",
       "      <td>ENSG00000058085</td>\n",
       "      <td>LAMC2</td>\n",
       "    </tr>\n",
       "    <tr>\n",
       "      <th>4368</th>\n",
       "      <td>ENSG00000163586</td>\n",
       "      <td>FABP1</td>\n",
       "    </tr>\n",
       "    <tr>\n",
       "      <th>8643</th>\n",
       "      <td>ENSG00000172238</td>\n",
       "      <td>ATOH1</td>\n",
       "    </tr>\n",
       "    <tr>\n",
       "      <th>12970</th>\n",
       "      <td>ENSG00000112562</td>\n",
       "      <td>SMOC2</td>\n",
       "    </tr>\n",
       "    <tr>\n",
       "      <th>14094</th>\n",
       "      <td>ENSG00000091138</td>\n",
       "      <td>SLC26A3</td>\n",
       "    </tr>\n",
       "    <tr>\n",
       "      <th>15599</th>\n",
       "      <td>ENSG00000104267</td>\n",
       "      <td>CA2</td>\n",
       "    </tr>\n",
       "    <tr>\n",
       "      <th>16691</th>\n",
       "      <td>ENSG00000135046</td>\n",
       "      <td>ANXA1</td>\n",
       "    </tr>\n",
       "    <tr>\n",
       "      <th>18978</th>\n",
       "      <td>ENSG00000198788</td>\n",
       "      <td>MUC2</td>\n",
       "    </tr>\n",
       "    <tr>\n",
       "      <th>19025</th>\n",
       "      <td>ENSG00000183734</td>\n",
       "      <td>ASCL2</td>\n",
       "    </tr>\n",
       "    <tr>\n",
       "      <th>20514</th>\n",
       "      <td>ENSG00000137673</td>\n",
       "      <td>MMP7</td>\n",
       "    </tr>\n",
       "    <tr>\n",
       "      <th>21294</th>\n",
       "      <td>ENSG00000134531</td>\n",
       "      <td>EMP1</td>\n",
       "    </tr>\n",
       "    <tr>\n",
       "      <th>21740</th>\n",
       "      <td>ENSG00000135480</td>\n",
       "      <td>KRT7</td>\n",
       "    </tr>\n",
       "    <tr>\n",
       "      <th>22122</th>\n",
       "      <td>ENSG00000139292</td>\n",
       "      <td>LGR5</td>\n",
       "    </tr>\n",
       "    <tr>\n",
       "      <th>29112</th>\n",
       "      <td>ENSG00000128422</td>\n",
       "      <td>KRT17</td>\n",
       "    </tr>\n",
       "    <tr>\n",
       "      <th>32190</th>\n",
       "      <td>ENSG00000011422</td>\n",
       "      <td>PLAUR</td>\n",
       "    </tr>\n",
       "    <tr>\n",
       "      <th>34246</th>\n",
       "      <td>ENSG00000160180</td>\n",
       "      <td>TFF3</td>\n",
       "    </tr>\n",
       "    <tr>\n",
       "      <th>36380</th>\n",
       "      <td>ENSG00000198910</td>\n",
       "      <td>L1CAM</td>\n",
       "    </tr>\n",
       "  </tbody>\n",
       "</table>\n",
       "</div>"
      ],
      "text/plain": [
       "       ensembl_gene_id external_gene_name\n",
       "631    ENSG00000126709               IFI6\n",
       "1354   ENSG00000137965              IFI44\n",
       "2599   ENSG00000058085              LAMC2\n",
       "4368   ENSG00000163586              FABP1\n",
       "8643   ENSG00000172238              ATOH1\n",
       "12970  ENSG00000112562              SMOC2\n",
       "14094  ENSG00000091138            SLC26A3\n",
       "15599  ENSG00000104267                CA2\n",
       "16691  ENSG00000135046              ANXA1\n",
       "18978  ENSG00000198788               MUC2\n",
       "19025  ENSG00000183734              ASCL2\n",
       "20514  ENSG00000137673               MMP7\n",
       "21294  ENSG00000134531               EMP1\n",
       "21740  ENSG00000135480               KRT7\n",
       "22122  ENSG00000139292               LGR5\n",
       "29112  ENSG00000128422              KRT17\n",
       "32190  ENSG00000011422              PLAUR\n",
       "34246  ENSG00000160180               TFF3\n",
       "36380  ENSG00000198910              L1CAM"
      ]
     },
     "execution_count": 19,
     "metadata": {},
     "output_type": "execute_result"
    }
   ],
   "source": [
    "var_adata[var_adata[\"external_gene_name\"].isin([\"LGR5\", \"ASCL2\", \"SMOC2\", \"KRT7\", \"KRT17\", \"PLAUR\", \"MMP7\", \"ANXA1\",\n",
    "                                                \"LAMC2\", \"IFI6\", \"IFI44\", \"L1CAM\", \"EMP1\",\n",
    "                                                \"TFF3\", \"MUC2\", \"ATOH1\", \"FABP1\", \"CA2\", \"SLC26A3\"\n",
    "                                               ])]"
   ]
  },
  {
   "cell_type": "markdown",
   "metadata": {},
   "source": [
    "### D. Convert the counts to a sparse matrix "
   ]
  },
  {
   "cell_type": "code",
   "execution_count": 20,
   "metadata": {},
   "outputs": [],
   "source": [
    "counts = scipy.sparse.csr_matrix(matrix_df_t)"
   ]
  },
  {
   "cell_type": "markdown",
   "metadata": {},
   "source": [
    "### E. Create anndata from sparse count matrix, barcodes, genes "
   ]
  },
  {
   "cell_type": "code",
   "execution_count": 22,
   "metadata": {},
   "outputs": [
    {
     "name": "stderr",
     "output_type": "stream",
     "text": [
      "/tmp/2904011.1.all.q/ipykernel_164059/1112522758.py:1: FutureWarning: X.dtype being converted to np.float32 from int64. In the next version of anndata (0.9) conversion will not be automatic. Pass dtype explicitly to avoid this warning. Pass `AnnData(X, dtype=X.dtype, ...)` to get the future behavour.\n",
      "  adata = anndata.AnnData(X=counts, var=var_adata, obs=mybarcodes_df, asview=False)\n",
      "/data/BCI-CRC/nasrine/anaconda/envs/cell2loc19/lib/python3.9/site-packages/anndata/_core/anndata.py:121: ImplicitModificationWarning: Transforming to str index.\n",
      "  warnings.warn(\"Transforming to str index.\", ImplicitModificationWarning)\n"
     ]
    }
   ],
   "source": [
    "adata = anndata.AnnData(X=counts, var=var_adata, obs=mybarcodes_df, asview=False)"
   ]
  },
  {
   "cell_type": "markdown",
   "metadata": {},
   "source": [
    "#### drop the counts that dont have a gene name"
   ]
  },
  {
   "cell_type": "code",
   "execution_count": 28,
   "metadata": {},
   "outputs": [],
   "source": [
    "# drop the counts that dont have a gene name\n",
    "adata = adata[:, ~adata.var[\"external_gene_name\"].isna()].copy()"
   ]
  },
  {
   "cell_type": "code",
   "execution_count": 29,
   "metadata": {},
   "outputs": [
    {
     "data": {
      "text/plain": [
       "(2272, 32374)"
      ]
     },
     "execution_count": 29,
     "metadata": {},
     "output_type": "execute_result"
    }
   ],
   "source": [
    "adata.shape"
   ]
  },
  {
   "cell_type": "code",
   "execution_count": 30,
   "metadata": {},
   "outputs": [],
   "source": [
    "# set gene name as idx for .var\n",
    "adata.var.set_index(\"external_gene_name\", drop=True, inplace=True)"
   ]
  },
  {
   "cell_type": "code",
   "execution_count": 34,
   "metadata": {},
   "outputs": [],
   "source": [
    "# make gene names unique for the index  \n",
    "adata.var_names_make_unique() \n",
    "# problem duplicates remain after removing them \n",
    "# adata_st.var_names_make_unique()"
   ]
  },
  {
   "cell_type": "code",
   "execution_count": 35,
   "metadata": {},
   "outputs": [
    {
     "data": {
      "text/html": [
       "<div>\n",
       "<style scoped>\n",
       "    .dataframe tbody tr th:only-of-type {\n",
       "        vertical-align: middle;\n",
       "    }\n",
       "\n",
       "    .dataframe tbody tr th {\n",
       "        vertical-align: top;\n",
       "    }\n",
       "\n",
       "    .dataframe thead th {\n",
       "        text-align: right;\n",
       "    }\n",
       "</style>\n",
       "<table border=\"1\" class=\"dataframe\">\n",
       "  <thead>\n",
       "    <tr style=\"text-align: right;\">\n",
       "      <th></th>\n",
       "      <th>ensembl_gene_id</th>\n",
       "    </tr>\n",
       "    <tr>\n",
       "      <th>external_gene_name</th>\n",
       "      <th></th>\n",
       "    </tr>\n",
       "  </thead>\n",
       "  <tbody>\n",
       "  </tbody>\n",
       "</table>\n",
       "</div>"
      ],
      "text/plain": [
       "Empty DataFrame\n",
       "Columns: [ensembl_gene_id]\n",
       "Index: []"
      ]
     },
     "execution_count": 35,
     "metadata": {},
     "output_type": "execute_result"
    }
   ],
   "source": [
    "# check that there are no more duplicates \n",
    "adata.var[adata.var.index.duplicated(keep=False)]"
   ]
  },
  {
   "cell_type": "code",
   "execution_count": 36,
   "metadata": {},
   "outputs": [
    {
     "data": {
      "text/plain": [
       "Index([], dtype='object', name='external_gene_name')"
      ]
     },
     "execution_count": 36,
     "metadata": {},
     "output_type": "execute_result"
    }
   ],
   "source": [
    "# check that there are no more duplicates\n",
    "adata.var_names[adata.var_names.duplicated(keep=False)]"
   ]
  },
  {
   "cell_type": "markdown",
   "metadata": {},
   "source": [
    "# 2. Start creating a visium-like object for scanpy, squidpy etc \n",
    "---"
   ]
  },
  {
   "cell_type": "code",
   "execution_count": 37,
   "metadata": {},
   "outputs": [],
   "source": [
    "adata_st = utils.adata_2_visium(adata=adata.copy(), # make a hard copy just in case \n",
    "                                path=DIR2LOAD / SAMPLE,\n",
    "                                library_id=SAMPLE\n",
    "                               )"
   ]
  },
  {
   "cell_type": "code",
   "execution_count": 38,
   "metadata": {},
   "outputs": [
    {
     "data": {
      "text/plain": [
       "AnnData object with n_obs × n_vars = 2272 × 32374\n",
       "    obs: 'Sample', 'in_tissue', 'array_row', 'array_col'\n",
       "    var: 'ensembl_gene_id'\n",
       "    uns: 'spatial'\n",
       "    obsm: 'spatial'"
      ]
     },
     "execution_count": 38,
     "metadata": {},
     "output_type": "execute_result"
    }
   ],
   "source": [
    "adata_st"
   ]
  },
  {
   "cell_type": "markdown",
   "metadata": {},
   "source": [
    "# Save to file"
   ]
  },
  {
   "cell_type": "code",
   "execution_count": 45,
   "metadata": {},
   "outputs": [],
   "source": [
    "adata_st.write(DIR2SAVE.joinpath(f\"{SAMPLE}_raw.h5ad\"))"
   ]
  }
 ],
 "metadata": {
  "kernelspec": {
   "display_name": "cell2loc19",
   "language": "python",
   "name": "cell2loc19"
  },
  "language_info": {
   "codemirror_mode": {
    "name": "ipython",
    "version": 3
   },
   "file_extension": ".py",
   "mimetype": "text/x-python",
   "name": "python",
   "nbconvert_exporter": "python",
   "pygments_lexer": "ipython3",
   "version": "3.9.13"
  }
 },
 "nbformat": 4,
 "nbformat_minor": 4
}
