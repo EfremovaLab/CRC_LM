{
 "cells": [
  {
   "cell_type": "markdown",
   "metadata": {},
   "source": [
    "### After estimating the cell type abundance individually on each patient (grouped per replicate), we can look at the distrribution of cell types across the pathological annootations.  And look for enrichment of those cell types across certain regions?"
   ]
  },
  {
   "cell_type": "code",
   "execution_count": 1,
   "metadata": {},
   "outputs": [
    {
     "name": "stderr",
     "output_type": "stream",
     "text": [
      "Global seed set to 0\n"
     ]
    }
   ],
   "source": [
    "from pathlib import Path\n",
    "import scanpy as sc\n",
    "import cell2location\n",
    "import matplotlib.pyplot as plt\n",
    "import pandas as pd\n",
    "import numpy as np\n",
    "import scipy.stats as stats\n",
    "\n",
    "DPI = 300\n",
    "FONTSIZE = 20  # 42\n",
    "sc.settings.set_figure_params(\n",
    "    scanpy=True, dpi=100, transparent=True, vector_friendly=True, dpi_save=DPI\n",
    ")\n",
    "from matplotlib import rcParams\n",
    "\n",
    "rcParams[\"pdf.fonttype\"] = 42\n",
    "\n",
    "from vistools import utils"
   ]
  },
  {
   "cell_type": "code",
   "execution_count": 2,
   "metadata": {},
   "outputs": [],
   "source": [
    "SAMPLE_LIST = ['SN048_A416371', 'SN84_A120838', 'SN123_A595688']"
   ]
  },
  {
   "cell_type": "code",
   "execution_count": 3,
   "metadata": {},
   "outputs": [
    {
     "data": {
      "text/plain": [
       "'SN048_A416371_SN84_A120838_SN123_A595688'"
      ]
     },
     "execution_count": 3,
     "metadata": {},
     "output_type": "execute_result"
    }
   ],
   "source": [
    "SAMPLE_NAME = '_'.join([s for s in SAMPLE_LIST])\n",
    "SAMPLE_NAME"
   ]
  },
  {
   "cell_type": "code",
   "execution_count": 4,
   "metadata": {},
   "outputs": [],
   "source": [
    "DIR2SAVE = Path(f\"/data/BCI-CRC/nasrine/data/CRC/spatial/public/Visium_Valdeolivas_2023/cell2loc_pathologist_annotations/{SAMPLE_NAME}/\")\n",
    "DIR2SAVE.mkdir(exist_ok=True, parents=True)\n",
    "FIG2SAVE = DIR2SAVE.joinpath(\"figures/\")\n",
    "FIG2SAVE.mkdir(exist_ok=True, parents=True)"
   ]
  },
  {
   "cell_type": "code",
   "execution_count": 5,
   "metadata": {},
   "outputs": [],
   "source": [
    "slides = dict()\n",
    "for s in SAMPLE_LIST:\n",
    "# load in gene matrix so we get sample name?\n",
    "    slides[s] = sc.read_h5ad(\n",
    "    f\"/data/BCI-CRC/nasrine/data/CRC/spatial/public/Visium_Valdeolivas_2023/cell2location/{s}/cell2location_map-no_cycling_TME/sp.h5ad\"\n",
    ")"
   ]
  },
  {
   "cell_type": "code",
   "execution_count": 6,
   "metadata": {},
   "outputs": [
    {
     "data": {
      "text/plain": [
       "dict_keys(['SN048_A416371', 'SN84_A120838', 'SN123_A595688'])"
      ]
     },
     "execution_count": 6,
     "metadata": {},
     "output_type": "execute_result"
    }
   ],
   "source": [
    "slides.keys()"
   ]
  },
  {
   "cell_type": "code",
   "execution_count": 7,
   "metadata": {},
   "outputs": [],
   "source": [
    "# create variable celltypes list for which we have mRNA abundance and will compute average abundance/region later : \n",
    "celltype_list = list()\n",
    "\n",
    "for slide in slides:\n",
    "    # add mRNA counts to data\n",
    "    slides[slide].obsm[\"q05_mRNA_abundance_u_sf\"] = pd.DataFrame(\n",
    "        slides[slide].uns[\"mod\"][\"post_sample_q05\"][\"u_sf_mRNA_factors\"].round().astype(np.int32),\n",
    "        index=slides[slide].obs_names,\n",
    "        columns=[\n",
    "        f\"q05_mRNA_abundance_u_sf_{i}\" for i in slides[slide].uns[\"mod\"][\"factor_names\"]\n",
    "    ])\n",
    "    \n",
    "    mrna_abundance_df = pd.DataFrame(data=slides[slide].uns[\"mod\"][\"post_sample_q05\"][\"u_sf_mRNA_factors\"].round().astype(np.int32),\n",
    "                                 index=slides[slide].obs_names,\n",
    "                                 columns=[f\"{i}\" for i in slides[slide].uns[\"mod\"][\"factor_names\"]])\n",
    "    \n",
    "    # merge cell mRNA abundance to obs\n",
    "    slides[slide].obs = slides[slide].obs.merge(mrna_abundance_df, how='left', left_index=True, right_index=True)\n",
    "    \n",
    "    # merge all pathologist annotations into one single column\n",
    "    if 'Pathologist annotation' in slides[slide].obs.columns:\n",
    "        slides[slide].obs['Pathologist Annotation grouped'] = slides[slide].obs.loc[:, ['Pathologist annotation',\n",
    "                                                                                        'Pathologist Annotation']\n",
    "                                                                               ].apply(\n",
    "            lambda x: ''.join(x.dropna().astype(str)), axis=1\n",
    "        )\n",
    "        \n",
    "    # merge all pathologist annotations into one single column\n",
    "    if 'Pathologist Annotations' in slides[slide].obs.columns:\n",
    "        slides[slide].obs['Pathologist Annotation grouped'] = slides[slide].obs.loc[:, ['Pathologist Annotation',\n",
    "                                                                                        'Pathologist Annotations']\n",
    "                                                                               ].apply(\n",
    "            lambda x: ''.join(x.dropna().astype(str)), axis=1\n",
    "        )\n",
    "    \n",
    "    # merge all pathologist annotations into one single column\n",
    "    if slide=='SN123_A595688':\n",
    "        slides[slide].obs['Pathologist Annotation grouped'] = slides[slide].obs.loc[:, 'Pathologist Annotation']\n",
    "    \n",
    "    # cell types list:\n",
    "    celltype_list = [f\"{i}\" for i in slides[slide].uns[\"mod\"][\"factor_names\"]]\n"
   ]
  },
  {
   "cell_type": "code",
   "execution_count": 8,
   "metadata": {},
   "outputs": [],
   "source": [
    "df = pd.concat([slides[slide].obs for slide in slides], axis=0)"
   ]
  },
  {
   "cell_type": "code",
   "execution_count": 9,
   "metadata": {},
   "outputs": [
    {
     "data": {
      "text/html": [
       "<div>\n",
       "<style scoped>\n",
       "    .dataframe tbody tr th:only-of-type {\n",
       "        vertical-align: middle;\n",
       "    }\n",
       "\n",
       "    .dataframe tbody tr th {\n",
       "        vertical-align: top;\n",
       "    }\n",
       "\n",
       "    .dataframe thead th {\n",
       "        text-align: right;\n",
       "    }\n",
       "</style>\n",
       "<table border=\"1\" class=\"dataframe\">\n",
       "  <thead>\n",
       "    <tr style=\"text-align: right;\">\n",
       "      <th></th>\n",
       "      <th>in_tissue</th>\n",
       "      <th>array_row</th>\n",
       "      <th>array_col</th>\n",
       "      <th>Sample</th>\n",
       "      <th>n_genes_by_counts</th>\n",
       "      <th>total_counts</th>\n",
       "      <th>pct_counts_in_top_50_genes</th>\n",
       "      <th>pct_counts_in_top_100_genes</th>\n",
       "      <th>pct_counts_in_top_200_genes</th>\n",
       "      <th>pct_counts_in_top_500_genes</th>\n",
       "      <th>...</th>\n",
       "      <th>UPR</th>\n",
       "      <th>cDC1</th>\n",
       "      <th>cDC2</th>\n",
       "      <th>gdT</th>\n",
       "      <th>ipEMT</th>\n",
       "      <th>migDC</th>\n",
       "      <th>pDC</th>\n",
       "      <th>pEMT</th>\n",
       "      <th>Pathologist Annotation grouped</th>\n",
       "      <th>Pathologist Annotations</th>\n",
       "    </tr>\n",
       "    <tr>\n",
       "      <th>spot_id</th>\n",
       "      <th></th>\n",
       "      <th></th>\n",
       "      <th></th>\n",
       "      <th></th>\n",
       "      <th></th>\n",
       "      <th></th>\n",
       "      <th></th>\n",
       "      <th></th>\n",
       "      <th></th>\n",
       "      <th></th>\n",
       "      <th></th>\n",
       "      <th></th>\n",
       "      <th></th>\n",
       "      <th></th>\n",
       "      <th></th>\n",
       "      <th></th>\n",
       "      <th></th>\n",
       "      <th></th>\n",
       "      <th></th>\n",
       "      <th></th>\n",
       "      <th></th>\n",
       "    </tr>\n",
       "  </thead>\n",
       "  <tbody>\n",
       "    <tr>\n",
       "      <th>Count_SN048_A416371_Rep1_AAACAAGTATCTCCCA-1</th>\n",
       "      <td>1</td>\n",
       "      <td>50</td>\n",
       "      <td>102</td>\n",
       "      <td>Count_SN048_A416371_Rep1</td>\n",
       "      <td>3447</td>\n",
       "      <td>6769.0</td>\n",
       "      <td>15.068696</td>\n",
       "      <td>22.972374</td>\n",
       "      <td>32.323829</td>\n",
       "      <td>47.215246</td>\n",
       "      <td>...</td>\n",
       "      <td>53</td>\n",
       "      <td>24</td>\n",
       "      <td>4</td>\n",
       "      <td>16</td>\n",
       "      <td>1958</td>\n",
       "      <td>22</td>\n",
       "      <td>2</td>\n",
       "      <td>915</td>\n",
       "      <td>tumor&amp;stroma_IC med to high</td>\n",
       "      <td>NaN</td>\n",
       "    </tr>\n",
       "    <tr>\n",
       "      <th>Count_SN048_A416371_Rep1_AAACACCAATAACTGC-1</th>\n",
       "      <td>1</td>\n",
       "      <td>59</td>\n",
       "      <td>19</td>\n",
       "      <td>Count_SN048_A416371_Rep1</td>\n",
       "      <td>3706</td>\n",
       "      <td>8120.0</td>\n",
       "      <td>16.293103</td>\n",
       "      <td>24.445813</td>\n",
       "      <td>33.953202</td>\n",
       "      <td>48.374384</td>\n",
       "      <td>...</td>\n",
       "      <td>32</td>\n",
       "      <td>211</td>\n",
       "      <td>11</td>\n",
       "      <td>10</td>\n",
       "      <td>8041</td>\n",
       "      <td>15</td>\n",
       "      <td>5</td>\n",
       "      <td>78</td>\n",
       "      <td>tumor&amp;stroma_IC med to high</td>\n",
       "      <td>NaN</td>\n",
       "    </tr>\n",
       "    <tr>\n",
       "      <th>Count_SN048_A416371_Rep1_AAACAGAGCGACTCCT-1</th>\n",
       "      <td>1</td>\n",
       "      <td>14</td>\n",
       "      <td>94</td>\n",
       "      <td>Count_SN048_A416371_Rep1</td>\n",
       "      <td>3809</td>\n",
       "      <td>7946.0</td>\n",
       "      <td>14.510446</td>\n",
       "      <td>22.048830</td>\n",
       "      <td>30.820539</td>\n",
       "      <td>45.117040</td>\n",
       "      <td>...</td>\n",
       "      <td>4</td>\n",
       "      <td>2</td>\n",
       "      <td>1</td>\n",
       "      <td>0</td>\n",
       "      <td>7</td>\n",
       "      <td>2</td>\n",
       "      <td>1</td>\n",
       "      <td>1</td>\n",
       "      <td>tumor&amp;stroma_IC med to high</td>\n",
       "      <td>NaN</td>\n",
       "    </tr>\n",
       "  </tbody>\n",
       "</table>\n",
       "<p>3 rows × 80 columns</p>\n",
       "</div>"
      ],
      "text/plain": [
       "                                             in_tissue  array_row  array_col  \\\n",
       "spot_id                                                                        \n",
       "Count_SN048_A416371_Rep1_AAACAAGTATCTCCCA-1          1         50        102   \n",
       "Count_SN048_A416371_Rep1_AAACACCAATAACTGC-1          1         59         19   \n",
       "Count_SN048_A416371_Rep1_AAACAGAGCGACTCCT-1          1         14         94   \n",
       "\n",
       "                                                               Sample  \\\n",
       "spot_id                                                                 \n",
       "Count_SN048_A416371_Rep1_AAACAAGTATCTCCCA-1  Count_SN048_A416371_Rep1   \n",
       "Count_SN048_A416371_Rep1_AAACACCAATAACTGC-1  Count_SN048_A416371_Rep1   \n",
       "Count_SN048_A416371_Rep1_AAACAGAGCGACTCCT-1  Count_SN048_A416371_Rep1   \n",
       "\n",
       "                                             n_genes_by_counts  total_counts  \\\n",
       "spot_id                                                                        \n",
       "Count_SN048_A416371_Rep1_AAACAAGTATCTCCCA-1               3447        6769.0   \n",
       "Count_SN048_A416371_Rep1_AAACACCAATAACTGC-1               3706        8120.0   \n",
       "Count_SN048_A416371_Rep1_AAACAGAGCGACTCCT-1               3809        7946.0   \n",
       "\n",
       "                                             pct_counts_in_top_50_genes  \\\n",
       "spot_id                                                                   \n",
       "Count_SN048_A416371_Rep1_AAACAAGTATCTCCCA-1                   15.068696   \n",
       "Count_SN048_A416371_Rep1_AAACACCAATAACTGC-1                   16.293103   \n",
       "Count_SN048_A416371_Rep1_AAACAGAGCGACTCCT-1                   14.510446   \n",
       "\n",
       "                                             pct_counts_in_top_100_genes  \\\n",
       "spot_id                                                                    \n",
       "Count_SN048_A416371_Rep1_AAACAAGTATCTCCCA-1                    22.972374   \n",
       "Count_SN048_A416371_Rep1_AAACACCAATAACTGC-1                    24.445813   \n",
       "Count_SN048_A416371_Rep1_AAACAGAGCGACTCCT-1                    22.048830   \n",
       "\n",
       "                                             pct_counts_in_top_200_genes  \\\n",
       "spot_id                                                                    \n",
       "Count_SN048_A416371_Rep1_AAACAAGTATCTCCCA-1                    32.323829   \n",
       "Count_SN048_A416371_Rep1_AAACACCAATAACTGC-1                    33.953202   \n",
       "Count_SN048_A416371_Rep1_AAACAGAGCGACTCCT-1                    30.820539   \n",
       "\n",
       "                                             pct_counts_in_top_500_genes  ...  \\\n",
       "spot_id                                                                   ...   \n",
       "Count_SN048_A416371_Rep1_AAACAAGTATCTCCCA-1                    47.215246  ...   \n",
       "Count_SN048_A416371_Rep1_AAACACCAATAACTGC-1                    48.374384  ...   \n",
       "Count_SN048_A416371_Rep1_AAACAGAGCGACTCCT-1                    45.117040  ...   \n",
       "\n",
       "                                             UPR  cDC1  cDC2  gdT ipEMT  \\\n",
       "spot_id                                                                   \n",
       "Count_SN048_A416371_Rep1_AAACAAGTATCTCCCA-1   53    24     4   16  1958   \n",
       "Count_SN048_A416371_Rep1_AAACACCAATAACTGC-1   32   211    11   10  8041   \n",
       "Count_SN048_A416371_Rep1_AAACAGAGCGACTCCT-1    4     2     1    0     7   \n",
       "\n",
       "                                             migDC pDC pEMT  \\\n",
       "spot_id                                                       \n",
       "Count_SN048_A416371_Rep1_AAACAAGTATCTCCCA-1     22   2  915   \n",
       "Count_SN048_A416371_Rep1_AAACACCAATAACTGC-1     15   5   78   \n",
       "Count_SN048_A416371_Rep1_AAACAGAGCGACTCCT-1      2   1    1   \n",
       "\n",
       "                                            Pathologist Annotation grouped  \\\n",
       "spot_id                                                                      \n",
       "Count_SN048_A416371_Rep1_AAACAAGTATCTCCCA-1    tumor&stroma_IC med to high   \n",
       "Count_SN048_A416371_Rep1_AAACACCAATAACTGC-1    tumor&stroma_IC med to high   \n",
       "Count_SN048_A416371_Rep1_AAACAGAGCGACTCCT-1    tumor&stroma_IC med to high   \n",
       "\n",
       "                                             Pathologist Annotations  \n",
       "spot_id                                                               \n",
       "Count_SN048_A416371_Rep1_AAACAAGTATCTCCCA-1                      NaN  \n",
       "Count_SN048_A416371_Rep1_AAACACCAATAACTGC-1                      NaN  \n",
       "Count_SN048_A416371_Rep1_AAACAGAGCGACTCCT-1                      NaN  \n",
       "\n",
       "[3 rows x 80 columns]"
      ]
     },
     "execution_count": 9,
     "metadata": {},
     "output_type": "execute_result"
    }
   ],
   "source": [
    "df.head(3)"
   ]
  },
  {
   "cell_type": "code",
   "execution_count": 10,
   "metadata": {},
   "outputs": [
    {
     "data": {
      "text/plain": [
       "Sample\n",
       "Count_SN048_A416371_Rep1    2317\n",
       "Count_SN048_A416371_Rep2    1803\n",
       "Count_SN123_A595688_Rep1     649\n",
       "Count_SN124_A595688_Rep2     283\n",
       "Count_SN84_A120838_Rep1      328\n",
       "Count_SN84_A120838_Rep2     1048\n",
       "dtype: int64"
      ]
     },
     "execution_count": 10,
     "metadata": {},
     "output_type": "execute_result"
    }
   ],
   "source": [
    "df.groupby('Sample').size()"
   ]
  },
  {
   "cell_type": "code",
   "execution_count": 10,
   "metadata": {},
   "outputs": [],
   "source": [
    "df.to_csv(DIR2SAVE.joinpath(\"cell2loc_mrna_abundance_pathological_annotations.csv\"),\n",
    "          sep='\\t',\n",
    "          header=True,\n",
    "          index=True\n",
    "         )"
   ]
  },
  {
   "cell_type": "code",
   "execution_count": 11,
   "metadata": {},
   "outputs": [
    {
     "data": {
      "text/plain": [
       "PosixPath('/data/BCI-CRC/nasrine/data/CRC/spatial/public/Visium_Valdeolivas_2023/cell2loc_pathologist_annotations/SN048_A416371_SN84_A120838_SN123_A595688')"
      ]
     },
     "execution_count": 11,
     "metadata": {},
     "output_type": "execute_result"
    }
   ],
   "source": [
    "DIR2SAVE"
   ]
  },
  {
   "cell_type": "code",
   "execution_count": 15,
   "metadata": {},
   "outputs": [],
   "source": [
    "pd.Series(celltype_list).to_csv(DIR2SAVE.joinpath(\"celltypes.csv\"),\n",
    "          sep='\\t',\n",
    "          header=False,\n",
    "          index=False)"
   ]
  },
  {
   "cell_type": "code",
   "execution_count": null,
   "metadata": {},
   "outputs": [],
   "source": []
  }
 ],
 "metadata": {
  "kernelspec": {
   "display_name": "cell2loc19",
   "language": "python",
   "name": "cell2loc19"
  },
  "language_info": {
   "codemirror_mode": {
    "name": "ipython",
    "version": 3
   },
   "file_extension": ".py",
   "mimetype": "text/x-python",
   "name": "python",
   "nbconvert_exporter": "python",
   "pygments_lexer": "ipython3",
   "version": "3.9.13"
  }
 },
 "nbformat": 4,
 "nbformat_minor": 4
}
