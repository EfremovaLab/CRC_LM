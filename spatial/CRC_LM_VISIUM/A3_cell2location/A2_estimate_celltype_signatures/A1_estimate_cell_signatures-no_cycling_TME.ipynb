{
 "cells": [
  {
   "cell_type": "markdown",
   "metadata": {},
   "source": [
    "### Cell2location estimates which combination of cell types in which cell abundance could have given the mRNA counts in the spatial data\n",
    "\n",
    "Given cell type annotation for each cell, the corresponding reference cell type signatures 𝑔𝑓,𝑔, which represent the average mRNA count of each gene 𝑔 in each cell type 𝑓, can be estimated from sc/snRNA-seq data using 2 provided methods (see below)\n",
    "\n",
    "1) estimation of reference cell type signatures\n",
    "\n",
    "    1) NB \n",
    "    2) average gene expression in each cluster \n",
    "    \n",
    "2) cell2location maping "
   ]
  },
  {
   "cell_type": "code",
   "execution_count": 1,
   "metadata": {},
   "outputs": [
    {
     "name": "stderr",
     "output_type": "stream",
     "text": [
      "Global seed set to 0\n"
     ]
    }
   ],
   "source": [
    "import scanpy as sc\n",
    "import squidpy as sq\n",
    "import anndata\n",
    "import pandas as pd\n",
    "import numpy as np\n",
    "import matplotlib.pyplot as plt\n",
    "import matplotlib as mpl\n",
    "from collections import Counter\n",
    "from matplotlib_scalebar.scalebar import ScaleBar\n",
    "import os\n",
    "\n",
    "import cell2location\n",
    "import scvi\n",
    "\n",
    "DPI = 300\n",
    "FONTSIZE = 20  # 42\n",
    "sc.settings.set_figure_params(\n",
    "    scanpy=True, dpi=100, transparent=True, vector_friendly=True, dpi_save=DPI\n",
    ")\n",
    "from matplotlib import rcParams\n",
    "\n",
    "rcParams[\"pdf.fonttype\"] = 42\n",
    "\n",
    "from matplotlib import rcParams\n",
    "import seaborn as sns\n",
    "from pathlib import Path"
   ]
  },
  {
   "cell_type": "code",
   "execution_count": 2,
   "metadata": {},
   "outputs": [],
   "source": [
    "# DIR2SAVE the signatures\n",
    "DIR2SAVE = Path(\n",
    "    \"/data/BCI-CRC/nasrine/data/CRC/spatial/CRC_LM_VISIUM/CRC_LM_VISIUM_04_08_09_11/cell2location/\"\n",
    ")"
   ]
  },
  {
   "cell_type": "code",
   "execution_count": 3,
   "metadata": {},
   "outputs": [],
   "source": [
    "# create paths and names to results folders for reference regression and cell2location models\n",
    "ref_run_name = DIR2SAVE.joinpath(\"reference_signatures-noCyclingTME/\")\n",
    "ref_run_name.mkdir(parents=True, exist_ok=True)"
   ]
  },
  {
   "cell_type": "markdown",
   "metadata": {},
   "source": [
    "* **scRNA-seq reference**"
   ]
  },
  {
   "cell_type": "code",
   "execution_count": 4,
   "metadata": {},
   "outputs": [],
   "source": [
    "# load path to single cell RNA-seq data reference\n",
    "SC_RNA_DATA = \"/data/BCI-CRC/nasrine/data/CRC/spatial/CRC_LM_VISIUM/CRC_LM_VISIUM_04_08_09_11/cell2location/prepareInputRNA/Multiome_Che_Wu_CRC_LM_annotations_raw_no_cycling_TME.h5ad\"\n",
    "adata_sc = sc.read_h5ad(SC_RNA_DATA)"
   ]
  },
  {
   "cell_type": "code",
   "execution_count": 5,
   "metadata": {},
   "outputs": [
    {
     "data": {
      "text/plain": [
       "(112034, 39559)"
      ]
     },
     "execution_count": 5,
     "metadata": {},
     "output_type": "execute_result"
    }
   ],
   "source": [
    "adata_sc.shape"
   ]
  },
  {
   "cell_type": "markdown",
   "metadata": {},
   "source": [
    "## Estimation of reference cell type signatures (NB regression)\n",
    "\n",
    "The signatures are estimated from scRNA-seq data, accounting for batch effect, using a Negative binomial regression model.\n",
    "\n",
    "Preparing anndata.\n",
    "\n",
    "First, prepare anndata object for the regression model:"
   ]
  },
  {
   "cell_type": "code",
   "execution_count": 6,
   "metadata": {},
   "outputs": [
    {
     "data": {
      "text/plain": [
       "{'B',\n",
       " 'C1QC Mac',\n",
       " 'C3 iCAF',\n",
       " 'CD4 Tfh',\n",
       " 'CD4 Th',\n",
       " 'CD4 Th HSP',\n",
       " 'CD4 Th17',\n",
       " 'CD4 Tn',\n",
       " 'CD8 Tem',\n",
       " 'CD8 Tem GZMB',\n",
       " 'CD8 Tem HSP',\n",
       " 'CD8 Tex',\n",
       " 'Cholangiocyte',\n",
       " 'Colonocyte',\n",
       " 'ECM CAF',\n",
       " 'Enteroendocrine',\n",
       " 'FCN1 Mono',\n",
       " 'Goblet',\n",
       " 'HSP Mono',\n",
       " 'Hepatocyte',\n",
       " 'Hypoxia',\n",
       " 'IL1B Mac',\n",
       " 'Intermediate',\n",
       " 'Kupffer',\n",
       " 'Lymphatic endo',\n",
       " 'MAIT',\n",
       " 'Mast',\n",
       " 'Myofibroblast',\n",
       " 'NK1',\n",
       " 'NK2',\n",
       " 'NKT',\n",
       " 'NLRP3 Mac',\n",
       " 'Neutrophil',\n",
       " 'PLTP LYVE1 Mac',\n",
       " 'Pericyte',\n",
       " 'Plasma',\n",
       " 'SEC',\n",
       " 'SMC',\n",
       " 'SPP1 Mac',\n",
       " 'Stalk-like endo',\n",
       " 'Stem',\n",
       " 'Stem (NOTUM high)',\n",
       " 'TA1',\n",
       " 'TA2',\n",
       " 'Tip-like endo',\n",
       " 'Treg',\n",
       " 'Tuft',\n",
       " 'UPR',\n",
       " 'cDC1',\n",
       " 'cDC2',\n",
       " 'gdT',\n",
       " 'ipEMT',\n",
       " 'migDC',\n",
       " 'pDC',\n",
       " 'pEMT'}"
      ]
     },
     "execution_count": 6,
     "metadata": {},
     "output_type": "execute_result"
    }
   ],
   "source": [
    "set(adata_sc.obs.Annotation_scVI_detailed)"
   ]
  },
  {
   "cell_type": "markdown",
   "metadata": {},
   "source": [
    "**Need to make sure that there are no / in the annotations because the model doesn't like it for saving it creates errors**"
   ]
  },
  {
   "cell_type": "code",
   "execution_count": 7,
   "metadata": {},
   "outputs": [],
   "source": [
    "adata_sc.obs.Annotation_scVI_detailed = (\n",
    "    adata_sc.obs.Annotation_scVI_detailed.str.replace(\"/\", \"-\")\n",
    ")  # creates errors when saving"
   ]
  },
  {
   "cell_type": "markdown",
   "metadata": {},
   "source": [
    "### Perform permissive genes selection\n",
    "\n",
    "**2 cut-off to remove as many lowly expressed genes as possible and yet avoid highly variable gene selection (HVG) which is prone to deleting markers of rare populations**:\n",
    "\n",
    "\n",
    "1. Include all genes expressed by at least 5% of cells (cell_count_cutoff2)\n",
    "\n",
    "2. Include genes expressed by at least 0.05% of cells (cell_count_cutoff) when they have high counts in non-zero cells (nonz_mean_cutoff)\n"
   ]
  },
  {
   "cell_type": "code",
   "execution_count": 8,
   "metadata": {},
   "outputs": [
    {
     "name": "stderr",
     "output_type": "stream",
     "text": [
      "/data/BCI-CRC/nasrine/anaconda/envs/cell2loc19/lib/python3.9/site-packages/pandas/core/arraylike.py:397: RuntimeWarning: divide by zero encountered in log10\n",
      "  result = getattr(ufunc, method)(*inputs, **kwargs)\n"
     ]
    },
    {
     "data": {
      "image/png": "[encoded data removed]",
      "text/plain": [
       "<Figure size 400x400 with 1 Axes>"
      ]
     },
     "metadata": {
      "image/png": {
       "height": 410,
       "width": 460
      },
      "needs_background": "light"
     },
     "output_type": "display_data"
    },
    {
     "data": {
      "text/plain": [
       "(112034, 16744)"
      ]
     },
     "execution_count": 8,
     "metadata": {},
     "output_type": "execute_result"
    }
   ],
   "source": [
    "from cell2location.utils.filtering import filter_genes\n",
    "\n",
    "selected = filter_genes(\n",
    "    adata_sc, cell_count_cutoff=5, cell_percentage_cutoff2=0.05, nonz_mean_cutoff=1.12\n",
    ")\n",
    "\n",
    "# filter the object\n",
    "adata_sc = adata_sc[:, selected].copy()\n",
    "adata_sc.shape"
   ]
  },
  {
   "cell_type": "markdown",
   "metadata": {},
   "source": [
    "In this 2D histogram, orange rectangle highlights genes excluded based on the combination of number of cells expressing that gene (Y-axis) and average RNA count for cells where the gene was detected (X-axis)"
   ]
  },
  {
   "cell_type": "markdown",
   "metadata": {},
   "source": [
    "#### 1. prepare anndata object for the regression model"
   ]
  },
  {
   "cell_type": "code",
   "execution_count": 9,
   "metadata": {},
   "outputs": [],
   "source": [
    "# prepare anndata for the regression model\n",
    "cell2location.models.RegressionModel.setup_anndata(\n",
    "    adata=adata_sc,\n",
    "    # 10X reaction / sample / batch\n",
    "    batch_key=\"cell_source\",  # which dataset: multiome, che, wu\n",
    "    # cell type, covariate used for constructing signatures\n",
    "    labels_key=\"Annotation_scVI_detailed\",\n",
    "    # multiplicative technical effects (platform, 3' vs 5', donor effect)\n",
    "    categorical_covariate_keys=[\"technology\"],  # nuclei vs cells\n",
    ")"
   ]
  },
  {
   "cell_type": "code",
   "execution_count": 10,
   "metadata": {},
   "outputs": [
    {
     "data": {
      "text/html": [
       "<pre style=\"white-space:pre;overflow-x:auto;line-height:normal;font-family:Menlo,'DejaVu Sans Mono',consolas,'Courier New',monospace\">Anndata setup with scvi-tools version <span style=\"color: #008080; text-decoration-color: #008080; font-weight: bold\">0.16</span>.<span style=\"color: #008080; text-decoration-color: #008080; font-weight: bold\">4</span>.\n",
       "</pre>\n"
      ],
      "text/plain": [
       "Anndata setup with scvi-tools version \u001b[1;36m0.16\u001b[0m.\u001b[1;36m4\u001b[0m.\n"
      ]
     },
     "metadata": {},
     "output_type": "display_data"
    },
    {
     "data": {
      "text/html": [
       "<pre style=\"white-space:pre;overflow-x:auto;line-height:normal;font-family:Menlo,'DejaVu Sans Mono',consolas,'Courier New',monospace\">\n",
       "</pre>\n"
      ],
      "text/plain": [
       "\n"
      ]
     },
     "metadata": {},
     "output_type": "display_data"
    },
    {
     "data": {
      "text/html": [
       "<pre style=\"white-space:pre;overflow-x:auto;line-height:normal;font-family:Menlo,'DejaVu Sans Mono',consolas,'Courier New',monospace\">Setup via `RegressionModel.setup_anndata` with arguments:\n",
       "</pre>\n"
      ],
      "text/plain": [
       "Setup via `RegressionModel.setup_anndata` with arguments:\n"
      ]
     },
     "metadata": {},
     "output_type": "display_data"
    },
    {
     "data": {
      "text/html": [
       "<pre style=\"white-space:pre;overflow-x:auto;line-height:normal;font-family:Menlo,'DejaVu Sans Mono',consolas,'Courier New',monospace\"><span style=\"font-weight: bold\">{</span>\n",
       "<span style=\"color: #7fbf7f; text-decoration-color: #7fbf7f\">│   </span><span style=\"color: #008000; text-decoration-color: #008000\">'layer'</span>: <span style=\"color: #800080; text-decoration-color: #800080; font-style: italic\">None</span>,\n",
       "<span style=\"color: #7fbf7f; text-decoration-color: #7fbf7f\">│   </span><span style=\"color: #008000; text-decoration-color: #008000\">'batch_key'</span>: <span style=\"color: #008000; text-decoration-color: #008000\">'cell_source'</span>,\n",
       "<span style=\"color: #7fbf7f; text-decoration-color: #7fbf7f\">│   </span><span style=\"color: #008000; text-decoration-color: #008000\">'labels_key'</span>: <span style=\"color: #008000; text-decoration-color: #008000\">'Annotation_scVI_detailed'</span>,\n",
       "<span style=\"color: #7fbf7f; text-decoration-color: #7fbf7f\">│   </span><span style=\"color: #008000; text-decoration-color: #008000\">'categorical_covariate_keys'</span>: <span style=\"font-weight: bold\">[</span><span style=\"color: #008000; text-decoration-color: #008000\">'technology'</span><span style=\"font-weight: bold\">]</span>,\n",
       "<span style=\"color: #7fbf7f; text-decoration-color: #7fbf7f\">│   </span><span style=\"color: #008000; text-decoration-color: #008000\">'continuous_covariate_keys'</span>: <span style=\"color: #800080; text-decoration-color: #800080; font-style: italic\">None</span>\n",
       "<span style=\"font-weight: bold\">}</span>\n",
       "</pre>\n"
      ],
      "text/plain": [
       "\u001b[1m{\u001b[0m\n",
       "\u001b[2;32m│   \u001b[0m\u001b[32m'layer'\u001b[0m: \u001b[3;35mNone\u001b[0m,\n",
       "\u001b[2;32m│   \u001b[0m\u001b[32m'batch_key'\u001b[0m: \u001b[32m'cell_source'\u001b[0m,\n",
       "\u001b[2;32m│   \u001b[0m\u001b[32m'labels_key'\u001b[0m: \u001b[32m'Annotation_scVI_detailed'\u001b[0m,\n",
       "\u001b[2;32m│   \u001b[0m\u001b[32m'categorical_covariate_keys'\u001b[0m: \u001b[1m[\u001b[0m\u001b[32m'technology'\u001b[0m\u001b[1m]\u001b[0m,\n",
       "\u001b[2;32m│   \u001b[0m\u001b[32m'continuous_covariate_keys'\u001b[0m: \u001b[3;35mNone\u001b[0m\n",
       "\u001b[1m}\u001b[0m\n"
      ]
     },
     "metadata": {},
     "output_type": "display_data"
    },
    {
     "data": {
      "text/html": [
       "<pre style=\"white-space:pre;overflow-x:auto;line-height:normal;font-family:Menlo,'DejaVu Sans Mono',consolas,'Courier New',monospace\">\n",
       "</pre>\n"
      ],
      "text/plain": [
       "\n"
      ]
     },
     "metadata": {},
     "output_type": "display_data"
    },
    {
     "data": {
      "text/html": [
       "<pre style=\"white-space:pre;overflow-x:auto;line-height:normal;font-family:Menlo,'DejaVu Sans Mono',consolas,'Courier New',monospace\"><span style=\"font-style: italic\">         Summary Statistics          </span>\n",
       "┏━━━━━━━━━━━━━━━━━━━━━━━━━━┳━━━━━━━━┓\n",
       "┃<span style=\"font-weight: bold\">     Summary Stat Key     </span>┃<span style=\"font-weight: bold\"> Value  </span>┃\n",
       "┡━━━━━━━━━━━━━━━━━━━━━━━━━━╇━━━━━━━━┩\n",
       "│<span style=\"color: #0087ff; text-decoration-color: #0087ff\">         n_cells          </span>│<span style=\"color: #af00d7; text-decoration-color: #af00d7\"> 112034 </span>│\n",
       "│<span style=\"color: #0087ff; text-decoration-color: #0087ff\">          n_vars          </span>│<span style=\"color: #af00d7; text-decoration-color: #af00d7\"> 16744  </span>│\n",
       "│<span style=\"color: #0087ff; text-decoration-color: #0087ff\">         n_batch          </span>│<span style=\"color: #af00d7; text-decoration-color: #af00d7\">   3    </span>│\n",
       "│<span style=\"color: #0087ff; text-decoration-color: #0087ff\">         n_labels         </span>│<span style=\"color: #af00d7; text-decoration-color: #af00d7\">   55   </span>│\n",
       "│<span style=\"color: #0087ff; text-decoration-color: #0087ff\"> n_extra_categorical_covs </span>│<span style=\"color: #af00d7; text-decoration-color: #af00d7\">   1    </span>│\n",
       "│<span style=\"color: #0087ff; text-decoration-color: #0087ff\"> n_extra_continuous_covs  </span>│<span style=\"color: #af00d7; text-decoration-color: #af00d7\">   0    </span>│\n",
       "└──────────────────────────┴────────┘\n",
       "</pre>\n"
      ],
      "text/plain": [
       "\u001b[3m         Summary Statistics          \u001b[0m\n",
       "┏━━━━━━━━━━━━━━━━━━━━━━━━━━┳━━━━━━━━┓\n",
       "┃\u001b[1m \u001b[0m\u001b[1m    Summary Stat Key    \u001b[0m\u001b[1m \u001b[0m┃\u001b[1m \u001b[0m\u001b[1mValue \u001b[0m\u001b[1m \u001b[0m┃\n",
       "┡━━━━━━━━━━━━━━━━━━━━━━━━━━╇━━━━━━━━┩\n",
       "│\u001b[38;5;33m \u001b[0m\u001b[38;5;33m        n_cells         \u001b[0m\u001b[38;5;33m \u001b[0m│\u001b[38;5;128m \u001b[0m\u001b[38;5;128m112034\u001b[0m\u001b[38;5;128m \u001b[0m│\n",
       "│\u001b[38;5;33m \u001b[0m\u001b[38;5;33m         n_vars         \u001b[0m\u001b[38;5;33m \u001b[0m│\u001b[38;5;128m \u001b[0m\u001b[38;5;128m16744 \u001b[0m\u001b[38;5;128m \u001b[0m│\n",
       "│\u001b[38;5;33m \u001b[0m\u001b[38;5;33m        n_batch         \u001b[0m\u001b[38;5;33m \u001b[0m│\u001b[38;5;128m \u001b[0m\u001b[38;5;128m  3   \u001b[0m\u001b[38;5;128m \u001b[0m│\n",
       "│\u001b[38;5;33m \u001b[0m\u001b[38;5;33m        n_labels        \u001b[0m\u001b[38;5;33m \u001b[0m│\u001b[38;5;128m \u001b[0m\u001b[38;5;128m  55  \u001b[0m\u001b[38;5;128m \u001b[0m│\n",
       "│\u001b[38;5;33m \u001b[0m\u001b[38;5;33mn_extra_categorical_covs\u001b[0m\u001b[38;5;33m \u001b[0m│\u001b[38;5;128m \u001b[0m\u001b[38;5;128m  1   \u001b[0m\u001b[38;5;128m \u001b[0m│\n",
       "│\u001b[38;5;33m \u001b[0m\u001b[38;5;33mn_extra_continuous_covs \u001b[0m\u001b[38;5;33m \u001b[0m│\u001b[38;5;128m \u001b[0m\u001b[38;5;128m  0   \u001b[0m\u001b[38;5;128m \u001b[0m│\n",
       "└──────────────────────────┴────────┘\n"
      ]
     },
     "metadata": {},
     "output_type": "display_data"
    },
    {
     "data": {
      "text/html": [
       "<pre style=\"white-space:pre;overflow-x:auto;line-height:normal;font-family:Menlo,'DejaVu Sans Mono',consolas,'Courier New',monospace\"><span style=\"font-style: italic\">                             Data Registry                             </span>\n",
       "┏━━━━━━━━━━━━━━━━━━━━━━━━┳━━━━━━━━━━━━━━━━━━━━━━━━━━━━━━━━━━━━━━━━━━━━┓\n",
       "┃<span style=\"font-weight: bold\">      Registry Key      </span>┃<span style=\"font-weight: bold\">            scvi-tools Location             </span>┃\n",
       "┡━━━━━━━━━━━━━━━━━━━━━━━━╇━━━━━━━━━━━━━━━━━━━━━━━━━━━━━━━━━━━━━━━━━━━━┩\n",
       "│<span style=\"color: #0087ff; text-decoration-color: #0087ff\">           X            </span>│<span style=\"color: #af00d7; text-decoration-color: #af00d7\">                  adata.X                   </span>│\n",
       "│<span style=\"color: #0087ff; text-decoration-color: #0087ff\">         batch          </span>│<span style=\"color: #af00d7; text-decoration-color: #af00d7\">          adata.obs['_scvi_batch']          </span>│\n",
       "│<span style=\"color: #0087ff; text-decoration-color: #0087ff\">         labels         </span>│<span style=\"color: #af00d7; text-decoration-color: #af00d7\">         adata.obs['_scvi_labels']          </span>│\n",
       "│<span style=\"color: #0087ff; text-decoration-color: #0087ff\"> extra_categorical_covs </span>│<span style=\"color: #af00d7; text-decoration-color: #af00d7\"> adata.obsm['_scvi_extra_categorical_covs'] </span>│\n",
       "│<span style=\"color: #0087ff; text-decoration-color: #0087ff\">         ind_x          </span>│<span style=\"color: #af00d7; text-decoration-color: #af00d7\">           adata.obs['_indices']            </span>│\n",
       "└────────────────────────┴────────────────────────────────────────────┘\n",
       "</pre>\n"
      ],
      "text/plain": [
       "\u001b[3m                             Data Registry                             \u001b[0m\n",
       "┏━━━━━━━━━━━━━━━━━━━━━━━━┳━━━━━━━━━━━━━━━━━━━━━━━━━━━━━━━━━━━━━━━━━━━━┓\n",
       "┃\u001b[1m \u001b[0m\u001b[1m     Registry Key     \u001b[0m\u001b[1m \u001b[0m┃\u001b[1m \u001b[0m\u001b[1m           scvi-tools Location            \u001b[0m\u001b[1m \u001b[0m┃\n",
       "┡━━━━━━━━━━━━━━━━━━━━━━━━╇━━━━━━━━━━━━━━━━━━━━━━━━━━━━━━━━━━━━━━━━━━━━┩\n",
       "│\u001b[38;5;33m \u001b[0m\u001b[38;5;33m          X           \u001b[0m\u001b[38;5;33m \u001b[0m│\u001b[38;5;128m \u001b[0m\u001b[38;5;128m                 adata.X                  \u001b[0m\u001b[38;5;128m \u001b[0m│\n",
       "│\u001b[38;5;33m \u001b[0m\u001b[38;5;33m        batch         \u001b[0m\u001b[38;5;33m \u001b[0m│\u001b[38;5;128m \u001b[0m\u001b[38;5;128m         adata.obs['_scvi_batch']         \u001b[0m\u001b[38;5;128m \u001b[0m│\n",
       "│\u001b[38;5;33m \u001b[0m\u001b[38;5;33m        labels        \u001b[0m\u001b[38;5;33m \u001b[0m│\u001b[38;5;128m \u001b[0m\u001b[38;5;128m        adata.obs['_scvi_labels']         \u001b[0m\u001b[38;5;128m \u001b[0m│\n",
       "│\u001b[38;5;33m \u001b[0m\u001b[38;5;33mextra_categorical_covs\u001b[0m\u001b[38;5;33m \u001b[0m│\u001b[38;5;128m \u001b[0m\u001b[38;5;128madata.obsm['_scvi_extra_categorical_covs']\u001b[0m\u001b[38;5;128m \u001b[0m│\n",
       "│\u001b[38;5;33m \u001b[0m\u001b[38;5;33m        ind_x         \u001b[0m\u001b[38;5;33m \u001b[0m│\u001b[38;5;128m \u001b[0m\u001b[38;5;128m          adata.obs['_indices']           \u001b[0m\u001b[38;5;128m \u001b[0m│\n",
       "└────────────────────────┴────────────────────────────────────────────┘\n"
      ]
     },
     "metadata": {},
     "output_type": "display_data"
    },
    {
     "data": {
      "text/html": [
       "<pre style=\"white-space:pre;overflow-x:auto;line-height:normal;font-family:Menlo,'DejaVu Sans Mono',consolas,'Courier New',monospace\"><span style=\"font-style: italic\">                     batch State Registry                      </span>\n",
       "┏━━━━━━━━━━━━━━━━━━━━━━━━━━┳━━━━━━━━━━━━┳━━━━━━━━━━━━━━━━━━━━━┓\n",
       "┃<span style=\"font-weight: bold\">     Source Location      </span>┃<span style=\"font-weight: bold\"> Categories </span>┃<span style=\"font-weight: bold\"> scvi-tools Encoding </span>┃\n",
       "┡━━━━━━━━━━━━━━━━━━━━━━━━━━╇━━━━━━━━━━━━╇━━━━━━━━━━━━━━━━━━━━━┩\n",
       "│<span style=\"color: #0087ff; text-decoration-color: #0087ff\"> adata.obs['cell_source'] </span>│<span style=\"color: #008000; text-decoration-color: #008000\"> BCI-Nuclei </span>│<span style=\"color: #af00d7; text-decoration-color: #af00d7\">          0          </span>│\n",
       "│<span style=\"color: #0087ff; text-decoration-color: #0087ff\">                          </span>│<span style=\"color: #008000; text-decoration-color: #008000\"> Che-Cells  </span>│<span style=\"color: #af00d7; text-decoration-color: #af00d7\">          1          </span>│\n",
       "│<span style=\"color: #0087ff; text-decoration-color: #0087ff\">                          </span>│<span style=\"color: #008000; text-decoration-color: #008000\">  Wu-Cells  </span>│<span style=\"color: #af00d7; text-decoration-color: #af00d7\">          2          </span>│\n",
       "└──────────────────────────┴────────────┴─────────────────────┘\n",
       "</pre>\n"
      ],
      "text/plain": [
       "\u001b[3m                     batch State Registry                      \u001b[0m\n",
       "┏━━━━━━━━━━━━━━━━━━━━━━━━━━┳━━━━━━━━━━━━┳━━━━━━━━━━━━━━━━━━━━━┓\n",
       "┃\u001b[1m \u001b[0m\u001b[1m    Source Location     \u001b[0m\u001b[1m \u001b[0m┃\u001b[1m \u001b[0m\u001b[1mCategories\u001b[0m\u001b[1m \u001b[0m┃\u001b[1m \u001b[0m\u001b[1mscvi-tools Encoding\u001b[0m\u001b[1m \u001b[0m┃\n",
       "┡━━━━━━━━━━━━━━━━━━━━━━━━━━╇━━━━━━━━━━━━╇━━━━━━━━━━━━━━━━━━━━━┩\n",
       "│\u001b[38;5;33m \u001b[0m\u001b[38;5;33madata.obs['cell_source']\u001b[0m\u001b[38;5;33m \u001b[0m│\u001b[32m \u001b[0m\u001b[32mBCI-Nuclei\u001b[0m\u001b[32m \u001b[0m│\u001b[38;5;128m \u001b[0m\u001b[38;5;128m         0         \u001b[0m\u001b[38;5;128m \u001b[0m│\n",
       "│\u001b[38;5;33m \u001b[0m\u001b[38;5;33m                        \u001b[0m\u001b[38;5;33m \u001b[0m│\u001b[32m \u001b[0m\u001b[32mChe-Cells \u001b[0m\u001b[32m \u001b[0m│\u001b[38;5;128m \u001b[0m\u001b[38;5;128m         1         \u001b[0m\u001b[38;5;128m \u001b[0m│\n",
       "│\u001b[38;5;33m \u001b[0m\u001b[38;5;33m                        \u001b[0m\u001b[38;5;33m \u001b[0m│\u001b[32m \u001b[0m\u001b[32m Wu-Cells \u001b[0m\u001b[32m \u001b[0m│\u001b[38;5;128m \u001b[0m\u001b[38;5;128m         2         \u001b[0m\u001b[38;5;128m \u001b[0m│\n",
       "└──────────────────────────┴────────────┴─────────────────────┘\n"
      ]
     },
     "metadata": {},
     "output_type": "display_data"
    },
    {
     "data": {
      "text/html": [
       "<pre style=\"white-space:pre;overflow-x:auto;line-height:normal;font-family:Menlo,'DejaVu Sans Mono',consolas,'Courier New',monospace\"><span style=\"font-style: italic\">                               labels State Registry                               </span>\n",
       "┏━━━━━━━━━━━━━━━━━━━━━━━━━━━━━━━━━━━━━━━┳━━━━━━━━━━━━━━━━━━━┳━━━━━━━━━━━━━━━━━━━━━┓\n",
       "┃<span style=\"font-weight: bold\">            Source Location            </span>┃<span style=\"font-weight: bold\">    Categories     </span>┃<span style=\"font-weight: bold\"> scvi-tools Encoding </span>┃\n",
       "┡━━━━━━━━━━━━━━━━━━━━━━━━━━━━━━━━━━━━━━━╇━━━━━━━━━━━━━━━━━━━╇━━━━━━━━━━━━━━━━━━━━━┩\n",
       "│<span style=\"color: #0087ff; text-decoration-color: #0087ff\"> adata.obs['Annotation_scVI_detailed'] </span>│<span style=\"color: #008000; text-decoration-color: #008000\">         B         </span>│<span style=\"color: #af00d7; text-decoration-color: #af00d7\">          0          </span>│\n",
       "│<span style=\"color: #0087ff; text-decoration-color: #0087ff\">                                       </span>│<span style=\"color: #008000; text-decoration-color: #008000\">     C1QC Mac      </span>│<span style=\"color: #af00d7; text-decoration-color: #af00d7\">          1          </span>│\n",
       "│<span style=\"color: #0087ff; text-decoration-color: #0087ff\">                                       </span>│<span style=\"color: #008000; text-decoration-color: #008000\">      C3 iCAF      </span>│<span style=\"color: #af00d7; text-decoration-color: #af00d7\">          2          </span>│\n",
       "│<span style=\"color: #0087ff; text-decoration-color: #0087ff\">                                       </span>│<span style=\"color: #008000; text-decoration-color: #008000\">      CD4 Tfh      </span>│<span style=\"color: #af00d7; text-decoration-color: #af00d7\">          3          </span>│\n",
       "│<span style=\"color: #0087ff; text-decoration-color: #0087ff\">                                       </span>│<span style=\"color: #008000; text-decoration-color: #008000\">      CD4 Th       </span>│<span style=\"color: #af00d7; text-decoration-color: #af00d7\">          4          </span>│\n",
       "│<span style=\"color: #0087ff; text-decoration-color: #0087ff\">                                       </span>│<span style=\"color: #008000; text-decoration-color: #008000\">    CD4 Th HSP     </span>│<span style=\"color: #af00d7; text-decoration-color: #af00d7\">          5          </span>│\n",
       "│<span style=\"color: #0087ff; text-decoration-color: #0087ff\">                                       </span>│<span style=\"color: #008000; text-decoration-color: #008000\">     CD4 Th17      </span>│<span style=\"color: #af00d7; text-decoration-color: #af00d7\">          6          </span>│\n",
       "│<span style=\"color: #0087ff; text-decoration-color: #0087ff\">                                       </span>│<span style=\"color: #008000; text-decoration-color: #008000\">      CD4 Tn       </span>│<span style=\"color: #af00d7; text-decoration-color: #af00d7\">          7          </span>│\n",
       "│<span style=\"color: #0087ff; text-decoration-color: #0087ff\">                                       </span>│<span style=\"color: #008000; text-decoration-color: #008000\">      CD8 Tem      </span>│<span style=\"color: #af00d7; text-decoration-color: #af00d7\">          8          </span>│\n",
       "│<span style=\"color: #0087ff; text-decoration-color: #0087ff\">                                       </span>│<span style=\"color: #008000; text-decoration-color: #008000\">   CD8 Tem GZMB    </span>│<span style=\"color: #af00d7; text-decoration-color: #af00d7\">          9          </span>│\n",
       "│<span style=\"color: #0087ff; text-decoration-color: #0087ff\">                                       </span>│<span style=\"color: #008000; text-decoration-color: #008000\">    CD8 Tem HSP    </span>│<span style=\"color: #af00d7; text-decoration-color: #af00d7\">         10          </span>│\n",
       "│<span style=\"color: #0087ff; text-decoration-color: #0087ff\">                                       </span>│<span style=\"color: #008000; text-decoration-color: #008000\">      CD8 Tex      </span>│<span style=\"color: #af00d7; text-decoration-color: #af00d7\">         11          </span>│\n",
       "│<span style=\"color: #0087ff; text-decoration-color: #0087ff\">                                       </span>│<span style=\"color: #008000; text-decoration-color: #008000\">   Cholangiocyte   </span>│<span style=\"color: #af00d7; text-decoration-color: #af00d7\">         12          </span>│\n",
       "│<span style=\"color: #0087ff; text-decoration-color: #0087ff\">                                       </span>│<span style=\"color: #008000; text-decoration-color: #008000\">    Colonocyte     </span>│<span style=\"color: #af00d7; text-decoration-color: #af00d7\">         13          </span>│\n",
       "│<span style=\"color: #0087ff; text-decoration-color: #0087ff\">                                       </span>│<span style=\"color: #008000; text-decoration-color: #008000\">      ECM CAF      </span>│<span style=\"color: #af00d7; text-decoration-color: #af00d7\">         14          </span>│\n",
       "│<span style=\"color: #0087ff; text-decoration-color: #0087ff\">                                       </span>│<span style=\"color: #008000; text-decoration-color: #008000\">  Enteroendocrine  </span>│<span style=\"color: #af00d7; text-decoration-color: #af00d7\">         15          </span>│\n",
       "│<span style=\"color: #0087ff; text-decoration-color: #0087ff\">                                       </span>│<span style=\"color: #008000; text-decoration-color: #008000\">     FCN1 Mono     </span>│<span style=\"color: #af00d7; text-decoration-color: #af00d7\">         16          </span>│\n",
       "│<span style=\"color: #0087ff; text-decoration-color: #0087ff\">                                       </span>│<span style=\"color: #008000; text-decoration-color: #008000\">      Goblet       </span>│<span style=\"color: #af00d7; text-decoration-color: #af00d7\">         17          </span>│\n",
       "│<span style=\"color: #0087ff; text-decoration-color: #0087ff\">                                       </span>│<span style=\"color: #008000; text-decoration-color: #008000\">     HSP Mono      </span>│<span style=\"color: #af00d7; text-decoration-color: #af00d7\">         18          </span>│\n",
       "│<span style=\"color: #0087ff; text-decoration-color: #0087ff\">                                       </span>│<span style=\"color: #008000; text-decoration-color: #008000\">    Hepatocyte     </span>│<span style=\"color: #af00d7; text-decoration-color: #af00d7\">         19          </span>│\n",
       "│<span style=\"color: #0087ff; text-decoration-color: #0087ff\">                                       </span>│<span style=\"color: #008000; text-decoration-color: #008000\">      Hypoxia      </span>│<span style=\"color: #af00d7; text-decoration-color: #af00d7\">         20          </span>│\n",
       "│<span style=\"color: #0087ff; text-decoration-color: #0087ff\">                                       </span>│<span style=\"color: #008000; text-decoration-color: #008000\">     IL1B Mac      </span>│<span style=\"color: #af00d7; text-decoration-color: #af00d7\">         21          </span>│\n",
       "│<span style=\"color: #0087ff; text-decoration-color: #0087ff\">                                       </span>│<span style=\"color: #008000; text-decoration-color: #008000\">   Intermediate    </span>│<span style=\"color: #af00d7; text-decoration-color: #af00d7\">         22          </span>│\n",
       "│<span style=\"color: #0087ff; text-decoration-color: #0087ff\">                                       </span>│<span style=\"color: #008000; text-decoration-color: #008000\">      Kupffer      </span>│<span style=\"color: #af00d7; text-decoration-color: #af00d7\">         23          </span>│\n",
       "│<span style=\"color: #0087ff; text-decoration-color: #0087ff\">                                       </span>│<span style=\"color: #008000; text-decoration-color: #008000\">  Lymphatic endo   </span>│<span style=\"color: #af00d7; text-decoration-color: #af00d7\">         24          </span>│\n",
       "│<span style=\"color: #0087ff; text-decoration-color: #0087ff\">                                       </span>│<span style=\"color: #008000; text-decoration-color: #008000\">       MAIT        </span>│<span style=\"color: #af00d7; text-decoration-color: #af00d7\">         25          </span>│\n",
       "│<span style=\"color: #0087ff; text-decoration-color: #0087ff\">                                       </span>│<span style=\"color: #008000; text-decoration-color: #008000\">       Mast        </span>│<span style=\"color: #af00d7; text-decoration-color: #af00d7\">         26          </span>│\n",
       "│<span style=\"color: #0087ff; text-decoration-color: #0087ff\">                                       </span>│<span style=\"color: #008000; text-decoration-color: #008000\">   Myofibroblast   </span>│<span style=\"color: #af00d7; text-decoration-color: #af00d7\">         27          </span>│\n",
       "│<span style=\"color: #0087ff; text-decoration-color: #0087ff\">                                       </span>│<span style=\"color: #008000; text-decoration-color: #008000\">        NK1        </span>│<span style=\"color: #af00d7; text-decoration-color: #af00d7\">         28          </span>│\n",
       "│<span style=\"color: #0087ff; text-decoration-color: #0087ff\">                                       </span>│<span style=\"color: #008000; text-decoration-color: #008000\">        NK2        </span>│<span style=\"color: #af00d7; text-decoration-color: #af00d7\">         29          </span>│\n",
       "│<span style=\"color: #0087ff; text-decoration-color: #0087ff\">                                       </span>│<span style=\"color: #008000; text-decoration-color: #008000\">        NKT        </span>│<span style=\"color: #af00d7; text-decoration-color: #af00d7\">         30          </span>│\n",
       "│<span style=\"color: #0087ff; text-decoration-color: #0087ff\">                                       </span>│<span style=\"color: #008000; text-decoration-color: #008000\">     NLRP3 Mac     </span>│<span style=\"color: #af00d7; text-decoration-color: #af00d7\">         31          </span>│\n",
       "│<span style=\"color: #0087ff; text-decoration-color: #0087ff\">                                       </span>│<span style=\"color: #008000; text-decoration-color: #008000\">    Neutrophil     </span>│<span style=\"color: #af00d7; text-decoration-color: #af00d7\">         32          </span>│\n",
       "│<span style=\"color: #0087ff; text-decoration-color: #0087ff\">                                       </span>│<span style=\"color: #008000; text-decoration-color: #008000\">  PLTP LYVE1 Mac   </span>│<span style=\"color: #af00d7; text-decoration-color: #af00d7\">         33          </span>│\n",
       "│<span style=\"color: #0087ff; text-decoration-color: #0087ff\">                                       </span>│<span style=\"color: #008000; text-decoration-color: #008000\">     Pericyte      </span>│<span style=\"color: #af00d7; text-decoration-color: #af00d7\">         34          </span>│\n",
       "│<span style=\"color: #0087ff; text-decoration-color: #0087ff\">                                       </span>│<span style=\"color: #008000; text-decoration-color: #008000\">      Plasma       </span>│<span style=\"color: #af00d7; text-decoration-color: #af00d7\">         35          </span>│\n",
       "│<span style=\"color: #0087ff; text-decoration-color: #0087ff\">                                       </span>│<span style=\"color: #008000; text-decoration-color: #008000\">        SEC        </span>│<span style=\"color: #af00d7; text-decoration-color: #af00d7\">         36          </span>│\n",
       "│<span style=\"color: #0087ff; text-decoration-color: #0087ff\">                                       </span>│<span style=\"color: #008000; text-decoration-color: #008000\">        SMC        </span>│<span style=\"color: #af00d7; text-decoration-color: #af00d7\">         37          </span>│\n",
       "│<span style=\"color: #0087ff; text-decoration-color: #0087ff\">                                       </span>│<span style=\"color: #008000; text-decoration-color: #008000\">     SPP1 Mac      </span>│<span style=\"color: #af00d7; text-decoration-color: #af00d7\">         38          </span>│\n",
       "│<span style=\"color: #0087ff; text-decoration-color: #0087ff\">                                       </span>│<span style=\"color: #008000; text-decoration-color: #008000\">  Stalk-like endo  </span>│<span style=\"color: #af00d7; text-decoration-color: #af00d7\">         39          </span>│\n",
       "│<span style=\"color: #0087ff; text-decoration-color: #0087ff\">                                       </span>│<span style=\"color: #008000; text-decoration-color: #008000\">       Stem        </span>│<span style=\"color: #af00d7; text-decoration-color: #af00d7\">         40          </span>│\n",
       "│<span style=\"color: #0087ff; text-decoration-color: #0087ff\">                                       </span>│<span style=\"color: #008000; text-decoration-color: #008000\"> Stem (NOTUM high) </span>│<span style=\"color: #af00d7; text-decoration-color: #af00d7\">         41          </span>│\n",
       "│<span style=\"color: #0087ff; text-decoration-color: #0087ff\">                                       </span>│<span style=\"color: #008000; text-decoration-color: #008000\">        TA1        </span>│<span style=\"color: #af00d7; text-decoration-color: #af00d7\">         42          </span>│\n",
       "│<span style=\"color: #0087ff; text-decoration-color: #0087ff\">                                       </span>│<span style=\"color: #008000; text-decoration-color: #008000\">        TA2        </span>│<span style=\"color: #af00d7; text-decoration-color: #af00d7\">         43          </span>│\n",
       "│<span style=\"color: #0087ff; text-decoration-color: #0087ff\">                                       </span>│<span style=\"color: #008000; text-decoration-color: #008000\">   Tip-like endo   </span>│<span style=\"color: #af00d7; text-decoration-color: #af00d7\">         44          </span>│\n",
       "│<span style=\"color: #0087ff; text-decoration-color: #0087ff\">                                       </span>│<span style=\"color: #008000; text-decoration-color: #008000\">       Treg        </span>│<span style=\"color: #af00d7; text-decoration-color: #af00d7\">         45          </span>│\n",
       "│<span style=\"color: #0087ff; text-decoration-color: #0087ff\">                                       </span>│<span style=\"color: #008000; text-decoration-color: #008000\">       Tuft        </span>│<span style=\"color: #af00d7; text-decoration-color: #af00d7\">         46          </span>│\n",
       "│<span style=\"color: #0087ff; text-decoration-color: #0087ff\">                                       </span>│<span style=\"color: #008000; text-decoration-color: #008000\">        UPR        </span>│<span style=\"color: #af00d7; text-decoration-color: #af00d7\">         47          </span>│\n",
       "│<span style=\"color: #0087ff; text-decoration-color: #0087ff\">                                       </span>│<span style=\"color: #008000; text-decoration-color: #008000\">       cDC1        </span>│<span style=\"color: #af00d7; text-decoration-color: #af00d7\">         48          </span>│\n",
       "│<span style=\"color: #0087ff; text-decoration-color: #0087ff\">                                       </span>│<span style=\"color: #008000; text-decoration-color: #008000\">       cDC2        </span>│<span style=\"color: #af00d7; text-decoration-color: #af00d7\">         49          </span>│\n",
       "│<span style=\"color: #0087ff; text-decoration-color: #0087ff\">                                       </span>│<span style=\"color: #008000; text-decoration-color: #008000\">        gdT        </span>│<span style=\"color: #af00d7; text-decoration-color: #af00d7\">         50          </span>│\n",
       "│<span style=\"color: #0087ff; text-decoration-color: #0087ff\">                                       </span>│<span style=\"color: #008000; text-decoration-color: #008000\">       ipEMT       </span>│<span style=\"color: #af00d7; text-decoration-color: #af00d7\">         51          </span>│\n",
       "│<span style=\"color: #0087ff; text-decoration-color: #0087ff\">                                       </span>│<span style=\"color: #008000; text-decoration-color: #008000\">       migDC       </span>│<span style=\"color: #af00d7; text-decoration-color: #af00d7\">         52          </span>│\n",
       "│<span style=\"color: #0087ff; text-decoration-color: #0087ff\">                                       </span>│<span style=\"color: #008000; text-decoration-color: #008000\">        pDC        </span>│<span style=\"color: #af00d7; text-decoration-color: #af00d7\">         53          </span>│\n",
       "│<span style=\"color: #0087ff; text-decoration-color: #0087ff\">                                       </span>│<span style=\"color: #008000; text-decoration-color: #008000\">       pEMT        </span>│<span style=\"color: #af00d7; text-decoration-color: #af00d7\">         54          </span>│\n",
       "└───────────────────────────────────────┴───────────────────┴─────────────────────┘\n",
       "</pre>\n"
      ],
      "text/plain": [
       "\u001b[3m                               labels State Registry                               \u001b[0m\n",
       "┏━━━━━━━━━━━━━━━━━━━━━━━━━━━━━━━━━━━━━━━┳━━━━━━━━━━━━━━━━━━━┳━━━━━━━━━━━━━━━━━━━━━┓\n",
       "┃\u001b[1m \u001b[0m\u001b[1m           Source Location           \u001b[0m\u001b[1m \u001b[0m┃\u001b[1m \u001b[0m\u001b[1m   Categories    \u001b[0m\u001b[1m \u001b[0m┃\u001b[1m \u001b[0m\u001b[1mscvi-tools Encoding\u001b[0m\u001b[1m \u001b[0m┃\n",
       "┡━━━━━━━━━━━━━━━━━━━━━━━━━━━━━━━━━━━━━━━╇━━━━━━━━━━━━━━━━━━━╇━━━━━━━━━━━━━━━━━━━━━┩\n",
       "│\u001b[38;5;33m \u001b[0m\u001b[38;5;33madata.obs['Annotation_scVI_detailed']\u001b[0m\u001b[38;5;33m \u001b[0m│\u001b[32m \u001b[0m\u001b[32m        B        \u001b[0m\u001b[32m \u001b[0m│\u001b[38;5;128m \u001b[0m\u001b[38;5;128m         0         \u001b[0m\u001b[38;5;128m \u001b[0m│\n",
       "│\u001b[38;5;33m \u001b[0m\u001b[38;5;33m                                     \u001b[0m\u001b[38;5;33m \u001b[0m│\u001b[32m \u001b[0m\u001b[32m    C1QC Mac     \u001b[0m\u001b[32m \u001b[0m│\u001b[38;5;128m \u001b[0m\u001b[38;5;128m         1         \u001b[0m\u001b[38;5;128m \u001b[0m│\n",
       "│\u001b[38;5;33m \u001b[0m\u001b[38;5;33m                                     \u001b[0m\u001b[38;5;33m \u001b[0m│\u001b[32m \u001b[0m\u001b[32m     C3 iCAF     \u001b[0m\u001b[32m \u001b[0m│\u001b[38;5;128m \u001b[0m\u001b[38;5;128m         2         \u001b[0m\u001b[38;5;128m \u001b[0m│\n",
       "│\u001b[38;5;33m \u001b[0m\u001b[38;5;33m                                     \u001b[0m\u001b[38;5;33m \u001b[0m│\u001b[32m \u001b[0m\u001b[32m     CD4 Tfh     \u001b[0m\u001b[32m \u001b[0m│\u001b[38;5;128m \u001b[0m\u001b[38;5;128m         3         \u001b[0m\u001b[38;5;128m \u001b[0m│\n",
       "│\u001b[38;5;33m \u001b[0m\u001b[38;5;33m                                     \u001b[0m\u001b[38;5;33m \u001b[0m│\u001b[32m \u001b[0m\u001b[32m     CD4 Th      \u001b[0m\u001b[32m \u001b[0m│\u001b[38;5;128m \u001b[0m\u001b[38;5;128m         4         \u001b[0m\u001b[38;5;128m \u001b[0m│\n",
       "│\u001b[38;5;33m \u001b[0m\u001b[38;5;33m                                     \u001b[0m\u001b[38;5;33m \u001b[0m│\u001b[32m \u001b[0m\u001b[32m   CD4 Th HSP    \u001b[0m\u001b[32m \u001b[0m│\u001b[38;5;128m \u001b[0m\u001b[38;5;128m         5         \u001b[0m\u001b[38;5;128m \u001b[0m│\n",
       "│\u001b[38;5;33m \u001b[0m\u001b[38;5;33m                                     \u001b[0m\u001b[38;5;33m \u001b[0m│\u001b[32m \u001b[0m\u001b[32m    CD4 Th17     \u001b[0m\u001b[32m \u001b[0m│\u001b[38;5;128m \u001b[0m\u001b[38;5;128m         6         \u001b[0m\u001b[38;5;128m \u001b[0m│\n",
       "│\u001b[38;5;33m \u001b[0m\u001b[38;5;33m                                     \u001b[0m\u001b[38;5;33m \u001b[0m│\u001b[32m \u001b[0m\u001b[32m     CD4 Tn      \u001b[0m\u001b[32m \u001b[0m│\u001b[38;5;128m \u001b[0m\u001b[38;5;128m         7         \u001b[0m\u001b[38;5;128m \u001b[0m│\n",
       "│\u001b[38;5;33m \u001b[0m\u001b[38;5;33m                                     \u001b[0m\u001b[38;5;33m \u001b[0m│\u001b[32m \u001b[0m\u001b[32m     CD8 Tem     \u001b[0m\u001b[32m \u001b[0m│\u001b[38;5;128m \u001b[0m\u001b[38;5;128m         8         \u001b[0m\u001b[38;5;128m \u001b[0m│\n",
       "│\u001b[38;5;33m \u001b[0m\u001b[38;5;33m                                     \u001b[0m\u001b[38;5;33m \u001b[0m│\u001b[32m \u001b[0m\u001b[32m  CD8 Tem GZMB   \u001b[0m\u001b[32m \u001b[0m│\u001b[38;5;128m \u001b[0m\u001b[38;5;128m         9         \u001b[0m\u001b[38;5;128m \u001b[0m│\n",
       "│\u001b[38;5;33m \u001b[0m\u001b[38;5;33m                                     \u001b[0m\u001b[38;5;33m \u001b[0m│\u001b[32m \u001b[0m\u001b[32m   CD8 Tem HSP   \u001b[0m\u001b[32m \u001b[0m│\u001b[38;5;128m \u001b[0m\u001b[38;5;128m        10         \u001b[0m\u001b[38;5;128m \u001b[0m│\n",
       "│\u001b[38;5;33m \u001b[0m\u001b[38;5;33m                                     \u001b[0m\u001b[38;5;33m \u001b[0m│\u001b[32m \u001b[0m\u001b[32m     CD8 Tex     \u001b[0m\u001b[32m \u001b[0m│\u001b[38;5;128m \u001b[0m\u001b[38;5;128m        11         \u001b[0m\u001b[38;5;128m \u001b[0m│\n",
       "│\u001b[38;5;33m \u001b[0m\u001b[38;5;33m                                     \u001b[0m\u001b[38;5;33m \u001b[0m│\u001b[32m \u001b[0m\u001b[32m  Cholangiocyte  \u001b[0m\u001b[32m \u001b[0m│\u001b[38;5;128m \u001b[0m\u001b[38;5;128m        12         \u001b[0m\u001b[38;5;128m \u001b[0m│\n",
       "│\u001b[38;5;33m \u001b[0m\u001b[38;5;33m                                     \u001b[0m\u001b[38;5;33m \u001b[0m│\u001b[32m \u001b[0m\u001b[32m   Colonocyte    \u001b[0m\u001b[32m \u001b[0m│\u001b[38;5;128m \u001b[0m\u001b[38;5;128m        13         \u001b[0m\u001b[38;5;128m \u001b[0m│\n",
       "│\u001b[38;5;33m \u001b[0m\u001b[38;5;33m                                     \u001b[0m\u001b[38;5;33m \u001b[0m│\u001b[32m \u001b[0m\u001b[32m     ECM CAF     \u001b[0m\u001b[32m \u001b[0m│\u001b[38;5;128m \u001b[0m\u001b[38;5;128m        14         \u001b[0m\u001b[38;5;128m \u001b[0m│\n",
       "│\u001b[38;5;33m \u001b[0m\u001b[38;5;33m                                     \u001b[0m\u001b[38;5;33m \u001b[0m│\u001b[32m \u001b[0m\u001b[32m Enteroendocrine \u001b[0m\u001b[32m \u001b[0m│\u001b[38;5;128m \u001b[0m\u001b[38;5;128m        15         \u001b[0m\u001b[38;5;128m \u001b[0m│\n",
       "│\u001b[38;5;33m \u001b[0m\u001b[38;5;33m                                     \u001b[0m\u001b[38;5;33m \u001b[0m│\u001b[32m \u001b[0m\u001b[32m    FCN1 Mono    \u001b[0m\u001b[32m \u001b[0m│\u001b[38;5;128m \u001b[0m\u001b[38;5;128m        16         \u001b[0m\u001b[38;5;128m \u001b[0m│\n",
       "│\u001b[38;5;33m \u001b[0m\u001b[38;5;33m                                     \u001b[0m\u001b[38;5;33m \u001b[0m│\u001b[32m \u001b[0m\u001b[32m     Goblet      \u001b[0m\u001b[32m \u001b[0m│\u001b[38;5;128m \u001b[0m\u001b[38;5;128m        17         \u001b[0m\u001b[38;5;128m \u001b[0m│\n",
       "│\u001b[38;5;33m \u001b[0m\u001b[38;5;33m                                     \u001b[0m\u001b[38;5;33m \u001b[0m│\u001b[32m \u001b[0m\u001b[32m    HSP Mono     \u001b[0m\u001b[32m \u001b[0m│\u001b[38;5;128m \u001b[0m\u001b[38;5;128m        18         \u001b[0m\u001b[38;5;128m \u001b[0m│\n",
       "│\u001b[38;5;33m \u001b[0m\u001b[38;5;33m                                     \u001b[0m\u001b[38;5;33m \u001b[0m│\u001b[32m \u001b[0m\u001b[32m   Hepatocyte    \u001b[0m\u001b[32m \u001b[0m│\u001b[38;5;128m \u001b[0m\u001b[38;5;128m        19         \u001b[0m\u001b[38;5;128m \u001b[0m│\n",
       "│\u001b[38;5;33m \u001b[0m\u001b[38;5;33m                                     \u001b[0m\u001b[38;5;33m \u001b[0m│\u001b[32m \u001b[0m\u001b[32m     Hypoxia     \u001b[0m\u001b[32m \u001b[0m│\u001b[38;5;128m \u001b[0m\u001b[38;5;128m        20         \u001b[0m\u001b[38;5;128m \u001b[0m│\n",
       "│\u001b[38;5;33m \u001b[0m\u001b[38;5;33m                                     \u001b[0m\u001b[38;5;33m \u001b[0m│\u001b[32m \u001b[0m\u001b[32m    IL1B Mac     \u001b[0m\u001b[32m \u001b[0m│\u001b[38;5;128m \u001b[0m\u001b[38;5;128m        21         \u001b[0m\u001b[38;5;128m \u001b[0m│\n",
       "│\u001b[38;5;33m \u001b[0m\u001b[38;5;33m                                     \u001b[0m\u001b[38;5;33m \u001b[0m│\u001b[32m \u001b[0m\u001b[32m  Intermediate   \u001b[0m\u001b[32m \u001b[0m│\u001b[38;5;128m \u001b[0m\u001b[38;5;128m        22         \u001b[0m\u001b[38;5;128m \u001b[0m│\n",
       "│\u001b[38;5;33m \u001b[0m\u001b[38;5;33m                                     \u001b[0m\u001b[38;5;33m \u001b[0m│\u001b[32m \u001b[0m\u001b[32m     Kupffer     \u001b[0m\u001b[32m \u001b[0m│\u001b[38;5;128m \u001b[0m\u001b[38;5;128m        23         \u001b[0m\u001b[38;5;128m \u001b[0m│\n",
       "│\u001b[38;5;33m \u001b[0m\u001b[38;5;33m                                     \u001b[0m\u001b[38;5;33m \u001b[0m│\u001b[32m \u001b[0m\u001b[32m Lymphatic endo  \u001b[0m\u001b[32m \u001b[0m│\u001b[38;5;128m \u001b[0m\u001b[38;5;128m        24         \u001b[0m\u001b[38;5;128m \u001b[0m│\n",
       "│\u001b[38;5;33m \u001b[0m\u001b[38;5;33m                                     \u001b[0m\u001b[38;5;33m \u001b[0m│\u001b[32m \u001b[0m\u001b[32m      MAIT       \u001b[0m\u001b[32m \u001b[0m│\u001b[38;5;128m \u001b[0m\u001b[38;5;128m        25         \u001b[0m\u001b[38;5;128m \u001b[0m│\n",
       "│\u001b[38;5;33m \u001b[0m\u001b[38;5;33m                                     \u001b[0m\u001b[38;5;33m \u001b[0m│\u001b[32m \u001b[0m\u001b[32m      Mast       \u001b[0m\u001b[32m \u001b[0m│\u001b[38;5;128m \u001b[0m\u001b[38;5;128m        26         \u001b[0m\u001b[38;5;128m \u001b[0m│\n",
       "│\u001b[38;5;33m \u001b[0m\u001b[38;5;33m                                     \u001b[0m\u001b[38;5;33m \u001b[0m│\u001b[32m \u001b[0m\u001b[32m  Myofibroblast  \u001b[0m\u001b[32m \u001b[0m│\u001b[38;5;128m \u001b[0m\u001b[38;5;128m        27         \u001b[0m\u001b[38;5;128m \u001b[0m│\n",
       "│\u001b[38;5;33m \u001b[0m\u001b[38;5;33m                                     \u001b[0m\u001b[38;5;33m \u001b[0m│\u001b[32m \u001b[0m\u001b[32m       NK1       \u001b[0m\u001b[32m \u001b[0m│\u001b[38;5;128m \u001b[0m\u001b[38;5;128m        28         \u001b[0m\u001b[38;5;128m \u001b[0m│\n",
       "│\u001b[38;5;33m \u001b[0m\u001b[38;5;33m                                     \u001b[0m\u001b[38;5;33m \u001b[0m│\u001b[32m \u001b[0m\u001b[32m       NK2       \u001b[0m\u001b[32m \u001b[0m│\u001b[38;5;128m \u001b[0m\u001b[38;5;128m        29         \u001b[0m\u001b[38;5;128m \u001b[0m│\n",
       "│\u001b[38;5;33m \u001b[0m\u001b[38;5;33m                                     \u001b[0m\u001b[38;5;33m \u001b[0m│\u001b[32m \u001b[0m\u001b[32m       NKT       \u001b[0m\u001b[32m \u001b[0m│\u001b[38;5;128m \u001b[0m\u001b[38;5;128m        30         \u001b[0m\u001b[38;5;128m \u001b[0m│\n",
       "│\u001b[38;5;33m \u001b[0m\u001b[38;5;33m                                     \u001b[0m\u001b[38;5;33m \u001b[0m│\u001b[32m \u001b[0m\u001b[32m    NLRP3 Mac    \u001b[0m\u001b[32m \u001b[0m│\u001b[38;5;128m \u001b[0m\u001b[38;5;128m        31         \u001b[0m\u001b[38;5;128m \u001b[0m│\n",
       "│\u001b[38;5;33m \u001b[0m\u001b[38;5;33m                                     \u001b[0m\u001b[38;5;33m \u001b[0m│\u001b[32m \u001b[0m\u001b[32m   Neutrophil    \u001b[0m\u001b[32m \u001b[0m│\u001b[38;5;128m \u001b[0m\u001b[38;5;128m        32         \u001b[0m\u001b[38;5;128m \u001b[0m│\n",
       "│\u001b[38;5;33m \u001b[0m\u001b[38;5;33m                                     \u001b[0m\u001b[38;5;33m \u001b[0m│\u001b[32m \u001b[0m\u001b[32m PLTP LYVE1 Mac  \u001b[0m\u001b[32m \u001b[0m│\u001b[38;5;128m \u001b[0m\u001b[38;5;128m        33         \u001b[0m\u001b[38;5;128m \u001b[0m│\n",
       "│\u001b[38;5;33m \u001b[0m\u001b[38;5;33m                                     \u001b[0m\u001b[38;5;33m \u001b[0m│\u001b[32m \u001b[0m\u001b[32m    Pericyte     \u001b[0m\u001b[32m \u001b[0m│\u001b[38;5;128m \u001b[0m\u001b[38;5;128m        34         \u001b[0m\u001b[38;5;128m \u001b[0m│\n",
       "│\u001b[38;5;33m \u001b[0m\u001b[38;5;33m                                     \u001b[0m\u001b[38;5;33m \u001b[0m│\u001b[32m \u001b[0m\u001b[32m     Plasma      \u001b[0m\u001b[32m \u001b[0m│\u001b[38;5;128m \u001b[0m\u001b[38;5;128m        35         \u001b[0m\u001b[38;5;128m \u001b[0m│\n",
       "│\u001b[38;5;33m \u001b[0m\u001b[38;5;33m                                     \u001b[0m\u001b[38;5;33m \u001b[0m│\u001b[32m \u001b[0m\u001b[32m       SEC       \u001b[0m\u001b[32m \u001b[0m│\u001b[38;5;128m \u001b[0m\u001b[38;5;128m        36         \u001b[0m\u001b[38;5;128m \u001b[0m│\n",
       "│\u001b[38;5;33m \u001b[0m\u001b[38;5;33m                                     \u001b[0m\u001b[38;5;33m \u001b[0m│\u001b[32m \u001b[0m\u001b[32m       SMC       \u001b[0m\u001b[32m \u001b[0m│\u001b[38;5;128m \u001b[0m\u001b[38;5;128m        37         \u001b[0m\u001b[38;5;128m \u001b[0m│\n",
       "│\u001b[38;5;33m \u001b[0m\u001b[38;5;33m                                     \u001b[0m\u001b[38;5;33m \u001b[0m│\u001b[32m \u001b[0m\u001b[32m    SPP1 Mac     \u001b[0m\u001b[32m \u001b[0m│\u001b[38;5;128m \u001b[0m\u001b[38;5;128m        38         \u001b[0m\u001b[38;5;128m \u001b[0m│\n",
       "│\u001b[38;5;33m \u001b[0m\u001b[38;5;33m                                     \u001b[0m\u001b[38;5;33m \u001b[0m│\u001b[32m \u001b[0m\u001b[32m Stalk-like endo \u001b[0m\u001b[32m \u001b[0m│\u001b[38;5;128m \u001b[0m\u001b[38;5;128m        39         \u001b[0m\u001b[38;5;128m \u001b[0m│\n",
       "│\u001b[38;5;33m \u001b[0m\u001b[38;5;33m                                     \u001b[0m\u001b[38;5;33m \u001b[0m│\u001b[32m \u001b[0m\u001b[32m      Stem       \u001b[0m\u001b[32m \u001b[0m│\u001b[38;5;128m \u001b[0m\u001b[38;5;128m        40         \u001b[0m\u001b[38;5;128m \u001b[0m│\n",
       "│\u001b[38;5;33m \u001b[0m\u001b[38;5;33m                                     \u001b[0m\u001b[38;5;33m \u001b[0m│\u001b[32m \u001b[0m\u001b[32mStem (NOTUM high)\u001b[0m\u001b[32m \u001b[0m│\u001b[38;5;128m \u001b[0m\u001b[38;5;128m        41         \u001b[0m\u001b[38;5;128m \u001b[0m│\n",
       "│\u001b[38;5;33m \u001b[0m\u001b[38;5;33m                                     \u001b[0m\u001b[38;5;33m \u001b[0m│\u001b[32m \u001b[0m\u001b[32m       TA1       \u001b[0m\u001b[32m \u001b[0m│\u001b[38;5;128m \u001b[0m\u001b[38;5;128m        42         \u001b[0m\u001b[38;5;128m \u001b[0m│\n",
       "│\u001b[38;5;33m \u001b[0m\u001b[38;5;33m                                     \u001b[0m\u001b[38;5;33m \u001b[0m│\u001b[32m \u001b[0m\u001b[32m       TA2       \u001b[0m\u001b[32m \u001b[0m│\u001b[38;5;128m \u001b[0m\u001b[38;5;128m        43         \u001b[0m\u001b[38;5;128m \u001b[0m│\n",
       "│\u001b[38;5;33m \u001b[0m\u001b[38;5;33m                                     \u001b[0m\u001b[38;5;33m \u001b[0m│\u001b[32m \u001b[0m\u001b[32m  Tip-like endo  \u001b[0m\u001b[32m \u001b[0m│\u001b[38;5;128m \u001b[0m\u001b[38;5;128m        44         \u001b[0m\u001b[38;5;128m \u001b[0m│\n",
       "│\u001b[38;5;33m \u001b[0m\u001b[38;5;33m                                     \u001b[0m\u001b[38;5;33m \u001b[0m│\u001b[32m \u001b[0m\u001b[32m      Treg       \u001b[0m\u001b[32m \u001b[0m│\u001b[38;5;128m \u001b[0m\u001b[38;5;128m        45         \u001b[0m\u001b[38;5;128m \u001b[0m│\n",
       "│\u001b[38;5;33m \u001b[0m\u001b[38;5;33m                                     \u001b[0m\u001b[38;5;33m \u001b[0m│\u001b[32m \u001b[0m\u001b[32m      Tuft       \u001b[0m\u001b[32m \u001b[0m│\u001b[38;5;128m \u001b[0m\u001b[38;5;128m        46         \u001b[0m\u001b[38;5;128m \u001b[0m│\n",
       "│\u001b[38;5;33m \u001b[0m\u001b[38;5;33m                                     \u001b[0m\u001b[38;5;33m \u001b[0m│\u001b[32m \u001b[0m\u001b[32m       UPR       \u001b[0m\u001b[32m \u001b[0m│\u001b[38;5;128m \u001b[0m\u001b[38;5;128m        47         \u001b[0m\u001b[38;5;128m \u001b[0m│\n",
       "│\u001b[38;5;33m \u001b[0m\u001b[38;5;33m                                     \u001b[0m\u001b[38;5;33m \u001b[0m│\u001b[32m \u001b[0m\u001b[32m      cDC1       \u001b[0m\u001b[32m \u001b[0m│\u001b[38;5;128m \u001b[0m\u001b[38;5;128m        48         \u001b[0m\u001b[38;5;128m \u001b[0m│\n",
       "│\u001b[38;5;33m \u001b[0m\u001b[38;5;33m                                     \u001b[0m\u001b[38;5;33m \u001b[0m│\u001b[32m \u001b[0m\u001b[32m      cDC2       \u001b[0m\u001b[32m \u001b[0m│\u001b[38;5;128m \u001b[0m\u001b[38;5;128m        49         \u001b[0m\u001b[38;5;128m \u001b[0m│\n",
       "│\u001b[38;5;33m \u001b[0m\u001b[38;5;33m                                     \u001b[0m\u001b[38;5;33m \u001b[0m│\u001b[32m \u001b[0m\u001b[32m       gdT       \u001b[0m\u001b[32m \u001b[0m│\u001b[38;5;128m \u001b[0m\u001b[38;5;128m        50         \u001b[0m\u001b[38;5;128m \u001b[0m│\n",
       "│\u001b[38;5;33m \u001b[0m\u001b[38;5;33m                                     \u001b[0m\u001b[38;5;33m \u001b[0m│\u001b[32m \u001b[0m\u001b[32m      ipEMT      \u001b[0m\u001b[32m \u001b[0m│\u001b[38;5;128m \u001b[0m\u001b[38;5;128m        51         \u001b[0m\u001b[38;5;128m \u001b[0m│\n",
       "│\u001b[38;5;33m \u001b[0m\u001b[38;5;33m                                     \u001b[0m\u001b[38;5;33m \u001b[0m│\u001b[32m \u001b[0m\u001b[32m      migDC      \u001b[0m\u001b[32m \u001b[0m│\u001b[38;5;128m \u001b[0m\u001b[38;5;128m        52         \u001b[0m\u001b[38;5;128m \u001b[0m│\n",
       "│\u001b[38;5;33m \u001b[0m\u001b[38;5;33m                                     \u001b[0m\u001b[38;5;33m \u001b[0m│\u001b[32m \u001b[0m\u001b[32m       pDC       \u001b[0m\u001b[32m \u001b[0m│\u001b[38;5;128m \u001b[0m\u001b[38;5;128m        53         \u001b[0m\u001b[38;5;128m \u001b[0m│\n",
       "│\u001b[38;5;33m \u001b[0m\u001b[38;5;33m                                     \u001b[0m\u001b[38;5;33m \u001b[0m│\u001b[32m \u001b[0m\u001b[32m      pEMT       \u001b[0m\u001b[32m \u001b[0m│\u001b[38;5;128m \u001b[0m\u001b[38;5;128m        54         \u001b[0m\u001b[38;5;128m \u001b[0m│\n",
       "└───────────────────────────────────────┴───────────────────┴─────────────────────┘\n"
      ]
     },
     "metadata": {},
     "output_type": "display_data"
    },
    {
     "data": {
      "text/html": [
       "<pre style=\"white-space:pre;overflow-x:auto;line-height:normal;font-family:Menlo,'DejaVu Sans Mono',consolas,'Courier New',monospace\"><span style=\"font-style: italic\">            extra_categorical_covs State Registry             </span>\n",
       "┏━━━━━━━━━━━━━━━━━━━━━━━━━┳━━━━━━━━━━━━┳━━━━━━━━━━━━━━━━━━━━━┓\n",
       "┃<span style=\"font-weight: bold\">     Source Location     </span>┃<span style=\"font-weight: bold\"> Categories </span>┃<span style=\"font-weight: bold\"> scvi-tools Encoding </span>┃\n",
       "┡━━━━━━━━━━━━━━━━━━━━━━━━━╇━━━━━━━━━━━━╇━━━━━━━━━━━━━━━━━━━━━┩\n",
       "│<span style=\"color: #0087ff; text-decoration-color: #0087ff\"> adata.obs['technology'] </span>│<span style=\"color: #008000; text-decoration-color: #008000\">   Cells    </span>│<span style=\"color: #af00d7; text-decoration-color: #af00d7\">          0          </span>│\n",
       "│<span style=\"color: #0087ff; text-decoration-color: #0087ff\">                         </span>│<span style=\"color: #008000; text-decoration-color: #008000\">   Nuclei   </span>│<span style=\"color: #af00d7; text-decoration-color: #af00d7\">          1          </span>│\n",
       "│<span style=\"color: #0087ff; text-decoration-color: #0087ff\">                         </span>│<span style=\"color: #008000; text-decoration-color: #008000\">            </span>│<span style=\"color: #af00d7; text-decoration-color: #af00d7\">                     </span>│\n",
       "└─────────────────────────┴────────────┴─────────────────────┘\n",
       "</pre>\n"
      ],
      "text/plain": [
       "\u001b[3m            extra_categorical_covs State Registry             \u001b[0m\n",
       "┏━━━━━━━━━━━━━━━━━━━━━━━━━┳━━━━━━━━━━━━┳━━━━━━━━━━━━━━━━━━━━━┓\n",
       "┃\u001b[1m \u001b[0m\u001b[1m    Source Location    \u001b[0m\u001b[1m \u001b[0m┃\u001b[1m \u001b[0m\u001b[1mCategories\u001b[0m\u001b[1m \u001b[0m┃\u001b[1m \u001b[0m\u001b[1mscvi-tools Encoding\u001b[0m\u001b[1m \u001b[0m┃\n",
       "┡━━━━━━━━━━━━━━━━━━━━━━━━━╇━━━━━━━━━━━━╇━━━━━━━━━━━━━━━━━━━━━┩\n",
       "│\u001b[38;5;33m \u001b[0m\u001b[38;5;33madata.obs['technology']\u001b[0m\u001b[38;5;33m \u001b[0m│\u001b[32m \u001b[0m\u001b[32m  Cells   \u001b[0m\u001b[32m \u001b[0m│\u001b[38;5;128m \u001b[0m\u001b[38;5;128m         0         \u001b[0m\u001b[38;5;128m \u001b[0m│\n",
       "│\u001b[38;5;33m \u001b[0m\u001b[38;5;33m                       \u001b[0m\u001b[38;5;33m \u001b[0m│\u001b[32m \u001b[0m\u001b[32m  Nuclei  \u001b[0m\u001b[32m \u001b[0m│\u001b[38;5;128m \u001b[0m\u001b[38;5;128m         1         \u001b[0m\u001b[38;5;128m \u001b[0m│\n",
       "│\u001b[38;5;33m \u001b[0m\u001b[38;5;33m                       \u001b[0m\u001b[38;5;33m \u001b[0m│\u001b[32m \u001b[0m\u001b[32m          \u001b[0m\u001b[32m \u001b[0m│\u001b[38;5;128m \u001b[0m\u001b[38;5;128m                   \u001b[0m\u001b[38;5;128m \u001b[0m│\n",
       "└─────────────────────────┴────────────┴─────────────────────┘\n"
      ]
     },
     "metadata": {},
     "output_type": "display_data"
    }
   ],
   "source": [
    "# create the regression model\n",
    "from cell2location.models import RegressionModel\n",
    "\n",
    "mod = RegressionModel(adata_sc)\n",
    "\n",
    "# view anndata_setup as a sanity check\n",
    "mod.view_anndata_setup()"
   ]
  },
  {
   "cell_type": "markdown",
   "metadata": {},
   "source": [
    "#### 2. Training model.\n",
    "\n",
    "Now we train the model to estimate the reference cell type signatures.\n",
    "\n",
    "Note that to achieve convergence on your data (=to get stabilization of the loss) you may need to increase max_epochs=250 (See below).\n",
    "\n",
    "Also note that here we are using batch_size=2500 which is much larger than scvi-tools default and perform training on all cells in the data (train_size=1) - both parameters are defaults."
   ]
  },
  {
   "cell_type": "code",
   "execution_count": 11,
   "metadata": {},
   "outputs": [
    {
     "name": "stderr",
     "output_type": "stream",
     "text": [
      "GPU available: True, used: True\n",
      "TPU available: False, using: 0 TPU cores\n",
      "IPU available: False, using: 0 IPUs\n",
      "/data/BCI-CRC/nasrine/anaconda/envs/cell2loc19/lib/python3.9/site-packages/pytorch_lightning/trainer/configuration_validator.py:120: UserWarning: You passed in a `val_dataloader` but have no `validation_step`. Skipping val loop.\n",
      "  rank_zero_warn(\"You passed in a `val_dataloader` but have no `validation_step`. Skipping val loop.\")\n",
      "LOCAL_RANK: 0 - CUDA_VISIBLE_DEVICES: [0]\n"
     ]
    },
    {
     "name": "stdout",
     "output_type": "stream",
     "text": [
      "Epoch 500/500: 100%|██████████| 500/500 [1:23:54<00:00, 10.07s/it, v_num=1, elbo_train=4.69e+8]\n"
     ]
    }
   ],
   "source": [
    "mod.train(\n",
    "    max_epochs=500, use_gpu=True, batch_size=2500, train_size=1, lr=0.002\n",
    ")  # max_epochs=250, 1000"
   ]
  },
  {
   "cell_type": "markdown",
   "metadata": {},
   "source": [
    "Determine if the model needs more training.\n",
    "\n",
    "Here, we plot ELBO loss history during training, removing first 20 epochs from the plot. This plot should have a decreasing trend and level off by the end of training. If it is still decreasing, increase max_epochs"
   ]
  },
  {
   "cell_type": "code",
   "execution_count": 12,
   "metadata": {},
   "outputs": [
    {
     "data": {
      "image/png": "[encoded data removed]",
      "text/plain": [
       "<Figure size 400x400 with 1 Axes>"
      ]
     },
     "metadata": {
      "image/png": {
       "height": 378,
       "width": 359
      },
      "needs_background": "light"
     },
     "output_type": "display_data"
    }
   ],
   "source": [
    "# plot ELBO loss history during training, removing first 20 epochs from the plot\n",
    "mod.plot_history(20)"
   ]
  },
  {
   "cell_type": "code",
   "execution_count": 13,
   "metadata": {},
   "outputs": [
    {
     "name": "stdout",
     "output_type": "stream",
     "text": [
      "Sampling local variables, batch:   0%|          | 0/45 [00:00<?, ?it/s]\n",
      "Sampling global variables, sample: 100%|██████████| 999/999 [00:15<00:00, 63.41it/s]\n"
     ]
    },
    {
     "data": {
      "text/plain": [
       "'/data/BCI-CRC/nasrine/data/CRC/spatial/CRC_LM_VISIUM/CRC_LM_VISIUM_04_08_09_11/cell2location/reference_signatures-noCyclingTME/sc.h5ad'"
      ]
     },
     "execution_count": 13,
     "metadata": {},
     "output_type": "execute_result"
    }
   ],
   "source": [
    "# In this section, we export the estimated cell abundance (summary of the posterior distribution).\n",
    "adata_sc = mod.export_posterior(\n",
    "    adata_sc, sample_kwargs={\"num_samples\": 1000, \"batch_size\": 2500, \"use_gpu\": True}\n",
    ")\n",
    "\n",
    "# Save model\n",
    "mod.save(f\"{ref_run_name}\", overwrite=True)\n",
    "\n",
    "# Save anndata object with results\n",
    "adata_file = f\"{ref_run_name}/sc.h5ad\"\n",
    "adata_sc.write(adata_file)\n",
    "adata_file"
   ]
  },
  {
   "cell_type": "markdown",
   "metadata": {},
   "source": [
    "Examine QC plots.\n",
    "\n",
    "Reconstruction accuracy to assess if there are any issues with inference. This 2D histogram plot should have most observations along a noisy diagonal.\n",
    "\n",
    "The estimated expression signatures are distinct from mean expression in each cluster because of batch effects. For scRNA-seq datasets which do not suffer from batch effect (this dataset does), cluster average expression can be used instead of estimating signatures with a model. When this plot is very different from a diagonal plot (e.g. very low values on Y-axis, density everywhere) it indicates problems with signature estimation."
   ]
  },
  {
   "cell_type": "code",
   "execution_count": 14,
   "metadata": {},
   "outputs": [
    {
     "data": {
      "image/png": "[encoded data removed]",
      "text/plain": [
       "<Figure size 400x400 with 1 Axes>"
      ]
     },
     "metadata": {
      "image/png": {
       "height": 352,
       "width": 378
      },
      "needs_background": "light"
     },
     "output_type": "display_data"
    },
    {
     "data": {
      "image/png": "[encoded data removed]",
      "text/plain": [
       "<Figure size 400x400 with 1 Axes>"
      ]
     },
     "metadata": {
      "image/png": {
       "height": 535,
       "width": 489
      },
      "needs_background": "light"
     },
     "output_type": "display_data"
    }
   ],
   "source": [
    "mod.plot_QC()"
   ]
  },
  {
   "cell_type": "code",
   "execution_count": 15,
   "metadata": {},
   "outputs": [
    {
     "name": "stdout",
     "output_type": "stream",
     "text": [
      "\u001b[34mINFO    \u001b[0m File \u001b[35m/data/BCI-CRC/nasrine/data/CRC/spatial/CRC_LM_VISIUM/CRC_LM_VISIUM_04_08_09_11/\u001b[0m\n",
      "         \u001b[35mcell2location/reference_signatures-noCyclingTME/\u001b[0m\u001b[95mmodel.pt\u001b[0m already downloaded         \n",
      "\u001b[34mINFO    \u001b[0m Preparing underlying module for load                                                \n"
     ]
    },
    {
     "name": "stderr",
     "output_type": "stream",
     "text": [
      "GPU available: True, used: True\n",
      "TPU available: False, using: 0 TPU cores\n",
      "IPU available: False, using: 0 IPUs\n",
      "/data/BCI-CRC/nasrine/anaconda/envs/cell2loc19/lib/python3.9/site-packages/pytorch_lightning/trainer/configuration_validator.py:120: UserWarning: You passed in a `val_dataloader` but have no `validation_step`. Skipping val loop.\n",
      "  rank_zero_warn(\"You passed in a `val_dataloader` but have no `validation_step`. Skipping val loop.\")\n",
      "LOCAL_RANK: 0 - CUDA_VISIBLE_DEVICES: [0]\n"
     ]
    },
    {
     "name": "stdout",
     "output_type": "stream",
     "text": [
      "Epoch 1/179:   1%|          | 1/179 [00:00<00:44,  3.98it/s, v_num=1, elbo_train=5.29e+8]\n"
     ]
    }
   ],
   "source": [
    "# The model and output h5ad can be loaded later like this:\n",
    "adata_file = f\"{ref_run_name}/sc.h5ad\"\n",
    "adata_ref = sc.read_h5ad(adata_file)\n",
    "mod = cell2location.models.RegressionModel.load(f\"{ref_run_name}\", adata_ref)"
   ]
  },
  {
   "cell_type": "code",
   "execution_count": 16,
   "metadata": {},
   "outputs": [
    {
     "data": {
      "text/html": [
       "<div>\n",
       "<style scoped>\n",
       "    .dataframe tbody tr th:only-of-type {\n",
       "        vertical-align: middle;\n",
       "    }\n",
       "\n",
       "    .dataframe tbody tr th {\n",
       "        vertical-align: top;\n",
       "    }\n",
       "\n",
       "    .dataframe thead th {\n",
       "        text-align: right;\n",
       "    }\n",
       "</style>\n",
       "<table border=\"1\" class=\"dataframe\">\n",
       "  <thead>\n",
       "    <tr style=\"text-align: right;\">\n",
       "      <th></th>\n",
       "      <th>B</th>\n",
       "      <th>C1QC Mac</th>\n",
       "      <th>C3 iCAF</th>\n",
       "      <th>CD4 Tfh</th>\n",
       "      <th>CD4 Th</th>\n",
       "    </tr>\n",
       "  </thead>\n",
       "  <tbody>\n",
       "    <tr>\n",
       "      <th>A1BG</th>\n",
       "      <td>0.217940</td>\n",
       "      <td>0.603945</td>\n",
       "      <td>0.482844</td>\n",
       "      <td>0.183307</td>\n",
       "      <td>0.175969</td>\n",
       "    </tr>\n",
       "    <tr>\n",
       "      <th>A1CF</th>\n",
       "      <td>0.004003</td>\n",
       "      <td>0.005245</td>\n",
       "      <td>0.064358</td>\n",
       "      <td>0.000937</td>\n",
       "      <td>0.001401</td>\n",
       "    </tr>\n",
       "    <tr>\n",
       "      <th>A2M</th>\n",
       "      <td>0.014990</td>\n",
       "      <td>4.373756</td>\n",
       "      <td>1.854340</td>\n",
       "      <td>0.014480</td>\n",
       "      <td>0.021270</td>\n",
       "    </tr>\n",
       "    <tr>\n",
       "      <th>A2ML1-AS1</th>\n",
       "      <td>0.001355</td>\n",
       "      <td>0.004277</td>\n",
       "      <td>0.106408</td>\n",
       "      <td>0.000953</td>\n",
       "      <td>0.000283</td>\n",
       "    </tr>\n",
       "    <tr>\n",
       "      <th>A4GALT</th>\n",
       "      <td>0.008324</td>\n",
       "      <td>0.006817</td>\n",
       "      <td>0.419700</td>\n",
       "      <td>0.001703</td>\n",
       "      <td>0.000249</td>\n",
       "    </tr>\n",
       "  </tbody>\n",
       "</table>\n",
       "</div>"
      ],
      "text/plain": [
       "                  B  C1QC Mac   C3 iCAF   CD4 Tfh    CD4 Th\n",
       "A1BG       0.217940  0.603945  0.482844  0.183307  0.175969\n",
       "A1CF       0.004003  0.005245  0.064358  0.000937  0.001401\n",
       "A2M        0.014990  4.373756  1.854340  0.014480  0.021270\n",
       "A2ML1-AS1  0.001355  0.004277  0.106408  0.000953  0.000283\n",
       "A4GALT     0.008324  0.006817  0.419700  0.001703  0.000249"
      ]
     },
     "execution_count": 16,
     "metadata": {},
     "output_type": "execute_result"
    }
   ],
   "source": [
    "# export estimated expression in each cluster\n",
    "if \"means_per_cluster_mu_fg\" in adata_ref.varm.keys():\n",
    "    inf_aver = adata_ref.varm[\"means_per_cluster_mu_fg\"][\n",
    "        [f\"means_per_cluster_mu_fg_{i}\" for i in adata_ref.uns[\"mod\"][\"factor_names\"]]\n",
    "    ].copy()\n",
    "else:\n",
    "    inf_aver = adata_ref.var[\n",
    "        [f\"means_per_cluster_mu_fg_{i}\" for i in adata_ref.uns[\"mod\"][\"factor_names\"]]\n",
    "    ].copy()\n",
    "inf_aver.columns = adata_ref.uns[\"mod\"][\"factor_names\"]\n",
    "inf_aver.iloc[0:5, 0:5]"
   ]
  },
  {
   "cell_type": "code",
   "execution_count": 17,
   "metadata": {},
   "outputs": [
    {
     "name": "stderr",
     "output_type": "stream",
     "text": [
      "/tmp/2929267.1.all.q/ipykernel_13065/460581447.py:11: MatplotlibDeprecationWarning: Auto-removal of grids by pcolor() and pcolormesh() is deprecated since 3.5 and will be removed two minor releases later; please call grid(False) first.\n",
      "  plt.hist2d(\n"
     ]
    },
    {
     "data": {
      "image/png": "[encoded data removed]",
      "text/plain": [
       "<Figure size 500x500 with 1 Axes>"
      ]
     },
     "metadata": {
      "image/png": {
       "height": 453,
       "width": 475
      },
      "needs_background": "light"
     },
     "output_type": "display_data"
    }
   ],
   "source": [
    "# compute mean expression of each gene in each cluster\n",
    "aver = cell2location.cluster_averages.cluster_averages.compute_cluster_averages(\n",
    "    adata_ref,\n",
    "    \"Annotation_scVI_detailed\",\n",
    "    use_raw=False,\n",
    ")\n",
    "\n",
    "aver = aver.loc[adata_ref.var_names, inf_aver.columns]\n",
    "\n",
    "rcParams[\"figure.figsize\"] = 5, 5\n",
    "plt.hist2d(\n",
    "    np.log10(aver.values.flatten() + 1),\n",
    "    np.log10(inf_aver.values.flatten() + 1),\n",
    "    bins=50,\n",
    "    norm=mpl.colors.LogNorm(),\n",
    ")\n",
    "plt.xlabel(\"Mean expression in each cluster\")\n",
    "plt.ylabel(\"Inferred expression in each cluster\");"
   ]
  },
  {
   "cell_type": "code",
   "execution_count": 18,
   "metadata": {},
   "outputs": [
    {
     "data": {
      "text/plain": [
       "SpearmanrResult(correlation=0.6827376227345364, pvalue=0.0)"
      ]
     },
     "execution_count": 18,
     "metadata": {},
     "output_type": "execute_result"
    }
   ],
   "source": [
    "import scipy\n",
    "\n",
    "scipy.stats.spearmanr(\n",
    "    np.log10(aver.values.flatten() + 1),\n",
    "    np.log10(inf_aver.values.flatten() + 1),\n",
    "    alternative=\"greater\",\n",
    ")"
   ]
  },
  {
   "cell_type": "code",
   "execution_count": 19,
   "metadata": {},
   "outputs": [
    {
     "data": {
      "text/html": [
       "<div>\n",
       "<style scoped>\n",
       "    .dataframe tbody tr th:only-of-type {\n",
       "        vertical-align: middle;\n",
       "    }\n",
       "\n",
       "    .dataframe tbody tr th {\n",
       "        vertical-align: top;\n",
       "    }\n",
       "\n",
       "    .dataframe thead th {\n",
       "        text-align: right;\n",
       "    }\n",
       "</style>\n",
       "<table border=\"1\" class=\"dataframe\">\n",
       "  <thead>\n",
       "    <tr style=\"text-align: right;\">\n",
       "      <th></th>\n",
       "      <th>B</th>\n",
       "      <th>C1QC Mac</th>\n",
       "      <th>C3 iCAF</th>\n",
       "      <th>CD4 Tfh</th>\n",
       "      <th>CD4 Th</th>\n",
       "      <th>CD4 Th HSP</th>\n",
       "      <th>CD4 Th17</th>\n",
       "      <th>CD4 Tn</th>\n",
       "      <th>CD8 Tem</th>\n",
       "      <th>CD8 Tem GZMB</th>\n",
       "      <th>...</th>\n",
       "      <th>Treg</th>\n",
       "      <th>Tuft</th>\n",
       "      <th>UPR</th>\n",
       "      <th>cDC1</th>\n",
       "      <th>cDC2</th>\n",
       "      <th>gdT</th>\n",
       "      <th>ipEMT</th>\n",
       "      <th>migDC</th>\n",
       "      <th>pDC</th>\n",
       "      <th>pEMT</th>\n",
       "    </tr>\n",
       "  </thead>\n",
       "  <tbody>\n",
       "    <tr>\n",
       "      <th>A1BG</th>\n",
       "      <td>0.217940</td>\n",
       "      <td>0.603945</td>\n",
       "      <td>0.482844</td>\n",
       "      <td>0.183307</td>\n",
       "      <td>0.175969</td>\n",
       "      <td>0.184936</td>\n",
       "      <td>0.192955</td>\n",
       "      <td>0.222691</td>\n",
       "      <td>0.182361</td>\n",
       "      <td>0.212900</td>\n",
       "      <td>...</td>\n",
       "      <td>0.216614</td>\n",
       "      <td>0.070041</td>\n",
       "      <td>0.020696</td>\n",
       "      <td>0.422260</td>\n",
       "      <td>0.664235</td>\n",
       "      <td>0.157502</td>\n",
       "      <td>0.045557</td>\n",
       "      <td>1.243111</td>\n",
       "      <td>1.045869</td>\n",
       "      <td>0.057498</td>\n",
       "    </tr>\n",
       "    <tr>\n",
       "      <th>A1CF</th>\n",
       "      <td>0.004003</td>\n",
       "      <td>0.005245</td>\n",
       "      <td>0.064358</td>\n",
       "      <td>0.000937</td>\n",
       "      <td>0.001401</td>\n",
       "      <td>0.001161</td>\n",
       "      <td>0.006749</td>\n",
       "      <td>0.002363</td>\n",
       "      <td>0.001194</td>\n",
       "      <td>0.004450</td>\n",
       "      <td>...</td>\n",
       "      <td>0.001556</td>\n",
       "      <td>0.351876</td>\n",
       "      <td>1.010199</td>\n",
       "      <td>0.033245</td>\n",
       "      <td>0.003747</td>\n",
       "      <td>0.002778</td>\n",
       "      <td>0.684595</td>\n",
       "      <td>0.103623</td>\n",
       "      <td>0.013481</td>\n",
       "      <td>0.971335</td>\n",
       "    </tr>\n",
       "    <tr>\n",
       "      <th>A2M</th>\n",
       "      <td>0.014990</td>\n",
       "      <td>4.373756</td>\n",
       "      <td>1.854340</td>\n",
       "      <td>0.014480</td>\n",
       "      <td>0.021270</td>\n",
       "      <td>0.014963</td>\n",
       "      <td>0.022565</td>\n",
       "      <td>0.016489</td>\n",
       "      <td>0.033004</td>\n",
       "      <td>0.024875</td>\n",
       "      <td>...</td>\n",
       "      <td>0.017959</td>\n",
       "      <td>0.027839</td>\n",
       "      <td>0.003000</td>\n",
       "      <td>0.290771</td>\n",
       "      <td>0.548362</td>\n",
       "      <td>0.014302</td>\n",
       "      <td>0.003520</td>\n",
       "      <td>0.071323</td>\n",
       "      <td>0.015167</td>\n",
       "      <td>0.002447</td>\n",
       "    </tr>\n",
       "    <tr>\n",
       "      <th>A2ML1-AS1</th>\n",
       "      <td>0.001355</td>\n",
       "      <td>0.004277</td>\n",
       "      <td>0.106408</td>\n",
       "      <td>0.000953</td>\n",
       "      <td>0.000283</td>\n",
       "      <td>0.000349</td>\n",
       "      <td>0.001174</td>\n",
       "      <td>0.000542</td>\n",
       "      <td>0.000342</td>\n",
       "      <td>0.000906</td>\n",
       "      <td>...</td>\n",
       "      <td>0.000348</td>\n",
       "      <td>0.150731</td>\n",
       "      <td>0.005538</td>\n",
       "      <td>0.027169</td>\n",
       "      <td>0.002916</td>\n",
       "      <td>0.001431</td>\n",
       "      <td>0.016805</td>\n",
       "      <td>0.115608</td>\n",
       "      <td>0.017687</td>\n",
       "      <td>0.006824</td>\n",
       "    </tr>\n",
       "    <tr>\n",
       "      <th>A4GALT</th>\n",
       "      <td>0.008324</td>\n",
       "      <td>0.006817</td>\n",
       "      <td>0.419700</td>\n",
       "      <td>0.001703</td>\n",
       "      <td>0.000249</td>\n",
       "      <td>0.000641</td>\n",
       "      <td>0.002417</td>\n",
       "      <td>0.001024</td>\n",
       "      <td>0.001116</td>\n",
       "      <td>0.000754</td>\n",
       "      <td>...</td>\n",
       "      <td>0.053738</td>\n",
       "      <td>0.273138</td>\n",
       "      <td>0.003243</td>\n",
       "      <td>0.019676</td>\n",
       "      <td>0.004993</td>\n",
       "      <td>0.001422</td>\n",
       "      <td>0.086829</td>\n",
       "      <td>0.046762</td>\n",
       "      <td>0.012217</td>\n",
       "      <td>0.132627</td>\n",
       "    </tr>\n",
       "    <tr>\n",
       "      <th>...</th>\n",
       "      <td>...</td>\n",
       "      <td>...</td>\n",
       "      <td>...</td>\n",
       "      <td>...</td>\n",
       "      <td>...</td>\n",
       "      <td>...</td>\n",
       "      <td>...</td>\n",
       "      <td>...</td>\n",
       "      <td>...</td>\n",
       "      <td>...</td>\n",
       "      <td>...</td>\n",
       "      <td>...</td>\n",
       "      <td>...</td>\n",
       "      <td>...</td>\n",
       "      <td>...</td>\n",
       "      <td>...</td>\n",
       "      <td>...</td>\n",
       "      <td>...</td>\n",
       "      <td>...</td>\n",
       "      <td>...</td>\n",
       "      <td>...</td>\n",
       "    </tr>\n",
       "    <tr>\n",
       "      <th>ZWINT</th>\n",
       "      <td>0.006417</td>\n",
       "      <td>0.071071</td>\n",
       "      <td>0.046243</td>\n",
       "      <td>0.024367</td>\n",
       "      <td>0.005456</td>\n",
       "      <td>0.006303</td>\n",
       "      <td>0.006336</td>\n",
       "      <td>0.014776</td>\n",
       "      <td>0.005813</td>\n",
       "      <td>0.007621</td>\n",
       "      <td>...</td>\n",
       "      <td>0.024641</td>\n",
       "      <td>0.107910</td>\n",
       "      <td>0.098999</td>\n",
       "      <td>0.649548</td>\n",
       "      <td>0.062702</td>\n",
       "      <td>0.004350</td>\n",
       "      <td>0.175986</td>\n",
       "      <td>0.159318</td>\n",
       "      <td>0.010365</td>\n",
       "      <td>0.089421</td>\n",
       "    </tr>\n",
       "    <tr>\n",
       "      <th>ZXDC</th>\n",
       "      <td>0.035317</td>\n",
       "      <td>0.120349</td>\n",
       "      <td>0.241548</td>\n",
       "      <td>0.020742</td>\n",
       "      <td>0.038388</td>\n",
       "      <td>0.036643</td>\n",
       "      <td>0.036308</td>\n",
       "      <td>0.033348</td>\n",
       "      <td>0.038138</td>\n",
       "      <td>0.036918</td>\n",
       "      <td>...</td>\n",
       "      <td>0.043905</td>\n",
       "      <td>0.627824</td>\n",
       "      <td>0.769197</td>\n",
       "      <td>0.077197</td>\n",
       "      <td>0.105134</td>\n",
       "      <td>0.047208</td>\n",
       "      <td>0.957904</td>\n",
       "      <td>0.092784</td>\n",
       "      <td>0.083983</td>\n",
       "      <td>1.186925</td>\n",
       "    </tr>\n",
       "    <tr>\n",
       "      <th>ZYG11B</th>\n",
       "      <td>0.049758</td>\n",
       "      <td>0.491052</td>\n",
       "      <td>0.179066</td>\n",
       "      <td>0.043838</td>\n",
       "      <td>0.034599</td>\n",
       "      <td>0.021457</td>\n",
       "      <td>0.056633</td>\n",
       "      <td>0.043515</td>\n",
       "      <td>0.008675</td>\n",
       "      <td>0.022286</td>\n",
       "      <td>...</td>\n",
       "      <td>0.068659</td>\n",
       "      <td>1.054583</td>\n",
       "      <td>0.542082</td>\n",
       "      <td>0.119958</td>\n",
       "      <td>0.177196</td>\n",
       "      <td>0.025351</td>\n",
       "      <td>0.586818</td>\n",
       "      <td>0.193894</td>\n",
       "      <td>0.029501</td>\n",
       "      <td>0.690995</td>\n",
       "    </tr>\n",
       "    <tr>\n",
       "      <th>ZYX</th>\n",
       "      <td>0.050603</td>\n",
       "      <td>1.663659</td>\n",
       "      <td>0.757705</td>\n",
       "      <td>0.133681</td>\n",
       "      <td>0.122681</td>\n",
       "      <td>0.151855</td>\n",
       "      <td>0.104951</td>\n",
       "      <td>0.179427</td>\n",
       "      <td>0.137942</td>\n",
       "      <td>0.233927</td>\n",
       "      <td>...</td>\n",
       "      <td>0.187188</td>\n",
       "      <td>0.733109</td>\n",
       "      <td>0.509840</td>\n",
       "      <td>2.868293</td>\n",
       "      <td>1.374270</td>\n",
       "      <td>0.102792</td>\n",
       "      <td>1.382629</td>\n",
       "      <td>1.138294</td>\n",
       "      <td>0.282609</td>\n",
       "      <td>1.238930</td>\n",
       "    </tr>\n",
       "    <tr>\n",
       "      <th>ZZEF1</th>\n",
       "      <td>0.052787</td>\n",
       "      <td>0.264301</td>\n",
       "      <td>0.062048</td>\n",
       "      <td>0.072952</td>\n",
       "      <td>0.073541</td>\n",
       "      <td>0.057020</td>\n",
       "      <td>0.131607</td>\n",
       "      <td>0.103184</td>\n",
       "      <td>0.086517</td>\n",
       "      <td>0.087327</td>\n",
       "      <td>...</td>\n",
       "      <td>0.085731</td>\n",
       "      <td>0.228943</td>\n",
       "      <td>0.341226</td>\n",
       "      <td>0.228571</td>\n",
       "      <td>0.150573</td>\n",
       "      <td>0.110236</td>\n",
       "      <td>0.653626</td>\n",
       "      <td>0.213189</td>\n",
       "      <td>0.159808</td>\n",
       "      <td>1.041081</td>\n",
       "    </tr>\n",
       "  </tbody>\n",
       "</table>\n",
       "<p>16744 rows × 55 columns</p>\n",
       "</div>"
      ],
      "text/plain": [
       "                  B  C1QC Mac   C3 iCAF   CD4 Tfh    CD4 Th  CD4 Th HSP  \\\n",
       "A1BG       0.217940  0.603945  0.482844  0.183307  0.175969    0.184936   \n",
       "A1CF       0.004003  0.005245  0.064358  0.000937  0.001401    0.001161   \n",
       "A2M        0.014990  4.373756  1.854340  0.014480  0.021270    0.014963   \n",
       "A2ML1-AS1  0.001355  0.004277  0.106408  0.000953  0.000283    0.000349   \n",
       "A4GALT     0.008324  0.006817  0.419700  0.001703  0.000249    0.000641   \n",
       "...             ...       ...       ...       ...       ...         ...   \n",
       "ZWINT      0.006417  0.071071  0.046243  0.024367  0.005456    0.006303   \n",
       "ZXDC       0.035317  0.120349  0.241548  0.020742  0.038388    0.036643   \n",
       "ZYG11B     0.049758  0.491052  0.179066  0.043838  0.034599    0.021457   \n",
       "ZYX        0.050603  1.663659  0.757705  0.133681  0.122681    0.151855   \n",
       "ZZEF1      0.052787  0.264301  0.062048  0.072952  0.073541    0.057020   \n",
       "\n",
       "           CD4 Th17    CD4 Tn   CD8 Tem  CD8 Tem GZMB  ...      Treg  \\\n",
       "A1BG       0.192955  0.222691  0.182361      0.212900  ...  0.216614   \n",
       "A1CF       0.006749  0.002363  0.001194      0.004450  ...  0.001556   \n",
       "A2M        0.022565  0.016489  0.033004      0.024875  ...  0.017959   \n",
       "A2ML1-AS1  0.001174  0.000542  0.000342      0.000906  ...  0.000348   \n",
       "A4GALT     0.002417  0.001024  0.001116      0.000754  ...  0.053738   \n",
       "...             ...       ...       ...           ...  ...       ...   \n",
       "ZWINT      0.006336  0.014776  0.005813      0.007621  ...  0.024641   \n",
       "ZXDC       0.036308  0.033348  0.038138      0.036918  ...  0.043905   \n",
       "ZYG11B     0.056633  0.043515  0.008675      0.022286  ...  0.068659   \n",
       "ZYX        0.104951  0.179427  0.137942      0.233927  ...  0.187188   \n",
       "ZZEF1      0.131607  0.103184  0.086517      0.087327  ...  0.085731   \n",
       "\n",
       "               Tuft       UPR      cDC1      cDC2       gdT     ipEMT  \\\n",
       "A1BG       0.070041  0.020696  0.422260  0.664235  0.157502  0.045557   \n",
       "A1CF       0.351876  1.010199  0.033245  0.003747  0.002778  0.684595   \n",
       "A2M        0.027839  0.003000  0.290771  0.548362  0.014302  0.003520   \n",
       "A2ML1-AS1  0.150731  0.005538  0.027169  0.002916  0.001431  0.016805   \n",
       "A4GALT     0.273138  0.003243  0.019676  0.004993  0.001422  0.086829   \n",
       "...             ...       ...       ...       ...       ...       ...   \n",
       "ZWINT      0.107910  0.098999  0.649548  0.062702  0.004350  0.175986   \n",
       "ZXDC       0.627824  0.769197  0.077197  0.105134  0.047208  0.957904   \n",
       "ZYG11B     1.054583  0.542082  0.119958  0.177196  0.025351  0.586818   \n",
       "ZYX        0.733109  0.509840  2.868293  1.374270  0.102792  1.382629   \n",
       "ZZEF1      0.228943  0.341226  0.228571  0.150573  0.110236  0.653626   \n",
       "\n",
       "              migDC       pDC      pEMT  \n",
       "A1BG       1.243111  1.045869  0.057498  \n",
       "A1CF       0.103623  0.013481  0.971335  \n",
       "A2M        0.071323  0.015167  0.002447  \n",
       "A2ML1-AS1  0.115608  0.017687  0.006824  \n",
       "A4GALT     0.046762  0.012217  0.132627  \n",
       "...             ...       ...       ...  \n",
       "ZWINT      0.159318  0.010365  0.089421  \n",
       "ZXDC       0.092784  0.083983  1.186925  \n",
       "ZYG11B     0.193894  0.029501  0.690995  \n",
       "ZYX        1.138294  0.282609  1.238930  \n",
       "ZZEF1      0.213189  0.159808  1.041081  \n",
       "\n",
       "[16744 rows x 55 columns]"
      ]
     },
     "execution_count": 19,
     "metadata": {},
     "output_type": "execute_result"
    }
   ],
   "source": [
    "inf_aver"
   ]
  },
  {
   "cell_type": "code",
   "execution_count": 20,
   "metadata": {},
   "outputs": [],
   "source": [
    "celltype = \"SPP1 Mac\""
   ]
  },
  {
   "cell_type": "code",
   "execution_count": 21,
   "metadata": {},
   "outputs": [
    {
     "data": {
      "text/plain": [
       "A2M        1.683014\n",
       "AAK1       1.031651\n",
       "ABCA1      5.935014\n",
       "ABCC3      0.869266\n",
       "ABCG1      1.161751\n",
       "             ...   \n",
       "ZNF706     2.036294\n",
       "ZNF804A    0.957310\n",
       "ZNHIT1     1.455696\n",
       "ZSWIM6     2.347974\n",
       "ZYX        1.420586\n",
       "Name: SPP1 Mac, Length: 2366, dtype: float32"
      ]
     },
     "execution_count": 21,
     "metadata": {},
     "output_type": "execute_result"
    }
   ],
   "source": [
    "inf_aver[inf_aver[celltype] > 0.8][celltype]"
   ]
  },
  {
   "cell_type": "code",
   "execution_count": 22,
   "metadata": {},
   "outputs": [
    {
     "data": {
      "text/plain": [
       "A2M        1.683014\n",
       "AAK1       1.031651\n",
       "ABCA1      5.935014\n",
       "ABCG1      1.161751\n",
       "ABHD12     1.553187\n",
       "             ...   \n",
       "ZNF706     2.036294\n",
       "ZNF804A    0.957310\n",
       "ZNHIT1     1.455696\n",
       "ZSWIM6     2.347974\n",
       "ZYX        1.420586\n",
       "Name: SPP1 Mac, Length: 1852, dtype: float32"
      ]
     },
     "execution_count": 22,
     "metadata": {},
     "output_type": "execute_result"
    }
   ],
   "source": [
    "inf_aver[inf_aver[celltype] > 0.9][celltype]"
   ]
  },
  {
   "cell_type": "code",
   "execution_count": 23,
   "metadata": {},
   "outputs": [
    {
     "data": {
      "text/plain": [
       "6.001892"
      ]
     },
     "execution_count": 23,
     "metadata": {},
     "output_type": "execute_result"
    }
   ],
   "source": [
    "inf_aver[inf_aver[celltype] > 0.9][celltype].loc[\"IL1RN\"]"
   ]
  },
  {
   "cell_type": "code",
   "execution_count": 24,
   "metadata": {},
   "outputs": [
    {
     "data": {
      "text/plain": [
       "SPP1        113.815941\n",
       "FTL         108.943649\n",
       "FTH1         57.111271\n",
       "APOE         52.413616\n",
       "APOC1        41.816132\n",
       "MALAT1       39.473969\n",
       "B2M          31.588717\n",
       "TMSB4X       29.979572\n",
       "CTSD         28.906010\n",
       "CTSB         26.073978\n",
       "CSTB         24.553902\n",
       "TYROBP       23.657326\n",
       "TMSB10       22.608772\n",
       "ACTB         22.473566\n",
       "VIM          21.953175\n",
       "S100A11      20.262861\n",
       "LGALS1       20.174318\n",
       "SAT1         19.604403\n",
       "CD74         19.468971\n",
       "CXCL8        18.763807\n",
       "PSAP         18.424505\n",
       "HLA-DRA      17.837601\n",
       "CCL3         17.747368\n",
       "FCER1G       16.954409\n",
       "LYZ          16.579954\n",
       "GAPDH        15.912395\n",
       "SH3BGRL3     15.651361\n",
       "NEAT1        15.621423\n",
       "SRGN         15.120837\n",
       "CTSL         15.064425\n",
       "Name: SPP1 Mac, dtype: float32"
      ]
     },
     "execution_count": 24,
     "metadata": {},
     "output_type": "execute_result"
    }
   ],
   "source": [
    "inf_aver[celltype].sort_values(ascending=False).head(30)"
   ]
  },
  {
   "cell_type": "code",
   "execution_count": 25,
   "metadata": {},
   "outputs": [
    {
     "data": {
      "text/plain": [
       "MALAT1      118.405518\n",
       "TMSB4X       64.995056\n",
       "FTH1         63.900612\n",
       "B2M          63.866692\n",
       "S100A6       53.785404\n",
       "EEF1A1       47.250450\n",
       "TMSB10       46.180367\n",
       "TPT1         39.635784\n",
       "PTMA         33.897514\n",
       "S100A11      33.376400\n",
       "FTL          32.032139\n",
       "ACTB         31.757187\n",
       "GAPDH        31.725306\n",
       "EIF1         30.973518\n",
       "S100A10      30.223560\n",
       "NEAT1        28.536295\n",
       "HLA-B        27.081144\n",
       "HLA-A        26.211504\n",
       "HLA-C        26.079607\n",
       "LGALS3       25.052893\n",
       "ACTG1        24.889708\n",
       "FAU          23.989853\n",
       "CEACAM5      22.727373\n",
       "SERF2        20.767628\n",
       "H3F3B        20.615465\n",
       "MYL6         20.302507\n",
       "HSP90AA1     19.844530\n",
       "UBC          19.643730\n",
       "ANXA2        19.522804\n",
       "CST3         19.184036\n",
       "LDHA         18.701151\n",
       "CD63         17.943958\n",
       "SH3BGRL3     17.704346\n",
       "EPCAM        17.604549\n",
       "H3F3A        17.513527\n",
       "JUN          17.219074\n",
       "CFL1         16.573317\n",
       "CEACAM6      16.055737\n",
       "OAZ1         16.035606\n",
       "UBA52        15.981993\n",
       "Name: pEMT, dtype: float32"
      ]
     },
     "execution_count": 25,
     "metadata": {},
     "output_type": "execute_result"
    }
   ],
   "source": [
    "inf_aver[\"pEMT\"].sort_values(ascending=False).head(40)"
   ]
  },
  {
   "cell_type": "code",
   "execution_count": null,
   "metadata": {},
   "outputs": [],
   "source": [
    "### inf_aver[\"ipEMT\"].sort_values(ascending=False).head(55)"
   ]
  },
  {
   "cell_type": "code",
   "execution_count": 27,
   "metadata": {},
   "outputs": [
    {
     "data": {
      "text/plain": [
       "FTL         139.585342\n",
       "APOE        105.869148\n",
       "CD74         69.240517\n",
       "HLA-DRA      59.005821\n",
       "FTH1         58.352585\n",
       "APOC1        56.786411\n",
       "B2M          49.564186\n",
       "TMSB4X       42.528942\n",
       "CTSD         41.014851\n",
       "LYZ          40.823357\n",
       "HLA-DRB1     38.416218\n",
       "MALAT1       37.652439\n",
       "PSAP         34.974674\n",
       "CTSB         34.380486\n",
       "C1QA         31.618780\n",
       "C1QB         31.161718\n",
       "HLA-DPA1     28.304554\n",
       "HLA-DPB1     27.800915\n",
       "ACTB         26.991686\n",
       "TMSB10       26.534161\n",
       "TYROBP       25.633436\n",
       "C1QC         24.277052\n",
       "SPP1         24.220558\n",
       "SAT1         24.212215\n",
       "VIM          21.527138\n",
       "HLA-DQA1     18.629049\n",
       "HLA-B        18.115095\n",
       "FCER1G       17.586538\n",
       "LGALS1       17.518936\n",
       "HLA-DQB1     17.340586\n",
       "S100A11      17.301943\n",
       "NEAT1        17.186796\n",
       "GPNMB        16.693886\n",
       "EEF1A1       16.134359\n",
       "HLA-A        15.790825\n",
       "CCL3         15.705750\n",
       "CST3         15.699626\n",
       "NPC2         15.691136\n",
       "CYBA         15.596400\n",
       "GPX1         15.351933\n",
       "Name: C1QC Mac, dtype: float32"
      ]
     },
     "execution_count": 27,
     "metadata": {},
     "output_type": "execute_result"
    }
   ],
   "source": [
    "inf_aver[\"C1QC Mac\"].sort_values(ascending=False).head(40)"
   ]
  },
  {
   "cell_type": "code",
   "execution_count": 28,
   "metadata": {},
   "outputs": [
    {
     "data": {
      "text/plain": [
       "MALAT1       73.842064\n",
       "FTH1         33.879040\n",
       "EEF1A1       33.654930\n",
       "GRM8         29.431145\n",
       "PTMA         27.174280\n",
       "TPT1         26.824154\n",
       "TMSB10       25.403347\n",
       "FTL          21.326168\n",
       "FAU          20.869097\n",
       "TMSB4X       18.487257\n",
       "TOX3         17.470051\n",
       "S100A6       16.932213\n",
       "IMMP2L       15.976226\n",
       "SLC4A10      15.410995\n",
       "EIF1         15.188010\n",
       "H3F3A        14.640265\n",
       "GAPDH        13.758814\n",
       "SATB2        13.725657\n",
       "NACA         13.053104\n",
       "FOXP2        12.819220\n",
       "RIMS2        12.737166\n",
       "DLEU1        12.350825\n",
       "HSP90AA1     12.330980\n",
       "B2M          12.205545\n",
       "PPIA         12.159737\n",
       "UBA52        12.020948\n",
       "FAM155A      11.880059\n",
       "HSP90AB1     11.821052\n",
       "CST3         11.801915\n",
       "LINC02163    11.617913\n",
       "S100A10      11.455057\n",
       "CEACAM5      11.226657\n",
       "EEF1B2       11.221422\n",
       "CFTR         11.064185\n",
       "DACH1        11.058495\n",
       "SERF2        11.017765\n",
       "FRYL         11.004186\n",
       "PRKG1        10.780066\n",
       "NAALADL2     10.520690\n",
       "H3F3B        10.499310\n",
       "Name: Stem, dtype: float32"
      ]
     },
     "execution_count": 28,
     "metadata": {},
     "output_type": "execute_result"
    }
   ],
   "source": [
    "inf_aver[\"Stem\"].sort_values(ascending=False).head(40)"
   ]
  },
  {
   "cell_type": "code",
   "execution_count": 29,
   "metadata": {},
   "outputs": [
    {
     "data": {
      "text/plain": [
       "MT2A          63.969173\n",
       "SERPINA1      48.987495\n",
       "MALAT1        44.409515\n",
       "CXCL2         37.613083\n",
       "APOC1         32.405651\n",
       "ZBTB20        32.262920\n",
       "NEAT1         31.333925\n",
       "CYP3A5        31.161478\n",
       "ALB           26.002636\n",
       "GPC6          25.604549\n",
       "FGB           24.242838\n",
       "A2M           24.202765\n",
       "CUX2          24.130398\n",
       "GPHN          22.931154\n",
       "MT1X          21.622116\n",
       "C3            21.047634\n",
       "CFH           20.965551\n",
       "EXT1          19.779343\n",
       "GADD45B       19.764395\n",
       "CP            19.718719\n",
       "PNRC1         19.677725\n",
       "FGL1          18.706995\n",
       "FGG           18.477976\n",
       "SOD2          18.314032\n",
       "CRP           18.273924\n",
       "AL391117.1    18.184271\n",
       "ASGR1         17.931702\n",
       "MBNL2         17.906715\n",
       "FTL           17.707048\n",
       "TSHZ2         16.947996\n",
       "DUSP1         16.400644\n",
       "RORA          16.388420\n",
       "CYB5A         15.847092\n",
       "PTP4A1        15.699341\n",
       "ABCB11        15.640100\n",
       "SORBS2        15.488277\n",
       "FTH1          15.411344\n",
       "NNMT          15.131805\n",
       "ADRA1A        15.089823\n",
       "EEF1A1        14.613200\n",
       "Name: Hepatocyte, dtype: float32"
      ]
     },
     "execution_count": 29,
     "metadata": {},
     "output_type": "execute_result"
    }
   ],
   "source": [
    "inf_aver[\"Hepatocyte\"].sort_values(ascending=False).head(40)"
   ]
  },
  {
   "cell_type": "code",
   "execution_count": 30,
   "metadata": {},
   "outputs": [
    {
     "data": {
      "text/plain": [
       "TIMP1       120.450325\n",
       "MALAT1       69.040932\n",
       "COL1A1       58.707756\n",
       "VIM          55.637905\n",
       "COL1A2       54.041866\n",
       "FN1          49.179844\n",
       "COL3A1       45.099598\n",
       "LGALS1       41.617413\n",
       "MT2A         40.560257\n",
       "ACTB         40.002724\n",
       "IGFBP7       34.385246\n",
       "TMSB10       32.472252\n",
       "CALD1        31.299442\n",
       "EEF1A1       31.049522\n",
       "POSTN        30.457014\n",
       "SPARC        30.303768\n",
       "B2M          27.829390\n",
       "COL6A3       27.265184\n",
       "BGN          26.294441\n",
       "TMSB4X       25.662979\n",
       "ACTA2        25.581320\n",
       "FTH1         24.868999\n",
       "SERPINE1     24.391939\n",
       "GAPDH        23.931826\n",
       "COL5A2       23.760618\n",
       "TAGLN        23.066706\n",
       "TPT1         22.717934\n",
       "ACTG1        22.077238\n",
       "NEAT1        19.895990\n",
       "COL4A1       19.828739\n",
       "FTL          19.778526\n",
       "MYL6         19.750172\n",
       "FOSB         19.624784\n",
       "COL5A1       19.340307\n",
       "PTMA         18.966537\n",
       "TIMP3        18.913851\n",
       "CD63         18.327816\n",
       "CCDC80       18.219967\n",
       "SULF1        18.002701\n",
       "S100A6       17.950462\n",
       "Name: Myofibroblast, dtype: float32"
      ]
     },
     "execution_count": 30,
     "metadata": {},
     "output_type": "execute_result"
    }
   ],
   "source": [
    "inf_aver[\"Myofibroblast\"].sort_values(ascending=False).head(40)"
   ]
  },
  {
   "cell_type": "code",
   "execution_count": 31,
   "metadata": {},
   "outputs": [
    {
     "data": {
      "text/plain": [
       "IGFBP7      31.019321\n",
       "TIMP1       26.957975\n",
       "MALAT1      26.258410\n",
       "DCN         24.989079\n",
       "MGP         24.583384\n",
       "COL1A2      18.764029\n",
       "VIM         18.208065\n",
       "JUNB        16.129612\n",
       "COL3A1      15.998283\n",
       "FOS         15.879763\n",
       "LUM         15.531283\n",
       "COL1A1      15.235830\n",
       "FOSB        13.425304\n",
       "C1R         13.384139\n",
       "EEF1A1      13.196649\n",
       "JUN         13.196595\n",
       "MT2A        13.024765\n",
       "CALD1       11.829276\n",
       "C1S         11.771627\n",
       "FTH1        11.642441\n",
       "BGN         11.362302\n",
       "FBLN1       11.301488\n",
       "FTL         11.240543\n",
       "C7          11.224568\n",
       "GSN         10.891958\n",
       "B2M         10.853094\n",
       "TPT1        10.335220\n",
       "DUSP1       10.250831\n",
       "SPARC        9.696162\n",
       "NEAT1        9.679311\n",
       "RBMS3        9.537983\n",
       "SERPINF1     9.470646\n",
       "C3           9.461404\n",
       "APOD         9.425238\n",
       "EIF1         9.178872\n",
       "CST3         8.882113\n",
       "GADD45B      8.709204\n",
       "ITM2B        8.570593\n",
       "CFH          8.343965\n",
       "SERPING1     8.288793\n",
       "Name: C3 iCAF, dtype: float32"
      ]
     },
     "execution_count": 31,
     "metadata": {},
     "output_type": "execute_result"
    }
   ],
   "source": [
    "inf_aver[\"C3 iCAF\"].sort_values(ascending=False).head(40)"
   ]
  },
  {
   "cell_type": "code",
   "execution_count": 32,
   "metadata": {},
   "outputs": [
    {
     "data": {
      "text/plain": [
       "FTL         47.651321\n",
       "CD74        42.198837\n",
       "HLA-DRA     39.590618\n",
       "MALAT1      29.774691\n",
       "FTH1        29.634918\n",
       "CCL3        29.016769\n",
       "APOE        28.471273\n",
       "HLA-DRB1    28.175396\n",
       "B2M         22.745298\n",
       "CCL4        22.616716\n",
       "HLA-DPB1    21.210583\n",
       "CXCL8       19.600601\n",
       "TMSB4X      19.114899\n",
       "HLA-DPA1    18.576498\n",
       "SAT1        18.331881\n",
       "CCL4L2      18.027739\n",
       "SPP1        17.542648\n",
       "C1QB        16.744051\n",
       "C1QA        16.585636\n",
       "NEAT1       15.569067\n",
       "RGS1        15.105983\n",
       "TYROBP      14.973668\n",
       "SRGN        14.792029\n",
       "FOS         14.308628\n",
       "HLA-DQA1    13.463341\n",
       "HLA-DQB1    13.450223\n",
       "TMSB10      13.354843\n",
       "CTSD        13.332922\n",
       "APOC1       13.162347\n",
       "C1QC        13.020733\n",
       "NFKBIA      12.903296\n",
       "CTSB        12.165915\n",
       "DUSP1       11.655356\n",
       "PSAP        11.378466\n",
       "PLXDC2      11.334927\n",
       "TPT1        11.284196\n",
       "CCL3L1      10.836146\n",
       "EEF1A1      10.834154\n",
       "CST3        10.808742\n",
       "DOCK4       10.704454\n",
       "IL1B        10.484402\n",
       "SGK1        10.448735\n",
       "HSPA1A      10.191939\n",
       "ITM2B       10.090088\n",
       "CXCL2        9.923890\n",
       "IER3         9.760364\n",
       "LYZ          9.589866\n",
       "ACTB         9.458040\n",
       "NPC2         9.141743\n",
       "SOD2         9.118487\n",
       "Name: IL1B Mac, dtype: float32"
      ]
     },
     "execution_count": 32,
     "metadata": {},
     "output_type": "execute_result"
    }
   ],
   "source": [
    "inf_aver[\"IL1B Mac\"].sort_values(ascending=False).head(50)"
   ]
  },
  {
   "cell_type": "code",
   "execution_count": 33,
   "metadata": {},
   "outputs": [
    {
     "data": {
      "text/plain": [
       "10.484402"
      ]
     },
     "execution_count": 33,
     "metadata": {},
     "output_type": "execute_result"
    }
   ],
   "source": [
    "inf_aver[inf_aver[\"IL1B Mac\"] > 0.9][\"IL1B Mac\"].loc[\"IL1B\"]"
   ]
  },
  {
   "cell_type": "code",
   "execution_count": 34,
   "metadata": {},
   "outputs": [
    {
     "data": {
      "text/plain": [
       "S100A9      46.735889\n",
       "FTH1        39.044090\n",
       "S100A8      34.382511\n",
       "FTL         30.410696\n",
       "LYZ         27.776232\n",
       "SRGN        24.110308\n",
       "SAT1        23.544891\n",
       "MALAT1      21.850035\n",
       "TMSB4X      18.471304\n",
       "CXCL8       17.699413\n",
       "HLA-DRA     17.021452\n",
       "B2M         16.930578\n",
       "TYROBP      16.494743\n",
       "NEAT1       16.206842\n",
       "CD74        15.252572\n",
       "TMSB10      14.897206\n",
       "S100A4      14.358132\n",
       "ACTB        13.909385\n",
       "NAMPT       13.648563\n",
       "VCAN        13.519716\n",
       "TPT1        12.471312\n",
       "IL1B        11.978444\n",
       "DPYD        11.527790\n",
       "NFKBIA      11.364028\n",
       "EEF1A1      10.857880\n",
       "FCER1G      10.792648\n",
       "CXCL2       10.706396\n",
       "AIF1        10.629935\n",
       "CST3        10.376258\n",
       "H3F3A        9.612266\n",
       "EIF1         9.523525\n",
       "DUSP1        9.421664\n",
       "CTSS         9.395223\n",
       "MT2A         9.315563\n",
       "SAMSN1       9.246982\n",
       "S100A6       9.140705\n",
       "CYBA         9.126225\n",
       "FOS          9.014076\n",
       "GPX1         9.006534\n",
       "AREG         8.978268\n",
       "CCL3         8.891614\n",
       "PLAUR        8.535087\n",
       "S100A11      8.372835\n",
       "TIMP1        8.307421\n",
       "SH3BGRL3     8.194459\n",
       "SOD2         8.070995\n",
       "G0S2         8.045725\n",
       "BTG1         7.979797\n",
       "HLA-DRB1     7.966201\n",
       "FAU          7.962761\n",
       "Name: NLRP3 Mac, dtype: float32"
      ]
     },
     "execution_count": 34,
     "metadata": {},
     "output_type": "execute_result"
    }
   ],
   "source": [
    "inf_aver[\"NLRP3 Mac\"].sort_values(ascending=False).head(50)"
   ]
  },
  {
   "cell_type": "code",
   "execution_count": null,
   "metadata": {},
   "outputs": [],
   "source": []
  }
 ],
 "metadata": {
  "kernelspec": {
   "display_name": "cell2loc19",
   "language": "python",
   "name": "cell2loc19"
  },
  "language_info": {
   "codemirror_mode": {
    "name": "ipython",
    "version": 3
   },
   "file_extension": ".py",
   "mimetype": "text/x-python",
   "name": "python",
   "nbconvert_exporter": "python",
   "pygments_lexer": "ipython3",
   "version": "3.9.13"
  }
 },
 "nbformat": 4,
 "nbformat_minor": 4
}
