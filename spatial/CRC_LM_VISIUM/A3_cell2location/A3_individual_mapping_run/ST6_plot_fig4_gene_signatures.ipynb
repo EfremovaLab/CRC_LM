{
 "cells": [
  {
   "cell_type": "code",
   "execution_count": null,
   "metadata": {},
   "outputs": [],
   "source": [
    "import scanpy as sc\n",
    "import squidpy as sq\n",
    "import anndata\n",
    "import pandas as pd\n",
    "import numpy as np\n",
    "import matplotlib.pyplot as plt\n",
    "import matplotlib as mpl\n",
    "from collections import Counter\n",
    "from matplotlib_scalebar.scalebar import ScaleBar\n",
    "import os\n",
    "\n",
    "import cell2location\n",
    "import scvi\n",
    "\n",
    "DPI = 300\n",
    "FONTSIZE = 20  # 42\n",
    "sc.settings.set_figure_params(\n",
    "    scanpy=True, dpi=60, transparent=True, vector_friendly=True, dpi_save=DPI\n",
    ")\n",
    "from matplotlib import rcParams\n",
    "\n",
    "rcParams[\"pdf.fonttype\"] = 42\n",
    "\n",
    "import seaborn as sns\n",
    "from pathlib import Path\n",
    "\n",
    "custom_params = {\"font.size\": FONTSIZE, \"figure.dpi\": 100, \"savefig.dpi\": DPI}\n",
    "sns.set_theme(style=\"ticks\", rc=custom_params)\n",
    "\n",
    "# QC utils functions - a package\n",
    "from vistools import utils\n",
    "from vistools import spatial_plots"
   ]
  },
  {
   "cell_type": "markdown",
   "metadata": {},
   "source": [
    "### Score for gene signatures to see where they go in spatial regions"
   ]
  },
  {
   "cell_type": "code",
   "execution_count": null,
   "metadata": {},
   "outputs": [],
   "source": [
    "SAMPLE_NAME = \"CRC09_LM_VISIUM\""
   ]
  },
  {
   "cell_type": "code",
   "execution_count": null,
   "metadata": {},
   "outputs": [],
   "source": [
    "# DIR2SAVE\n",
    "DIR2SAVE = Path(\n",
    "    f\"/data/BCI-CRC/nasrine/data/CRC/spatial/CRC_LM_VISIUM/CRC_LM_VISIUM_04_08_09_11/cell2location/{SAMPLE_NAME}\"\n",
    ")\n",
    "DIR2SAVE.mkdir(parents=True, exist_ok=True)"
   ]
  },
  {
   "cell_type": "code",
   "execution_count": null,
   "metadata": {},
   "outputs": [],
   "source": [
    "run_name = DIR2SAVE.joinpath(f\"cell2location_map-no_cycling_TME/\")\n",
    "run_name.mkdir(parents=True, exist_ok=True)"
   ]
  },
  {
   "cell_type": "code",
   "execution_count": null,
   "metadata": {},
   "outputs": [],
   "source": [
    "# figures\n",
    "FIG2SAVE = run_name.joinpath(\"figures/gene_signatures/\")\n",
    "FIG2SAVE.mkdir(parents=True, exist_ok=True)\n",
    "# set the global variable: sc.settings.figdir to save all plots\n",
    "sc.settings.figdir = FIG2SAVE"
   ]
  },
  {
   "cell_type": "code",
   "execution_count": null,
   "metadata": {},
   "outputs": [],
   "source": [
    "adata_file = f\"{run_name}/sp.h5ad\"\n",
    "adata_vis = sc.read_h5ad(adata_file)\n",
    "mod = cell2location.models.Cell2location.load(f\"{run_name}\", adata_vis)"
   ]
  },
  {
   "cell_type": "code",
   "execution_count": null,
   "metadata": {},
   "outputs": [],
   "source": [
    "### gene expression\n",
    "# keep raw\n",
    "adata_vis.layers[\"raw\"] = adata_vis.X.copy()  # preserve counts\n",
    "\n",
    "# normalize + log1p\n",
    "sc.pp.normalize_total(adata_vis, target_sum=1e4, inplace=True)\n",
    "adata_vis.layers[\"normalised\"] = adata_vis.X.copy()\n",
    "sc.pp.log1p(adata_vis)\n",
    "\n",
    "adata_vis.layers[\"log1p\"] = adata_vis.X.copy()\n",
    "\n",
    "adata_vis.raw = adata_vis  # keep normalised log1p"
   ]
  },
  {
   "cell_type": "code",
   "execution_count": null,
   "metadata": {},
   "outputs": [],
   "source": [
    "adata_vis.shape"
   ]
  },
  {
   "cell_type": "code",
   "execution_count": null,
   "metadata": {},
   "outputs": [],
   "source": [
    "gene_sets = {\n",
    "    \"HALLMARK_HYPOXIA\":  pd.read_table(\"/data/BCI-CRC/SO/genesets/HALLMARK_HYPOXIA.v7.5.1.grp\"),\n",
    "    \"HALLMARK_EPITHELIAL_MESENCHYMAL_TRANSITION\": pd.read_table(\"/data/BCI-CRC/SO/genesets/HALLMARK_EPITHELIAL_MESENCHYMAL_TRANSITION.v7.5.1.grp\"),\n",
    "    \"COAD_pEMT\": pd.read_csv(\"/data/BCI-CRC/SO/genesets/COAD_pEMT_genes_TylerTirosh2021_tumourSpecific.csv\"),\n",
    "    \"HALLMARK_INTERFERON_ALPHA_RESPONSE\": pd.read_table(\"/data/BCI-CRC/SO/genesets/HALLMARK_INTERFERON_ALPHA_RESPONSE_M5911.txt\"),\n",
    "    \"HALLMARK_WNT_BETA_CATENIN_SIGNALING\": pd.read_table(\"/data/BCI-CRC/SO/genesets/HALLMARK_WNT_BETA_CATENIN_SIGNALING.v7.5.1.grp\"),\n",
    "    \"HALLMARK_INTERFERON_GAMMA_RESPONSE\": pd.read_table(\"/data/BCI-CRC/SO/genesets/HALLMARK_INTERFERON_GAMMA_RESPONSE_M5913.txt\")\n",
    "}"
   ]
  },
  {
   "cell_type": "code",
   "execution_count": null,
   "metadata": {},
   "outputs": [],
   "source": [
    "gene_sets[\"COAD_pEMT\"].rename(columns={\"COAD\": \"COAD_pEMT\"}, inplace=True)"
   ]
  },
  {
   "cell_type": "code",
   "execution_count": null,
   "metadata": {
    "scrolled": false
   },
   "outputs": [],
   "source": [
    "for i in gene_sets.keys():\n",
    "    \n",
    "    for samp in set(adata_vis.obs.Sample):\n",
    "        adata_tmp = utils.select_slide(adata_vis, s=samp, batch_key=\"Sample\")\n",
    "        sc.tl.score_genes(adata_tmp, gene_list=gene_sets[i][i], score_name=i,\n",
    "                      use_raw=True)\n",
    "        sc.pl.spatial(adata_tmp, color=i, size=1.3, img_key=\"hires\", vmin=\"p25.0\", vmax=\"p99.2\", \n",
    "                  cmap=\"YlGnBu\", alpha_img=0.3, save=f\"{samp}_{i}_vmin.pdf\")"
   ]
  },
  {
   "cell_type": "code",
   "execution_count": null,
   "metadata": {
    "scrolled": true
   },
   "outputs": [],
   "source": [
    "for i in gene_sets.keys():\n",
    "    \n",
    "    for samp in set(adata_vis.obs.Sample):\n",
    "        adata_tmp = utils.select_slide(adata_vis, s=samp, batch_key=\"Sample\")\n",
    "        sc.tl.score_genes(adata_tmp, gene_list=gene_sets[i][i], score_name=i,\n",
    "                      use_raw=True)\n",
    "        sc.pl.spatial(adata_tmp, color=i, size=1.3, img_key=\"hires\", vmin=0, vmax=\"p99.2\", \n",
    "                  cmap=\"YlGnBu\", alpha_img=0.3, save=f\"{samp}_{i}_vmin0.pdf\") #vmin=0.2"
   ]
  },
  {
   "cell_type": "markdown",
   "metadata": {},
   "source": [
    "### try signatures from CellCharter Marco Varrone, Giovanni Ciriello"
   ]
  },
  {
   "cell_type": "code",
   "execution_count": null,
   "metadata": {},
   "outputs": [],
   "source": [
    "cellcharter_sign = pd.read_excel(\"/data/BCI-CRC/nasrine/data/gene_sets/MarcoVarrone_GiovanniCiriello_CellCharter_media-4.xlsx\",\n",
    "                                 sheet_name=\"Sheet1\",\n",
    "                                 header=0,\n",
    "             )\n",
    "\n",
    "cellcharter_sign_dict = dict()\n",
    "for col in cellcharter_sign.columns:\n",
    "    cellcharter_sign_dict[col] = cellcharter_sign[col].dropna()"
   ]
  },
  {
   "cell_type": "code",
   "execution_count": null,
   "metadata": {},
   "outputs": [],
   "source": [
    "for i in cellcharter_sign_dict.keys():\n",
    "    \n",
    "    for samp in set(adata_vis.obs.Sample):\n",
    "        adata_tmp = utils.select_slide(adata_vis, s=samp, batch_key=\"Sample\")\n",
    "        sc.tl.score_genes(adata_tmp, gene_list=cellcharter_sign_dict[i], score_name=i,\n",
    "                      use_raw=True)\n",
    "        sc.pl.spatial(adata_tmp, color=i, size=1.3, img_key=\"hires\", vmin=\"p25.0\", vmax=\"p99.2\", \n",
    "                  cmap=\"YlGnBu\", alpha_img=0.3, save=f\"{samp}_{i}.pdf\") # RdPu"
   ]
  },
  {
   "cell_type": "markdown",
   "metadata": {},
   "source": [
    "### Load signatures from Hallmarks of transcriptional intratumour heterogeneity across a thousand tumours paper 2023 Gavish"
   ]
  },
  {
   "cell_type": "code",
   "execution_count": null,
   "metadata": {},
   "outputs": [],
   "source": [
    "gavish_sign = pd.read_excel(\"/data/BCI-CRC/nasrine/data/gene_sets/gavishHallmarksTranscriptio2023_41586_2023_6130_MOESM6_ESM.xlsx\",\n",
    "                            sheet_name=\"Cancer MPs\",\n",
    "                           )\n",
    "gavish_sign.head(5)"
   ]
  },
  {
   "cell_type": "code",
   "execution_count": null,
   "metadata": {},
   "outputs": [],
   "source": [
    "gavish_sign.columns"
   ]
  },
  {
   "cell_type": "code",
   "execution_count": null,
   "metadata": {
    "scrolled": false
   },
   "outputs": [],
   "source": [
    "for i in ['MP6 Hypoxia', 'MP12 EMT-I', 'MP13 EMT-II', 'MP14 EMT-III ', 'MP15 EMT IV',\n",
    "          'MP17 Interferon/MHC-II (I)', 'MP18 Interferon/MHC-II (II)',]:\n",
    "    \n",
    "    my_title = i.split(\"/\")[0]\n",
    "    \n",
    "    for samp in set(adata_vis.obs.Sample):\n",
    "        adata_tmp = utils.select_slide(adata_vis, s=samp, batch_key=\"Sample\")\n",
    "        sc.tl.score_genes(adata_tmp, gene_list=gavish_sign[i], score_name=i,\n",
    "                      use_raw=True)\n",
    "        sc.pl.spatial(adata_tmp, color=i, size=1.3, img_key=\"hires\", vmin=\"p25.0\", vmax=\"p99.2\", title=my_title,\n",
    "                  cmap=\"YlGnBu\", alpha_img=0.3, save=f\"Gavish2023_{samp}_{my_title}.pdf\") # RdPu vmin=0.2"
   ]
  }
 ],
 "metadata": {
  "kernelspec": {
   "display_name": "cell2loc19",
   "language": "python",
   "name": "cell2loc19"
  },
  "language_info": {
   "codemirror_mode": {
    "name": "ipython",
    "version": 3
   },
   "file_extension": ".py",
   "mimetype": "text/x-python",
   "name": "python",
   "nbconvert_exporter": "python",
   "pygments_lexer": "ipython3",
   "version": "3.9.13"
  }
 },
 "nbformat": 4,
 "nbformat_minor": 4
}
