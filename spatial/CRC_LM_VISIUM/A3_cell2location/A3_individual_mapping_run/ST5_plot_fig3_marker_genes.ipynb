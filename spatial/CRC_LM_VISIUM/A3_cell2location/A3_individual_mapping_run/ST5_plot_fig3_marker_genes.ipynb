{
 "cells": [
  {
   "cell_type": "code",
   "execution_count": null,
   "metadata": {},
   "outputs": [],
   "source": [
    "import scanpy as sc\n",
    "import squidpy as sq\n",
    "import anndata\n",
    "import pandas as pd\n",
    "import numpy as np\n",
    "import matplotlib.pyplot as plt\n",
    "import matplotlib as mpl\n",
    "from collections import Counter\n",
    "from matplotlib_scalebar.scalebar import ScaleBar\n",
    "import os\n",
    "\n",
    "import cell2location\n",
    "import scvi\n",
    "\n",
    "DPI = 300\n",
    "FONTSIZE = 20  # 42\n",
    "sc.settings.set_figure_params(\n",
    "    scanpy=True, dpi=60, transparent=True, vector_friendly=True, dpi_save=DPI\n",
    ")\n",
    "from matplotlib import rcParams\n",
    "\n",
    "rcParams[\"pdf.fonttype\"] = 42\n",
    "\n",
    "import seaborn as sns\n",
    "from pathlib import Path\n",
    "\n",
    "custom_params = {\"font.size\": FONTSIZE, \"figure.dpi\": 100, \"savefig.dpi\": DPI}\n",
    "sns.set_theme(style=\"ticks\", rc=custom_params)\n",
    "\n",
    "# QC utils functions - a package\n",
    "from vistools import utils\n",
    "from vistools import spatial_plots"
   ]
  },
  {
   "cell_type": "code",
   "execution_count": null,
   "metadata": {},
   "outputs": [],
   "source": [
    "SAMPLE_NAME = \"CRC08_LM_VISIUM\"\n",
    "\n",
    "# DIR2SAVE\n",
    "DIR2SAVE = Path(\n",
    "    f\"/data/BCI-CRC/nasrine/data/CRC/spatial/CRC_LM_VISIUM/CRC_LM_VISIUM_04_08_09_11/cell2location/{SAMPLE_NAME}\"\n",
    ")\n",
    "DIR2SAVE.mkdir(parents=True, exist_ok=True)"
   ]
  },
  {
   "cell_type": "code",
   "execution_count": null,
   "metadata": {},
   "outputs": [],
   "source": [
    "run_name = DIR2SAVE.joinpath(f\"cell2location_map-no_cycling_TME/\")\n",
    "run_name.mkdir(parents=True, exist_ok=True)\n",
    "\n",
    "# figures\n",
    "FIG2SAVE = run_name.joinpath(\"figures/final/\")\n",
    "FIG2SAVE.mkdir(parents=True, exist_ok=True)\n",
    "# set the global variable: sc.settings.figdir to save all plots\n",
    "sc.settings.figdir = FIG2SAVE"
   ]
  },
  {
   "cell_type": "code",
   "execution_count": null,
   "metadata": {},
   "outputs": [],
   "source": [
    "adata_file = f\"{run_name}/sp.h5ad\"\n",
    "adata_vis = sc.read_h5ad(adata_file)\n",
    "mod = cell2location.models.Cell2location.load(f\"{run_name}\", adata_vis)"
   ]
  },
  {
   "cell_type": "code",
   "execution_count": null,
   "metadata": {},
   "outputs": [],
   "source": [
    "# add 5% quantile, representing confident cell abundance, 'at least this amount is present',\n",
    "# to adata.obs with nice names for plotting\n",
    "adata_vis.obs[adata_vis.uns[\"mod\"][\"factor_names\"]] = adata_vis.obsm[\n",
    "    \"q05_cell_abundance_w_sf\"\n",
    "]\n",
    "adata_vis.uns[\"mod\"][\"factor_names\"]"
   ]
  },
  {
   "cell_type": "code",
   "execution_count": null,
   "metadata": {},
   "outputs": [],
   "source": [
    "gene_dict = {\n",
    "    \"Stem\": [\"LGR5\", \"ASCL2\", \"SMOC2\"],\n",
    "    \"Stem (NOTUM high)\": [\"NOTUM\", \"APCDD1\", \"NKD1\"],\n",
    "    \"pEMT\": [\"KRT17\", \"EMP1\", \"MMP7\", \"PLAUR\", \"KRT80\", \"LAMC2\", \"L1CAM\", \"IFI6\", \"ANXA1\", \"LAMA3\", \"ECM1\", \n",
    "             \"IFI16\"],\n",
    "    \"Hypoxia\": [\"VEGFA\", \"ENO2\"],\n",
    "    \"Colonocyte\": [\"FABP1\", \"CA2\", \"SLC26A3\"],\n",
    "    \"Cancer\": [\"GRHL2\", \"CDH1\", \"ELF3\"],\n",
    "    \"pEMT_subset\": [\"KRT17\", \"EMP1\",  \"LAMC2\", \"PLAUR\", \"LAMA3\", \"ANXA1\", \"TACSTD2\", \"IFIT3\", ],\n",
    "    \"Fetal\": [\"ANXA1\", \"TACSTD2\"],\n",
    "    \"IFIT\": [\"IFI6\", \"IFI44L\", \"IFI44\", \"IFI16\", \"IFIH1\", \"IFIT3\", \"IFIT1\"],\n",
    "    \"Myeloid\": [\"CD68\", \"CD14\"],\n",
    "    \"Stromal\": [\"DCN\", \"COL1A1\", \"COL3A1\"],\n",
    "    \"Endothelial\": [\"PECAM1\", \"CDH5\"],\n",
    "    \"T\": [\"TRAC\", \"CD3D\", \"CD3E\", \"KLRB1\"],\n",
    "    \"B\": [\"CD79A\", \"MS4A1\", \"CD19\"],\n",
    "    \"Plasma\": [\"MZB1\", \"JCHAIN\"],\n",
    "    \"Hepatocyte\": [\"ALB\", \"TTR\", \"APOA1\"],\n",
    "    \"Differentiation\": [\"KRT20\"],\n",
    "    \"Epithelial\": [\"EPCAM\"],\n",
    "    \"Desmoplastic rim\": [\"FAP\"], # from petervermeulenn paper \n",
    "    \"Immunosuppressive fibro\": [\"LOXL2\", \"STAT3\"],\n",
    "    \"Goblet\": [\"MUC2\"],\n",
    "    #\"Enteroendocrine\": [\"CHGA\",\"CHGB\"]\n",
    "\n",
    "    #\"Enteroendocrine\": [\"CHGA\",\"CHGB\"]\n",
    "}"
   ]
  },
  {
   "cell_type": "code",
   "execution_count": null,
   "metadata": {},
   "outputs": [],
   "source": [
    "# keep raw\n",
    "adata_vis.layers[\"raw\"] = adata_vis.X.copy()  # preserve counts\n",
    "\n",
    "# normalize + log1p\n",
    "sc.pp.normalize_total(adata_vis, target_sum=1e4, inplace=True)\n",
    "adata_vis.layers[\"normalised\"] = adata_vis.X.copy()\n",
    "sc.pp.log1p(adata_vis)\n",
    "\n",
    "adata_vis.layers[\"log1p\"] = adata_vis.X.copy()\n",
    "\n",
    "adata_vis.raw = adata_vis  # keep normalised log1p"
   ]
  },
  {
   "cell_type": "code",
   "execution_count": null,
   "metadata": {},
   "outputs": [],
   "source": [
    "for cellstate in gene_dict.keys():\n",
    "    \n",
    "    for visium_slide in set(adata_vis.obs[\"Sample\"]):\n",
    "        print(visium_slide)\n",
    "\n",
    "        # select one slide\n",
    "        slide = utils.select_slide(adata_vis, s=visium_slide, batch_key=\"Sample\")\n",
    "        \n",
    "        sc.pl.spatial(slide, use_raw=True, cmap='RdPu',color=gene_dict[cellstate],wspace=0.15,hspace=0.4,\n",
    "                      size=1.3, img_key='hires',alpha_img=0.3, vmin=0, vmax='p99.7',\n",
    "                      save=f\"{visium_slide}_{cellstate}_marker_genes_geneexp.pdf\"\n",
    "                     )"
   ]
  },
  {
   "cell_type": "code",
   "execution_count": null,
   "metadata": {},
   "outputs": [],
   "source": [
    "for cellstate in gene_dict.keys():\n",
    "    \n",
    "    for visium_slide in set(adata_vis.obs[\"Sample\"]):\n",
    "        print(visium_slide)\n",
    "\n",
    "        # select one slide\n",
    "        slide = utils.select_slide(adata_vis, s=visium_slide, batch_key=\"Sample\")\n",
    "        \n",
    "        sc.pl.spatial(slide, layer=\"raw\", cmap='RdPu',color=gene_dict[cellstate],wspace=0.15,hspace=0.4,\n",
    "                      size=1.3, img_key='hires',alpha_img=0.3, vmin=0, vmax='p99.2',\n",
    "                      save=f\"{visium_slide}_{cellstate}_marker_genes_mRNAcount.pdf\"\n",
    "                     )"
   ]
  },
  {
   "cell_type": "markdown",
   "metadata": {},
   "source": [
    "### plot for 1 sample cell abundance and gene exp of marker genes and mRNA counts"
   ]
  },
  {
   "cell_type": "code",
   "execution_count": null,
   "metadata": {},
   "outputs": [],
   "source": [
    "set(adata_vis.obs[\"Sample\"])"
   ]
  },
  {
   "cell_type": "code",
   "execution_count": null,
   "metadata": {},
   "outputs": [],
   "source": [
    "adata_vis.obs[\"Sample\"].cat.categories"
   ]
  },
  {
   "cell_type": "code",
   "execution_count": null,
   "metadata": {},
   "outputs": [],
   "source": [
    "# select one slide\n",
    "samp2plot = adata_vis.obs[\"Sample\"].cat.categories[0] #\"ST_LM_4\"\n",
    "slide = utils.select_slide(adata_vis, s=samp2plot, batch_key=\"Sample\")"
   ]
  },
  {
   "cell_type": "code",
   "execution_count": null,
   "metadata": {},
   "outputs": [],
   "source": [
    "# gene exp\n",
    "fig, axs = plt.subplots(nrows=1, ncols=3, figsize=(15,4))\n",
    "sc.pl.spatial(slide,cmap='Blues',color='ipEMT', ncols=3, wspace=0,\n",
    "              size=1.3,img_key='hires',alpha_img=0.3,vmin=0, vmax='p99.5',legend_loc=None,\n",
    "             show=False,ax=axs[0],title='ipEMT')\n",
    "sc.pl.spatial(slide,cmap='RdPu',color=['EMP1'], ncols=3, wspace=0,\n",
    "              size=1.3,img_key='hires',alpha_img=0.3,vmin=0, vmax='p99.7',legend_loc=None,\n",
    "             show=False,ax=axs[1],title='EMP1', use_raw=True) # \n",
    "sc.pl.spatial(slide,cmap='RdPu',color=['LAMC2'], ncols=3, wspace=0,\n",
    "              size=1.3,img_key='hires',alpha_img=0.3,vmin=0, vmax='p99.7',legend_loc=None,\n",
    "             show=False,ax=axs[2],title='LAMC2', use_raw=True)\n",
    "axs[0].set_ylabel('')\n",
    "axs[0].set_xlabel('')\n",
    "axs[1].set_ylabel('')\n",
    "axs[1].set_xlabel('')\n",
    "axs[2].set_ylabel('')\n",
    "axs[2].set_xlabel('')\n",
    "plt.tight_layout(pad=0.000)\n",
    "\n",
    "#fig.savefig(FIG2SAVE.joinpath('{FIG2SAVE}.pdf'))\n",
    "path2save = os.path.join(FIG2SAVE, f\"{samp2plot}_ipEMT_genexp_2genes.pdf\")\n",
    "print(\"Saving figure into \", path2save)\n",
    "fig.savefig(path2save, dpi=DPI, format='pdf', facecolor='w', transparent=True, edgecolor='w',\n",
    "            orientation='landscape', bbox_inches=\"tight\")\n",
    "    \n",
    "fig.show() "
   ]
  },
  {
   "cell_type": "code",
   "execution_count": null,
   "metadata": {},
   "outputs": [],
   "source": [
    "# mRNA count\n",
    "fig, axs = plt.subplots(nrows=1, ncols=3, figsize=(22,4))\n",
    "sc.pl.spatial(slide,cmap='Blues',color='ipEMT', ncols=3, wspace=0,\n",
    "              size=1.3,img_key='hires',alpha_img=0.3,vmin=0, vmax='p99.5',legend_loc=None,\n",
    "             show=False,ax=axs[0],title='ipEMT')\n",
    "sc.pl.spatial(slide,cmap='RdPu',color=['EMP1'], ncols=3, wspace=0,\n",
    "              size=1.3,img_key='hires',alpha_img=0.3,vmin=0, vmax='p99.5',legend_loc=None,\n",
    "             show=False,ax=axs[1],title='EMP1', layer=\"raw\") # \n",
    "sc.pl.spatial(slide,cmap='RdPu',color=['LAMC2'], ncols=3, wspace=0,\n",
    "              size=1.3,img_key='hires',alpha_img=0.3,vmin=0, vmax='p99.5',legend_loc=None,\n",
    "             show=False,ax=axs[2],title='LAMC2', layer=\"raw\")\n",
    "axs[0].set_ylabel('')\n",
    "axs[0].set_xlabel('')\n",
    "axs[1].set_ylabel('')\n",
    "axs[1].set_xlabel('')\n",
    "axs[2].set_ylabel('')\n",
    "axs[2].set_xlabel('')\n",
    "plt.tight_layout(pad=0.000)\n",
    "\n",
    "#fig.savefig(FIG2SAVE.joinpath('{FIG2SAVE}.pdf'))\n",
    "path2save = os.path.join(FIG2SAVE, f\"{samp2plot}_ipEMT_mRNAcount_2genes.pdf\")\n",
    "print(\"Saving figure into \", path2save)\n",
    "fig.savefig(path2save, dpi=DPI, format='pdf', facecolor='w', transparent=True, edgecolor='w',\n",
    "            orientation='landscape', bbox_inches=\"tight\")\n",
    "    \n",
    "fig.show() "
   ]
  },
  {
   "cell_type": "code",
   "execution_count": null,
   "metadata": {},
   "outputs": [],
   "source": [
    "sc.pl.spatial(slide, layer=\"raw\", cmap='RdPu',\n",
    "              color=[\"LGR5\", \"NOTUM\", \"EMP1\", \"LAMC2\", \"VEGFA\"],\n",
    "              wspace=0.15,hspace=0.4,ncols=5,\n",
    "                      size=1.3, img_key='hires',alpha_img=0.3, vmin=0, vmax='p99.2',\n",
    "                      save=f\"{samp2plot}_genes2show_mRNAcount.pdf\"\n",
    "                     )\n",
    "\n",
    "sc.pl.spatial(slide, use_raw=\"True\", cmap='RdPu',\n",
    "              color=[\"LGR5\", \"NOTUM\", \"EMP1\", \"LAMC2\", \"VEGFA\"],\n",
    "              wspace=0.15,hspace=0.4,ncols=5,\n",
    "                      size=1.3, img_key='hires',alpha_img=0.3, vmin=0, vmax='p99.2',\n",
    "                      save=f\"{samp2plot}_genes2show_geneexp.pdf\"\n",
    "                     )"
   ]
  },
  {
   "cell_type": "code",
   "execution_count": null,
   "metadata": {},
   "outputs": [],
   "source": []
  },
  {
   "cell_type": "code",
   "execution_count": null,
   "metadata": {},
   "outputs": [],
   "source": []
  }
 ],
 "metadata": {
  "kernelspec": {
   "display_name": "cell2loc19",
   "language": "python",
   "name": "cell2loc19"
  },
  "language_info": {
   "codemirror_mode": {
    "name": "ipython",
    "version": 3
   },
   "file_extension": ".py",
   "mimetype": "text/x-python",
   "name": "python",
   "nbconvert_exporter": "python",
   "pygments_lexer": "ipython3",
   "version": "3.9.13"
  }
 },
 "nbformat": 4,
 "nbformat_minor": 4
}
