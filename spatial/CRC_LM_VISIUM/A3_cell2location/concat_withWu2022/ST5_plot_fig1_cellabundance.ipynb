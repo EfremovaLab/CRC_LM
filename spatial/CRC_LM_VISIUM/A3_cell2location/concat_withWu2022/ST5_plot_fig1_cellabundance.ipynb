{
 "cells": [
  {
   "cell_type": "code",
   "execution_count": null,
   "metadata": {},
   "outputs": [],
   "source": [
    "import scanpy as sc\n",
    "import squidpy as sq\n",
    "import pandas as pd\n",
    "import numpy as np\n",
    "import matplotlib.pyplot as plt\n",
    "import matplotlib as mpl\n",
    "from collections import Counter\n",
    "from matplotlib_scalebar.scalebar import ScaleBar\n",
    "import os\n",
    "\n",
    "import cell2location\n",
    "import scvi\n",
    "\n",
    "DPI = 300\n",
    "FONTSIZE = 20  # 42\n",
    "sc.settings.set_figure_params(\n",
    "    scanpy=True, dpi=100, transparent=True, vector_friendly=True, dpi_save=DPI\n",
    ")\n",
    "from matplotlib import rcParams\n",
    "\n",
    "rcParams[\"pdf.fonttype\"] = 42\n",
    "\n",
    "import seaborn as sns\n",
    "from pathlib import Path\n",
    "\n",
    "custom_params = {\"font.size\": FONTSIZE, \"figure.dpi\": 100, \"savefig.dpi\": DPI}\n",
    "sns.set_theme(style=\"ticks\", rc=custom_params)\n",
    "\n",
    "# QC utils functions - a package\n",
    "from vistools import utils\n",
    "from vistools import spatial_plots\n",
    "from vistools import cell2loc_spatial_colours"
   ]
  },
  {
   "cell_type": "code",
   "execution_count": null,
   "metadata": {},
   "outputs": [],
   "source": [
    "SAMPLE_NAME = \"concat_withWu2022\"\n",
    "\n",
    "# DIR2SAVE\n",
    "DIR2SAVE = Path(\n",
    "    f\"/data/BCI-CRC/nasrine/data/CRC/spatial/CRC_LM_VISIUM/CRC_LM_VISIUM_04_08_09_11/cell2location/{SAMPLE_NAME}/\"\n",
    ")\n",
    "DIR2SAVE.mkdir(parents=True, exist_ok=True)\n",
    "\n",
    "run_name = DIR2SAVE.joinpath(f\"cell2location_map-no_cycling_TME/\")\n",
    "run_name.mkdir(parents=True, exist_ok=True)\n",
    "\n",
    "# figures\n",
    "FIG2SAVE = run_name.joinpath(\"figures/final/\")\n",
    "FIG2SAVE.mkdir(parents=True, exist_ok=True)\n",
    "# set the global variable: sc.settings.figdir to save all plots\n",
    "sc.settings.figdir = FIG2SAVE"
   ]
  },
  {
   "cell_type": "code",
   "execution_count": null,
   "metadata": {},
   "outputs": [],
   "source": [
    "adata_file = f\"{run_name}/sp.h5ad\"\n",
    "adata_vis = sc.read_h5ad(adata_file)\n",
    "mod = cell2location.models.Cell2location.load(f\"{run_name}\", adata_vis)"
   ]
  },
  {
   "cell_type": "markdown",
   "metadata": {},
   "source": [
    "### Visualising cell abundance in spatial coordinates\n",
    "\n",
    "We use 5% quantile of the posterior distribution, representing the value of cell abundance that the model has high confidence in (aka ‘at least this amount is present’)."
   ]
  },
  {
   "cell_type": "code",
   "execution_count": null,
   "metadata": {},
   "outputs": [],
   "source": [
    "# add 5% quantile, representing confident cell abundance, 'at least this amount is present',\n",
    "# to adata.obs with nice names for plotting\n",
    "adata_vis.obs[adata_vis.uns[\"mod\"][\"factor_names\"]] = adata_vis.obsm[\n",
    "    \"q05_cell_abundance_w_sf\"\n",
    "]\n",
    "adata_vis.uns[\"mod\"][\"factor_names\"]"
   ]
  },
  {
   "cell_type": "code",
   "execution_count": null,
   "metadata": {},
   "outputs": [],
   "source": [
    "cell2plot = \"Enteroendocrine\""
   ]
  },
  {
   "cell_type": "code",
   "execution_count": null,
   "metadata": {
    "scrolled": true
   },
   "outputs": [],
   "source": [
    "for visium_slide in set(adata_vis.obs[\"Sample\"]):\n",
    "    print(visium_slide)\n",
    "\n",
    "    # select one slide\n",
    "    slide = utils.select_slide(adata_vis, s=visium_slide, batch_key=\"Sample\")\n",
    "    \n",
    "    # get size pixel\n",
    "    lib_id = [x for x in slide.uns['spatial'].keys()][0]\n",
    "    pix_size = spatial_plots.get_pixel_size_visium(slide, lib_id)\n",
    "\n",
    "    # visualise cell locations\n",
    "    # plot in spatial coordinates\n",
    "    fig, ax = plt.subplots()\n",
    "    with mpl.rc_context({\"axes.facecolor\": \"black\", \"figure.figsize\": [4.5, 5]}):\n",
    "\n",
    "        sc.pl.spatial(\n",
    "            slide,\n",
    "            cmap=\"Blues\", #plasma RdPu PuBu\n",
    "            color=cell2plot,\n",
    "            ncols=4,\n",
    "            size=1.3,\n",
    "            img_key=\"hires\",\n",
    "            alpha_img=0.5,\n",
    "            # limit color scale at 99.2% quantile of cell abundance\n",
    "            vmin=0,\n",
    "            vmax=\"p99.4\",\n",
    "            #save=f\"{visium_slide}_{cell2plot}_4HE.pdf\",\n",
    "            show=False,\n",
    "            ax=ax\n",
    "        )\n",
    "    # add scale bar\n",
    "    #scalebar = ScaleBar(pix_size, \"um\", length_fraction=0.25, frameon=False, location='lower right')\n",
    "    #ax.add_artist(scalebar)\n",
    "    \n",
    "    fig.savefig(\n",
    "            FIG2SAVE.joinpath(f\"{visium_slide}_{cell2plot}.pdf\"),\n",
    "            dpi=DPI,\n",
    "            format=\"pdf\",\n",
    "            facecolor=\"w\",\n",
    "            transparent=True,\n",
    "            edgecolor=\"w\",\n",
    "            bbox_inches=\"tight\"\n",
    "        )  "
   ]
  },
  {
   "cell_type": "code",
   "execution_count": null,
   "metadata": {},
   "outputs": [],
   "source": [
    "for visium_slide in set(adata_vis.obs[\"Sample\"]):\n",
    "    print(visium_slide)\n",
    "\n",
    "    # select one slide\n",
    "    slide = utils.select_slide(adata_vis, s=visium_slide, batch_key=\"Sample\")\n",
    "        \n",
    "    sc.pl.spatial(slide,cmap='Blues',color=[\"Stem\", \"Stem (NOTUM high)\", \"pEMT\", \"ipEMT\", \"Hypoxia\"\n",
    "                                           ], \n",
    "                  wspace=0.2,ncols=5,\n",
    "                  size=1.3, img_key='hires',\n",
    "                  alpha_img=0.3, vmin=0, vmax='p99.4',\n",
    "                  title=[\"Stem\", \"Stem NOTUM\", \"pEMT\", \"ipEMT\", \"Hypoxia\"],\n",
    "                  save=f\"{visium_slide}_stem_pEMT_ipEMT.pdf\"\n",
    "                     )"
   ]
  },
  {
   "cell_type": "markdown",
   "metadata": {},
   "source": [
    "### get HE and scale bar"
   ]
  },
  {
   "cell_type": "code",
   "execution_count": null,
   "metadata": {},
   "outputs": [],
   "source": [
    "# assign alpha image for samples \n",
    "set(adata_vis.obs[\"Sample\"])\n",
    "alpha_name_dict = {\n",
    "    'CRC08_LM_VISIUM': (1, \"CRC08\"),\n",
    "    'CRC09_LM_VISIUM': (1, \"CRC09\"),\n",
    "    'CRC11_LM_VISIUM': (1, \"CRC11\"),\n",
    "    'P13_Liver_ST': (0.7, \"P13\"),\n",
    "    'P3_liver': (0.7, \"P3\"),\n",
    "    'ST_LM_4': (0.7, \"LM4\"),\n",
    "    \n",
    "}"
   ]
  },
  {
   "cell_type": "code",
   "execution_count": null,
   "metadata": {
    "scrolled": false
   },
   "outputs": [],
   "source": [
    "for visium_slide in set(adata_vis.obs[\"Sample\"]):\n",
    "    print(visium_slide)\n",
    "\n",
    "    # select one slide\n",
    "    slide = utils.select_slide(adata_vis, s=visium_slide, batch_key=\"Sample\")\n",
    "    \n",
    "    # get size pixel\n",
    "    lib_id = [x for x in slide.uns['spatial'].keys()][0]\n",
    "    pix_size = spatial_plots.get_pixel_size_visium(slide, lib_id)\n",
    "\n",
    "    # visualise cell locations\n",
    "    # plot in spatial coordinates\n",
    "    fig, ax = plt.subplots()\n",
    "    with mpl.rc_context({\"axes.facecolor\": \"black\", \"figure.figsize\": [4.5, 5]}):\n",
    "\n",
    "        sc.pl.spatial(\n",
    "            slide,\n",
    "            cmap=\"plasma\",\n",
    "            color=cell2plot,\n",
    "            ncols=4,\n",
    "            size=0,\n",
    "            img_key=\"hires\",\n",
    "            alpha_img=alpha_name_dict[visium_slide][0],\n",
    "            # limit color scale at 99.2% quantile of cell abundance\n",
    "            vmin=0,\n",
    "            vmax=\"p99.4\",\n",
    "            #save=f\"{visium_slide}_{cell2plot}_4HE.pdf\",\n",
    "            title=f\"{alpha_name_dict[visium_slide][1]}, H&E\",\n",
    "            show=False,\n",
    "            ax=ax\n",
    "        )\n",
    "    # add scale bar\n",
    "    scalebar = ScaleBar(pix_size, \"um\", length_fraction=0.25, frameon=False, location='lower right')\n",
    "    ax.add_artist(scalebar)\n",
    "    \n",
    "    fig.savefig(\n",
    "            FIG2SAVE.joinpath(f\"{visium_slide}_HE.pdf\"),\n",
    "            dpi=DPI,\n",
    "            format=\"pdf\",\n",
    "            facecolor=\"w\",\n",
    "            transparent=True,\n",
    "            edgecolor=\"w\",\n",
    "            bbox_inches=\"tight\"\n",
    "        )  "
   ]
  },
  {
   "cell_type": "code",
   "execution_count": null,
   "metadata": {},
   "outputs": [],
   "source": [
    "FIG2SAVE"
   ]
  },
  {
   "cell_type": "code",
   "execution_count": null,
   "metadata": {},
   "outputs": [],
   "source": []
  }
 ],
 "metadata": {
  "kernelspec": {
   "display_name": "cell2loc19",
   "language": "python",
   "name": "cell2loc19"
  },
  "language_info": {
   "codemirror_mode": {
    "name": "ipython",
    "version": 3
   },
   "file_extension": ".py",
   "mimetype": "text/x-python",
   "name": "python",
   "nbconvert_exporter": "python",
   "pygments_lexer": "ipython3",
   "version": "3.9.13"
  }
 },
 "nbformat": 4,
 "nbformat_minor": 4
}
