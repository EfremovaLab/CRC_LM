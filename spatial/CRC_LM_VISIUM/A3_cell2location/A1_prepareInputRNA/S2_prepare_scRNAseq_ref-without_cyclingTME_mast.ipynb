{
 "cells": [
  {
   "cell_type": "markdown",
   "metadata": {},
   "source": [
    "### reasoning:\n",
    "\n",
    "1. I don't know if having cycling TME is useful in the spatial data? because for example cycling T cells contains lots of subtypes of T cells. \n",
    "2. Mast cells only present in Che-Cells. Not in Wu data in the publication and not in our BCI data. Upon integration, 7 Wu cells and 1 BCI cell get annotated as Mast.\n",
    "\n",
    "So maybe we should estimate signatures without cycling TME and Mast cells"
   ]
  },
  {
   "cell_type": "code",
   "execution_count": 1,
   "metadata": {},
   "outputs": [],
   "source": [
    "import scanpy as sc\n",
    "import pandas as pd\n",
    "from pathlib import Path\n",
    "import anndata as ad\n",
    "import numpy as np\n",
    "import os\n",
    "\n",
    "%config InlineBackend.figure_format = 'retina'\n",
    "%matplotlib inline\n",
    "\n",
    "import matplotlib as mpl\n",
    "import matplotlib.pyplot as plt\n",
    "import seaborn as sns\n",
    "\n",
    "DPI = 300\n",
    "FONTSIZE = 20  # 42\n",
    "\n",
    "sc.settings.set_figure_params(\n",
    "    scanpy=True, dpi=100, transparent=True, vector_friendly=True, dpi_save=DPI\n",
    ")\n",
    "from matplotlib import rcParams\n",
    "\n",
    "rcParams[\"pdf.fonttype\"] = 42"
   ]
  },
  {
   "cell_type": "code",
   "execution_count": 2,
   "metadata": {},
   "outputs": [],
   "source": [
    "DIR2SAVE = Path(\n",
    "    \"/data/BCI-CRC/nasrine/data/CRC/spatial/CRC_LM_VISIUM/CRC_LM_VISIUM_04_08_09_11/cell2location/prepareInputRNA/\"\n",
    ")\n",
    "DIR2SAVE.mkdir(parents=True, exist_ok=True)"
   ]
  },
  {
   "cell_type": "code",
   "execution_count": 3,
   "metadata": {},
   "outputs": [],
   "source": [
    "adata_liver = sc.read_h5ad(\n",
    "    DIR2SAVE.joinpath(\"Multiome_Che_Wu_CRC_LM_annotations_raw.h5ad\")\n",
    ")"
   ]
  },
  {
   "cell_type": "code",
   "execution_count": 4,
   "metadata": {},
   "outputs": [
    {
     "data": {
      "text/plain": [
       "CD4 Th               10325\n",
       "CD8 Tem               8683\n",
       "Treg                  7655\n",
       "CD8 Tex               7531\n",
       "CD4 Th HSP            7246\n",
       "CD8 Tem HSP           6178\n",
       "CD4 Tn                4778\n",
       "SPP1 Mac              4619\n",
       "MAIT                  4463\n",
       "TA1                   4116\n",
       "CD8 Tem GZMB          3269\n",
       "NK1                   3178\n",
       "CD4 Tfh               3010\n",
       "Neutrophil            2892\n",
       "Hypoxia               2481\n",
       "NK2                   2321\n",
       "B                     2116\n",
       "NLRP3 Mac             2075\n",
       "C1QC Mac              2006\n",
       "CD4 Th17              1937\n",
       "Stem (NOTUM high)     1933\n",
       "Colonocyte            1913\n",
       "T cycling             1774\n",
       "gdT                   1761\n",
       "Plasma                1610\n",
       "cDC2                  1543\n",
       "Stem                  1400\n",
       "NKT                   1380\n",
       "Intermediate          1319\n",
       "FCN1 Mono              999\n",
       "pEMT                   998\n",
       "UPR                    759\n",
       "Kupffer                600\n",
       "PLTP LYVE1 Mac         574\n",
       "IL1B Mac               550\n",
       "Myeloid cycling        513\n",
       "ipEMT                  469\n",
       "ECM CAF                441\n",
       "HSP Mono               387\n",
       "Hepatocyte             338\n",
       "Goblet                 323\n",
       "Tip-like endo          273\n",
       "pDC                    239\n",
       "cDC1                   163\n",
       "TA2                    162\n",
       "SMC                    143\n",
       "SEC                    120\n",
       "Myofibroblast          101\n",
       "Cholangiocyte           99\n",
       "Stalk-like endo         91\n",
       "Mast                    85\n",
       "Lymphatic endo          73\n",
       "migDC                   72\n",
       "C3 iCAF                 71\n",
       "Enteroendocrine         71\n",
       "Tuft                    65\n",
       "Pericyte                30\n",
       "Name: Annotation_scVI_detailed, dtype: int64"
      ]
     },
     "execution_count": 4,
     "metadata": {},
     "output_type": "execute_result"
    }
   ],
   "source": [
    "adata_liver.obs.Annotation_scVI_detailed.value_counts()"
   ]
  },
  {
   "cell_type": "code",
   "execution_count": 5,
   "metadata": {},
   "outputs": [
    {
     "data": {
      "text/plain": [
       "(114321, 39559)"
      ]
     },
     "execution_count": 5,
     "metadata": {},
     "output_type": "execute_result"
    }
   ],
   "source": [
    "adata_liver.shape"
   ]
  },
  {
   "cell_type": "markdown",
   "metadata": {},
   "source": [
    "### Remove cycling TME"
   ]
  },
  {
   "cell_type": "code",
   "execution_count": 6,
   "metadata": {},
   "outputs": [
    {
     "data": {
      "text/plain": [
       "2287"
      ]
     },
     "execution_count": 6,
     "metadata": {},
     "output_type": "execute_result"
    }
   ],
   "source": [
    "adata_liver.obs.Annotation_scVI_detailed.str.contains(\"cycling\").sum()"
   ]
  },
  {
   "cell_type": "code",
   "execution_count": 7,
   "metadata": {},
   "outputs": [
    {
     "data": {
      "text/plain": [
       "View of AnnData object with n_obs × n_vars = 2287 × 39559\n",
       "    obs: 'Patient', 'Sample', 'Tissue', 'Therapy', 'cell_source', 'Annotation_scVI', 'Annotation_scVI_detailed', 'Annotation_source', 'technology'\n",
       "    var: 'n_cells-Nasrine', 'n_cells'"
      ]
     },
     "execution_count": 7,
     "metadata": {},
     "output_type": "execute_result"
    }
   ],
   "source": [
    "adata_liver[\n",
    "    adata_liver.obs.Annotation_scVI_detailed.isin([\"T cycling\", \"Myeloid cycling\"])\n",
    "]"
   ]
  },
  {
   "cell_type": "code",
   "execution_count": 8,
   "metadata": {},
   "outputs": [],
   "source": [
    "adata_no_cycling = adata_liver[\n",
    "    ~adata_liver.obs.Annotation_scVI_detailed.isin([\"T cycling\", \"Myeloid cycling\"])\n",
    "].copy()"
   ]
  },
  {
   "cell_type": "code",
   "execution_count": 9,
   "metadata": {},
   "outputs": [],
   "source": [
    "### save to file\n",
    "adata_no_cycling.write(\n",
    "    DIR2SAVE.joinpath(\"Multiome_Che_Wu_CRC_LM_annotations_raw_no_cycling_TME.h5ad\")\n",
    ")"
   ]
  },
  {
   "cell_type": "code",
   "execution_count": 10,
   "metadata": {},
   "outputs": [
    {
     "data": {
      "text/plain": [
       "(112034, 39559)"
      ]
     },
     "execution_count": 10,
     "metadata": {},
     "output_type": "execute_result"
    }
   ],
   "source": [
    "adata_no_cycling.shape"
   ]
  },
  {
   "cell_type": "markdown",
   "metadata": {},
   "source": [
    "### Remove mast"
   ]
  },
  {
   "cell_type": "code",
   "execution_count": 11,
   "metadata": {},
   "outputs": [
    {
     "data": {
      "text/plain": [
       "85"
      ]
     },
     "execution_count": 11,
     "metadata": {},
     "output_type": "execute_result"
    }
   ],
   "source": [
    "adata_no_cycling.obs.Annotation_scVI_detailed.str.contains(\"Mast\").sum()"
   ]
  },
  {
   "cell_type": "code",
   "execution_count": 12,
   "metadata": {},
   "outputs": [],
   "source": [
    "adata_no_cycling_mast = adata_no_cycling[\n",
    "    adata_no_cycling.obs.Annotation_scVI_detailed != \"Mast\"\n",
    "].copy()"
   ]
  },
  {
   "cell_type": "code",
   "execution_count": 13,
   "metadata": {},
   "outputs": [
    {
     "data": {
      "text/plain": [
       "(111949, 39559)"
      ]
     },
     "execution_count": 13,
     "metadata": {},
     "output_type": "execute_result"
    }
   ],
   "source": [
    "adata_no_cycling_mast.shape"
   ]
  },
  {
   "cell_type": "code",
   "execution_count": 14,
   "metadata": {},
   "outputs": [
    {
     "data": {
      "text/plain": [
       "CD4 Th               10325\n",
       "CD8 Tem               8683\n",
       "Treg                  7655\n",
       "CD8 Tex               7531\n",
       "CD4 Th HSP            7246\n",
       "CD8 Tem HSP           6178\n",
       "CD4 Tn                4778\n",
       "SPP1 Mac              4619\n",
       "MAIT                  4463\n",
       "TA1                   4116\n",
       "CD8 Tem GZMB          3269\n",
       "NK1                   3178\n",
       "CD4 Tfh               3010\n",
       "Neutrophil            2892\n",
       "Hypoxia               2481\n",
       "NK2                   2321\n",
       "B                     2116\n",
       "NLRP3 Mac             2075\n",
       "C1QC Mac              2006\n",
       "CD4 Th17              1937\n",
       "Stem (NOTUM high)     1933\n",
       "Colonocyte            1913\n",
       "gdT                   1761\n",
       "Plasma                1610\n",
       "cDC2                  1543\n",
       "Stem                  1400\n",
       "NKT                   1380\n",
       "Intermediate          1319\n",
       "FCN1 Mono              999\n",
       "pEMT                   998\n",
       "UPR                    759\n",
       "Kupffer                600\n",
       "PLTP LYVE1 Mac         574\n",
       "IL1B Mac               550\n",
       "ipEMT                  469\n",
       "ECM CAF                441\n",
       "HSP Mono               387\n",
       "Hepatocyte             338\n",
       "Goblet                 323\n",
       "Tip-like endo          273\n",
       "pDC                    239\n",
       "cDC1                   163\n",
       "TA2                    162\n",
       "SMC                    143\n",
       "SEC                    120\n",
       "Myofibroblast          101\n",
       "Cholangiocyte           99\n",
       "Stalk-like endo         91\n",
       "Lymphatic endo          73\n",
       "migDC                   72\n",
       "C3 iCAF                 71\n",
       "Enteroendocrine         71\n",
       "Tuft                    65\n",
       "Pericyte                30\n",
       "Name: Annotation_scVI_detailed, dtype: int64"
      ]
     },
     "execution_count": 14,
     "metadata": {},
     "output_type": "execute_result"
    }
   ],
   "source": [
    "adata_no_cycling_mast.obs.Annotation_scVI_detailed.value_counts()"
   ]
  },
  {
   "cell_type": "code",
   "execution_count": 15,
   "metadata": {},
   "outputs": [],
   "source": [
    "adata_no_cycling_mast.write(\n",
    "    DIR2SAVE.joinpath(\n",
    "        \"Multiome_Che_Wu_CRC_LM_annotations_raw_no_cycling_TME_no_Mast.h5ad\"\n",
    "    )\n",
    ")"
   ]
  },
  {
   "cell_type": "code",
   "execution_count": null,
   "metadata": {},
   "outputs": [],
   "source": []
  }
 ],
 "metadata": {
  "kernelspec": {
   "display_name": "cell2loc19",
   "language": "python",
   "name": "cell2loc19"
  },
  "language_info": {
   "codemirror_mode": {
    "name": "ipython",
    "version": 3
   },
   "file_extension": ".py",
   "mimetype": "text/x-python",
   "name": "python",
   "nbconvert_exporter": "python",
   "pygments_lexer": "ipython3",
   "version": "3.9.13"
  }
 },
 "nbformat": 4,
 "nbformat_minor": 4
}
