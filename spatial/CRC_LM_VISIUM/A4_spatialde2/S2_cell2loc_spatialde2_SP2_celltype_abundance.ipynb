{
 "cells": [
  {
   "cell_type": "code",
   "execution_count": null,
   "metadata": {},
   "outputs": [],
   "source": [
    "from pathlib import Path\n",
    "import scanpy as sc\n",
    "import cell2location\n",
    "import matplotlib.pyplot as plt\n",
    "\n",
    "DPI = 300\n",
    "FONTSIZE = 20  # 42\n",
    "sc.settings.set_figure_params(\n",
    "    scanpy=True, dpi=100, transparent=True, vector_friendly=True, dpi_save=DPI\n",
    ")\n",
    "from matplotlib import rcParams\n",
    "\n",
    "rcParams[\"pdf.fonttype\"] = 42\n",
    "\n",
    "from vistools import utils"
   ]
  },
  {
   "cell_type": "markdown",
   "metadata": {},
   "source": [
    "### Load data obtained by segmentation on cell2location counts\n",
    "\n",
    "SpatialDE2 region segmentation combined with cell type count estimates obtained from computational deconvolution method that leverage annotated scRNA-seq dataset to estimate cell type abundance\n",
    "\n",
    "We use the absolute amount of mRNA contributed by each cell type to each spot. We leverage the 5% percentile of the posterior distribution of this parameter (mRNA counts), representing the number of mRNA molecules confidently assigned to each cell type.\n",
    "\n",
    "**Segmentation**: *aims to assign a cluster label to each location based on its gene expression profile and the identity of its neighboring locations, with the underlying assumption that neighboring locations likely have the same label, i.e. the segmentation should be spatially smooth.*"
   ]
  },
  {
   "cell_type": "code",
   "execution_count": null,
   "metadata": {},
   "outputs": [],
   "source": [
    "SAMPLE_NAME = \"concat_withWu2022\"\n",
    "optimal_s = 1.2 #1.2  # 1 1.2 1.5 2"
   ]
  },
  {
   "cell_type": "code",
   "execution_count": null,
   "metadata": {},
   "outputs": [],
   "source": [
    "# store results\n",
    "DIR2SAVE = Path(\n",
    "    f\"/data/BCI-CRC/nasrine/data/CRC/spatial/CRC_LM_VISIUM/CRC_LM_VISIUM_04_08_09_11/cell2loc_spatialde2/{SAMPLE_NAME}\"\n",
    ")  # to change\n",
    "DIR2SAVE.mkdir(parents=True, exist_ok=True)"
   ]
  },
  {
   "cell_type": "code",
   "execution_count": null,
   "metadata": {},
   "outputs": [],
   "source": [
    "# figures\n",
    "FIG2SAVE = DIR2SAVE.joinpath(\"figures/\")\n",
    "FIG2SAVE.mkdir(parents=True, exist_ok=True)\n",
    "# set the global variable: sc.settings.figdir to save all plots\n",
    "sc.settings.figdir = FIG2SAVE"
   ]
  },
  {
   "cell_type": "code",
   "execution_count": null,
   "metadata": {},
   "outputs": [],
   "source": [
    "cell2loc_counts = sc.read_h5ad(\n",
    "    DIR2SAVE.joinpath(f\"sp_segmentation_smoothness{optimal_s}.h5ad\")\n",
    ")"
   ]
  },
  {
   "cell_type": "code",
   "execution_count": null,
   "metadata": {},
   "outputs": [],
   "source": [
    "cell2loc_counts"
   ]
  },
  {
   "cell_type": "code",
   "execution_count": null,
   "metadata": {},
   "outputs": [],
   "source": [
    "cell2loc_counts.obs.Sample.value_counts()"
   ]
  },
  {
   "cell_type": "code",
   "execution_count": null,
   "metadata": {},
   "outputs": [],
   "source": [
    "cell2loc_counts.obs"
   ]
  },
  {
   "cell_type": "raw",
   "metadata": {},
   "source": [
    "# load in gene matrix so we get sample name?\n",
    "cell2loc_genexp = sc.read_h5ad(\n",
    "    f\"/data/BCI-CRC/nasrine/data/CRC/spatial/CRC_LM_VISIUM/CRC_LM_VISIUM_04_08_09_11/cell2location/{SAMPLE_NAME}/cell2location_map-no_cycling_TME/sp.h5ad\"\n",
    ")"
   ]
  },
  {
   "cell_type": "raw",
   "metadata": {},
   "source": [
    "cell2loc_genexp.obs"
   ]
  },
  {
   "cell_type": "raw",
   "metadata": {},
   "source": [
    "# merge to gene exp to get sample and samplename\n",
    "cell2loc_counts.obs = cell2loc_counts.obs.merge(right=cell2loc_genexp.obs[[\"Sample\"]],\n",
    "                          how=\"left\",\n",
    "                          left_index=True,\n",
    "                          right_index=True\n",
    "                         )"
   ]
  },
  {
   "cell_type": "code",
   "execution_count": null,
   "metadata": {},
   "outputs": [],
   "source": [
    "cell2loc_counts.obs"
   ]
  },
  {
   "cell_type": "code",
   "execution_count": null,
   "metadata": {},
   "outputs": [],
   "source": [
    "cell2loc_counts"
   ]
  },
  {
   "cell_type": "code",
   "execution_count": null,
   "metadata": {},
   "outputs": [],
   "source": [
    "cell2loc_counts.obs.segmentation_labels.cat.categories"
   ]
  },
  {
   "cell_type": "markdown",
   "metadata": {},
   "source": [
    "#### add colour to segmentation labels so that it is the same colour for the same label across all visium samples"
   ]
  },
  {
   "cell_type": "code",
   "execution_count": null,
   "metadata": {},
   "outputs": [],
   "source": [
    "cell2loc_counts.uns[\"segmentation_labels_colors\"] = [\n",
    "    \"#fdb462\", #0\n",
    "    \"#FCCDE5\", #1\n",
    "    \"#FB8072\", #2\n",
    "    \"#e78ac3\", #3\n",
    "    \"#67A9CF\", #4\n",
    "    \"#feed8b\", #5\n",
    "    \"#1f78b4\", #6\n",
    "    \"#91CF60\", #7 \n",
    "    \"#b3ffff\", #8 \n",
    "    \"#33a02c\" #9\n",
    "] "
   ]
  },
  {
   "cell_type": "code",
   "execution_count": null,
   "metadata": {
    "scrolled": false
   },
   "outputs": [],
   "source": [
    "for samp in set(cell2loc_counts.obs.Sample):\n",
    "    slide = utils.select_slide(cell2loc_counts, s=samp, batch_key=\"Sample\")\n",
    "    sc.pl.spatial(\n",
    "        slide,\n",
    "        color=f\"segmentation_labels\",\n",
    "        show=True,\n",
    "        alpha_img=0.3,\n",
    "        size=1.3,\n",
    "        title=\"\",\n",
    "        save=f\"{samp}_regions_s{optimal_s}.pdf\",\n",
    "    )"
   ]
  },
  {
   "cell_type": "code",
   "execution_count": null,
   "metadata": {},
   "outputs": [],
   "source": [
    "set(cell2loc_counts.obs.Sample)"
   ]
  },
  {
   "cell_type": "code",
   "execution_count": null,
   "metadata": {
    "scrolled": true
   },
   "outputs": [],
   "source": [
    "cell2loc_counts.obs.segmentation_labels.value_counts()"
   ]
  },
  {
   "cell_type": "markdown",
   "metadata": {},
   "source": [
    "### compute average abundance of each region cluster\n",
    "\n",
    "Figure shows cell type groups enriched in regions on Visium ST slide. Normalised average cell abundance (dot size and color) for cell types annotated through scRNA-seq analysis across the regions obtained through segmentation using SpatialDE2. "
   ]
  },
  {
   "cell_type": "code",
   "execution_count": null,
   "metadata": {},
   "outputs": [],
   "source": [
    "# compute average abundance of each region cluster\n",
    "# fct returns pd.DataFrame of cluster average expression of each gene, here we use celltype instead of gene\n",
    "from cell2location.cluster_averages.cluster_averages import get_cluster_averages_df\n",
    "from cell2location.plt.plot_heatmap import clustermap\n",
    "\n",
    "# select only columns that are cell type names\n",
    "ct_average = get_cluster_averages_df(\n",
    "    X=cell2loc_counts.obs[[i for i in cell2loc_counts.uns[\"mod\"][\"factor_names\"]]],\n",
    "    cluster_col=cell2loc_counts.obs[\"segmentation_labels\"],\n",
    ")\n",
    "# ct_average.index = adata_vis.uns['mod']['factor_names']\n",
    "\n",
    "# to get proportion of cell types in each region, need to normalise by max value of each region?\n",
    "\n",
    "# normalise average abudance of each cell type by region:\n",
    "# to get proportion of cell types in each region, need to normalise by max value of each celltype across regions?\n",
    "# transpose for plotting\n",
    "ct_average_norm = (ct_average.T / ct_average.max(1)).T"
   ]
  },
  {
   "cell_type": "code",
   "execution_count": null,
   "metadata": {},
   "outputs": [],
   "source": [
    "clustermap(\n",
    "    ct_average_norm,\n",
    "    cluster_rows=False,\n",
    "    cluster_cols=True,\n",
    "    figure_size=[20, 15],\n",
    "    # figure_size=[5.9 + 0.12 * mod_sk.n_fact, 5.9 + 0.1 * mod_sk.n_var],\n",
    "    fun_type=\"dotplot\",\n",
    "    array_size=None,\n",
    "    cmap= \"GnBu\", #\"PuBuGn\",\n",
    ")  # cmap='RdBu'\n",
    "plt.savefig(\n",
    "    f\"{FIG2SAVE}/celltype_mRNAcount_region_smoothness{optimal_s}.pdf\",\n",
    "    bbox_inches=\"tight\",\n",
    "    dpi=DPI\n",
    ")\n",
    "plt.show()"
   ]
  },
  {
   "cell_type": "markdown",
   "metadata": {},
   "source": [
    "### plotting transposed version so colour bar is smaller"
   ]
  },
  {
   "cell_type": "code",
   "execution_count": null,
   "metadata": {},
   "outputs": [],
   "source": [
    "clustermap(\n",
    "    ct_average_norm.T,\n",
    "    cluster_rows=False,\n",
    "    cluster_cols=True,\n",
    "    figure_size=[17, 4.5],\n",
    "    # figure_size=[5.9 + 0.12 * mod_sk.n_fact, 5.9 + 0.1 * mod_sk.n_var],\n",
    "    fun_type=\"dotplot\",\n",
    "    array_size=None,\n",
    "    equal=True,\n",
    "    cmap=\"GnBu\",\n",
    ")  # cmap='PuBu'\n",
    "plt.savefig(\n",
    "    f\"{FIG2SAVE}/celltype_mRNAcount_region_smoothness{optimal_s}_transposed.pdf\",\n",
    "    bbox_inches=\"tight\",\n",
    "    facecolor='white',\n",
    "    dpi=DPI\n",
    ")\n",
    "plt.show()"
   ]
  },
  {
   "cell_type": "code",
   "execution_count": null,
   "metadata": {},
   "outputs": [],
   "source": [
    "FIG2SAVE"
   ]
  },
  {
   "cell_type": "code",
   "execution_count": null,
   "metadata": {},
   "outputs": [],
   "source": []
  }
 ],
 "metadata": {
  "kernelspec": {
   "display_name": "cell2loc19",
   "language": "python",
   "name": "cell2loc19"
  },
  "language_info": {
   "codemirror_mode": {
    "name": "ipython",
    "version": 3
   },
   "file_extension": ".py",
   "mimetype": "text/x-python",
   "name": "python",
   "nbconvert_exporter": "python",
   "pygments_lexer": "ipython3",
   "version": "3.9.13"
  }
 },
 "nbformat": 4,
 "nbformat_minor": 4
}
