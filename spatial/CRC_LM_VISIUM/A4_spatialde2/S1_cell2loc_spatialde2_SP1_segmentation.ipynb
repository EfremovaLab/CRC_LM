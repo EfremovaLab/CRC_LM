{
 "cells": [
  {
   "cell_type": "code",
   "execution_count": null,
   "metadata": {},
   "outputs": [],
   "source": [
    "import SpatialDE\n",
    "\n",
    "import numpy as np\n",
    "import scipy\n",
    "import pandas as pd\n",
    "import scanpy as sc\n",
    "import anndata as ad\n",
    "\n",
    "from tqdm.auto import trange, tqdm\n",
    "\n",
    "from pathlib import Path\n",
    "\n",
    "DPI = 300\n",
    "FONTSIZE = 20  # 42\n",
    "sc.settings.set_figure_params(\n",
    "    scanpy=True, dpi=100, transparent=True, vector_friendly=True, dpi_save=DPI\n",
    ")\n",
    "from matplotlib import rcParams\n",
    "\n",
    "rcParams[\"pdf.fonttype\"] = 42"
   ]
  },
  {
   "cell_type": "markdown",
   "metadata": {},
   "source": [
    "Use spatialde2 combined with cell type count estimates obtained from computational deconvolution workflows that leverage reference scRNA-seq datasets to estimate cell type abundance"
   ]
  },
  {
   "cell_type": "code",
   "execution_count": null,
   "metadata": {},
   "outputs": [],
   "source": [
    "SAMPLE_NAME = \"concat_withWu2022\""
   ]
  },
  {
   "cell_type": "code",
   "execution_count": null,
   "metadata": {},
   "outputs": [],
   "source": [
    "# store results\n",
    "DIR2SAVE = Path(\n",
    "    f\"/data/BCI-CRC/nasrine/data/CRC/spatial/CRC_LM_VISIUM/CRC_LM_VISIUM_04_08_09_11/cell2loc_spatialde2/{SAMPLE_NAME}\"\n",
    ")  # to change\n",
    "DIR2SAVE.mkdir(parents=True, exist_ok=True)"
   ]
  },
  {
   "cell_type": "code",
   "execution_count": null,
   "metadata": {},
   "outputs": [],
   "source": [
    "# figures\n",
    "FIG2SAVE = DIR2SAVE.joinpath(\"figures/\")\n",
    "FIG2SAVE.mkdir(parents=True, exist_ok=True)\n",
    "# set the global variable: sc.settings.figdir to save all plots\n",
    "sc.settings.figdir = FIG2SAVE"
   ]
  },
  {
   "cell_type": "markdown",
   "metadata": {},
   "source": [
    "### load cell2location output "
   ]
  },
  {
   "cell_type": "code",
   "execution_count": null,
   "metadata": {},
   "outputs": [],
   "source": [
    "cell2loc_data = sc.read_h5ad(\n",
    "    f\"/data/BCI-CRC/nasrine/data/CRC/spatial/CRC_LM_VISIUM/CRC_LM_VISIUM_04_08_09_11/cell2location/{SAMPLE_NAME}/cell2location_map-no_cycling_TME/sp.h5ad\"\n",
    ")"
   ]
  },
  {
   "cell_type": "code",
   "execution_count": null,
   "metadata": {},
   "outputs": [],
   "source": [
    "cell2loc_data"
   ]
  },
  {
   "cell_type": "markdown",
   "metadata": {},
   "source": [
    "### add mRNA abundance as dataframe to adata.obsm"
   ]
  },
  {
   "cell_type": "markdown",
   "metadata": {},
   "source": [
    "We use the absolute amount of mRNA contributed by each cell type to each spot. We leverage the 5% percentile of the posterior distribution of this parameter (mRNA counts), representing the number of mRNA molecules confidently assigned to each cell type."
   ]
  },
  {
   "cell_type": "code",
   "execution_count": null,
   "metadata": {},
   "outputs": [],
   "source": [
    "cell2loc_data.obsm[\"q05_mRNA_abundance_u_sf\"] = pd.DataFrame(\n",
    "    cell2loc_data.uns[\"mod\"][\"post_sample_q05\"][\"u_sf_mRNA_factors\"],\n",
    "    index=cell2loc_data.obs_names,\n",
    "    columns=[\n",
    "        f\"q05_mRNA_abundance_u_sf_{i}\" for i in cell2loc_data.uns[\"mod\"][\"factor_names\"]\n",
    "    ],\n",
    ")"
   ]
  },
  {
   "cell_type": "code",
   "execution_count": null,
   "metadata": {},
   "outputs": [],
   "source": [
    "cell2loc_data.obsm[\"q05_mRNA_abundance_u_sf\"]"
   ]
  },
  {
   "cell_type": "markdown",
   "metadata": {},
   "source": [
    "## Prepare input to spatialDE2 using cell type counts provided from cell2location\n",
    "#### create a dataframe of the mRNA abundance\n",
    "\n",
    "mRNA abundance is scaled by the total RNA content of every cell type, computed using the reference cell-type signatures provided to the model scaled by the difference between technologies\n",
    "\n",
    "* add the mRNA abundance as X (make the abundance an integer because we need counts for the model)\n",
    "* add the spot barcodes as .obs index\n",
    "* add the cell type names as .var index \n",
    "* copy other stuff from the visium slide"
   ]
  },
  {
   "cell_type": "code",
   "execution_count": null,
   "metadata": {},
   "outputs": [],
   "source": [
    "# create a dataframe\n",
    "cell2loc_input = ad.AnnData(\n",
    "    X=cell2loc_data.obsm[\"q05_mRNA_abundance_u_sf\"].to_numpy().round().astype(np.int32),\n",
    "    obs=pd.DataFrame(\n",
    "        data=cell2loc_data.uns[\"mod\"][\"post_sample_q05\"][\"u_sf_mRNA_factors\"]\n",
    "        .round()\n",
    "        .astype(np.int32),\n",
    "        index=cell2loc_data.obs_names,\n",
    "        columns=[f\"{i}\" for i in cell2loc_data.uns[\"mod\"][\"factor_names\"]],\n",
    "    ),\n",
    "    var=pd.DataFrame(index=cell2loc_data.uns[\"mod\"][\"factor_names\"]),\n",
    "    uns=cell2loc_data.uns,\n",
    "    obsm=cell2loc_data.obsm,\n",
    ")"
   ]
  },
  {
   "cell_type": "code",
   "execution_count": null,
   "metadata": {},
   "outputs": [],
   "source": [
    "cell2loc_input.obs"
   ]
  },
  {
   "cell_type": "markdown",
   "metadata": {},
   "source": [
    "### Tissue segmentation\n",
    "\n",
    "*aims to assign a cluster label to each location based on its gene expression profile and the identity of its neighboring locations, with the underlying assumption that neighboring locations likely have the same label, i.e. the segmentation should be spatially smooth.*"
   ]
  },
  {
   "cell_type": "code",
   "execution_count": null,
   "metadata": {},
   "outputs": [],
   "source": [
    "smoothness_param = [0.1, 0.2, 0.5, 0.7, 1, 1.2, 1.5, 2, 2.2, 2.3, 2.5, 3]"
   ]
  },
  {
   "cell_type": "code",
   "execution_count": null,
   "metadata": {
    "scrolled": false
   },
   "outputs": [],
   "source": [
    "for s in smoothness_param:\n",
    "    print(f\"-- Segmentation with s={s}\")\n",
    "    c2l_segm, _ = SpatialDE.tissue_segmentation(\n",
    "        adata=cell2loc_input,\n",
    "        rng=np.random.default_rng(seed=42),\n",
    "        params=SpatialDE.TissueSegmentationParameters(smoothness_factor=s),\n",
    "    )\n",
    "\n",
    "    # sc.pl.spatial(cell2loc_input, color=f\"segmentation_labels\")\n",
    "\n",
    "    print(cell2loc_input.obs.segmentation_labels.value_counts())"
   ]
  },
  {
   "cell_type": "markdown",
   "metadata": {},
   "source": [
    "### chose optimal parameter "
   ]
  },
  {
   "cell_type": "code",
   "execution_count": null,
   "metadata": {},
   "outputs": [],
   "source": [
    "optimal_s = 1.2 # fom 1.2 to 2.3"
   ]
  },
  {
   "cell_type": "code",
   "execution_count": null,
   "metadata": {},
   "outputs": [],
   "source": [
    "c2l_segm, _ = SpatialDE.tissue_segmentation(\n",
    "    adata=cell2loc_input,\n",
    "    rng=np.random.default_rng(seed=42),\n",
    "    params=SpatialDE.TissueSegmentationParameters(smoothness_factor=optimal_s),\n",
    ")"
   ]
  },
  {
   "cell_type": "markdown",
   "metadata": {},
   "source": [
    "#### Number of spots per region"
   ]
  },
  {
   "cell_type": "code",
   "execution_count": null,
   "metadata": {},
   "outputs": [],
   "source": [
    "cell2loc_input.obs.segmentation_labels.value_counts()"
   ]
  },
  {
   "cell_type": "markdown",
   "metadata": {},
   "source": [
    "### save file "
   ]
  },
  {
   "cell_type": "code",
   "execution_count": null,
   "metadata": {},
   "outputs": [],
   "source": [
    "cell2loc_input.write(DIR2SAVE.joinpath(f\"sp_segmentation_smoothness{optimal_s}.h5ad\"))"
   ]
  },
  {
   "cell_type": "code",
   "execution_count": null,
   "metadata": {},
   "outputs": [],
   "source": [
    "optimal_s"
   ]
  },
  {
   "cell_type": "code",
   "execution_count": null,
   "metadata": {},
   "outputs": [],
   "source": []
  }
 ],
 "metadata": {
  "kernelspec": {
   "display_name": "spatialde2",
   "language": "python",
   "name": "spatialde2"
  },
  "language_info": {
   "codemirror_mode": {
    "name": "ipython",
    "version": 3
   },
   "file_extension": ".py",
   "mimetype": "text/x-python",
   "name": "python",
   "nbconvert_exporter": "python",
   "pygments_lexer": "ipython3",
   "version": "3.9.13"
  }
 },
 "nbformat": 4,
 "nbformat_minor": 4
}
