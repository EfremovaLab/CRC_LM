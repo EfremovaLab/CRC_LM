{
 "cells": [
  {
   "cell_type": "markdown",
   "metadata": {},
   "source": [
    "### Neighborhood enrichment\n",
    "\n",
    "Computing a neighborhood enrichment can help us identify spots clusters that share a common neighborhood structure across the tissue. We can compute such score with the following function: squidpy.gr.nhood_enrichment(). In short, it’s an enrichment score on spatial proximity of clusters: if spots belonging to two different clusters are often close to each other, then they will have a high score and can be defined as being enriched. On the other hand, if they are far apart, and therefore are seldom a neighborhood, the score will be low and they can be defined as depleted. This score is based on a permutation-based test, and you can set the number of permutations with the n_perms argument (default is 1000)."
   ]
  },
  {
   "cell_type": "code",
   "execution_count": null,
   "metadata": {},
   "outputs": [],
   "source": [
    "from pathlib import Path\n",
    "import scanpy as sc\n",
    "import squidpy\n",
    "\n",
    "import matplotlib.pyplot as plt\n",
    "DPI = 300\n",
    "FONTSIZE = 20  # 42\n",
    "sc.settings.set_figure_params(\n",
    "    scanpy=True, dpi=100, transparent=True, vector_friendly=True, dpi_save=DPI\n",
    ")\n",
    "from matplotlib import rcParams\n",
    "\n",
    "rcParams[\"pdf.fonttype\"] = 42\n",
    "\n",
    "from vistools import utils"
   ]
  },
  {
   "cell_type": "code",
   "execution_count": null,
   "metadata": {},
   "outputs": [],
   "source": [
    "SAMPLE_NAME = \"concat_withWu2022\""
   ]
  },
  {
   "cell_type": "code",
   "execution_count": null,
   "metadata": {},
   "outputs": [],
   "source": [
    "s = 1.2 # smoothness param from spatialde2"
   ]
  },
  {
   "cell_type": "code",
   "execution_count": null,
   "metadata": {},
   "outputs": [],
   "source": [
    "DIR2LOAD = Path(f\"/data/BCI-CRC/nasrine/data/CRC/spatial/CRC_LM_VISIUM/CRC_LM_VISIUM_04_08_09_11/cell2loc_spatialde2/{SAMPLE_NAME}\")"
   ]
  },
  {
   "cell_type": "code",
   "execution_count": null,
   "metadata": {},
   "outputs": [],
   "source": [
    "# store results\n",
    "DIR2SAVE = Path(\n",
    "    f\"/data/BCI-CRC/nasrine/data/CRC/spatial/CRC_LM_VISIUM/CRC_LM_VISIUM_04_08_09_11/neighborhood_enrichment/{SAMPLE_NAME}\"\n",
    ")  # to change\n",
    "DIR2SAVE.mkdir(parents=True, exist_ok=True)"
   ]
  },
  {
   "cell_type": "code",
   "execution_count": null,
   "metadata": {},
   "outputs": [],
   "source": [
    "# figures\n",
    "FIG2SAVE = DIR2SAVE.joinpath(\"figures/\")\n",
    "FIG2SAVE.mkdir(parents=True, exist_ok=True)\n",
    "# set the global variable: sc.settings.figdir to save all plots\n",
    "sc.settings.figdir = FIG2SAVE"
   ]
  },
  {
   "cell_type": "markdown",
   "metadata": {},
   "source": [
    "### Rationale:\n",
    "\n",
    "I-ve run spatialde2 on cell2loc cell abundance estimates (use the absolute amount of mRNA contributed by each cell type to each spot. We leverage the 5% percentile of the posterior distribution of this parameter (mRNA counts), representing the number of mRNA molecules confidently assigned to each cell type.) over all samples jointly. Observed that some clusters are not seen across all samples. I thought this approach could identify some common clusters (structure) across samples. \n",
    "\n",
    "Now I-m looking into building spatial graphs: nodes = spots, edges = neighbourhood relations between spots\n",
    "\n",
    "it-s a bit tricky when you look at multiple slides at once.\n",
    "\n",
    "* step 1: create a graph from the spatial coordinates using squidpy.gr.spatial_neighbors but a bit tricky if you have multiple slides as each slide has the same coordinates >> `library_key` in `:func:squidpy.gr.spatial_neighbors` to support building graphs across multiple slides"
   ]
  },
  {
   "cell_type": "code",
   "execution_count": null,
   "metadata": {},
   "outputs": [],
   "source": [
    "cell2loc_counts = sc.read_h5ad(\n",
    "    DIR2LOAD.joinpath(f\"sp_segmentation_smoothness{s}.h5ad\")\n",
    ")"
   ]
  },
  {
   "cell_type": "code",
   "execution_count": null,
   "metadata": {},
   "outputs": [],
   "source": [
    "cell2loc_counts.obs.segmentation_labels.value_counts()"
   ]
  },
  {
   "cell_type": "markdown",
   "metadata": {},
   "source": [
    "#### add colour to segmentation labels so that it is the same colour for the same label across all visium samples"
   ]
  },
  {
   "cell_type": "code",
   "execution_count": null,
   "metadata": {},
   "outputs": [],
   "source": [
    "cell2loc_counts.uns[\"segmentation_labels_colors\"] = [\n",
    "    \"#fdb462\", #0\n",
    "    \"#FCCDE5\", #1\n",
    "    \"#FB8072\", #2\n",
    "    \"#e78ac3\", #3\n",
    "    \"#67A9CF\", #4\n",
    "    \"#feed8b\", #5\n",
    "    \"#1f78b4\", #6\n",
    "    \"#91CF60\", #7 \n",
    "    \"#b3ffff\", #8 \n",
    "    \"#33a02c\" #9\n",
    "] "
   ]
  },
  {
   "cell_type": "markdown",
   "metadata": {},
   "source": [
    "### Idea rename cluster key segmentatio_labels to regions or microenvironments"
   ]
  },
  {
   "cell_type": "code",
   "execution_count": null,
   "metadata": {},
   "outputs": [],
   "source": [
    "cell2loc_counts.obs.rename(columns={\"segmentation_labels\":\"Microenvs\"}, inplace=True)"
   ]
  },
  {
   "cell_type": "code",
   "execution_count": null,
   "metadata": {},
   "outputs": [],
   "source": [
    "cell2loc_counts.uns[\"Microenvs_colors\"] = cell2loc_counts.uns[\"segmentation_labels_colors\"]"
   ]
  },
  {
   "cell_type": "markdown",
   "metadata": {},
   "source": [
    "Since the function works on a connectivity matrix, we need to compute that as well. This can be done with squidpy.gr.spatial_neighbors()"
   ]
  },
  {
   "cell_type": "markdown",
   "metadata": {},
   "source": [
    "Spatial graph is a graph of spatial neighbors with observations as nodes and neighbor-hood relations between observations as edges. We use spatial coordinates of spots/cells to identify neighbors among them. "
   ]
  },
  {
   "cell_type": "markdown",
   "metadata": {},
   "source": [
    "We use squidpy.gr.spatial_neighbors() for this. The function expects coord_type = 'visium' by default. We set this parameter here explicitly for clarity. n_rings should be used only for Visium datasets. It specifies for each spot how many hexagonal rings of spots around will be considered neighbors."
   ]
  },
  {
   "cell_type": "code",
   "execution_count": null,
   "metadata": {},
   "outputs": [],
   "source": [
    "squidpy.gr.spatial_neighbors(cell2loc_counts, \n",
    "                             spatial_key=\"spatial\",\n",
    "                             n_rings= 4, #2 before we were setting it to 2, \n",
    "                             coord_type=\"grid\", \n",
    "                             n_neighs=6,\n",
    "                             library_key=\"Sample\"\n",
    "                            )"
   ]
  },
  {
   "cell_type": "markdown",
   "metadata": {},
   "source": [
    "The function builds a spatial graph and saves its adjacency matrix to adata.obsp['spatial_connectivities'] and weighted adjacency matrix to adata.obsp['spatial_distances'] by default. Note that it can also build a a graph from a square grid, just set n_neighs = 4."
   ]
  },
  {
   "cell_type": "markdown",
   "metadata": {},
   "source": [
    "**Compute neighborhood enrichment by permutation test.**\n",
    "\n",
    "A permutation test example: \n",
    "\n",
    "do Biology majors spend more on average than sociology majors?"
   ]
  },
  {
   "cell_type": "code",
   "execution_count": null,
   "metadata": {},
   "outputs": [],
   "source": [
    "squidpy.gr.nhood_enrichment(cell2loc_counts,\n",
    "                            #connectivity_key=\"spatial_connectivities\",\n",
    "                            cluster_key=\"Microenvs\", #\"segmentation_labels\", \n",
    "                            n_perms=3000,\n",
    "                            seed=7\n",
    "                           )"
   ]
  },
  {
   "cell_type": "code",
   "execution_count": null,
   "metadata": {},
   "outputs": [],
   "source": [
    "fig = squidpy.pl.nhood_enrichment(\n",
    "    cell2loc_counts,\n",
    "    cluster_key=\"Microenvs\", #\"segmentation_labels\",\n",
    "    cmap=\"coolwarm\",\n",
    "    title=\"Neighborhood enrichment\",\n",
    "    mode=\"zscore\",\n",
    "    method=\"ward\",\n",
    "    dpi=300,\n",
    "    #figsize=(5, 4),\n",
    "#     save=\"nhod_seqfish.png\",\n",
    "    cbar_kwargs={\"label\": \"Z-score\"},\n",
    "    vmin=-10,\n",
    "    vmax=10,\n",
    "    n_perms=10000,\n",
    "    seed=7\n",
    ")\n",
    "\n",
    "plt.savefig(\n",
    "        FIG2SAVE.joinpath(f\"{SAMPLE_NAME}_neighbourhood_enrichment_cell2loc_spatialde2_s{s}.pdf\"),\n",
    "        dpi=DPI,\n",
    "        format=\"pdf\",\n",
    "        facecolor=\"w\",\n",
    "        transparent=True,\n",
    "        edgecolor=\"w\",\n",
    "        bbox_inches=\"tight\"\n",
    "    ) "
   ]
  },
  {
   "cell_type": "code",
   "execution_count": null,
   "metadata": {},
   "outputs": [],
   "source": [
    "fig = squidpy.pl.nhood_enrichment(\n",
    "    cell2loc_counts,\n",
    "    cluster_key=\"Microenvs\", #\"segmentation_labels\",\n",
    "    cmap=\"coolwarm\",\n",
    "    title=\"Neighborhood enrichment\",\n",
    "    mode=\"zscore\",\n",
    "    method=\"ward\",\n",
    "    dpi=300,\n",
    "    #figsize=(5, 4),\n",
    "#     save=\"nhod_seqfish.png\",\n",
    "    cbar_kwargs={\"label\": \"Z-score\"},\n",
    "    vmin=-50,\n",
    "    vmax=50,\n",
    "    n_perms=10000,\n",
    "    seed=7\n",
    ")\n",
    "\n",
    "plt.savefig(\n",
    "        FIG2SAVE.joinpath(f\"{SAMPLE_NAME}_neighbourhood_enrichment_cell2loc_spatialde2_s{s}_50.pdf\"),\n",
    "        dpi=DPI,\n",
    "        format=\"pdf\",\n",
    "        facecolor=\"w\",\n",
    "        transparent=True,\n",
    "        edgecolor=\"w\",\n",
    "        bbox_inches=\"tight\"\n",
    "    ) "
   ]
  },
  {
   "cell_type": "markdown",
   "metadata": {},
   "source": [
    "https://github.com/scverse/squidpy/issues/457"
   ]
  },
  {
   "cell_type": "code",
   "execution_count": null,
   "metadata": {},
   "outputs": [],
   "source": [
    "squidpy.gr.spatial_neighbors(cell2loc_counts, \n",
    "                             spatial_key=\"spatial\",\n",
    "                             n_rings=2,  \n",
    "                             coord_type=\"grid\", \n",
    "                             n_neighs=6,\n",
    "                             library_key=\"Sample\"\n",
    "                            )"
   ]
  },
  {
   "cell_type": "code",
   "execution_count": null,
   "metadata": {},
   "outputs": [],
   "source": [
    "squidpy.gr.nhood_enrichment(cell2loc_counts,\n",
    "                            #connectivity_key=\"spatial_connectivities\",\n",
    "                            cluster_key=\"Microenvs\", #\"segmentation_labels\", \n",
    "                            n_perms=3000,\n",
    "                            seed=7\n",
    "                           )"
   ]
  },
  {
   "cell_type": "code",
   "execution_count": null,
   "metadata": {},
   "outputs": [],
   "source": [
    "fig = squidpy.pl.nhood_enrichment(\n",
    "    cell2loc_counts,\n",
    "    cluster_key=\"Microenvs\", #\"segmentation_labels\",\n",
    "    cmap=\"coolwarm\",\n",
    "    title=\"Neighborhood enrichment\",\n",
    "    mode=\"zscore\",\n",
    "    method=\"ward\",\n",
    "    dpi=300,\n",
    "    #figsize=(5, 4),\n",
    "#     save=\"nhod_seqfish.png\",\n",
    "    cbar_kwargs={\"label\": \"Z-score\"},\n",
    "    vmin=-50,\n",
    "    vmax=50,\n",
    "    n_perms=3000,\n",
    "    seed=7\n",
    ")\n"
   ]
  },
  {
   "cell_type": "code",
   "execution_count": null,
   "metadata": {},
   "outputs": [],
   "source": []
  }
 ],
 "metadata": {
  "kernelspec": {
   "display_name": "cell2loc19",
   "language": "python",
   "name": "cell2loc19"
  },
  "language_info": {
   "codemirror_mode": {
    "name": "ipython",
    "version": 3
   },
   "file_extension": ".py",
   "mimetype": "text/x-python",
   "name": "python",
   "nbconvert_exporter": "python",
   "pygments_lexer": "ipython3",
   "version": "3.9.13"
  }
 },
 "nbformat": 4,
 "nbformat_minor": 4
}
