{
 "cells": [
  {
   "cell_type": "code",
   "execution_count": null,
   "metadata": {},
   "outputs": [],
   "source": [
    "import pandas as pd\n",
    "from pathlib import Path\n",
    "\n",
    "import kaplanmeier as km\n",
    "import matplotlib as mpl\n",
    "import matplotlib.pyplot as plt\n",
    "import seaborn as sns\n",
    "DPI=300\n",
    "\n",
    "%config InlineBackend.figure_format = 'retina'\n",
    "%matplotlib inline"
   ]
  },
  {
   "cell_type": "code",
   "execution_count": null,
   "metadata": {},
   "outputs": [],
   "source": [
    "DIR2LOAD = Path(\"/data/BCI-CRC/nasrine/data/CRC/spatial/CRC_LM_VISIUM/CRC_LM_VISIUM_04_08_09_11/cell2loc_spatialde2/concat_withWu2022/microenvs_geneexp/\")\n",
    "\n",
    "DIR2SAVE = DIR2LOAD.joinpath(\"survival_analysis/\")\n",
    "DIR2SAVE.mkdir(parents=True, exist_ok=True)\n",
    "\n",
    "FIG2SAVE = DIR2SAVE.joinpath(\"Figures/\")\n",
    "FIG2SAVE.mkdir(parents=True, exist_ok=True)"
   ]
  },
  {
   "cell_type": "code",
   "execution_count": null,
   "metadata": {},
   "outputs": [],
   "source": [
    "### Get DEGs\n",
    "file = DIR2LOAD.joinpath('concat_withWu2022_DE_microenvs.xlsx')\n",
    "df = pd.read_excel(file)\n",
    "signatures_dict = df.to_dict(orient='list')"
   ]
  },
  {
   "cell_type": "code",
   "execution_count": null,
   "metadata": {},
   "outputs": [],
   "source": [
    "# Read bulk expression data and survival data\n",
    "\n",
    "def kmplot_bulk(expression_path, survival_path, survival_col_name, survival_dict):\n",
    "    \n",
    "    expression = pd.read_parquet(expression_path)\n",
    "    survival = pd.read_csv(survival_path, sep=\"\\t\")\n",
    "    survival[survival_col_name] = survival[survival_col_name].replace(survival_dict)\n",
    "    \n",
    "    # Remove NA rows from survival data\n",
    "    print (f\"\\nBefore removing NA from survival data: {survival.shape}\")\n",
    "    survival = survival.dropna(axis=0)\n",
    "    print (f\"After removing NA from survival data: {survival.shape}\")\n",
    "    print(f\"Patients in GEX but not survial data: {len([i for i in list(expression.columns[:-1]) if i not in list(survival['Patient ID'])])}\")\n",
    "    patients_to_keep = [i for i in list(expression.columns[:-1]) if i in list(survival[\"Patient ID\"])]\n",
    "    \n",
    "    expression = expression[patients_to_keep+[\"Gene\"]] # the last column (\"Gene\") contains gene symbols\n",
    "    \n",
    "    print(f\"Shape survival data: {survival.shape}\")\n",
    "    print(f\"Shape expression data: {expression.shape}\\n\")\n",
    "    \n",
    "    return expression, survival\n"
   ]
  },
  {
   "cell_type": "code",
   "execution_count": null,
   "metadata": {},
   "outputs": [],
   "source": [
    "def kmplot(expression, signatures_specific, survival, savepath, saveprefix, n_genes_survival=50):\n",
    "    pValues = dict()\n",
    "    expression_signatures_dict = dict()\n",
    "    for key in signatures_specific:\n",
    "        # Subset bulk expression data for genes in key gene signature (i.e. top 100 genes)\n",
    "        expression_filtered = expression[expression[\"Gene\"].isin(signatures_specific[key][0:n_genes_survival])]\n",
    "        ###print(f\"How many genes in {key} signature in bulk data: {expression_filtered.shape[0]}\")\n",
    "        expression_signatures = expression_filtered.iloc[:, :-1].mean(axis=0).sort_values().to_frame()\n",
    "        expression_signatures.columns = [\"Signature_score\"]\n",
    "\n",
    "        # Divide bulk expression data into tertiles\n",
    "        #n_tertile = int(len(expression_signatures) / 3)\n",
    "        #expression_signatures[\"Tertiles\"] = \"Med\"\n",
    "        #expression_signatures.iloc[0:n_tertile, 1] = \"Low\"\n",
    "        #expression_signatures.iloc[-n_tertile:, 1] = \"High\"\n",
    "        \n",
    "        n_tertile = int(len(expression_signatures) / 2)\n",
    "        expression_signatures[\"Tertiles\"] = \"Low\"\n",
    "        # assign high to those scores of the signature that are above median\n",
    "        expression_signatures.iloc[-n_tertile:, 1] = \"High\"\n",
    "\n",
    "        # Merge survival data with bulk expression\n",
    "        survival_km = survival.merge(expression_signatures, how=\"inner\", left_on=\"Patient ID\", right_index=True)\n",
    "        survival_km = survival_km[survival_km[\"Tertiles\"].isin([\"Low\", \"High\"])]\n",
    "\n",
    "        # Compute Survival\n",
    "        results = km.fit(survival_km.iloc[:,3],\n",
    "                         survival_km.iloc[:,2],\n",
    "                         survival_km['Tertiles'])\n",
    "        pValues[key] = results['logrank_P']\n",
    "        expression_signatures_dict[key] = expression_signatures\n",
    "\n",
    "        # Save figure if significant\n",
    "        #if pValues[key] < 0.05:\n",
    "        print (key, pValues[key])\n",
    "        with plt.style.context('default'):\n",
    "            km.plot(results, full_ylim=True,\n",
    "                    savepath = Path(savepath, f\"{saveprefix}_{key}.pdf\"),\n",
    "                    cii_lines=None\n",
    "                        )\n",
    "    \n",
    "    with pd.ExcelWriter(Path(savepath,f\"Expression_signatures_{saveprefix}.xls\")) as writer:  \n",
    "        for key in expression_signatures_dict:\n",
    "            expression_signatures_dict[key].to_excel(writer, sheet_name=f\"{key}\")\n",
    "    \n",
    "    print (\"\\nSignificant results:\")\n",
    "    for key in pValues:\n",
    "        if pValues[key] < 0.05:\n",
    "            print (f\"\\t{key}\")\n",
    "    #return expression_signatures_dict"
   ]
  },
  {
   "cell_type": "code",
   "execution_count": null,
   "metadata": {
    "scrolled": true
   },
   "outputs": [],
   "source": [
    "# Path to expression data, only for unique patients, final column contained gene symbol saved as parquet\n",
    "# Path to survival data \n",
    "# Name of column in survival data containing censorship/event details, needs to be converted to 0 or 1 (integers) using survival dict\n",
    "# Survival dict for PFS {\"0:CENSORED\": 0, \"1:PROGRESSION\": 1}; for OS {\"0:LIVING\":0, \"1:DECEASED\":1}\n",
    "expression, survival = kmplot_bulk(expression_path = \"/data/BCI-CRC/SO/data/public/TCGA/COADREAD_TPonly_uniquePatients_zscore.parquet\",\n",
    "                                   survival_path = \"/data/BCI-CRC/SO/data/public/TCGA/cBioPortal/KM_Plot__Progression_Free_(months).txt\",\n",
    "                                   survival_col_name = \"PFS_STATUS\",\n",
    "                                   survival_dict = {\"0:CENSORED\":0, \"1:PROGRESSION\":1}\n",
    "                                  )\n",
    "\n",
    "# Plot KM plots using kaplanmeier package\n",
    "kmplot(expression,\n",
    "       signatures_dict,\n",
    "       survival,\n",
    "       savepath=FIG2SAVE,\n",
    "       saveprefix=\"niches_PFS_30\",\n",
    "       n_genes_survival=30\n",
    "      )\n",
    "\n"
   ]
  },
  {
   "cell_type": "code",
   "execution_count": null,
   "metadata": {},
   "outputs": [],
   "source": [
    "# Path to expression data, only for unique patients, final column contained gene symbol saved as parquet\n",
    "# Path to survival data \n",
    "# Name of column in survival data containing censorship/event details, needs to be converted to 0 or 1 (integers) using survival dict\n",
    "# Survival dict for PFS {\"0:CENSORED\": 0, \"1:PROGRESSION\": 1}; for OS {\"0:LIVING\":0, \"1:DECEASED\":1}\n",
    "expression, survival = kmplot_bulk(expression_path = \"/data/BCI-CRC/SO/data/public/TCGA/COADREAD_TPonly_uniquePatients_zscore.parquet\",\n",
    "                                   survival_path = \"/data/BCI-CRC/SO/data/public/TCGA/cBioPortal/KM_Plot__Overall_(months).txt\",\n",
    "                                   survival_col_name = \"OS_STATUS\",\n",
    "                                   survival_dict = {\"0:LIVING\":0, \"1:DECEASED\":1}\n",
    "                                  )\n",
    "\n",
    "# Plot KM plots using kaplanmeier package\n",
    "kmplot(expression,\n",
    "       signatures_dict,\n",
    "       survival,\n",
    "       savepath=FIG2SAVE,\n",
    "       saveprefix=\"niches_OS_100\",\n",
    "       n_genes_survival=100\n",
    "      )\n",
    "\n"
   ]
  },
  {
   "cell_type": "code",
   "execution_count": null,
   "metadata": {},
   "outputs": [],
   "source": []
  }
 ],
 "metadata": {
  "kernelspec": {
   "display_name": "km_survival",
   "language": "python",
   "name": "km_survival"
  },
  "language_info": {
   "codemirror_mode": {
    "name": "ipython",
    "version": 3
   },
   "file_extension": ".py",
   "mimetype": "text/x-python",
   "name": "python",
   "nbconvert_exporter": "python",
   "pygments_lexer": "ipython3",
   "version": "3.9.18"
  }
 },
 "nbformat": 4,
 "nbformat_minor": 4
}
